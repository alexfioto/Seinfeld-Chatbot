{
 "cells": [
  {
   "cell_type": "markdown",
   "metadata": {},
   "source": [
    "# Character Recommender"
   ]
  },
  {
   "cell_type": "code",
   "execution_count": 147,
   "metadata": {},
   "outputs": [],
   "source": [
    "import pandas as pd\n",
    "import pickle\n",
    "\n",
    "from nltk.stem import WordNetLemmatizer\n",
    "from nltk.tokenize import word_tokenize\n",
    "\n",
    "from sklearn.feature_extraction.text import CountVectorizer, TfidfVectorizer\n",
    "from sklearn.ensemble import RandomForestClassifier\n",
    "from sklearn.linear_model import LogisticRegression\n",
    "from sklearn.model_selection import train_test_split\n",
    "from sklearn.metrics.pairwise import cosine_distances, cosine_similarity\n",
    "from sklearn.model_selection import GridSearchCV\n",
    "\n",
    "from sklearn.metrics import plot_confusion_matrix\n",
    "\n",
    "from sklearn.svm import SVC\n",
    "from sklearn.pipeline import make_pipeline\n",
    "\n",
    "import matplotlib.pyplot as plt"
   ]
  },
  {
   "cell_type": "code",
   "execution_count": 148,
   "metadata": {},
   "outputs": [],
   "source": [
    "df = pd.read_csv('../data/clean_scripts.csv', index_col=0)\n",
    "df.dropna(inplace=True)"
   ]
  },
  {
   "cell_type": "code",
   "execution_count": 149,
   "metadata": {},
   "outputs": [
    {
     "data": {
      "text/html": [
       "<div>\n",
       "<style scoped>\n",
       "    .dataframe tbody tr th:only-of-type {\n",
       "        vertical-align: middle;\n",
       "    }\n",
       "\n",
       "    .dataframe tbody tr th {\n",
       "        vertical-align: top;\n",
       "    }\n",
       "\n",
       "    .dataframe thead th {\n",
       "        text-align: right;\n",
       "    }\n",
       "</style>\n",
       "<table border=\"1\" class=\"dataframe\">\n",
       "  <thead>\n",
       "    <tr style=\"text-align: right;\">\n",
       "      <th></th>\n",
       "      <th>Character</th>\n",
       "      <th>Dialogue</th>\n",
       "      <th>EpisodeNo</th>\n",
       "      <th>SEID</th>\n",
       "      <th>Season</th>\n",
       "      <th>clean_dialogue</th>\n",
       "    </tr>\n",
       "  </thead>\n",
       "  <tbody>\n",
       "    <tr>\n",
       "      <th>0</th>\n",
       "      <td>JERRY</td>\n",
       "      <td>Do you know what this is all about? Do you kno...</td>\n",
       "      <td>1.0</td>\n",
       "      <td>S01E01</td>\n",
       "      <td>1.0</td>\n",
       "      <td>Do you know what this is all about? Do you kno...</td>\n",
       "    </tr>\n",
       "    <tr>\n",
       "      <th>1</th>\n",
       "      <td>JERRY</td>\n",
       "      <td>(pointing at Georges shirt) See, to me, that b...</td>\n",
       "      <td>1.0</td>\n",
       "      <td>S01E01</td>\n",
       "      <td>1.0</td>\n",
       "      <td>See, to me, that button is in the worst possi...</td>\n",
       "    </tr>\n",
       "    <tr>\n",
       "      <th>2</th>\n",
       "      <td>GEORGE</td>\n",
       "      <td>Are you through?</td>\n",
       "      <td>1.0</td>\n",
       "      <td>S01E01</td>\n",
       "      <td>1.0</td>\n",
       "      <td>Are you through?</td>\n",
       "    </tr>\n",
       "    <tr>\n",
       "      <th>3</th>\n",
       "      <td>JERRY</td>\n",
       "      <td>You do of course try on, when you buy?</td>\n",
       "      <td>1.0</td>\n",
       "      <td>S01E01</td>\n",
       "      <td>1.0</td>\n",
       "      <td>You do of course try on, when you buy?</td>\n",
       "    </tr>\n",
       "    <tr>\n",
       "      <th>4</th>\n",
       "      <td>GEORGE</td>\n",
       "      <td>Yes, it was purple, I liked it, I dont actuall...</td>\n",
       "      <td>1.0</td>\n",
       "      <td>S01E01</td>\n",
       "      <td>1.0</td>\n",
       "      <td>Yes, it was purple, I liked it, I dont actuall...</td>\n",
       "    </tr>\n",
       "  </tbody>\n",
       "</table>\n",
       "</div>"
      ],
      "text/plain": [
       "  Character                                           Dialogue  EpisodeNo  \\\n",
       "0     JERRY  Do you know what this is all about? Do you kno...        1.0   \n",
       "1     JERRY  (pointing at Georges shirt) See, to me, that b...        1.0   \n",
       "2    GEORGE                                   Are you through?        1.0   \n",
       "3     JERRY             You do of course try on, when you buy?        1.0   \n",
       "4    GEORGE  Yes, it was purple, I liked it, I dont actuall...        1.0   \n",
       "\n",
       "     SEID  Season                                     clean_dialogue  \n",
       "0  S01E01     1.0  Do you know what this is all about? Do you kno...  \n",
       "1  S01E01     1.0   See, to me, that button is in the worst possi...  \n",
       "2  S01E01     1.0                                   Are you through?  \n",
       "3  S01E01     1.0             You do of course try on, when you buy?  \n",
       "4  S01E01     1.0  Yes, it was purple, I liked it, I dont actuall...  "
      ]
     },
     "execution_count": 149,
     "metadata": {},
     "output_type": "execute_result"
    }
   ],
   "source": [
    "df.head()"
   ]
  },
  {
   "cell_type": "code",
   "execution_count": 150,
   "metadata": {},
   "outputs": [],
   "source": [
    "# Data only with main character lines\n",
    "df = df[(df['Character'] == 'JERRY') |\n",
    "        (df['Character'] == 'GEORGE') |\n",
    "        (df['Character'] == 'KRAMER') |\n",
    "        (df['Character'] == 'ELAINE')]"
   ]
  },
  {
   "cell_type": "code",
   "execution_count": 151,
   "metadata": {},
   "outputs": [
    {
     "data": {
      "text/plain": [
       "JERRY     0.378687\n",
       "GEORGE    0.247734\n",
       "ELAINE    0.203733\n",
       "KRAMER    0.169846\n",
       "Name: Character, dtype: float64"
      ]
     },
     "execution_count": 151,
     "metadata": {},
     "output_type": "execute_result"
    }
   ],
   "source": [
    "# Checking the proportions\n",
    "df['Character'].value_counts(normalize=True)"
   ]
  },
  {
   "cell_type": "code",
   "execution_count": 152,
   "metadata": {},
   "outputs": [],
   "source": [
    "# Switching to Numeric\n",
    "df['character_numeric'] = df['Character'].replace({\n",
    "    'JERRY': 0,\n",
    "    'GEORGE': 1,\n",
    "    'KRAMER': 2,\n",
    "    'ELAINE': 3\n",
    "})"
   ]
  },
  {
   "cell_type": "code",
   "execution_count": 153,
   "metadata": {},
   "outputs": [],
   "source": [
    "# Lemmetization function\n",
    "def lem_preprocess(text):\n",
    "    lemmatizer = WordNetLemmatizer()\n",
    "    t = word_tokenize(text.lower())\n",
    "    l = [lemmatizer.lemmatize(word) for word in t]\n",
    "    return ' '.join(l)"
   ]
  },
  {
   "cell_type": "code",
   "execution_count": 154,
   "metadata": {},
   "outputs": [],
   "source": [
    "# Lemmetizing dialogue\n",
    "df['lem_dialogue'] = df['Dialogue'].apply(lem_preprocess)"
   ]
  },
  {
   "cell_type": "code",
   "execution_count": 155,
   "metadata": {},
   "outputs": [
    {
     "data": {
      "text/html": [
       "<div>\n",
       "<style scoped>\n",
       "    .dataframe tbody tr th:only-of-type {\n",
       "        vertical-align: middle;\n",
       "    }\n",
       "\n",
       "    .dataframe tbody tr th {\n",
       "        vertical-align: top;\n",
       "    }\n",
       "\n",
       "    .dataframe thead th {\n",
       "        text-align: right;\n",
       "    }\n",
       "</style>\n",
       "<table border=\"1\" class=\"dataframe\">\n",
       "  <thead>\n",
       "    <tr style=\"text-align: right;\">\n",
       "      <th></th>\n",
       "      <th>Character</th>\n",
       "      <th>Dialogue</th>\n",
       "      <th>EpisodeNo</th>\n",
       "      <th>SEID</th>\n",
       "      <th>Season</th>\n",
       "      <th>clean_dialogue</th>\n",
       "      <th>character_numeric</th>\n",
       "      <th>lem_dialogue</th>\n",
       "    </tr>\n",
       "  </thead>\n",
       "  <tbody>\n",
       "    <tr>\n",
       "      <th>0</th>\n",
       "      <td>JERRY</td>\n",
       "      <td>Do you know what this is all about? Do you kno...</td>\n",
       "      <td>1.0</td>\n",
       "      <td>S01E01</td>\n",
       "      <td>1.0</td>\n",
       "      <td>Do you know what this is all about? Do you kno...</td>\n",
       "      <td>0</td>\n",
       "      <td>do you know what this is all about ? do you kn...</td>\n",
       "    </tr>\n",
       "    <tr>\n",
       "      <th>1</th>\n",
       "      <td>JERRY</td>\n",
       "      <td>(pointing at Georges shirt) See, to me, that b...</td>\n",
       "      <td>1.0</td>\n",
       "      <td>S01E01</td>\n",
       "      <td>1.0</td>\n",
       "      <td>See, to me, that button is in the worst possi...</td>\n",
       "      <td>0</td>\n",
       "      <td>( pointing at george shirt ) see , to me , tha...</td>\n",
       "    </tr>\n",
       "    <tr>\n",
       "      <th>2</th>\n",
       "      <td>GEORGE</td>\n",
       "      <td>Are you through?</td>\n",
       "      <td>1.0</td>\n",
       "      <td>S01E01</td>\n",
       "      <td>1.0</td>\n",
       "      <td>Are you through?</td>\n",
       "      <td>1</td>\n",
       "      <td>are you through ?</td>\n",
       "    </tr>\n",
       "    <tr>\n",
       "      <th>3</th>\n",
       "      <td>JERRY</td>\n",
       "      <td>You do of course try on, when you buy?</td>\n",
       "      <td>1.0</td>\n",
       "      <td>S01E01</td>\n",
       "      <td>1.0</td>\n",
       "      <td>You do of course try on, when you buy?</td>\n",
       "      <td>0</td>\n",
       "      <td>you do of course try on , when you buy ?</td>\n",
       "    </tr>\n",
       "    <tr>\n",
       "      <th>4</th>\n",
       "      <td>GEORGE</td>\n",
       "      <td>Yes, it was purple, I liked it, I dont actuall...</td>\n",
       "      <td>1.0</td>\n",
       "      <td>S01E01</td>\n",
       "      <td>1.0</td>\n",
       "      <td>Yes, it was purple, I liked it, I dont actuall...</td>\n",
       "      <td>1</td>\n",
       "      <td>yes , it wa purple , i liked it , i dont actua...</td>\n",
       "    </tr>\n",
       "  </tbody>\n",
       "</table>\n",
       "</div>"
      ],
      "text/plain": [
       "  Character                                           Dialogue  EpisodeNo  \\\n",
       "0     JERRY  Do you know what this is all about? Do you kno...        1.0   \n",
       "1     JERRY  (pointing at Georges shirt) See, to me, that b...        1.0   \n",
       "2    GEORGE                                   Are you through?        1.0   \n",
       "3     JERRY             You do of course try on, when you buy?        1.0   \n",
       "4    GEORGE  Yes, it was purple, I liked it, I dont actuall...        1.0   \n",
       "\n",
       "     SEID  Season                                     clean_dialogue  \\\n",
       "0  S01E01     1.0  Do you know what this is all about? Do you kno...   \n",
       "1  S01E01     1.0   See, to me, that button is in the worst possi...   \n",
       "2  S01E01     1.0                                   Are you through?   \n",
       "3  S01E01     1.0             You do of course try on, when you buy?   \n",
       "4  S01E01     1.0  Yes, it was purple, I liked it, I dont actuall...   \n",
       "\n",
       "   character_numeric                                       lem_dialogue  \n",
       "0                  0  do you know what this is all about ? do you kn...  \n",
       "1                  0  ( pointing at george shirt ) see , to me , tha...  \n",
       "2                  1                                  are you through ?  \n",
       "3                  0           you do of course try on , when you buy ?  \n",
       "4                  1  yes , it wa purple , i liked it , i dont actua...  "
      ]
     },
     "execution_count": 155,
     "metadata": {},
     "output_type": "execute_result"
    }
   ],
   "source": [
    "df.head()"
   ]
  },
  {
   "cell_type": "code",
   "execution_count": 189,
   "metadata": {},
   "outputs": [],
   "source": [
    "# Setting X and y\n",
    "X = df['lem_dialogue']\n",
    "y = df['character_numeric']\n",
    "\n",
    "# Train Test Split\n",
    "X_train, X_test, y_train, y_test = train_test_split(X, y, stratify=y)"
   ]
  },
  {
   "cell_type": "markdown",
   "metadata": {},
   "source": [
    "**Logistic Regression**"
   ]
  },
  {
   "cell_type": "code",
   "execution_count": 202,
   "metadata": {},
   "outputs": [
    {
     "name": "stderr",
     "output_type": "stream",
     "text": [
      "/Users/alexander.fioto/opt/anaconda3/lib/python3.7/site-packages/sklearn/feature_extraction/text.py:386: UserWarning: Your stop_words may be inconsistent with your preprocessing. Tokenizing the stop words generated tokens ['ha', 'le', 'wa'] not in stop_words.\n",
      "  'stop_words.' % sorted(inconsistent))\n"
     ]
    },
    {
     "name": "stdout",
     "output_type": "stream",
     "text": [
      "0.6251454781953858\n",
      "0.42951021665468736\n"
     ]
    }
   ],
   "source": [
    "# Pipeline with CountVectorizer and LogisticRegression\n",
    "pipe = make_pipeline(CountVectorizer(stop_words='english', preprocessor=lem_preprocess), LogisticRegression(max_iter=10000))\n",
    "\n",
    "# Fitting\n",
    "pipe.fit(X_train, y_train)\n",
    "\n",
    "# Scoring\n",
    "print(pipe.score(X_train, y_train))\n",
    "print(pipe.score(X_test, y_test))"
   ]
  },
  {
   "cell_type": "code",
   "execution_count": 198,
   "metadata": {},
   "outputs": [],
   "source": [
    "# # Save SVC\n",
    "# # Best Train Score: .6251, Test Score: .4296\n",
    "\n",
    "# with open('../data/logisticregression_model.pkl', 'wb') as f:\n",
    "#     pickle.dump(pipe, f)"
   ]
  },
  {
   "cell_type": "markdown",
   "metadata": {},
   "source": [
    "**Support Vector Classifier**"
   ]
  },
  {
   "cell_type": "code",
   "execution_count": 134,
   "metadata": {},
   "outputs": [
    {
     "data": {
      "text/plain": [
       "Pipeline(steps=[('tfidfvectorizer', TfidfVectorizer(stop_words='english')),\n",
       "                ('svc', SVC())])"
      ]
     },
     "execution_count": 134,
     "metadata": {},
     "output_type": "execute_result"
    }
   ],
   "source": [
    "# Pipeline with TfidfVectorizer and SVC\n",
    "svc_pipe = make_pipeline(TfidfVectorizer(stop_words='english'), SVC())\n",
    "\n",
    "# Fitting\n",
    "svc_pipe.fit(X_train, y_train)"
   ]
  },
  {
   "cell_type": "code",
   "execution_count": 137,
   "metadata": {},
   "outputs": [
    {
     "name": "stdout",
     "output_type": "stream",
     "text": [
      "0.7263640720202642\n",
      "0.42417085943115307\n"
     ]
    }
   ],
   "source": [
    "# Scoring\n",
    "print(svc_pipe.score(X_train, y_train))\n",
    "print(svc_pipe.score(X_test, y_test))"
   ]
  },
  {
   "cell_type": "code",
   "execution_count": 139,
   "metadata": {},
   "outputs": [
    {
     "data": {
      "text/plain": [
       "0    0.630401\n",
       "1    0.164172\n",
       "2    0.103766\n",
       "3    0.101661\n",
       "dtype: float64"
      ]
     },
     "execution_count": 139,
     "metadata": {},
     "output_type": "execute_result"
    }
   ],
   "source": [
    "# Checking predictions\n",
    "preds = svc_pipe.predict(X)\n",
    "\n",
    "# Checking proportions\n",
    "pd.DataFrame(preds).value_counts(normalize=True)"
   ]
  },
  {
   "cell_type": "markdown",
   "metadata": {},
   "source": [
    "**Boosting Classifiers**"
   ]
  },
  {
   "cell_type": "code",
   "execution_count": 358,
   "metadata": {},
   "outputs": [],
   "source": [
    "from sklearn.ensemble import GradientBoostingClassifier, AdaBoostClassifier"
   ]
  },
  {
   "cell_type": "code",
   "execution_count": 359,
   "metadata": {},
   "outputs": [
    {
     "name": "stdout",
     "output_type": "stream",
     "text": [
      "0.4708567535343212\n",
      "0.42213366033108524\n"
     ]
    }
   ],
   "source": [
    "# Creating pipeline\n",
    "boost_pipe = make_pipeline(TfidfVectorizer(stop_words='english'), GradientBoostingClassifier(n_estimators=200))\n",
    "\n",
    "# Fitting\n",
    "boost_pipe.fit(X_train, y_train)\n",
    "\n",
    "# Scoring\n",
    "print(boost_pipe.score(X_train, y_train))\n",
    "print(boost_pipe.score(X_test, y_test))"
   ]
  },
  {
   "cell_type": "markdown",
   "metadata": {},
   "source": [
    "**Sentiment Analysis**"
   ]
  },
  {
   "cell_type": "markdown",
   "metadata": {},
   "source": [
    "In this section I tried to see if sentiment would be a good predicter of character. It wasn't"
   ]
  },
  {
   "cell_type": "code",
   "execution_count": 169,
   "metadata": {},
   "outputs": [],
   "source": [
    "from vaderSentiment.vaderSentiment import SentimentIntensityAnalyzer"
   ]
  },
  {
   "cell_type": "code",
   "execution_count": 170,
   "metadata": {},
   "outputs": [],
   "source": [
    "scores = ['neg', 'neu', 'pos', 'compound']\n",
    "analyzer = SentimentIntensityAnalyzer()\n",
    "\n",
    "for score in scores:\n",
    "    df[score] = df['Dialogue'].apply(lambda x: analyzer.polarity_scores(x).get(score))"
   ]
  },
  {
   "cell_type": "markdown",
   "metadata": {},
   "source": [
    "Kramer is the most positive character in Seinfeld. Jerry is the most negative"
   ]
  },
  {
   "cell_type": "code",
   "execution_count": 173,
   "metadata": {},
   "outputs": [
    {
     "data": {
      "text/html": [
       "<div>\n",
       "<style scoped>\n",
       "    .dataframe tbody tr th:only-of-type {\n",
       "        vertical-align: middle;\n",
       "    }\n",
       "\n",
       "    .dataframe tbody tr th {\n",
       "        vertical-align: top;\n",
       "    }\n",
       "\n",
       "    .dataframe thead th {\n",
       "        text-align: right;\n",
       "    }\n",
       "</style>\n",
       "<table border=\"1\" class=\"dataframe\">\n",
       "  <thead>\n",
       "    <tr style=\"text-align: right;\">\n",
       "      <th></th>\n",
       "      <th>EpisodeNo</th>\n",
       "      <th>Season</th>\n",
       "      <th>character_numeric</th>\n",
       "      <th>neg</th>\n",
       "      <th>neu</th>\n",
       "      <th>pos</th>\n",
       "      <th>compound</th>\n",
       "    </tr>\n",
       "    <tr>\n",
       "      <th>Character</th>\n",
       "      <th></th>\n",
       "      <th></th>\n",
       "      <th></th>\n",
       "      <th></th>\n",
       "      <th></th>\n",
       "      <th></th>\n",
       "      <th></th>\n",
       "    </tr>\n",
       "  </thead>\n",
       "  <tbody>\n",
       "    <tr>\n",
       "      <th>ELAINE</th>\n",
       "      <td>11.526619</td>\n",
       "      <td>5.701992</td>\n",
       "      <td>4</td>\n",
       "      <td>0.051904</td>\n",
       "      <td>0.813407</td>\n",
       "      <td>0.134688</td>\n",
       "      <td>0.092363</td>\n",
       "    </tr>\n",
       "    <tr>\n",
       "      <th>GEORGE</th>\n",
       "      <td>11.054182</td>\n",
       "      <td>5.461372</td>\n",
       "      <td>1</td>\n",
       "      <td>0.054402</td>\n",
       "      <td>0.814977</td>\n",
       "      <td>0.130621</td>\n",
       "      <td>0.094971</td>\n",
       "    </tr>\n",
       "    <tr>\n",
       "      <th>JERRY</th>\n",
       "      <td>10.899635</td>\n",
       "      <td>5.438185</td>\n",
       "      <td>0</td>\n",
       "      <td>0.052848</td>\n",
       "      <td>0.820637</td>\n",
       "      <td>0.126514</td>\n",
       "      <td>0.073984</td>\n",
       "    </tr>\n",
       "    <tr>\n",
       "      <th>KRAMER</th>\n",
       "      <td>11.456032</td>\n",
       "      <td>5.981092</td>\n",
       "      <td>2</td>\n",
       "      <td>0.043838</td>\n",
       "      <td>0.812066</td>\n",
       "      <td>0.144098</td>\n",
       "      <td>0.120608</td>\n",
       "    </tr>\n",
       "  </tbody>\n",
       "</table>\n",
       "</div>"
      ],
      "text/plain": [
       "           EpisodeNo    Season  character_numeric       neg       neu  \\\n",
       "Character                                                               \n",
       "ELAINE     11.526619  5.701992                  4  0.051904  0.813407   \n",
       "GEORGE     11.054182  5.461372                  1  0.054402  0.814977   \n",
       "JERRY      10.899635  5.438185                  0  0.052848  0.820637   \n",
       "KRAMER     11.456032  5.981092                  2  0.043838  0.812066   \n",
       "\n",
       "                pos  compound  \n",
       "Character                      \n",
       "ELAINE     0.134688  0.092363  \n",
       "GEORGE     0.130621  0.094971  \n",
       "JERRY      0.126514  0.073984  \n",
       "KRAMER     0.144098  0.120608  "
      ]
     },
     "execution_count": 173,
     "metadata": {},
     "output_type": "execute_result"
    }
   ],
   "source": [
    "df.groupby('Character').mean()"
   ]
  },
  {
   "cell_type": "code",
   "execution_count": 177,
   "metadata": {},
   "outputs": [],
   "source": [
    "# Setting new X\n",
    "X = df[['neg', 'neu', 'pos']]\n",
    "\n",
    "# Train test split\n",
    "X_train, X_test, y_train, y_test = train_test_split(X, y, stratify=y)\n",
    "\n",
    "# Instantiating LogisticRegression\n",
    "logreg = LogisticRegression()\n",
    "\n",
    "# Fitting\n",
    "logreg.fit(X_train, y_train)\n",
    "\n",
    "# Scoreing\n",
    "print(logreg.score(X_train, y_train))\n",
    "print(logreg.score(X_test, y_test))"
   ]
  },
  {
   "cell_type": "markdown",
   "metadata": {},
   "source": [
    "## Scoring on Iconic Quotes"
   ]
  },
  {
   "cell_type": "code",
   "execution_count": 203,
   "metadata": {},
   "outputs": [],
   "source": [
    "def predict_character(text, model):\n",
    "    prediction = model.predict([text])\n",
    "    if prediction == 0:\n",
    "        return 'Jerry'\n",
    "    elif prediction == 1:\n",
    "        return 'George'\n",
    "    elif prediction == 2:\n",
    "        return 'Kramer'\n",
    "    elif prediction == 3:\n",
    "        return 'Elaine'"
   ]
  },
  {
   "cell_type": "code",
   "execution_count": 204,
   "metadata": {},
   "outputs": [],
   "source": [
    "jerry_quote = 'What is the deal with peanuts? Are they peas or are they nuts? Make up your mind!'\n",
    "kramer_quote = 'I\\'m out there, Jerry, and I\\'m loving every minute of it!'\n",
    "george_quote = 'I’m Disturbed, I’m Depressed, I’m Inadequate – I’ve Got It All!'\n",
    "elaine_quote = \"Maybe the dingo ate your baby!\"\n",
    "quotes = {'Jerry': jerry_quote, \n",
    "          'Kramer': kramer_quote, \n",
    "          'George': george_quote, \n",
    "          'Elaine': elaine_quote}"
   ]
  },
  {
   "cell_type": "code",
   "execution_count": 205,
   "metadata": {},
   "outputs": [
    {
     "name": "stdout",
     "output_type": "stream",
     "text": [
      "The model classifies the Jerry quote as Jerry.\n",
      "The model classifies the Kramer quote as Kramer.\n",
      "The model classifies the George quote as George.\n",
      "The model classifies the Elaine quote as Elaine.\n"
     ]
    }
   ],
   "source": [
    "for character, quote in quotes.items():\n",
    "    print(f'The model classifies the {character} quote as {predict_character(quote, pipe)}.')"
   ]
  },
  {
   "cell_type": "markdown",
   "metadata": {},
   "source": [
    "**Iconic Quotes Classification**"
   ]
  },
  {
   "cell_type": "code",
   "execution_count": 208,
   "metadata": {},
   "outputs": [],
   "source": [
    "# Dataframe of Iconic Quotes\n",
    "\n",
    "quotes = pd.DataFrame({'Dialogue': ['Sex, that’s meaningless, I can understand that, but dinner; that’s heavy. That’s like an hour.', \n",
    "                                    'She said I wasn’t sponge-worthy. Wouldn’t waste a sponge on me.',\n",
    "                                    'Oh I gotta get on that internet, I’m late on everything!',\n",
    "                                    'Boutros Boutros-Ghali.',\n",
    "                                    'You know, the very fact that you oppose this makes me think I’m on to something.',\n",
    "                                    'You’re a nice guy, but I actually only have three friends. I can’t really handle any more.',\n",
    "                                    'If every instinct you have is wrong, then the opposite would have to be right.',\n",
    "                                    'My dream is to become hopeless.',\n",
    "                                    'Food and sex. Those are my two passions.',\n",
    "                                    'The sea was angry that day my friends.',\n",
    "                                    'Jerry, just remember, it’s not a lie if you believe it.',\n",
    "                                    'I lie every second of the day. My whole life is a sham.',\n",
    "                                    'I’m disturbed, I’m depressed, I’m inadequate. I’ve got it all!',\n",
    "                                    'I feel like my old self again. Totally inadequate, completely insecure, paranoid, neurotic. It’s a pleasure.',\n",
    "                                    'I can’t do this anymore, it’s too long! Just tell your stupid story about the stupid desert and just die already! Die!',\n",
    "                                    'I’m Queen of the castle.',\n",
    "                                    'I don’t think George has ever thought he’s better than anybody.',\n",
    "                                    'It’s not fair people are seated first come, first served. It should be based on who’s hungriest.',\n",
    "                                    'Maybe the dingo ate your baby!',\n",
    "                                    'I just couldn’t decide if he was really sponge-worthy.',\n",
    "                                    'We don’t know how long this will last. They are a very festive people.',\n",
    "                                    'I’m out there Jerry and I’m lovin’ every minute of it.',\n",
    "                                    'What have you done to my little cable boy?',\n",
    "                                    'Giddy-up',\n",
    "                                    'Boy, these pretzels are making me thirsty.',\n",
    "                                    'Yama hama, it’s fright night!',\n",
    "                                    'Do you have any idea how much time I waste in this apartment?',\n",
    "                                    'Those are my everyday balloons.'],\n",
    "                      'Character': ['Jerry'] * 7 + ['George'] * 7 + ['Elaine'] * 7 + [\"Kramer\"] * 7})\n",
    "                      \n",
    "\n",
    "\n",
    "\n",
    "\n",
    "\n",
    "\n"
   ]
  },
  {
   "cell_type": "code",
   "execution_count": 209,
   "metadata": {},
   "outputs": [],
   "source": [
    "\n",
    "quotes['character_numeric'] = quotes['Character'].replace({'Jerry': 0,\n",
    "                                                           'George': 1,\n",
    "                                                           'Kramer': 2,\n",
    "                                                           'Elaine': 3})"
   ]
  },
  {
   "cell_type": "code",
   "execution_count": 210,
   "metadata": {},
   "outputs": [],
   "source": [
    "quotes['lem'] = quotes['Dialogue'].apply(lem_preprocess)"
   ]
  },
  {
   "cell_type": "code",
   "execution_count": 218,
   "metadata": {},
   "outputs": [
    {
     "data": {
      "text/plain": [
       "0.5714285714285714"
      ]
     },
     "execution_count": 218,
     "metadata": {},
     "output_type": "execute_result"
    }
   ],
   "source": [
    "X_quotes = quotes['Dialogue']\n",
    "y_quotes = quotes['character_numeric']\n",
    "pipe.score(X_quotes, y_quotes)"
   ]
  },
  {
   "cell_type": "code",
   "execution_count": null,
   "metadata": {},
   "outputs": [],
   "source": []
  },
  {
   "cell_type": "code",
   "execution_count": 219,
   "metadata": {},
   "outputs": [
    {
     "data": {
      "text/plain": [
       "Text(0.5, 1.0, 'Seinfeld Character Quotes')"
      ]
     },
     "execution_count": 219,
     "metadata": {},
     "output_type": "execute_result"
    },
    {
     "data": {
      "image/png": "[encoded data removed]",
      "text/plain": [
       "<Figure size 432x288 with 2 Axes>"
      ]
     },
     "metadata": {
      "needs_background": "light"
     },
     "output_type": "display_data"
    }
   ],
   "source": [
    "plot_confusion_matrix(model, X_quotes, y_quotes)\n",
    "plt.title(\"Seinfeld Character Quotes\")\n",
    "#plt.savefig('confusion_matrix.png');"
   ]
  },
  {
   "cell_type": "markdown",
   "metadata": {},
   "source": [
    "## Saving Quality Models"
   ]
  },
  {
   "cell_type": "code",
   "execution_count": 138,
   "metadata": {},
   "outputs": [],
   "source": [
    "# # Save SVC\n",
    "\n",
    "# with open('../data/svc_classification_model.pkl', 'wb') as f:\n",
    "#     pickle.dump(svc_pipe, f)"
   ]
  },
  {
   "cell_type": "code",
   "execution_count": null,
   "metadata": {},
   "outputs": [],
   "source": []
  }
 ],
 "metadata": {
  "kernelspec": {
   "display_name": "Python 3",
   "language": "python",
   "name": "python3"
  },
  "language_info": {
   "codemirror_mode": {
    "name": "ipython",
    "version": 3
   },
   "file_extension": ".py",
   "mimetype": "text/x-python",
   "name": "python",
   "nbconvert_exporter": "python",
   "pygments_lexer": "ipython3",
   "version": "3.7.7"
  }
 },
 "nbformat": 4,
 "nbformat_minor": 4
}
