{
 "cells": [
  {
   "cell_type": "code",
   "execution_count": 64,
   "metadata": {},
   "outputs": [],
   "source": [
    "import spacy\n",
    "import pandas as pd\n",
    "import pickle\n"
   ]
  },
  {
   "cell_type": "code",
   "execution_count": 2,
   "metadata": {},
   "outputs": [],
   "source": [
    "nlp = spacy.load('en_core_web_lg')"
   ]
  },
  {
   "cell_type": "code",
   "execution_count": 5,
   "metadata": {},
   "outputs": [],
   "source": [
    "df = pd.read_csv('./data/scripts.csv', index_col=0)"
   ]
  },
  {
   "cell_type": "code",
   "execution_count": 21,
   "metadata": {},
   "outputs": [],
   "source": [
    "df['clean_dialogue'] = df['Dialogue'].str.replace(r\"\\(.*\\)\",\"\")"
   ]
  },
  {
   "cell_type": "code",
   "execution_count": 36,
   "metadata": {},
   "outputs": [],
   "source": [
    "df = df.dropna()"
   ]
  },
  {
   "cell_type": "code",
   "execution_count": 37,
   "metadata": {},
   "outputs": [],
   "source": [
    "df.reset_index(inplace=True, drop=True)"
   ]
  },
  {
   "cell_type": "code",
   "execution_count": 67,
   "metadata": {},
   "outputs": [
    {
     "data": {
      "text/plain": [
       "'/Users/alexander.fioto/personal_github/Seinfeld-Chatbot'"
      ]
     },
     "execution_count": 67,
     "metadata": {},
     "output_type": "execute_result"
    }
   ],
   "source": [
    "pwd"
   ]
  },
  {
   "cell_type": "code",
   "execution_count": 69,
   "metadata": {},
   "outputs": [],
   "source": [
    "df.to_csv('./data/clean_scripts.csv')"
   ]
  },
  {
   "cell_type": "code",
   "execution_count": null,
   "metadata": {},
   "outputs": [],
   "source": []
  },
  {
   "cell_type": "code",
   "execution_count": 18,
   "metadata": {},
   "outputs": [],
   "source": [
    "episodes = df['SEID'].unique()"
   ]
  },
  {
   "cell_type": "markdown",
   "metadata": {},
   "source": [
    "## Episode Dictionary"
   ]
  },
  {
   "cell_type": "code",
   "execution_count": 38,
   "metadata": {},
   "outputs": [],
   "source": [
    "def get_episode_dialogue(df):\n",
    "    episodes = df['SEID'].unique()\n",
    "    episodes_dialogue = {}\n",
    "    for episode in episodes:\n",
    "        episode_df = df[df['SEID'] == episode]\n",
    "        episode_df.reset_index(inplace=True, drop=True)\n",
    "        dialogue = ''\n",
    "        for i in range(len(episode_df)):\n",
    "            dialogue += episode_df['clean_dialogue'][i]\n",
    "            \n",
    "        episodes_dialogue[episode] = dialogue\n",
    "    return episodes_dialogue\n",
    "    "
   ]
  },
  {
   "cell_type": "code",
   "execution_count": 40,
   "metadata": {},
   "outputs": [],
   "source": [
    "episode_dialogues = get_episode_dialogue(df)"
   ]
  },
  {
   "cell_type": "code",
   "execution_count": 65,
   "metadata": {},
   "outputs": [],
   "source": [
    "with open('./data/episode_dialogues.pkl', 'wb') as f:\n",
    "    pickle.dump(episode_dialogues, f)"
   ]
  },
  {
   "cell_type": "code",
   "execution_count": null,
   "metadata": {},
   "outputs": [],
   "source": []
  },
  {
   "cell_type": "code",
   "execution_count": 54,
   "metadata": {},
   "outputs": [],
   "source": [
    "def recommend_episode(chat_dialogue):\n",
    "    similarity_scores = []\n",
    "    for episode in episodes:\n",
    "        doc1 = nlp(chat_dialogue)\n",
    "        doc2 = nlp(episode_dialogues[episode])\n",
    "        similarity_scores.append((episode, doc1.similarity(doc2)))\n",
    "    return similarity_scores.sort(key=lambda x: x[1], reverse = True)\n",
    "        \n",
    "        "
   ]
  },
  {
   "cell_type": "code",
   "execution_count": 55,
   "metadata": {},
   "outputs": [],
   "source": [
    "recs = recommend_episode('Hi Jerry. How are you doing? Want to get some coffee? I like you so much. Your show is my favorite')"
   ]
  },
  {
   "cell_type": "code",
   "execution_count": 58,
   "metadata": {},
   "outputs": [],
   "source": [
    "recs.sort(key=lambda x: x[1], reverse = True)"
   ]
  },
  {
   "cell_type": "code",
   "execution_count": 59,
   "metadata": {},
   "outputs": [
    {
     "data": {
      "text/plain": [
       "[('S07E19', 0.9769975004944613),\n",
       " ('S04E24', 0.9751695629129786),\n",
       " ('S07E24', 0.9745268665977951),\n",
       " ('S08E21', 0.9737905365652617),\n",
       " ('S05E02', 0.9733777757620253),\n",
       " ('S05E01', 0.9733359976936261),\n",
       " ('S06E20', 0.9733254368537856),\n",
       " ('S07E23', 0.9730422240040872),\n",
       " ('S05E18', 0.972853797835285),\n",
       " ('S09E13', 0.9726466322239913),\n",
       " ('S06E09', 0.9726069619938952),\n",
       " ('S07E09', 0.9719457817219286),\n",
       " ('S03E12', 0.9719307664444864),\n",
       " ('S06E11', 0.9719271595757075),\n",
       " ('S02E07', 0.9718875811356588),\n",
       " ('S05E09', 0.9718633626383872),\n",
       " ('S08E05', 0.9718188507186672),\n",
       " ('S07E03', 0.9717059810737815),\n",
       " ('S03E07', 0.9716866564086488),\n",
       " ('S05E13', 0.9716734079354518),\n",
       " ('S01E03', 0.9715858499893288),\n",
       " ('S09E03', 0.9715723803149826),\n",
       " ('S05E15', 0.9715685264128173),\n",
       " ('S07E20', 0.9715504577728449),\n",
       " ('S06E19', 0.9712860191472017),\n",
       " ('S08E17', 0.9711897892935125),\n",
       " ('S05E10', 0.9710401204450736),\n",
       " ('S07E11', 0.9710400809260007),\n",
       " ('S04E02', 0.9709997951957259),\n",
       " ('S04E23', 0.9709856102101107),\n",
       " ('S04E05', 0.9709749868196483),\n",
       " ('S03E18', 0.9708890815051948),\n",
       " ('S09E08', 0.9707350918626907),\n",
       " ('S07E06', 0.9707175477692496),\n",
       " ('S03E08', 0.9706736970692582),\n",
       " ('S05E06', 0.9706645226550189),\n",
       " ('S03E03', 0.97064696014577),\n",
       " ('S07E17', 0.9704913958061748),\n",
       " ('S08E22', 0.9704845394324415),\n",
       " ('S06E13', 0.97047818079368),\n",
       " ('S04E13', 0.9704744322638599),\n",
       " ('S06E08', 0.9704051541343646),\n",
       " ('S07E16', 0.9703282116580383),\n",
       " ('S06E01', 0.9702861244871015),\n",
       " ('S09E04', 0.9702618337373435),\n",
       " ('S05E03', 0.9701706488612046),\n",
       " ('S03E02', 0.9700900232038078),\n",
       " ('S08E14', 0.9700497981079494),\n",
       " ('S05E08', 0.9700486298272079),\n",
       " ('S05E17', 0.9699827742385643),\n",
       " ('S03E23', 0.9699020140963427),\n",
       " ('S08E03', 0.9698604895246634),\n",
       " ('S04E17', 0.969810978094774),\n",
       " ('S05E12', 0.9697613135996002),\n",
       " ('S04E03', 0.9697424940277861),\n",
       " ('S04E10', 0.9697354316643517),\n",
       " ('S08E06', 0.9696229514625627),\n",
       " ('S04E18', 0.9696179744076113),\n",
       " ('S05E16', 0.9695009572197839),\n",
       " ('S06E04', 0.9693663011388326),\n",
       " ('S02E10', 0.9693651120366928),\n",
       " ('S03E06', 0.9693082163943226),\n",
       " ('S04E16', 0.9692639305395854),\n",
       " ('S04E04', 0.9692196469041433),\n",
       " ('S03E04', 0.9691859958930042),\n",
       " ('S06E24', 0.9690367595877475),\n",
       " ('S03E15', 0.9690244500693553),\n",
       " ('S09E10', 0.969022634101924),\n",
       " ('S08E07', 0.9689825066400961),\n",
       " ('S06E18', 0.9688740780400261),\n",
       " ('S08E08', 0.9688663817920738),\n",
       " ('S06E07', 0.968827369875939),\n",
       " ('S06E22', 0.9688056664120628),\n",
       " ('S07E01', 0.9688034112098114),\n",
       " ('S06E12', 0.9687411838120259),\n",
       " ('S06E21', 0.9686467246618308),\n",
       " ('S02E04', 0.9686298824653082),\n",
       " ('S01E04', 0.9686260920758405),\n",
       " ('S05E21', 0.9685884785421843),\n",
       " ('S06E03', 0.9685426704896571),\n",
       " ('S05E04', 0.9685306087575445),\n",
       " ('S03E21', 0.9685303473403223),\n",
       " ('S09E01', 0.9685021212150632),\n",
       " ('S03E17', 0.9684171818491167),\n",
       " ('S03E22', 0.9683891982801722),\n",
       " ('S06E05', 0.9683829726908876),\n",
       " ('S07E13', 0.9683606197074754),\n",
       " ('S02E08', 0.9683275913866654),\n",
       " ('S03E10', 0.968306931765445),\n",
       " ('S09E05', 0.9682846250900022),\n",
       " ('S08E20', 0.9682801690492785),\n",
       " ('S07E08', 0.9682457357466983),\n",
       " ('S02E11', 0.968230035937156),\n",
       " ('S08E18', 0.9682174091655518),\n",
       " ('S04E12', 0.9681945661658907),\n",
       " ('S06E17', 0.9681336845740769),\n",
       " ('S04E20', 0.9680739994141719),\n",
       " ('S02E09', 0.9680285209478267),\n",
       " ('S07E14', 0.9679970323748522),\n",
       " ('S06E16', 0.9679901411954429),\n",
       " ('S09E11', 0.9679571843265277),\n",
       " ('S02E01', 0.9679346832985706),\n",
       " ('S04E19', 0.96789414171524),\n",
       " ('S04E07', 0.9678683178907672),\n",
       " ('S09E15', 0.9678653929318488),\n",
       " ('S05E11', 0.9678319177546167),\n",
       " ('S08E02', 0.967825315135313),\n",
       " ('S07E22', 0.9677999530931903),\n",
       " ('S09E14', 0.967687103917776),\n",
       " ('S05E22', 0.9676698794190396),\n",
       " ('S04E11', 0.9676412310603355),\n",
       " ('S03E13', 0.9675729774330011),\n",
       " ('S07E15', 0.9675464242464833),\n",
       " ('S03E14', 0.9675295134873889),\n",
       " ('S08E13', 0.9674669762235788),\n",
       " ('S07E05', 0.967425660636763),\n",
       " ('S05E14', 0.9674096870974133),\n",
       " ('S06E10', 0.9674038245116008),\n",
       " ('S07E07', 0.9673963285948342),\n",
       " ('S09E19', 0.9672105641302691),\n",
       " ('S09E09', 0.9671170812659095),\n",
       " ('S04E09', 0.9671107180962178),\n",
       " ('S02E06', 0.96700223968809),\n",
       " ('S09E17', 0.9669377314459697),\n",
       " ('S03E09', 0.9668424971091236),\n",
       " ('S05E20', 0.9668071754149073),\n",
       " ('S07E02', 0.9667568058523036),\n",
       " ('S09E18', 0.966747281760651),\n",
       " ('S01E01', 0.9665833862893434),\n",
       " ('S09E02', 0.9665531607709615),\n",
       " ('S09E16', 0.9664859261099347),\n",
       " ('S02E12', 0.966394251643952),\n",
       " ('S08E10', 0.9663649334963502),\n",
       " ('S08E09', 0.9663641066693127),\n",
       " ('S02E05', 0.9663562483124535),\n",
       " ('S09E12', 0.9663419287024482),\n",
       " ('S08E11', 0.9663168181301441),\n",
       " ('S07E21', 0.9662252535846834),\n",
       " ('S08E04', 0.9662070308344497),\n",
       " ('S02E02', 0.9661827050396665),\n",
       " ('S01E02', 0.966108216123084),\n",
       " ('S09E20', 0.9660895128263564),\n",
       " ('S07E04', 0.9659231268576798),\n",
       " ('S03E01', 0.9658607541840177),\n",
       " ('S09E07', 0.9658027488702574),\n",
       " ('S06E23', 0.965657234908229),\n",
       " ('S03E16', 0.9655946840220976),\n",
       " ('S04E08', 0.9655925678759605),\n",
       " ('S08E12', 0.9655361912622143),\n",
       " ('S04E22', 0.9655334779283984),\n",
       " ('S08E16', 0.9654710304344007),\n",
       " ('S06E06', 0.9654577147765911),\n",
       " ('S03E05', 0.9653843813040014),\n",
       " ('S02E03', 0.9653154105399919),\n",
       " ('S08E19', 0.9653133950174548),\n",
       " ('S04E06', 0.9652567791450868),\n",
       " ('S04E14', 0.9650834659734351),\n",
       " ('S09E23', 0.9650577228482115),\n",
       " ('S04E15', 0.9650422943033118),\n",
       " ('S09E06', 0.9649417275576601),\n",
       " ('S07E18', 0.9648949008942711),\n",
       " ('S04E01', 0.9648926990936568),\n",
       " ('S07E10', 0.9647800904051226),\n",
       " ('S03E19', 0.9647586268204971),\n",
       " ('S05E07', 0.9646936370014413),\n",
       " ('S03E20', 0.9643308217345485),\n",
       " ('S08E15', 0.964318397573902),\n",
       " ('S03E11', 0.963956567523283),\n",
       " ('S04E21', 0.963618646037765),\n",
       " ('S06E02', 0.9631503760242965),\n",
       " ('S08E01', 0.961507503303359),\n",
       " ('S05E05', 0.9609342108961465),\n",
       " ('S07E12', 0.9608243497599682)]"
      ]
     },
     "execution_count": 59,
     "metadata": {},
     "output_type": "execute_result"
    }
   ],
   "source": [
    "recs"
   ]
  },
  {
   "cell_type": "code",
   "execution_count": null,
   "metadata": {},
   "outputs": [],
   "source": []
  },
  {
   "cell_type": "code",
   "execution_count": null,
   "metadata": {},
   "outputs": [],
   "source": []
  },
  {
   "cell_type": "code",
   "execution_count": null,
   "metadata": {},
   "outputs": [],
   "source": []
  },
  {
   "cell_type": "code",
   "execution_count": null,
   "metadata": {},
   "outputs": [],
   "source": []
  },
  {
   "cell_type": "code",
   "execution_count": 23,
   "metadata": {},
   "outputs": [],
   "source": [
    "example = df[df['SEID'] == 'S01E01']"
   ]
  },
  {
   "cell_type": "code",
   "execution_count": null,
   "metadata": {},
   "outputs": [],
   "source": []
  },
  {
   "cell_type": "code",
   "execution_count": null,
   "metadata": {},
   "outputs": [],
   "source": []
  },
  {
   "cell_type": "code",
   "execution_count": 25,
   "metadata": {},
   "outputs": [],
   "source": [
    "dia = ''\n",
    "for i in range(len(example)):\n",
    "    dia += df['clean_dialogue'][i]"
   ]
  },
  {
   "cell_type": "code",
   "execution_count": 27,
   "metadata": {},
   "outputs": [],
   "source": [
    "doc1 = 'Hi Jerry. How are you doing? Want to get some coffee? I like you so much. Your show is my favorite'\n",
    "doc2 = dia"
   ]
  },
  {
   "cell_type": "code",
   "execution_count": 28,
   "metadata": {},
   "outputs": [],
   "source": [
    "doc1 = nlp(doc1)\n",
    "doc2 = nlp(dia)"
   ]
  },
  {
   "cell_type": "code",
   "execution_count": 29,
   "metadata": {},
   "outputs": [
    {
     "data": {
      "text/plain": [
       "0.9665833862893434"
      ]
     },
     "execution_count": 29,
     "metadata": {},
     "output_type": "execute_result"
    }
   ],
   "source": [
    "doc1.similarity(doc2)"
   ]
  },
  {
   "cell_type": "code",
   "execution_count": null,
   "metadata": {},
   "outputs": [],
   "source": []
  }
 ],
 "metadata": {
  "kernelspec": {
   "display_name": "Python 3",
   "language": "python",
   "name": "python3"
  },
  "language_info": {
   "codemirror_mode": {
    "name": "ipython",
    "version": 3
   },
   "file_extension": ".py",
   "mimetype": "text/x-python",
   "name": "python",
   "nbconvert_exporter": "python",
   "pygments_lexer": "ipython3",
   "version": "3.7.7"
  }
 },
 "nbformat": 4,
 "nbformat_minor": 4
}
