{
 "cells": [
  {
   "cell_type": "code",
   "execution_count": 1,
   "metadata": {},
   "outputs": [],
   "source": [
    "# Imports\n",
    "import spacy\n",
    "import pandas as pd\n",
    "import pickle\n"
   ]
  },
  {
   "cell_type": "code",
   "execution_count": 2,
   "metadata": {},
   "outputs": [],
   "source": [
    "# Loading in the BERT word embeddings via spaCy\n",
    "nlp = spacy.load('en_trf_bertbaseuncased_lg')"
   ]
  },
  {
   "cell_type": "code",
   "execution_count": 3,
   "metadata": {},
   "outputs": [],
   "source": [
    "# Loading in the original Seinfeld scripts.csv\n",
    "df = pd.read_csv('./data/scripts.csv', index_col=0)"
   ]
  },
  {
   "cell_type": "code",
   "execution_count": 4,
   "metadata": {},
   "outputs": [],
   "source": [
    "# Cleaning the dialogue\n",
    "df['clean_dialogue'] = df['Dialogue'].str.replace(r\"\\(.*\\)\",\"\")\n",
    "df = df.dropna()\n",
    "df.reset_index(inplace=True, drop=True)"
   ]
  },
  {
   "cell_type": "code",
   "execution_count": 7,
   "metadata": {},
   "outputs": [
    {
     "data": {
      "text/plain": [
       "'/Users/alexander.fioto/personal_github/Seinfeld-Chatbot'"
      ]
     },
     "execution_count": 7,
     "metadata": {},
     "output_type": "execute_result"
    }
   ],
   "source": [
    "pwd"
   ]
  },
  {
   "cell_type": "code",
   "execution_count": 8,
   "metadata": {},
   "outputs": [],
   "source": [
    "# Saving the clean csv\n",
    "df.to_csv('./data/clean_scripts.csv')"
   ]
  },
  {
   "cell_type": "code",
   "execution_count": 10,
   "metadata": {},
   "outputs": [],
   "source": [
    "# List of all unique episode IDs\n",
    "episodes = df['SEID'].unique()"
   ]
  },
  {
   "cell_type": "markdown",
   "metadata": {},
   "source": [
    "## Episode Dictionary"
   ]
  },
  {
   "cell_type": "code",
   "execution_count": 11,
   "metadata": {},
   "outputs": [],
   "source": [
    "def get_episode_dialogue(df):\n",
    "    '''\n",
    "    This function returns a dictionary of all the episode IDs (keys) and complete dialogue from each\n",
    "    episode (values).\n",
    "    '''\n",
    "    episodes = df['SEID'].unique()\n",
    "    episodes_dialogue = {}\n",
    "    for episode in episodes:\n",
    "        episode_df = df[df['SEID'] == episode]\n",
    "        episode_df.reset_index(inplace=True, drop=True)\n",
    "        dialogue = ''\n",
    "        for i in range(len(episode_df)):\n",
    "            dialogue += episode_df['clean_dialogue'][i]\n",
    "            \n",
    "        episodes_dialogue[episode] = dialogue\n",
    "    return episodes_dialogue\n",
    "    "
   ]
  },
  {
   "cell_type": "code",
   "execution_count": 12,
   "metadata": {},
   "outputs": [],
   "source": [
    "# Run the function and save the variable\n",
    "episode_dialogues = get_episode_dialogue(df)"
   ]
  },
  {
   "cell_type": "code",
   "execution_count": 65,
   "metadata": {},
   "outputs": [],
   "source": [
    "# Saving the episode dictionary to the data folder\n",
    "\n",
    "# This sa\n",
    "# with open('./data/episode_dialogues.pkl', 'wb') as f:\n",
    "#     pickle.dump(episode_dialogues, f)"
   ]
  },
  {
   "cell_type": "code",
   "execution_count": 91,
   "metadata": {},
   "outputs": [],
   "source": [
    "example = episode_dialogues['S01E01']"
   ]
  },
  {
   "cell_type": "code",
   "execution_count": 14,
   "metadata": {},
   "outputs": [],
   "source": [
    "chat_doc = nlp('I like coffee. Can we be freinds? I like Jerry.')"
   ]
  },
  {
   "cell_type": "code",
   "execution_count": 24,
   "metadata": {},
   "outputs": [],
   "source": [
    "with open('./data/episode_dialogues.pkl', 'rb') as f:\n",
    "    seinfeld_vectors = pickle.load(f)"
   ]
  },
  {
   "cell_type": "code",
   "execution_count": 25,
   "metadata": {},
   "outputs": [
    {
     "data": {
      "text/plain": [
       "\"Do you know what this is all about? Do you know, why were here? To be out, this is out...and out is one of the single most enjoyable experiences of life. People...did you ever hear people talking about We should go out? This is what theyre talking about...this whole thing, were all out now, no one is home. Not one person here is home, were all out! There are people tryin to find us, they dont know where we are.  Did you ring?, I cant find him. Where did he go? He didnt tell me where he was going. He must have gone out. You wanna go out you get ready, you pick out the clothes, right? You take the shower, you get all ready, get the cash, get your friends, the car, the spot, the reservation...Then youre standing around, whatta you do? You go We gotta be getting back. Once youre out, you wanna get back! You wanna go to sleep, you wanna get up, you wanna go out again tomorrow, right? Where ever you are in life, its my feeling, youve gotta go. See, to me, that button is in the worst possible spot. The second button literally makes or breaks the shirt, look at it. Its too high! Its in no-mans-land. You look like you live with your mother.Are you through?You do of course try on, when you buy?Yes, it was purple, I liked it, I dont actually recall considering the buttons.Oh, you dont recall? Uh, no, not at this time.Well, senator, Id just like to know, what you knew and when you knew it.Mr. Seinfeld. Mr. Costanza.Are, are you sure this is decaf? Wheres the orange indicator?Its missing, I have to do it in my head decaf left, regular right, decaf left, regular right...its very challenging work.Can you relax, its a cup of coffee. Claire is a professional waitress.Trust me George. No one has any interest in seeing you on caffeine.How come youre not doin the second show tomorrow?Well, theres this uh, woman might be comin in.Wait a second, wait a second, what coming in, what woman is coming in?I told you about Laura, the girl I met in Michigan?No, you didnt!I thought I told you about it, yes, she teaches political science? I met her the night I did the show in Lansing...Ha. Theres no milk in here, what...Wait wait wait, what is she...  What is she like?Oh, shes really great. I mean, shes got like a real warmth about her and shes really bright and really pretty and uh... the conversation though, I mean, it was... talking with her is like talking with you, but, you know, obviously much better. So, you know, what, what happened?Oh, nothing happened, you know, but is was great.Oh, nothing happened, but it was...Yeah.This is great!Yeah.So, you know, she calls and says she wants to go out with you tomorrow night? God bless! Devil you!Yeah, well...not exactly. I mean, she said, you know, she called this morning and said she had to come in for a seminar and maybe well get together. Ho ho ho, Had to? Had to come in?Yeah, but...Had to come in and maybe well get together? Had to and maybe?Yeah!No...no...no, I hate to tell you this. Youre not gonna see this woman.What, are you serious...why, why did she call?How do I know, maybe, you know, maybe she wanted to be polite.To be polite? You are insane!All right, all right, I didnt want to tell you this. You wanna know why she called you?Yes!Youre a back-up, youre a second-line, a just-in-case, a B-plan, a contingency!Oh, I get it, this is about the button.Claire, Claire, youre a woman, right?What gave it away, George?Uhm...Id like to ask you...ask you to analyze a hypothetical phone call, you know, from a female point of view. Now, a woman calls me, all right?Uh huh.She says she has to come to New York on business...Oh you are beautiful!...and, and maybe shell see me when she gets there, does this woman intend to spend time with me?Id have to say, uuhh, no.NO.)To be polite.To be polite. I rest my case.Good. Did you have fun? You have no idea, what youre talking about, now, come on, come with me.  I gotta go get my stuff out of the dryer anyway.Im not gonna watch you do laundry.Oh, come on, be a come-with guy.Come on, Im tired. Dont worry, I gave him a little caffeine. Hell perk up. Right, I knew I felt something!Jerry? I have to tell you something. This is the dullest moment Ive ever experienced.Well, look at this guy. Look, hes got everything, hes got detergents, sprays, fabric softeners.  This is not his first load.I need a break, Jerry, you know. I gotta get out of the city. I feel so cramped...And you didnt even hear how she sounded.What?!Laura.I cant believe-  WE ALREADY DISCUSSED THIS!Yeah, but how could you be so sure?Cause its signals, Jerry, its signals!  Dont you- all right. Did she even ask you, what you were doin tomorrow night, if you were busy?No.She calls you today and she doesnt make a plan for tomorrow? What is that? Its Saturday night!Yeah.What is that? Its ridiculous! You dont even know what hotel shes staying at, you cant call her. Thats a signal, Jerry, thats a signal!  Signal!Maybe youre right.Maybe Im right? Of course Im right.This is insane. You know, I dont even know where shes staying! She, shes not gonna call me, this is unbelievable.I know, I know. Listen, your stuff has to be done by now, why dont you just see if its dry?No no no, dont interrupt the cycle. The machine is working, it, it knows what its doing. Just let it finish.Youre gonna overdry it.You, you cant overdry.Why not?Same as you cant overwet. You see, once something is wet, its wet. Same thing with death. Like once you die youre dead, right? Lets say you drop dead and I shoot you. Youre not gonna die again, youre already dead. You cant overdie, you cant overdry. Any questions?How could she not tell me where she was staying?Look at that. Theyre done!Laundry day is the only exciting day in the life of clothes. It is...yknow, think about it. The washing machine is the nightclub of clothes. You know, its dark, theres bubbles happening, theyre all kinda dancing around in there- shirt grabs the underwear, Cmon babe, lets go. You come by, you open up the lid and theyll-  Socks are the most amazing article of clothing. They hate their lives, theyre in the shoes with stinky feet, the boring drawers. The dryer is their only chance to escape and they all know it. They knew a escape from the dryer. They plan it in the hamper the night before, Tomorrow, the dryer, Im goin. You wait here! The dryer door swings open and the sock is waiting up against the side wall. He hopes you dont see him and then he goes down the road. They get buttons sewn on their faces, join a puppet show. So theyre showing me on television the detergent for getting out bloodstains. Is this a violent image to anybody? Bloodstains? I mean, come on, you got a T-shirt with bloodstains all over it, maybe laundry isnt your biggest problem right now. You gotta get the harpoon out your chest first. If you know what happened in the Met game, dont say anything, I taped it, hello. Yeah, no, Im sorry, you have the wrong number. Yeah, no Yeah?Are you up? Yeah, people do move. Have you ever seen the big trucks out on the street? Yeah, no problem.Boy, the Mets blew it tonight, huh? Ohhhh, what are you doing? Kessler, its a tape! I taped the game, its one oclock in the morning! I avoided human contact all night to watch this.Hey, Im sorry, I- you know, I, I thought you knew.  You got any meat?Meat? I dont, I dont know, go... hunt!  Well what happened in the game anyway? What happened? Well, they STUNK, thats what happened!You know, I almost wound up going to that game. Yeah you almost went to the game. You havent been out of the building in ten years!Yeah.  Are you done with this?No.When youre done, let me know.Yeah, yeah...you can have it tomorrow.I thought I wasnt allowed to be in here this weekend.No, its okay now, that, that girl is not comin. Uh, I misread the whole thing.You want me to talk to her?I dont think so.Oh, I can be very persuasive. Do you know that I was almost... a lawyer.That close, huh?You better believe it.Hello...Oh, hi, Laura.Oh, give me it...let me talk to her. No believe me, Im always up at this hour. How are you?... Great... Sure... What time does the plane get in?... I got my friend George to take me... SLIDE! Wow!No, its, its just my neighbour... Um... Yeah, I got it.  I dont believe it. That was her. She wants to stay here!If my father was moving this hed had to have a cigarette in his mouth the whole way.  'Have you got your end?...Your ends got to come down first, easy now, drop it down...drop it down, your ends got to come down.'You know, I cant believe youre bringin in an extra bed for woman that wants to sleep with you. Why dont you bring in an extra guy too?Look, its a very awkward situation. I dont wanna be presumptuous.All right, all right, one more time, one more time! What was the exact phrasing of the request?All right, she said she couldnt find a decent hotel room...A decent hotel-room...Yeah, a decent hotel-room, would it be terribly inconvenient if she stayed at my place.You cant be serious. This is New York city. There must be eleven million decent hotel rooms! Whatta you need? A flag?  This is the signal, Jerry, this is the signal! This is the signal? Thank you, Mr. Signal. Where were you yesterday?I think I was affected by the caffeine.Ho, ho, ho, good dog, good dog...Hey, he really likes you, George.Well, thats flattering.Oh, hes gettin a drink of water.  Is this for that girl?Yeah.Why even give her an option?This is a person I like, its not How to score on spring break.Right, can we go? Cause Im double-parked, Im gonna get a ticket.Yeah, okay. Oh, wait a second. Oh, I forgot to clean the bathroom.So what? Thats good.Now, how could that be good?Because filth is good. Whaddaya think, rock stars have sponges and ammonia lyin around the bathroom? They, have a woman comin over, Ive gotta tidy up? Yeah right, in these matters you never do what your instincts tell you. Always, ALWAYS do the opposite.This is how you operate?Yeah, I wish.Let me just wipe the sink.Why even give her an option for? Its unbelievable.Yeah.Hows the real estate-business? Its uh, not bad, its comin along. Why? Did you need something.Do you handle any of that commercial...real estate?Well, I might be getting into that. You keep me posted!Im aware of you.  Lets go!The dating world is not a fun world...its a pressure world, its a world of tension, its a world of pain...and you know, if a woman comes over to my house, I gotta get that bathroom ready, cause she needs things. Women need equipment. I dont know what they need. I know I dont have it, I know that- You know what they need, women seem to need a lot of cotton-balls. This is the one Im- always has been one of the amazing things to me...I have no cotton-balls, were all human beings, what is the story? Ive never had one...I never bought one, I never needed one, Ive never been in a situation, when I thought to myself I could use a cotton-ball right now. I can certainly get out of this mess. Women need them and they dont need one or two, they need thousands of them, they need bags, theyre like peat moss bags, have you ever seen these giant bags? Theyre huge and two days later, theyre out, theyre gone, the, the bag is empty, where are the cotton-balls, ladies? What are you doin with them? The only time I ever see em is in the bottom of your little waste basket, theres two or three, that look like theyve been through some horrible experience... tortured, interrogated, I dont know what happened to them. I once went out with a girl whos left a little zip-lock-baggy of cotton-balls over at my house. I dont know what to do with them, I took them out, I put them on my kitchen floor like little tumbleweeds. I thought maybe the cockroaches would see it, figure this is a dead town. Lets move on. The dating world is a world of pressure. Lets face it a date is a job interview that lasts all night. The only difference between a date and a job interview is not many job interviews is there a chance youll end up naked at the end of it. You know? Well, Bill, the boss thinks youre the man for the position, why dont you strip down and meet some of the people youll be workin with?Wouldnt it be great if you could ask a woman what shes thinking?What a world that would be, if you just could ask a woman what shes thinkin.You know, instead, Im like a detective. I gotta pick up clues, the whole thing is a murder investigation.Listen, listen, dont get worked up, cause youre gonna know the whole story the minute she steps off the plane.Really? How?Cause its all in the greeting.Uh-huh.All right, if she puts the bags down before she greets you, thats a good sign.Right.You know, anything in the, in the lip area is good.Lip area.You know a hug definitely good.Hug is definitely good.Sure.Although what if its one of those hugs where the shoulders are touching, the hips are eight feet apart?Thats so brutal, I hate that.You know how they do that?Thats why, you know, a shake is bad.Shake is bad, but what if its the two-hander? The hand on the bottom, the hand on the top, the warm look in the eyes?Hand sandwich.Right.I see, well, thats open to interpretation. Because so much depends on the layering and the quality of the wetness in the eyes.Guess who?Hey, hey.Heeeey!Its good to see you.Hi.This is my friend George.Hi, how nice to meet you.Hi, how are you?This is Laura.Laura, sure. I cant believe youre here.Ooh yeah, the bags, sure.Oh, thank you. Now that was an interesting greeting, did you notice that, George?Yes, the surprise blindfold greeting. That wasnt in the manual, I dont know.So uh, what do you think?Ooohhh, wow! This place isnt so bad.Yeah, it kind a motivates me to work on the road. So uh, make yourself at home.  So uh, can I get you anything? Uuhhh, bread, water...salad-dressing? Actually, um, do you have any wine?Uh, yeah, I think I do. Oh, do you mind if I turn this down?Uh, no, yeah, go right ahead.Uh, Jerry, uh, I was wandering, would it be possible  and if its not, fine  for me to stay here tomorrow night too?Uh, yeah, yeah, sure, why dont you stay? Yeah, uhm...What is your, what is your schedule for tomorrow? Are you, are you doin anything?No, Id love to do something. Uh, I have my seminar in the morning, then after that Im right open.Really? What would you like to do?Well... now I know this sounds touristy, but Id just love to go on one of those five-hour boat rides around Manhattan. Im just, Im really glad youre here. Um, its for you. Never get engaged. Youre engaged?You, you really have no idea what its like until you actually do it. And Im on this emotional roller coaster.Youre engaged?You know, I cant believe it myself sometimes. You have to start thinking in terms of we. Ugh, its a very stressful situation. Youre engaged.Yeah, yeah, hes a great guy...Yeah.Youd really like him, you know, I cant wait to get on that boat.Me too!I swear, I have absolutely no idea what women are thinking. I dont get it, okay? I, I, I admit, I, Im not getting the signals. I am not getting it! Women, theyre so subtle, their little...everything they do is subtle. Men are not subtle, we are obvious. Women know what men want, men know what men want, what do we want? We want women, thats it! Its the only thing we know for sure, it really is. We want women. How do we get them? Oh, we dont know bout that, we dont know. The next step after that we have no idea. This is why you see men honking car-horns, yelling from construction sites. These are the best ideas weve had so far. The car-horn honk, is that a beauty? Have you seen men doing this? What is this? The man is in the car, the woman walks by the front of the car, he honks. E-eeehh, eehhh, eehhh! This man is out of ideas. How does it...? E-e-e-eeeehhhh! I dont think she likes me. The amazing thing is, that we still get women, dont we? Men, I mean, men are with women. You see men with women. How are men getting women, many people wonder. Let me tell you a little bit about our organization. Wherever women are, we have a man working on the situation right now. Now, he may not be our best man, okay, we have a lot of areas to cover, but someone from our staff is on the scene. Thats why, I think, men get frustrated, when we see women reading articles, like Where to meet men? Were here, we are everywhere. Were honking our horns to serve you better.So, Im on line at the supermarket. Two women in front of me. One of them, her total was eight dollars, the other three dollars. They both of course choose to pay by the use of the...Cheque.Cheque. Now, the fact is, if its a woman in front of you thats writing the cheque, you will not be waiting long. I have noticed that women are very fast with cheques, yknow, cause they write out so many cheques. The keys, they can never find in their purse, they dont know where that is, but the cheque book they got that. They never fumble for the cheque book. The cheque book comes out of a holster  Who do I make it out to? Theres my ID. Theres something about a cheque that, to a man, is not masculine. I dont know exactly what it is. I think to a man, a cheque is like a note from your mother that says, I dont have any money, but if youll contact these people, Im sure theyll stick up for me... If you just trust me this one time- I dont have any money but I have these. I wrote on these. Is this of any value at all?Whats that one?Coccoon II The Return. I guess they didnt like it up there.Maybe they came back for Chinese food. Yknow Maureen Stapleton, if she gets a craving, shes probably screamin at those aliens, I gotta have a lo mein!Okay, whatre we doing here? I have seen everything.Oh yeah? I dont believe youve seen... this.Oh, lovely.Yeah.What do you think their parents think?So, uh, whats your son doing now, Dr. Stevens? Oh, hes a public fornicator. Yes, hes a fine boy...Yknow what? This would be a really funny gift for Pamelas birthday.Pamela? Do I know her?Yeah, you met her when we were going out.Oh yeah, right...You have no idea who Im talking about, do you? No.Blonde hair, remember? Glasses?  Have you totally blocked out the entire time we were a couple? Riverside Drive.Right! In fact... No, never mind...Well, what is it?Well, a bunch of people are getting together tomorrow night at some bar for her birthday, but...  you dont want to go to... that... no.Wait a second, wait a second. We could work out a little deal here.What little deal?I will go to that, if you go with me to a little family wedding I have on Saturday.A wedding? Have you lost it, man?Yknow, my parents are coming in for this...Theyre coming in?Yeah, tomorrow.Hey, did your father ever get that hair weave?No, no. Still doin the big sweep across.Why does he do that?Doesnt think anyone can tell. So cmon, do we have a deal?A wedding?Theres a lot of people to mock...All right, what the hell.Great!When youre dead, youre dead. Thats it. Youre not goin anywhere...Cmon lets go...Was I supposed to bring something?You could have.I met her one time...It is not necessary.What did you say then?Sssshhhhhh!!!HiHi, Pamela, you remember Jerry. Yes, we met.Hi, happy birthday.Thanks, ah, everybody, this is Elaine and Jerry.HiI didnt bring anything.Uh, I put you two right here.Oh, Okay  Im sorry, I didnt know what to bring, nobody told me.How big a tip do you think itd take to get him to stop?Im in for five...Ill supply the hat. Uh-oh... What do we have here?Why dont you relax and take your jacket off?Oh, I cant. Uh, I have a tendency to get chilly.How masculine.Plus Im wearing short sleeves, I dont want to expose my tattoos.  Shes unbelievable! Hey, this guy says he knows Bricker.Oh, you know Bricker! From where? Whats going on here? Gotta be her boyfriend, shes too good to be alone. Whats the difference, I cant maneouver anyway with Elaine next to me. How do you know Pamela?Uh, friend of a friend. And you?We went to law school together. Oh, Jerry! Oh no, not now.I had this dream last night and you were in it.Oh really?  Oh God, I gotta get out of this.You were you, but, you werent you...No kidding.  Why is this happening? Please, make her stop!I think, I think we were in my house where I grew up, and you were standing there, you were looking out the window... This is brutal.You turned around and you had these wooden teeth.How do you like that? Can I turn now? Is this over? No, I cant, I cant. Im stuck. Jerry? Are you listening to me?Yes, I heard you.Elaine, whats the name of that jewelry store you took me to that time? So, youre a lawyer...Sagman, Bennet, Robbins, Oppenheim and Taft. Of course, they handled my tattoo removal lawsuit.Oh, that was you?Imagine, spelling Mom with two Os.Very funny! What do you do?Comedian.Really? That explains it. Sagman, Bennet, Robbins, Oppenheim and Taft. Sagman, Bennet, Robbins, Oppenheim and Taft.Are you ready?We gotta run. Happy birthday! I cant believe it. I got nothing! I dont even know her name! Sagman, Bennet, Robbins, Oppenheim and Taft. Sagman, Bennet, Robbins, Oppen... Sagman... Sag...That wasnt so bad, really.Yknow, um, you could use a little work on your manners.Why? What did I do?Wel-Well, I just dont appreciate these little courtesy responses, like Im selling you aluminum siding.I was listening!No! You couldnt wait to get back to your little... conversation.No, you were talking about the, the um, the dream you had.Uh-huh...Where you had, uh, wooden teeth.No! No! You had wooden teeth! You had wooden teeth! I didnt have wooden teeth, you did!All right, so I had wooden teeth, so what?So nothing! Nothing. Apparently Plato, who came up with the concept of the platonic relationship, was pretty excited about it. He named it after himself. He said, Yeah, I got this new thing Platonic. My idea, my name, callin it after myself. What I do is, I go out with the girls, I talk with them- dont do anything, and go right home. Whatd you think? I think its going to be big! I bet you there were other guys in history that tried to get relationships named after them, but it didnt work. Yknow, I bet you there were guys who tried to do it, just went, Uh, Hi, uh my names Rico. Would you like to go to bed immediately? Hey, its a Riconic relationship.Hey!Ah, there he is!This is what I like, see? You come home and your parents are in your bed!Yknow, Jerry, we dont have to do this.What are you talkin about? Its fine, I love having you here.Tomorrow well go to a hotel.Ma, will you stop?No, why should we take over your apartment?I dont care. Im sleeping next door.Your friend Kramer doesnt mind?No, hes making a bouillabaisse.So, dad, lemme ask you a question. How many people work at these big law offices?Depends on the firm.Yeah, but if you called up and described someone, do you think they would know who it was?Whats the matter? You need a lawyer?No, I met someone at this party, and I know where she works, but I dont know her name.So why dont you ask someone who was at the party?Nah, the only one I could ask is Elaine, and I cant ask her.Why not?Because its complicated. Theres some tension there.He used to go with her.Which one is she?From Maryland. The one who brought you the chocolate covered cherries you didnt like.Oh yeah, very alert. Warm person.Oh yeah, shes great.So, how come nothing materialized there?Well, its a tough thing to talk about uh. I dunno...I know what it was.You dont know what it was.So, what was it?Well, we fight a lot for some reason.Oh, well...And there was a little problem with the physical chemistry.Well, I think shes a very attractive girl.Oh, she is, she absolutely is.I can see if there was a weight problem...No, its not that. It wasnt all one-sided.You know, you cant be so particular. Nobodys perfect.I know, I know...Yknow Jerry, its a good thing I wasnt so particular. So whore you looking for, Sophia Loren?Thats got nothin to do with it.How about Loni Anderson?Where do you get Loni Anderson?Why, whats wrong with Loni Anderson?I like Elaine more than Loni Anderson.What are you two talking about? Look, Elaine just wasnt the one.And this other ones the one?I dunno, maybe...So ask Elaine there for her number.I cant. Shell get upset. I never talk about other women with her, especially this one tonight.How could you still see her if your not interested?Were friends.Doesnt sound like youre friends to me. If you were friends you'd-youd ask her for the number. Do you know where this other one works?Oh yeah.Well, go up to the office.Up to her office?Go to the building. She goes out to lunch, doesnt she?I guess.So, you stand in the lobby, by the elevator, and wait for her to come down for lunch.You mean stakeout the lobby?Morty, thats ridiculous. Just ask Elaine for the number!He doesnt want to ask Elaine for the number.So youve got him standing by the elevator like a dope! What happens when he sees her?He pretends he bumped into her!Yknow what? This is not that bad an idea.What does she look like?I dunno. Hard to say.What actress does she remind you of?Loni Anderson.Loni Anderson?!What, theres something wrong with Loni Anderson?  Hey listen, thanks again for running over here. I appreciate it.Yeah, sure. I was showing a condo on 48th street. Besides, you think I wanna miss this? Im a little nervous.Yeah, me too...If I see her, what do I say that Im doing here in the building?You came to see me. I work in the building.What do you do?Im an architect.Youre an architect?Im not?I dont see architecture comin from you. I suppose you could be an architect.I never said that I was the architect. Just somethin else.All right, shes not even gonna ask, if we see her, which is remote.Well whaddaya want me to say, that I just wandered in here?Were having lunch with a friend. He works in the building.What is his name?Bert... Har... bin... son. Bert Har-bin-son.Bert Harbinson? It sounds made up.No good? All right, uh how about Art... Cor.....Art Cor......velay.Corvelay?Yeah, right.Well, what does he do?Hes an importer.Just imports, no exports? Elaine ever call you back?No, I guess shes still mad.I dont understand, you never talk to her about other women?Never.  Wait a second. Thats her. On the right. I forgot who I am! Who am I?!Youre you. Were having lunch with Art Corvelay.Vandelay!Corvelay!Let me be the architect! I can do it!Hey, hey. uh Pamelas birthday party, didnt I see you there? Jerry.Sure! Hi!Uh, this is George.  Im sorry...Vanessa.Nice to meet you.Ah, Sagman, Bennet, Robbins, Oppenheim and Taft.Thats right! Yea, whatre you doing here?Oh, were meeting a friend of ours for lunch. He works here in the building.Yeah, Art Vandelay.Really? Which company? I dont know. Hes an importer.Importer?...And exporter.Hes an importer/exporter. Im, uh, Im an architect.Really. What do you design?Uh, railroads, uh...I thought engineers do that.They can...Yknow Im sorry you had to leave so early the other night.Oh, me too. My cousin had to go back to Boston.Oh, that guy was your cousin! Yeah, and that woman was your...Friend!Ill just, uh, get a paper...So, um, do you date uh immature men?Almost exclusively...Bum bum bum bum... I have no letters... Bum bum bum bum... Ma, will you go already?Bum bum bum bum...What are you doing?!Wait, I just want to see something.You cant look in there, were playing!Hi.Hi. Good evening, Mr. Kramer!Hey Morty!  Salad dressing?Look.Quo. Is that a word?Maybe!Will you challenge it?Ma, you cant look up words in the dictionary!  Dad, shes cheating!Quo? Thats not a word. Youre such a stickler...Well put something down, youre taking twenty minutes on this. So is Uncle Mac and Artie, theyre all coming over here before the wedding?Theyll be here at two oclock. Oh, Elaine called. She said shed be here at two-thirty. And she says Hope your meeting went well with Art Vandelay?She said what?Just what I said, here.She knows! Oh, I am such a jackass.She knows what?She knows the whole stupid thing. Vanessa and the elevator...No, no, no, that wont do. He may have a Z.So, how did she find out?Because, Vanessa probably told Pamela, and Pamela probably told Elaine.So, what are you? Afraid of her?Yes. Yes I am!  What else did she say on the phone?Whatever I wrote down.Yeah, but what was the tone in her voice? How did she sound?Who am I, Rich Little?Well, she cant be too mad. Shes still coming to the wedding.Yeah, but now Im nervous.Oh, stop it.Quone?...30...31...Quone? No, Im afraid that Im going to have to challenge that....32...No, you dont have to challenge that. Thats a word. Thats a definite word.I am challenging.Quone. To quone something.Uh-huh.Im not playing with you anymore.Quones not a word.No good. Sorry. There it is. Get it off. Why did you make me put that down?Nah, we need a medical dictionary! If a patient gets difficult, you quone him.You want some funny material, you oughta come down to where I work, now thats a sitcom!You must have quite a time down there.We got plenty of time.Oh, Im sorry. Im just waiting for someone.Watch what you say to this guy. Hell put it in his next act!Yeah, yeah...Jerry, did I tell you that Im writing a book? An autobiography.Yeah, Uncle Mac, you mentioned it.Its based on all my experiences!Thats perfect.Could you excuse me one second? Im sorry.How do you do?  Uh, Jerry Seinfeld.Oh, how do you do? Elaine Benes.Um, do you want to do this now, or do you want to wait until we get in the car?Oh no, lets do it now.All right, the whole elevator business, let me just explain-Okay.Jerry, were you goin with us?No, Im gonna take my car.Thats why I brought the wagon. Why the hell did I bring the wagon?Anyway, you know why I didnt ask you, I mean I felt so uncomfortable, and you were so annoyed in the cab.Well, Jerry, I never saw you flirt with anyone before. It was quite the spectacle.Jerry, well see you there. Bye, Elaine.Oh, bye. Good to see you.Oh, we didnt meet.Oh, Im sorry. Elaine, this is my cousin, Artie Levine. Levine. Yeah, Levine. And Im Jerry Cougar Mellencamp. Anyway, I admit it was a fairly ridiculous thing to do, but I mean, I mean, obviously we have a little problem here.Yeah, obviously.I mean, if were gonna be friends, we gotta be able to talk about other people.Couldnt agree more.Good.Good.Good.Great!Great? Where do you get great?Its great to... talk about... other people......Guys?Yeah.Uh-huh. Yeah. So, anybody specific?No. A general guy.Oh really? Elaine Marie Benes...What? No, its not a big deal.No, thats great! Thats terrific!No, we just met...Doesnt matter. Whats the young mans name? I would like to meet him.Hmmm, I dont think so.Well, what does he do? Is he an artisan, a craftsman, a labourer of some sort?Wall street.Ah, high finance. Bulls, Bears, people from Conneticut.And he happens to be pretty good lookin. All right, sir.And... hes hilarious.Now thats not fair! So where did you meet this guy?I staked out his health club.Uh huh. When youre on a stakeout, do you find its better to stand up against the wall, or kinda crouch down behind a big plant?Yknow I think that even if youve had a relationship with someone, or lets say, especially if youve had a relationship with someone and you try to become friends afterwards, its very difficult. Isnt this? Its hard. Because, you know each other so well, you know all of each others tricks. Its like two magicians, trying to entertain each other. The one goes, Look, a rabbit. The other goes, So? I believe this is your card. Look, why dont we just saw each other in half and call it a night, okay?\""
      ]
     },
     "execution_count": 25,
     "metadata": {},
     "output_type": "execute_result"
    }
   ],
   "source": [
    "seinfeld_vectors['S01E01']"
   ]
  },
  {
   "cell_type": "markdown",
   "metadata": {},
   "source": [
    "## Retreiving spaCy objects for quicker similarity scores."
   ]
  },
  {
   "cell_type": "markdown",
   "metadata": {},
   "source": [
    "One of the problems I was having with my chatbot is that everytime you need to gather word embeddings, it took way too long. Here I am creating a dictionary that will use episode IDs as keys and the associated spaCy object utilizing the BERT word embeddings as values in hopes to speed up the process."
   ]
  },
  {
   "cell_type": "code",
   "execution_count": 13,
   "metadata": {},
   "outputs": [],
   "source": [
    "# Creating spaCy object and assigning them as values to their associated episode keys.\n",
    "seinfeld_bert_spacy = {}\n",
    "for episode in episodes:\n",
    "    seinfeld_bert_spacy[episode] = nlp(episode_dialogues[episode])"
   ]
  },
  {
   "cell_type": "code",
   "execution_count": 19,
   "metadata": {},
   "outputs": [
    {
     "data": {
      "text/plain": [
       "True"
      ]
     },
     "execution_count": 19,
     "metadata": {},
     "output_type": "execute_result"
    }
   ],
   "source": [
    "seinfeld_bert_spacy['S01E01'].has_vector"
   ]
  },
  {
   "cell_type": "code",
   "execution_count": 20,
   "metadata": {},
   "outputs": [],
   "source": [
    "chat_doc = nlp('I like coffee. Can we be freinds? I like Jerry.')"
   ]
  },
  {
   "cell_type": "code",
   "execution_count": 21,
   "metadata": {},
   "outputs": [
    {
     "data": {
      "text/plain": [
       "0.7984366573068519"
      ]
     },
     "execution_count": 21,
     "metadata": {},
     "output_type": "execute_result"
    }
   ],
   "source": [
    "chat_doc.similarity(seinfeld_bert_spacy['S01E01'])"
   ]
  },
  {
   "cell_type": "code",
   "execution_count": 22,
   "metadata": {},
   "outputs": [],
   "source": [
    "with open('./data/seinfeld_bert_spacy.pkl', 'wb') as f:\n",
    "    pickle.dump(seinfeld_bert_spacy, f)"
   ]
  },
  {
   "cell_type": "code",
   "execution_count": null,
   "metadata": {},
   "outputs": [],
   "source": []
  },
  {
   "cell_type": "markdown",
   "metadata": {},
   "source": [
    "## Testing Episode Recommendation Function"
   ]
  },
  {
   "cell_type": "code",
   "execution_count": 54,
   "metadata": {},
   "outputs": [],
   "source": [
    "def recommend_episode(chat_dialogue):\n",
    "    similarity_scores = []\n",
    "    for episode in episodes:\n",
    "        doc1 = nlp(chat_dialogue)\n",
    "        doc2 = nlp(episode_dialogues[episode])\n",
    "        similarity_scores.append((episode, doc1.similarity(doc2)))\n",
    "    return similarity_scores.sort(key=lambda x: x[1], reverse = True)\n",
    "        \n",
    "        "
   ]
  },
  {
   "cell_type": "code",
   "execution_count": 55,
   "metadata": {},
   "outputs": [],
   "source": [
    "recs = recommend_episode('Hi Jerry. How are you doing? Want to get some coffee? I like you so much. Your show is my favorite')"
   ]
  },
  {
   "cell_type": "code",
   "execution_count": 58,
   "metadata": {},
   "outputs": [],
   "source": [
    "recs.sort(key=lambda x: x[1], reverse = True)"
   ]
  },
  {
   "cell_type": "code",
   "execution_count": 15,
   "metadata": {},
   "outputs": [
    {
     "ename": "NameError",
     "evalue": "name 'recs' is not defined",
     "output_type": "error",
     "traceback": [
      "\u001b[0;31m---------------------------------------------------------------------------\u001b[0m",
      "\u001b[0;31mNameError\u001b[0m                                 Traceback (most recent call last)",
      "\u001b[0;32m<ipython-input-15-f23d523f190b>\u001b[0m in \u001b[0;36m<module>\u001b[0;34m\u001b[0m\n\u001b[0;32m----> 1\u001b[0;31m \u001b[0mrecs\u001b[0m\u001b[0;34m[\u001b[0m\u001b[0;34m:\u001b[0m\u001b[0;36m5\u001b[0m\u001b[0;34m]\u001b[0m\u001b[0;34m\u001b[0m\u001b[0;34m\u001b[0m\u001b[0m\n\u001b[0m",
      "\u001b[0;31mNameError\u001b[0m: name 'recs' is not defined"
     ]
    }
   ],
   "source": [
    "recs[:5]"
   ]
  },
  {
   "cell_type": "code",
   "execution_count": null,
   "metadata": {},
   "outputs": [],
   "source": []
  }
 ],
 "metadata": {
  "kernelspec": {
   "display_name": "Python 3",
   "language": "python",
   "name": "python3"
  },
  "language_info": {
   "codemirror_mode": {
    "name": "ipython",
    "version": 3
   },
   "file_extension": ".py",
   "mimetype": "text/x-python",
   "name": "python",
   "nbconvert_exporter": "python",
   "pygments_lexer": "ipython3",
   "version": "3.7.7"
  }
 },
 "nbformat": 4,
 "nbformat_minor": 4
}
