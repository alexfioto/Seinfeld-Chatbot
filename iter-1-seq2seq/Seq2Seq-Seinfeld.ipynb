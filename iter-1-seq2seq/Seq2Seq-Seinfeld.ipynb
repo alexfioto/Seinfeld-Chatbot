{
 "cells": [
  {
   "cell_type": "markdown",
   "metadata": {},
   "source": [
    "# Seq2Seq Seinfeld Chatbot"
   ]
  },
  {
   "cell_type": "markdown",
   "metadata": {},
   "source": [
    "The architecture of the neural net was designed by Francois Chollet. "
   ]
  },
  {
   "cell_type": "code",
   "execution_count": 1,
   "metadata": {},
   "outputs": [],
   "source": [
    "# Standard imports\n",
    "import pandas as pd\n",
    "import numpy as np\n",
    "import re\n",
    "import pickle\n",
    "\n",
    "# Visualization library\n",
    "import seaborn as sns\n",
    "\n",
    "# NLP library\n",
    "from nltk.tokenize import word_tokenize"
   ]
  },
  {
   "cell_type": "markdown",
   "metadata": {},
   "source": [
    "### Data Cleaning"
   ]
  },
  {
   "cell_type": "code",
   "execution_count": 7,
   "metadata": {},
   "outputs": [
    {
     "data": {
      "text/plain": [
       "'/Users/alexander.fioto/personal_github/Seinfeld-Chatbot'"
      ]
     },
     "execution_count": 7,
     "metadata": {},
     "output_type": "execute_result"
    }
   ],
   "source": [
    "pwd"
   ]
  },
  {
   "cell_type": "code",
   "execution_count": 9,
   "metadata": {},
   "outputs": [],
   "source": [
    "# Loading in entire Seinfeld script\n",
    "df = pd.read_csv('./data/scripts.csv', index_col=0)"
   ]
  },
  {
   "cell_type": "code",
   "execution_count": 10,
   "metadata": {},
   "outputs": [
    {
     "data": {
      "text/html": [
       "<div>\n",
       "<style scoped>\n",
       "    .dataframe tbody tr th:only-of-type {\n",
       "        vertical-align: middle;\n",
       "    }\n",
       "\n",
       "    .dataframe tbody tr th {\n",
       "        vertical-align: top;\n",
       "    }\n",
       "\n",
       "    .dataframe thead th {\n",
       "        text-align: right;\n",
       "    }\n",
       "</style>\n",
       "<table border=\"1\" class=\"dataframe\">\n",
       "  <thead>\n",
       "    <tr style=\"text-align: right;\">\n",
       "      <th></th>\n",
       "      <th>Character</th>\n",
       "      <th>Dialogue</th>\n",
       "      <th>EpisodeNo</th>\n",
       "      <th>SEID</th>\n",
       "      <th>Season</th>\n",
       "    </tr>\n",
       "  </thead>\n",
       "  <tbody>\n",
       "    <tr>\n",
       "      <th>0</th>\n",
       "      <td>JERRY</td>\n",
       "      <td>Do you know what this is all about? Do you kno...</td>\n",
       "      <td>1.0</td>\n",
       "      <td>S01E01</td>\n",
       "      <td>1.0</td>\n",
       "    </tr>\n",
       "    <tr>\n",
       "      <th>1</th>\n",
       "      <td>JERRY</td>\n",
       "      <td>(pointing at Georges shirt) See, to me, that b...</td>\n",
       "      <td>1.0</td>\n",
       "      <td>S01E01</td>\n",
       "      <td>1.0</td>\n",
       "    </tr>\n",
       "    <tr>\n",
       "      <th>2</th>\n",
       "      <td>GEORGE</td>\n",
       "      <td>Are you through?</td>\n",
       "      <td>1.0</td>\n",
       "      <td>S01E01</td>\n",
       "      <td>1.0</td>\n",
       "    </tr>\n",
       "    <tr>\n",
       "      <th>3</th>\n",
       "      <td>JERRY</td>\n",
       "      <td>You do of course try on, when you buy?</td>\n",
       "      <td>1.0</td>\n",
       "      <td>S01E01</td>\n",
       "      <td>1.0</td>\n",
       "    </tr>\n",
       "    <tr>\n",
       "      <th>4</th>\n",
       "      <td>GEORGE</td>\n",
       "      <td>Yes, it was purple, I liked it, I dont actuall...</td>\n",
       "      <td>1.0</td>\n",
       "      <td>S01E01</td>\n",
       "      <td>1.0</td>\n",
       "    </tr>\n",
       "  </tbody>\n",
       "</table>\n",
       "</div>"
      ],
      "text/plain": [
       "  Character                                           Dialogue  EpisodeNo  \\\n",
       "0     JERRY  Do you know what this is all about? Do you kno...        1.0   \n",
       "1     JERRY  (pointing at Georges shirt) See, to me, that b...        1.0   \n",
       "2    GEORGE                                   Are you through?        1.0   \n",
       "3     JERRY             You do of course try on, when you buy?        1.0   \n",
       "4    GEORGE  Yes, it was purple, I liked it, I dont actuall...        1.0   \n",
       "\n",
       "     SEID  Season  \n",
       "0  S01E01     1.0  \n",
       "1  S01E01     1.0  \n",
       "2  S01E01     1.0  \n",
       "3  S01E01     1.0  \n",
       "4  S01E01     1.0  "
      ]
     },
     "execution_count": 10,
     "metadata": {},
     "output_type": "execute_result"
    }
   ],
   "source": [
    "df.head()"
   ]
  },
  {
   "cell_type": "markdown",
   "metadata": {},
   "source": [
    "The dialogue has stage directions included, indicated by parentheses. I have decided to remove them to just model on pure dialogue."
   ]
  },
  {
   "cell_type": "code",
   "execution_count": 11,
   "metadata": {},
   "outputs": [],
   "source": [
    "# Remove parentheses\n",
    "df['clean_dialogue'] = df['Dialogue'].str.replace(r\"\\(.*\\)\",\"\")"
   ]
  },
  {
   "cell_type": "code",
   "execution_count": 12,
   "metadata": {},
   "outputs": [
    {
     "data": {
      "text/plain": [
       "Character          0\n",
       "Dialogue          10\n",
       "EpisodeNo          0\n",
       "SEID               0\n",
       "Season             0\n",
       "clean_dialogue    10\n",
       "dtype: int64"
      ]
     },
     "execution_count": 12,
     "metadata": {},
     "output_type": "execute_result"
    }
   ],
   "source": [
    "# Seeing there is 10 dialogue cells that are NaNs\n",
    "df.isna().sum()"
   ]
  },
  {
   "cell_type": "code",
   "execution_count": 13,
   "metadata": {},
   "outputs": [],
   "source": [
    "# Removing NaNs\n",
    "df.dropna(inplace=True)"
   ]
  },
  {
   "cell_type": "code",
   "execution_count": 14,
   "metadata": {},
   "outputs": [],
   "source": [
    "# Calculating the length of each line of dialogue\n",
    "df['dialogue_len'] = df['Dialogue'].apply(lambda x: len(x))"
   ]
  },
  {
   "cell_type": "code",
   "execution_count": 15,
   "metadata": {},
   "outputs": [],
   "source": [
    "# Calculating the word count of each line of dialogue\n",
    "df['wordcount'] = df['clean_dialogue'].apply(lambda x: len(word_tokenize(x)))"
   ]
  },
  {
   "cell_type": "code",
   "execution_count": 16,
   "metadata": {},
   "outputs": [
    {
     "data": {
      "image/png": "[encoded data removed]",
      "text/plain": [
       "<Figure size 432x288 with 1 Axes>"
      ]
     },
     "metadata": {
      "needs_background": "light"
     },
     "output_type": "display_data"
    }
   ],
   "source": [
    "# Showing distribution of dialogue length in each line of dialogue\n",
    "sns.histplot(data=df, x='dialogue_len');"
   ]
  },
  {
   "cell_type": "code",
   "execution_count": 17,
   "metadata": {},
   "outputs": [
    {
     "data": {
      "image/png": "[encoded data removed]",
      "text/plain": [
       "<Figure size 432x288 with 1 Axes>"
      ]
     },
     "metadata": {
      "needs_background": "light"
     },
     "output_type": "display_data"
    }
   ],
   "source": [
    "# Showing the distribution of word count in each line of dialogue\n",
    "sns.histplot(data=df, x='wordcount');"
   ]
  },
  {
   "cell_type": "markdown",
   "metadata": {},
   "source": [
    "There are a few lines of dialogue that are quite long! Most of these are probably Jerry's monologues at the beginning of the episodes. I will limit the length of lines to aid training. "
   ]
  },
  {
   "cell_type": "code",
   "execution_count": 18,
   "metadata": {},
   "outputs": [],
   "source": [
    "# Saving dataframe with dialogue length less than 50 characters\n",
    "df = df[df['dialogue_len']< 50]"
   ]
  },
  {
   "cell_type": "markdown",
   "metadata": {},
   "source": [
    "### Data Preparation"
   ]
  },
  {
   "cell_type": "markdown",
   "metadata": {},
   "source": [
    "In this section the data is prepared for model. We need the data to be a list of lists with back and forth dialogue. "
   ]
  },
  {
   "cell_type": "code",
   "execution_count": 19,
   "metadata": {},
   "outputs": [
    {
     "data": {
      "text/plain": [
       "['Are you through?',\n",
       " 'You do of course try on, when you buy?',\n",
       " 'Oh, you dont recall?',\n",
       " 'Mr. Seinfeld. Mr. Costanza.',\n",
       " 'How come youre not doin the second show tomorrow?']"
      ]
     },
     "execution_count": 19,
     "metadata": {},
     "output_type": "execute_result"
    }
   ],
   "source": [
    "# Creating a list of all dialogue\n",
    "dialogue_list = list(df['clean_dialogue'])\n",
    "dialogue_list[:5]"
   ]
  },
  {
   "cell_type": "code",
   "execution_count": 20,
   "metadata": {},
   "outputs": [],
   "source": [
    "# Data preparation function\n",
    "def seq_prep(dialogue):\n",
    "    '''\n",
    "    This function takes in a list of dialogue and returns a list\n",
    "    of lists in the appropriate format for our seq2seq model.\n",
    "    '''\n",
    "    dialogue_combos = []\n",
    "    for i in range(len(dialogue)+ 1):\n",
    "        try:\n",
    "            dialogue_combos.append([dialogue[i], dialogue[i+1]])\n",
    "        except:\n",
    "            pass\n",
    "    return dialogue_combos"
   ]
  },
  {
   "cell_type": "code",
   "execution_count": 21,
   "metadata": {},
   "outputs": [
    {
     "data": {
      "text/plain": [
       "[['Are you through?', 'You do of course try on, when you buy?'],\n",
       " ['You do of course try on, when you buy?', 'Oh, you dont recall?'],\n",
       " ['Oh, you dont recall?', 'Mr. Seinfeld. Mr. Costanza.'],\n",
       " ['Mr. Seinfeld. Mr. Costanza.',\n",
       "  'How come youre not doin the second show tomorrow?'],\n",
       " ['How come youre not doin the second show tomorrow?',\n",
       "  'Well, theres this uh, woman might be comin in.']]"
      ]
     },
     "execution_count": 21,
     "metadata": {},
     "output_type": "execute_result"
    }
   ],
   "source": [
    "# Calling the function on the dialogue list\n",
    "data = seq_prep(dialogue_list)\n",
    "\n",
    "# Examining the first 5 rows\n",
    "data[:5]"
   ]
  },
  {
   "cell_type": "code",
   "execution_count": 22,
   "metadata": {},
   "outputs": [],
   "source": [
    "# Saving the prepared data as a pickle file\n",
    "with open('./data/seq2seq_data.pkl', 'wb') as f:\n",
    "    pickle.dump(data, f)"
   ]
  },
  {
   "cell_type": "code",
   "execution_count": 122,
   "metadata": {},
   "outputs": [],
   "source": [
    "# Building empty lists to hold sentences\n",
    "input_docs = []\n",
    "target_docs = []\n",
    "# Building empty vocabulary sets\n",
    "input_tokens = set()\n",
    "target_tokens = set()\n",
    "\n",
    "# Setting the amount of data points to use\n",
    "n = 10000\n",
    "\n",
    "for line in data[:n]:\n",
    "    # Defining an input document and a target document\n",
    "    input_doc, target_doc = line[0], line[1]\n",
    "    \n",
    "    # Appending each input sentence to input_docs\n",
    "    input_docs.append(input_doc)\n",
    "    \n",
    "    # Formatting target documents\n",
    "    # Splitting words from punctuation  \n",
    "    target_doc = \" \".join(re.findall(r\"[\\w']+|[^\\s\\w]\", target_doc))\n",
    "    # Adding <START> and <END> tags\n",
    "    target_doc = '<START> ' + target_doc + ' <END>'\n",
    "    # Appending each formated target to target documents\n",
    "    target_docs.append(target_doc)\n",
    "  \n",
    "    # Splitting each sentence into words and adding to vocabulary\n",
    "    for token in re.findall(r\"[\\w']+|[^\\s\\w]\", input_doc):\n",
    "        if token not in input_tokens:\n",
    "            input_tokens.add(token)\n",
    "    \n",
    "    for token in target_doc.split():\n",
    "        if token not in target_tokens:\n",
    "            target_tokens.add(token)\n",
    "\n"
   ]
  },
  {
   "cell_type": "code",
   "execution_count": 123,
   "metadata": {},
   "outputs": [
    {
     "name": "stdout",
     "output_type": "stream",
     "text": [
      "Are you through?\n",
      "<START> You do of course try on , when you buy ? <END>\n"
     ]
    }
   ],
   "source": [
    "print(input_docs[0])\n",
    "print(target_docs[0])"
   ]
  },
  {
   "cell_type": "code",
   "execution_count": 124,
   "metadata": {},
   "outputs": [],
   "source": [
    "# Creating a sorted list of all input tokens and target tokens\n",
    "input_tokens = sorted(list(input_tokens))\n",
    "target_tokens = sorted(list(target_tokens))\n",
    "\n",
    "# Saving the length of vocabulary sets as variables. Encoder and Decoder\n",
    "num_encoder_tokens = len(input_tokens)\n",
    "num_decoder_tokens = len(target_tokens)\n",
    "\n",
    "# Finding the maximum length of an input sentence and target sentence\n",
    "max_encoder_seq_length = max([len(re.findall(r\"[\\w']+|[^\\s\\w]\", input_doc)) for input_doc in input_docs])\n",
    "max_decoder_seq_length = max([len(re.findall(r\"[\\w']+|[^\\s\\w]\", target_doc)) for target_doc in target_docs])"
   ]
  },
  {
   "cell_type": "code",
   "execution_count": 125,
   "metadata": {},
   "outputs": [
    {
     "name": "stdout",
     "output_type": "stream",
     "text": [
      "Number of Encoder Tokens: 4627\n",
      "Number of Decoder Tokens: 4629\n",
      "Maximum Encoder Sequence Length: 21\n",
      "Maximum Decoder Sequence Length: 27\n"
     ]
    }
   ],
   "source": [
    "print(f'Number of Encoder Tokens: {num_encoder_tokens}')\n",
    "print(f'Number of Decoder Tokens: {num_decoder_tokens}')\n",
    "print(f'Maximum Encoder Sequence Length: {max_encoder_seq_length}')\n",
    "print(f'Maximum Decoder Sequence Length: {max_decoder_seq_length}')\n",
    "\n"
   ]
  },
  {
   "cell_type": "code",
   "execution_count": 126,
   "metadata": {},
   "outputs": [],
   "source": [
    "# Creating four dictionaries\n",
    "\n",
    "input_features_dict = dict(\n",
    "    [(token, i) for i, token in enumerate(input_tokens)])\n",
    "target_features_dict = dict(\n",
    "    [(token, i) for i, token in enumerate(target_tokens)])\n",
    "\n",
    "# Creating the reverse \n",
    "reverse_input_features_dict = dict(\n",
    "    (i, token) for token, i in input_features_dict.items())\n",
    "reverse_target_features_dict = dict(\n",
    "    (i, token) for token, i in target_features_dict.items())"
   ]
  },
  {
   "cell_type": "code",
   "execution_count": 127,
   "metadata": {},
   "outputs": [],
   "source": [
    "# Creating empty matricies for input data\n",
    "\n",
    "encoder_input_data = np.zeros(\n",
    "    (len(input_docs), max_encoder_seq_length, num_encoder_tokens),\n",
    "    dtype='float32')\n",
    "decoder_input_data = np.zeros(\n",
    "    (len(input_docs), max_decoder_seq_length, num_decoder_tokens),\n",
    "    dtype='float32')\n",
    "decoder_target_data = np.zeros(\n",
    "    (len(input_docs), max_decoder_seq_length, num_decoder_tokens),\n",
    "    dtype='float32')"
   ]
  },
  {
   "cell_type": "code",
   "execution_count": 128,
   "metadata": {},
   "outputs": [
    {
     "name": "stdout",
     "output_type": "stream",
     "text": [
      "Encoder Input Data Shape: (10000, 21, 4627)\n",
      "Decoder Input Data Shape: (10000, 27, 4629)\n",
      "Decoder Target Data Shape: (10000, 27, 4629)\n"
     ]
    }
   ],
   "source": [
    "print(f'Encoder Input Data Shape: {encoder_input_data.shape}')\n",
    "print(f'Decoder Input Data Shape: {decoder_input_data.shape}')\n",
    "print(f'Decoder Target Data Shape: {decoder_target_data.shape}')"
   ]
  },
  {
   "cell_type": "code",
   "execution_count": 129,
   "metadata": {},
   "outputs": [],
   "source": [
    "# This block of code sets up our data for input to the neural net.\n",
    "\n",
    "for line, (input_doc, target_doc) in enumerate(zip(input_docs, target_docs)):\n",
    "\n",
    "    for timestep, token in enumerate(re.findall(r\"[\\w']+|[^\\s\\w]\", input_doc)):\n",
    "        # Assigning 1.0 for the current line, timestep, & word in encoder_input_data:\n",
    "        encoder_input_data[line, timestep, input_features_dict[token]] = 1.0\n",
    "        # Potential Conditional Statement\n",
    "\n",
    "    for timestep, token in enumerate(target_doc.split()):\n",
    "        # Assigning 1.0 for same in decoder_input_data\n",
    "        decoder_input_data[line, timestep, target_features_dict[token]] = 1.0\n",
    "        if timestep > 0:\n",
    "            \n",
    "            # Setting the decoder target data for 1 previous timestep\n",
    "            decoder_target_data[line, timestep - 1, target_features_dict[token]] = 1.0"
   ]
  },
  {
   "cell_type": "markdown",
   "metadata": {},
   "source": [
    "## Neural Net Modeling"
   ]
  },
  {
   "cell_type": "code",
   "execution_count": 130,
   "metadata": {},
   "outputs": [],
   "source": [
    "from tensorflow import keras\n",
    "\n",
    "from tensorflow.keras.layers import Input, LSTM, Dense, Masking\n",
    "from tensorflow.keras.models import Model\n",
    "from tensorflow.keras.callbacks import EarlyStopping\n",
    "import os\n",
    "#os.environ['KMP_DUPLICATE_LIB_OK']='True'\n",
    "\n",
    "latent_dim = 256\n",
    "batch_size = 56\n",
    "epochs = 250\n",
    "\n",
    "# Encoder training setup\n",
    "encoder_inputs = Input(shape=(None, num_encoder_tokens))\n",
    "\n",
    "encoder_lstm = LSTM(latent_dim, return_state=True)\n",
    "encoder_outputs, state_h, state_c = encoder_lstm(encoder_inputs) \n",
    "encoder_states = [state_h, state_c]\n",
    "\n",
    "# Decoder training setup:\n",
    "decoder_inputs = Input(shape=(None, num_decoder_tokens))\n",
    "decoder_lstm = LSTM(latent_dim, return_sequences=True, return_state=True)\n",
    "decoder_outputs,_ ,_ = decoder_lstm(decoder_inputs, initial_state=encoder_states)\n",
    "decoder_dense = Dense(num_decoder_tokens, activation='softmax')\n",
    "decoder_outputs = decoder_dense(decoder_outputs)"
   ]
  },
  {
   "cell_type": "markdown",
   "metadata": {},
   "source": [
    "### The code below was used to train my training model. Implemented in Google Colab"
   ]
  },
  {
   "cell_type": "code",
   "execution_count": null,
   "metadata": {},
   "outputs": [
    {
     "name": "stdout",
     "output_type": "stream",
     "text": [
      "Epoch 1/250\n",
      "143/143 [==============================] - 115s 803ms/step - loss: 1.3982 - accuracy: 0.0455 - val_loss: 1.3334 - val_accuracy: 0.0484\n",
      "Epoch 2/250\n",
      "143/143 [==============================] - 109s 760ms/step - loss: 1.2866 - accuracy: 0.0595 - val_loss: 1.2701 - val_accuracy: 0.0692\n",
      "Epoch 3/250\n",
      "143/143 [==============================] - 107s 751ms/step - loss: 1.2165 - accuracy: 0.0722 - val_loss: 1.2246 - val_accuracy: 0.0726\n",
      "Epoch 4/250\n",
      "143/143 [==============================] - 104s 725ms/step - loss: 1.1654 - accuracy: 0.0781 - val_loss: 1.1991 - val_accuracy: 0.0743\n",
      "Epoch 5/250\n",
      "143/143 [==============================] - 103s 721ms/step - loss: 1.1266 - accuracy: 0.0821 - val_loss: 1.1646 - val_accuracy: 0.0803\n",
      "Epoch 6/250\n",
      "143/143 [==============================] - 104s 725ms/step - loss: 1.0950 - accuracy: 0.0980 - val_loss: 1.1472 - val_accuracy: 0.0860\n",
      "Epoch 7/250\n",
      "143/143 [==============================] - 104s 729ms/step - loss: 1.0681 - accuracy: 0.1510 - val_loss: 1.1361 - val_accuracy: 0.0853\n",
      "Epoch 8/250\n",
      "143/143 [==============================] - 102s 717ms/step - loss: 1.0455 - accuracy: 0.1217 - val_loss: 1.1213 - val_accuracy: 0.2200\n",
      "Epoch 9/250\n",
      "143/143 [==============================] - 103s 723ms/step - loss: 1.0244 - accuracy: 0.1653 - val_loss: 1.1234 - val_accuracy: 0.1560\n",
      "Epoch 10/250\n",
      "143/143 [==============================] - 102s 713ms/step - loss: 1.0051 - accuracy: 0.2680 - val_loss: 1.1082 - val_accuracy: 0.1687\n",
      "Epoch 11/250\n",
      "143/143 [==============================] - 103s 723ms/step - loss: 0.9866 - accuracy: 0.2322 - val_loss: 1.1061 - val_accuracy: 0.3315\n",
      "Epoch 12/250\n",
      "143/143 [==============================] - 105s 734ms/step - loss: 0.9694 - accuracy: 0.3723 - val_loss: 1.1060 - val_accuracy: 0.3898\n",
      "Epoch 13/250\n",
      "143/143 [==============================] - 104s 725ms/step - loss: 0.9533 - accuracy: 0.2819 - val_loss: 1.1060 - val_accuracy: 0.1656\n",
      "Epoch 14/250\n",
      "143/143 [==============================] - 104s 727ms/step - loss: 0.9368 - accuracy: 0.2646 - val_loss: 1.1065 - val_accuracy: 0.2331\n",
      "Epoch 15/250\n",
      "143/143 [==============================] - 104s 726ms/step - loss: 0.9203 - accuracy: 0.3068 - val_loss: 1.1114 - val_accuracy: 0.2020\n",
      "Epoch 16/250\n",
      "143/143 [==============================] - 103s 722ms/step - loss: 0.9044 - accuracy: 0.2196 - val_loss: 1.1111 - val_accuracy: 0.1353\n",
      "Epoch 17/250\n",
      "143/143 [==============================] - 103s 723ms/step - loss: 0.8882 - accuracy: 0.2140 - val_loss: 1.1083 - val_accuracy: 0.2074\n",
      "Epoch 18/250\n",
      "143/143 [==============================] - 104s 724ms/step - loss: 0.8723 - accuracy: 0.1848 - val_loss: 1.1216 - val_accuracy: 0.1054\n",
      "Epoch 19/250\n",
      " 89/143 [=================>............] - ETA: 36s - loss: 0.8521 - accuracy: 0.1954"
     ]
    }
   ],
   "source": [
    "callback = EarlyStopping(monitor='val_accuracy', patience=3)\n",
    "\n",
    "training_model = Model([encoder_inputs, decoder_inputs], decoder_outputs)\n",
    "\n",
    "training_model.compile(optimizer='rmsprop', loss='categorical_crossentropy', metrics=['accuracy'], sample_weight_mode='temporal')\n",
    "\n",
    "history = training_model.fit([encoder_input_data, decoder_input_data], decoder_target_data, \n",
    "                    batch_size = batch_size, \n",
    "                    epochs = epochs, \n",
    "                    validation_split = 0.2)\n"
   ]
  },
  {
   "cell_type": "code",
   "execution_count": 117,
   "metadata": {},
   "outputs": [
    {
     "data": {
      "text/plain": [
       "'/Users/alexander.fioto/personal_github/Seinfeld-Chatbot'"
      ]
     },
     "execution_count": 117,
     "metadata": {},
     "output_type": "execute_result"
    }
   ],
   "source": [
    "pwd"
   ]
  },
  {
   "cell_type": "code",
   "execution_count": 116,
   "metadata": {},
   "outputs": [],
   "source": [
    "training_model.save('training_model.h5')"
   ]
  },
  {
   "cell_type": "code",
   "execution_count": 101,
   "metadata": {},
   "outputs": [],
   "source": [
    "import matplotlib.pyplot as plt"
   ]
  },
  {
   "cell_type": "code",
   "execution_count": 118,
   "metadata": {},
   "outputs": [
    {
     "data": {
      "image/png": "[encoded data removed]",
      "text/plain": [
       "<Figure size 432x288 with 1 Axes>"
      ]
     },
     "metadata": {
      "needs_background": "light"
     },
     "output_type": "display_data"
    }
   ],
   "source": [
    "plt.plot(history.history['accuracy'], label='Train')\n",
    "plt.plot(history.history['val_accuracy'], label='Validation')\n",
    "plt.legend()\n",
    "plt.title('Accuracy');"
   ]
  },
  {
   "cell_type": "code",
   "execution_count": 119,
   "metadata": {},
   "outputs": [
    {
     "data": {
      "image/png": "[encoded data removed]",
      "text/plain": [
       "<Figure size 432x288 with 1 Axes>"
      ]
     },
     "metadata": {
      "needs_background": "light"
     },
     "output_type": "display_data"
    }
   ],
   "source": [
    "plt.plot(history.history['loss'], label='Train')\n",
    "plt.plot(history.history['val_loss'], label='Validation')\n",
    "plt.legend()\n",
    "plt.title('Loss');"
   ]
  },
  {
   "cell_type": "code",
   "execution_count": 106,
   "metadata": {},
   "outputs": [],
   "source": [
    "from tensorflow.keras.models import Model, load_model\n",
    "\n",
    "\n",
    "# training_model = load_model('training_model.h5')\n",
    "\n",
    "# encoder_inputs = training_model.input[0]\n",
    "# encoder_outputs, state_h_enc, state_c_enc = training_model.layers[2].output\n",
    "# encoder_states = [state_h_enc, state_c_enc]\n",
    "\n",
    "encoder_model = Model(encoder_inputs, encoder_states)\n",
    "\n",
    "latent_dim = 256\n",
    "decoder_state_input_hidden = Input(shape=(latent_dim,))\n",
    "decoder_state_input_cell = Input(shape=(latent_dim,))\n",
    "decoder_states_inputs = [decoder_state_input_hidden, decoder_state_input_cell]\n",
    "decoder_outputs, state_hidden, state_cell = decoder_lstm(decoder_inputs, initial_state=decoder_states_inputs)\n",
    "decoder_states = [state_hidden, state_cell]\n",
    "decoder_outputs = decoder_dense(decoder_outputs)\n",
    "\n",
    "decoder_model = Model([decoder_inputs] + decoder_states_inputs, [decoder_outputs] + decoder_states)"
   ]
  },
  {
   "cell_type": "code",
   "execution_count": 107,
   "metadata": {},
   "outputs": [],
   "source": [
    "def string_to_matrix(user_input):\n",
    "    '''This function takes in a string and outputs the corresponding matrix'''\n",
    "    tokens = re.findall(r\"[\\w']+|[^\\s\\w]\", user_input)\n",
    "    user_input_matrix = np.zeros((1, max_encoder_seq_length, num_encoder_tokens), dtype='float32')\n",
    "    for timestep, token in enumerate(tokens):\n",
    "        if token in input_features_dict:\n",
    "            user_input_matrix[0, timestep, input_features_dict[token]] = 1.\n",
    "    return user_input_matrix"
   ]
  },
  {
   "cell_type": "code",
   "execution_count": 108,
   "metadata": {},
   "outputs": [],
   "source": [
    "def decode_sequence(test_input):\n",
    "    '''This function takes in a sentence and returns the decoded sentence'''\n",
    "    \n",
    "    # Encode the input as state vectors.\n",
    "    states_value = encoder_model.predict(string_to_matrix(test_input))\n",
    "\n",
    "    # Generate empty target sequence of length 1.\n",
    "    target_seq = np.zeros((1, 1, num_decoder_tokens))\n",
    "    # Populate the first token of target sequence with the start token.\n",
    "    target_seq[0, 0, target_features_dict['<START>']] = 1.\n",
    "\n",
    "    # Sampling loop for a batch of sequences\n",
    "    decoded_sentence = ''\n",
    "\n",
    "    stop_condition = False\n",
    "    while not stop_condition:\n",
    "        # Run the decoder model to get possible output tokens (with probabilities) & states\n",
    "        output_tokens, hidden_state, cell_state = decoder_model.predict([target_seq] + states_value)\n",
    "\n",
    "        # Choose token with highest probability and append it to decoded sentence\n",
    "        sampled_token_index = np.argmax(output_tokens[0, -1, :])\n",
    "        sampled_token = reverse_target_features_dict[sampled_token_index]\n",
    "        decoded_sentence += \" \" + sampled_token\n",
    "\n",
    "        # Exit condition: either hit max length or find stop token.\n",
    "        if (sampled_token == '<END>' or len(decoded_sentence) > max_decoder_seq_length):\n",
    "            stop_condition = True\n",
    "\n",
    "        # Update the target sequence (of length 1).\n",
    "        target_seq = np.zeros((1, 1, num_decoder_tokens))\n",
    "        target_seq[0, 0, sampled_token_index] = 1.\n",
    "\n",
    "        # Update states\n",
    "        states_value = [hidden_state, cell_state]\n",
    "\n",
    "    return decoded_sentence"
   ]
  },
  {
   "cell_type": "code",
   "execution_count": 109,
   "metadata": {},
   "outputs": [
    {
     "data": {
      "text/plain": [
       "' Oh , I know . <END>'"
      ]
     },
     "execution_count": 109,
     "metadata": {},
     "output_type": "execute_result"
    }
   ],
   "source": [
    "# Example decoded sentence\n",
    "decode_sequence('How are you?')"
   ]
  },
  {
   "cell_type": "code",
   "execution_count": 120,
   "metadata": {},
   "outputs": [],
   "source": [
    "class ChatBot:\n",
    "    '''\n",
    "    Utilizing the neural network architecture, this class employs a the Seinfeld Seq2Seq Chatbot. \n",
    "    '''\n",
    "    negative_responses = (\"no\", \"nope\", \"nah\", \"naw\", \"not a chance\", \"sorry\")\n",
    "\n",
    "\n",
    "    exit_commands = (\"quit\", \"pause\", \"exit\", \"goodbye\", \"bye\", \"later\", \"stop\", 'end')\n",
    "\n",
    "    def start_chat(self):\n",
    "        user_response = input(\"Hi, I'm a chatbot trained on dialog from Seinfeld. Would you like to chat with me?\\n\")\n",
    "    \n",
    "        if user_response.lower() in self.negative_responses:\n",
    "            print(\"Ok, have a great day!\")\n",
    "            return\n",
    "    \n",
    "        user_response = input('Great!')\n",
    "    \n",
    "        self.chat(user_response)\n",
    "  \n",
    "    def chat(self, reply):\n",
    "        while not self.make_exit(reply):\n",
    "            reply = input(self.generate_response(reply))\n",
    "    \n",
    "\n",
    "    def string_to_matrix(self, user_input):\n",
    "        tokens = re.findall(r\"[\\w']+|[^\\s\\w]\", user_input)\n",
    "        user_input_matrix = np.zeros((1, max_encoder_seq_length, num_encoder_tokens), dtype='float32')\n",
    "        for timestep, token in enumerate(tokens):\n",
    "            if token in input_features_dict:\n",
    "                user_input_matrix[0, timestep, input_features_dict[token]] = 1.\n",
    "\n",
    "        return user_input_matrix\n",
    "\n",
    "    def generate_response(self, user_input):\n",
    "        input_matrix = self.string_to_matrix(user_input)\n",
    "        states_value = encoder_model.predict(input_matrix)\n",
    "        target_seq = np.zeros((1, 1, num_decoder_tokens))\n",
    "        target_seq[0, 0, target_features_dict['<START>']] = 1.0\n",
    "    \n",
    "        chatbot_response = ''\n",
    "\n",
    "        stop_condition = False\n",
    "\n",
    "        while not stop_condition:\n",
    "\n",
    "            output_tokens, hidden_state, cell_state = decoder_model.predict([target_seq] + states_value)\n",
    "\n",
    "            sampled_token_index = np.argmax(output_tokens[0, -1, :])\n",
    "            sampled_token = reverse_target_features_dict[sampled_token_index]\n",
    "            chatbot_response += \" \" + sampled_token\n",
    "\n",
    "            if (sampled_token == '<END>' or len(chatbot_response) > max_decoder_seq_length):\n",
    "                stop_condition = True\n",
    "\n",
    "                target_seq = np.zeros((1, 1, num_decoder_tokens))\n",
    "                target_seq[0, 0, sampled_token_index] = 1.\n",
    "\n",
    "            if '<END>' in chatbot_response:\n",
    "                chatbot_response = chatbot_response.replace('<END>', '')\n",
    "\n",
    "            punctuations = [' ?', ' .', ' !', ' ,']            \n",
    "            for punctuation in punctuations:\n",
    "                if punctuation in chatbot_response:\n",
    "                    chatbot_response = chatbot_response.replace(punctuation, punctuation[-1])\n",
    "\n",
    "\n",
    "            states_value = [hidden_state, cell_state]\n",
    "\n",
    "        return chatbot_response\n",
    "  \n",
    "    def make_exit(self, reply):\n",
    "        for exit_command in self.exit_commands:\n",
    "            if exit_command in reply:\n",
    "                print(\"Ok, have a great day!\")\n",
    "                return True\n",
    "            \n",
    "        return False"
   ]
  },
  {
   "cell_type": "code",
   "execution_count": 121,
   "metadata": {},
   "outputs": [
    {
     "name": "stdin",
     "output_type": "stream",
     "text": [
      "Hi, I'm a chatbot trained on dialog from Seinfeld. Would you like to chat with me?\n",
      " Yes\n",
      "Great! How are you\n",
      " Oh, I. I.................. This is bad\n",
      " Oh, I. I. that............ stop\n"
     ]
    },
    {
     "name": "stdout",
     "output_type": "stream",
     "text": [
      "Ok, have a great day!\n"
     ]
    }
   ],
   "source": [
    "# Chat!\n",
    "chat = ChatBot()\n",
    "chat.start_chat()"
   ]
  },
  {
   "cell_type": "code",
   "execution_count": null,
   "metadata": {},
   "outputs": [],
   "source": []
  }
 ],
 "metadata": {
  "kernelspec": {
   "display_name": "Python 3",
   "language": "python",
   "name": "python3"
  },
  "language_info": {
   "codemirror_mode": {
    "name": "ipython",
    "version": 3
   },
   "file_extension": ".py",
   "mimetype": "text/x-python",
   "name": "python",
   "nbconvert_exporter": "python",
   "pygments_lexer": "ipython3",
   "version": "3.7.7"
  }
 },
 "nbformat": 4,
 "nbformat_minor": 4
}
