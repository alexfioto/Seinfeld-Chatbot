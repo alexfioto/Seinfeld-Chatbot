{
 "cells": [
  {
   "cell_type": "markdown",
   "metadata": {},
   "source": [
    "# Light-Weight Embeddings Notebook\n"
   ]
  },
  {
   "cell_type": "code",
   "execution_count": 3,
   "metadata": {},
   "outputs": [
    {
     "data": {
      "application/javascript": [
       "document.title = 'Github'\n"
      ],
      "text/plain": [
       "<IPython.core.display.Javascript object>"
      ]
     },
     "metadata": {},
     "output_type": "display_data"
    }
   ],
   "source": [
    "%%javascript\n",
    "document.title = 'Github'"
   ]
  },
  {
   "cell_type": "markdown",
   "metadata": {},
   "source": [
    "In this notebook, I'm experimenting with the relatively new python library: sentence transformers. More information can be found at https://www.sbert.net/"
   ]
  },
  {
   "cell_type": "code",
   "execution_count": 3,
   "metadata": {},
   "outputs": [],
   "source": [
    "# !pip install sentence_transformers"
   ]
  },
  {
   "cell_type": "code",
   "execution_count": 4,
   "metadata": {},
   "outputs": [],
   "source": [
    "import pickle\n",
    "from gensim.summarization import summarize\n",
    "from sentence_transformers import SentenceTransformer\n",
    "from sklearn.metrics.pairwise import cosine_similarity"
   ]
  },
  {
   "cell_type": "markdown",
   "metadata": {},
   "source": [
    "Here are some test sentences"
   ]
  },
  {
   "cell_type": "code",
   "execution_count": 5,
   "metadata": {},
   "outputs": [],
   "source": [
    "test1 = 'I love to go on dates. I am just looking for a woman. Dating is really tough though!'\n",
    "test2 = 'I am looking for a man. I like dating but it can be hard sometimes'"
   ]
  },
  {
   "cell_type": "markdown",
   "metadata": {},
   "source": [
    "Instantiating a Sentence Transformer model with distilbert-base-nli-mean-tokens"
   ]
  },
  {
   "cell_type": "markdown",
   "metadata": {},
   "source": [
    "Testing different models"
   ]
  },
  {
   "cell_type": "code",
   "execution_count": 69,
   "metadata": {},
   "outputs": [],
   "source": [
    "roberta_model = SentenceTransformer('stsb-roberta-large')\n",
    "distilbert_model = SentenceTransformer('stsb-distilbert-base')"
   ]
  },
  {
   "cell_type": "code",
   "execution_count": 70,
   "metadata": {},
   "outputs": [],
   "source": [
    "test1_emb = roberta_model.encode(test1).reshape(1,-1)\n",
    "test2_emb = roberta_model.encode(test2).reshape(1,-1)"
   ]
  },
  {
   "cell_type": "code",
   "execution_count": 71,
   "metadata": {},
   "outputs": [
    {
     "data": {
      "text/plain": [
       "(1, 1024)"
      ]
     },
     "execution_count": 71,
     "metadata": {},
     "output_type": "execute_result"
    }
   ],
   "source": [
    "test1_emb.shape"
   ]
  },
  {
   "cell_type": "code",
   "execution_count": 72,
   "metadata": {},
   "outputs": [
    {
     "data": {
      "text/plain": [
       "0.8181629"
      ]
     },
     "execution_count": 72,
     "metadata": {},
     "output_type": "execute_result"
    }
   ],
   "source": [
    "cosine_similarity(test1_emb, test2_emb)[0][0]"
   ]
  },
  {
   "cell_type": "code",
   "execution_count": 73,
   "metadata": {},
   "outputs": [],
   "source": [
    "# Helper function\n",
    "def compare(a, b, model = roberta_model):\n",
    "    emb1 = model.encode(a).reshape(1,-1)\n",
    "    emb2 = model.encode(b).reshape(1,-1)\n",
    "    return cosine_similarity(emb1, emb2)[0][0]"
   ]
  },
  {
   "cell_type": "code",
   "execution_count": 74,
   "metadata": {},
   "outputs": [
    {
     "data": {
      "text/plain": [
       "0.93388546"
      ]
     },
     "execution_count": 74,
     "metadata": {},
     "output_type": "execute_result"
    }
   ],
   "source": [
    "compare('I like chicken', 'I like chicken wings')"
   ]
  },
  {
   "cell_type": "code",
   "execution_count": 81,
   "metadata": {},
   "outputs": [
    {
     "data": {
      "text/plain": [
       "0.34584302"
      ]
     },
     "execution_count": 81,
     "metadata": {},
     "output_type": "execute_result"
    }
   ],
   "source": [
    "compare('i like chicken', 'i like steak', model=roberta_model)"
   ]
  },
  {
   "cell_type": "code",
   "execution_count": null,
   "metadata": {},
   "outputs": [],
   "source": []
  },
  {
   "cell_type": "code",
   "execution_count": null,
   "metadata": {},
   "outputs": [],
   "source": []
  },
  {
   "cell_type": "code",
   "execution_count": null,
   "metadata": {},
   "outputs": [],
   "source": []
  },
  {
   "cell_type": "code",
   "execution_count": null,
   "metadata": {},
   "outputs": [],
   "source": []
  },
  {
   "cell_type": "code",
   "execution_count": null,
   "metadata": {},
   "outputs": [],
   "source": []
  },
  {
   "cell_type": "code",
   "execution_count": null,
   "metadata": {},
   "outputs": [],
   "source": []
  },
  {
   "cell_type": "markdown",
   "metadata": {},
   "source": [
    "## Opening Seinfeld Dialogues"
   ]
  },
  {
   "cell_type": "code",
   "execution_count": 13,
   "metadata": {},
   "outputs": [],
   "source": [
    "with open('../data/episode_dialogues.pkl', 'rb') as f:\n",
    "    episodes_dialogue = pickle.load(f)"
   ]
  },
  {
   "cell_type": "code",
   "execution_count": 14,
   "metadata": {},
   "outputs": [],
   "source": [
    "# samp is a string of the complete dialogue from the first episode\n",
    "samp = episodes_dialogue['S01E01']"
   ]
  },
  {
   "cell_type": "code",
   "execution_count": 15,
   "metadata": {},
   "outputs": [],
   "source": [
    "summary = summarize(samp, ratio = .01)"
   ]
  },
  {
   "cell_type": "code",
   "execution_count": 16,
   "metadata": {},
   "outputs": [
    {
     "data": {
      "text/plain": [
       "'Lets go!The dating world is not a fun world...its a pressure world, its a world of tension, its a world of pain...and you know, if a woman comes over to my house, I gotta get that bathroom ready, cause she needs things.\\nWell, Bill, the boss thinks youre the man for the position, why dont you strip down and meet some of the people youll be workin with?Wouldnt it be great if you could ask a woman what shes thinking?What a world that would be, if you just could ask a woman what shes thinkin.You know, instead, Im like a detective.\\nYoure engaged.Yeah, yeah, hes a great guy...Yeah.Youd really like him, you know, I cant wait to get on that boat.Me too!I swear, I have absolutely no idea what women are thinking.\\nYes, we met.Hi, happy birthday.Thanks, ah, everybody, this is Elaine and Jerry.HiI didnt bring anything.Uh, I put you two right here.Oh, Okay  Im sorry, I didnt know what to bring, nobody told me.How big a tip do you think itd take to get him to stop?Im in for five...Ill supply the hat.'"
      ]
     },
     "execution_count": 16,
     "metadata": {},
     "output_type": "execute_result"
    }
   ],
   "source": [
    "summary"
   ]
  },
  {
   "cell_type": "code",
   "execution_count": 82,
   "metadata": {},
   "outputs": [],
   "source": [
    "def vectorize_episode(episode_dict, model='stsb-distilbert-base', ratio=.01):\n",
    "    reduced_episode_vectors = {}\n",
    "    model = SentenceTransformer(model)\n",
    "    for episode, dialogue in episode_dict.items():\n",
    "        summary = summarize(episode_dict[episode], ratio=ratio)\n",
    "        vector = model.encode(summary).reshape(1,-1)\n",
    "        reduced_episode_vectors[episode] = vector\n",
    "    return reduced_episode_vectors"
   ]
  },
  {
   "cell_type": "code",
   "execution_count": 83,
   "metadata": {},
   "outputs": [],
   "source": [
    "vector_dict = vectorize_episode(episodes_dialogue)"
   ]
  },
  {
   "cell_type": "code",
   "execution_count": 84,
   "metadata": {},
   "outputs": [],
   "source": [
    "with open('distilbert_episode_vectors.pkl', 'wb') as f:\n",
    "    pickle.dump(vector_dict, f)"
   ]
  },
  {
   "cell_type": "code",
   "execution_count": 85,
   "metadata": {},
   "outputs": [],
   "source": [
    "def get_similarities(dialogue, model ='stsb-distilbert-base'):\n",
    "    similarity_list = []\n",
    "    model = SentenceTransformer(model)\n",
    "    dialogue_vector = model.encode(dialogue).reshape(1,-1)\n",
    "    for episode, vector in vector_dict.items():\n",
    "        similarity_list.append((episode, cosine_similarity(dialogue_vector, vector)[0][0]))\n",
    "    similarity_list.sort(key=lambda x: x[1], reverse=True)\n",
    "    return similarity_list\n",
    "        "
   ]
  },
  {
   "cell_type": "code",
   "execution_count": 86,
   "metadata": {},
   "outputs": [],
   "source": [
    "dialogue = 'Hi everyone. I really like soup. Soup is my favorite thing. Soup nazi episode is great. Can you get some squash soup?'"
   ]
  },
  {
   "cell_type": "code",
   "execution_count": 87,
   "metadata": {},
   "outputs": [],
   "source": [
    "sims = get_similarities(dialogue)"
   ]
  },
  {
   "cell_type": "code",
   "execution_count": 88,
   "metadata": {},
   "outputs": [
    {
     "data": {
      "text/plain": [
       "[('S09E07', 0.5182687),\n",
       " ('S07E06', 0.47713837),\n",
       " ('S05E12', 0.4392568),\n",
       " ('S09E18', 0.43371052),\n",
       " ('S03E03', 0.4318787)]"
      ]
     },
     "execution_count": 88,
     "metadata": {},
     "output_type": "execute_result"
    }
   ],
   "source": [
    "sims[:5]"
   ]
  },
  {
   "cell_type": "code",
   "execution_count": 67,
   "metadata": {},
   "outputs": [
    {
     "data": {
      "text/plain": [
       "\"Welcome to flavor country.Yeah, that's pretty good.Hey, I got a date with that doctor you met.Sara Sitarides?Mmhu.Oh...What's with you?You remember that next door neighbor of mine, the apartment that always smells like potatoes?Your whole building smells like potatoes.This jackass goes to Paris, leaves the alarm on.\""
      ]
     },
     "execution_count": 67,
     "metadata": {},
     "output_type": "execute_result"
    }
   ],
   "source": [
    "summarize(episodes_dialogue['S09E07'], ratio=.01)"
   ]
  },
  {
   "cell_type": "code",
   "execution_count": 31,
   "metadata": {},
   "outputs": [],
   "source": [
    "import imdb"
   ]
  },
  {
   "cell_type": "code",
   "execution_count": 33,
   "metadata": {},
   "outputs": [
    {
     "data": {
      "text/plain": [
       "[1, 2, 3, 4, 5, 6, 7, 8, 9]"
      ]
     },
     "execution_count": 33,
     "metadata": {},
     "output_type": "execute_result"
    }
   ],
   "source": [
    "ia = imdb.IMDb()\n",
    "series = ia.get_movie('0098904')\n",
    "ia.update(series, 'episodes')\n",
    "sorted(series['episodes'].keys())"
   ]
  },
  {
   "cell_type": "code",
   "execution_count": 52,
   "metadata": {},
   "outputs": [],
   "source": [
    "ordered_episodes = []\n",
    "for i in range(len(sims)):\n",
    "    ordered_episodes.append([int(sims[i][0][1:3]), int(sims[i][0][-2:])])"
   ]
  },
  {
   "cell_type": "code",
   "execution_count": 53,
   "metadata": {},
   "outputs": [
    {
     "data": {
      "text/plain": [
       "[7, 6]"
      ]
     },
     "execution_count": 53,
     "metadata": {},
     "output_type": "execute_result"
    }
   ],
   "source": [
    "ordered_episodes[0]"
   ]
  },
  {
   "cell_type": "code",
   "execution_count": null,
   "metadata": {},
   "outputs": [],
   "source": []
  },
  {
   "cell_type": "code",
   "execution_count": 89,
   "metadata": {},
   "outputs": [
    {
     "name": "stdout",
     "output_type": "stream",
     "text": [
      "\n",
      "    A soup stand owner obsesses about his customers' ordering procedure, but his soup is so good that people line up down the block for it anyway.    \n"
     ]
    }
   ],
   "source": [
    "for i in range(len(sims[:1])):\n",
    "    season_num = ordered_episodes[i][0]\n",
    "    episode_num = ordered_episodes[i][1]\n",
    "    episode = series['episodes'][season_num][episode_num]\n",
    "    title = episode['title']\n",
    "    plot = episode['plot']\n",
    "    print(plot)"
   ]
  }
 ],
 "metadata": {
  "kernelspec": {
   "display_name": "Python 3",
   "language": "python",
   "name": "python3"
  },
  "language_info": {
   "codemirror_mode": {
    "name": "ipython",
    "version": 3
   },
   "file_extension": ".py",
   "mimetype": "text/x-python",
   "name": "python",
   "nbconvert_exporter": "python",
   "pygments_lexer": "ipython3",
   "version": "3.7.7"
  }
 },
 "nbformat": 4,
 "nbformat_minor": 4
}
