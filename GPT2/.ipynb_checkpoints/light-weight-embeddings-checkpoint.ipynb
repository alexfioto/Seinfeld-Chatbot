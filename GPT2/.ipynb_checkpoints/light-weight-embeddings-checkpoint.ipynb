{
 "cells": [
  {
   "cell_type": "code",
   "execution_count": 3,
   "metadata": {},
   "outputs": [
    {
     "data": {
      "application/javascript": [
       "document.title = 'Github'\n"
      ],
      "text/plain": [
       "<IPython.core.display.Javascript object>"
      ]
     },
     "metadata": {},
     "output_type": "display_data"
    }
   ],
   "source": [
    "%%javascript\n",
    "document.title = 'Github'"
   ]
  },
  {
   "cell_type": "code",
   "execution_count": 1,
   "metadata": {},
   "outputs": [],
   "source": [
    "# !pip install sentence_transformers"
   ]
  },
  {
   "cell_type": "code",
   "execution_count": 2,
   "metadata": {},
   "outputs": [],
   "source": [
    "# Remember to Activate Virtual Environment. \n",
    "\n",
    "# !conda activate topic-model-env\n",
    "\n",
    "import pickle\n",
    "from gensim.summarization import summarize\n",
    "\n",
    "#from bert_embedding import BertEmbedding\n",
    "\n",
    "from sentence_transformers import SentenceTransformer\n",
    "from sklearn.metrics.pairwise import cosine_similarity\n"
   ]
  },
  {
   "cell_type": "markdown",
   "metadata": {},
   "source": [
    "Here are some test sentences"
   ]
  },
  {
   "cell_type": "code",
   "execution_count": 46,
   "metadata": {},
   "outputs": [],
   "source": [
    "test1 = 'I love to go on dates. I am just looking for a woman. Dating is really tough though!'\n",
    "test2 = 'I am looking for a man. I like dating but it can be hard sometimes'"
   ]
  },
  {
   "cell_type": "markdown",
   "metadata": {},
   "source": [
    "Instantiating a Sentence Transformer model with distilbert-base-nli-mean-tokens"
   ]
  },
  {
   "cell_type": "code",
   "execution_count": 47,
   "metadata": {},
   "outputs": [],
   "source": [
    "model = SentenceTransformer('distilbert-base-nli-mean-tokens')"
   ]
  },
  {
   "cell_type": "code",
   "execution_count": 48,
   "metadata": {},
   "outputs": [],
   "source": [
    "test1_emb = model.encode(test1).reshape(1,-1)\n",
    "test2_emb = model.encode(test2).reshape(1,-1)"
   ]
  },
  {
   "cell_type": "code",
   "execution_count": 49,
   "metadata": {},
   "outputs": [
    {
     "data": {
      "text/plain": [
       "(1, 768)"
      ]
     },
     "execution_count": 49,
     "metadata": {},
     "output_type": "execute_result"
    }
   ],
   "source": [
    "test1_emb.shape"
   ]
  },
  {
   "cell_type": "code",
   "execution_count": 52,
   "metadata": {},
   "outputs": [
    {
     "data": {
      "text/plain": [
       "0.76939106"
      ]
     },
     "execution_count": 52,
     "metadata": {},
     "output_type": "execute_result"
    }
   ],
   "source": [
    "cosine_similarity(test1_emb, test2_emb)[0][0]"
   ]
  },
  {
   "cell_type": "code",
   "execution_count": 57,
   "metadata": {},
   "outputs": [],
   "source": [
    "# Helper function\n",
    "def compare(a, b):\n",
    "    emb1 = model.encode(a).reshape(1,-1)\n",
    "    emb2 = model.encode(b).reshape(1,-1)\n",
    "    return cosine_similarity(emb1, emb2)[0][0]"
   ]
  },
  {
   "cell_type": "code",
   "execution_count": 55,
   "metadata": {},
   "outputs": [
    {
     "data": {
      "text/plain": [
       "0.9407599"
      ]
     },
     "execution_count": 55,
     "metadata": {},
     "output_type": "execute_result"
    }
   ],
   "source": [
    "compare('I like chicken', 'I like chicken wings')"
   ]
  },
  {
   "cell_type": "code",
   "execution_count": 56,
   "metadata": {},
   "outputs": [
    {
     "data": {
      "text/plain": [
       "0.6950409"
      ]
     },
     "execution_count": 56,
     "metadata": {},
     "output_type": "execute_result"
    }
   ],
   "source": [
    "compare('i like chicken', 'i like steak')"
   ]
  },
  {
   "cell_type": "code",
   "execution_count": null,
   "metadata": {},
   "outputs": [],
   "source": []
  },
  {
   "cell_type": "code",
   "execution_count": null,
   "metadata": {},
   "outputs": [],
   "source": []
  },
  {
   "cell_type": "code",
   "execution_count": null,
   "metadata": {},
   "outputs": [],
   "source": []
  },
  {
   "cell_type": "code",
   "execution_count": null,
   "metadata": {},
   "outputs": [],
   "source": []
  },
  {
   "cell_type": "code",
   "execution_count": null,
   "metadata": {},
   "outputs": [],
   "source": []
  },
  {
   "cell_type": "code",
   "execution_count": null,
   "metadata": {},
   "outputs": [],
   "source": []
  },
  {
   "cell_type": "markdown",
   "metadata": {},
   "source": [
    "## Opening Seinfeld Dialogues"
   ]
  },
  {
   "cell_type": "code",
   "execution_count": 61,
   "metadata": {},
   "outputs": [],
   "source": [
    "with open('../data/episode_dialogues.pkl', 'rb') as f:\n",
    "    episodes_dialogue = pickle.load(f)"
   ]
  },
  {
   "cell_type": "code",
   "execution_count": 62,
   "metadata": {},
   "outputs": [],
   "source": [
    "# samp is a string of the complete dialogue from the first episode\n",
    "samp = episodes_dialogue['S01E01']"
   ]
  },
  {
   "cell_type": "code",
   "execution_count": 63,
   "metadata": {},
   "outputs": [],
   "source": [
    "summary = summarize(samp, ratio = .01)"
   ]
  },
  {
   "cell_type": "code",
   "execution_count": 64,
   "metadata": {},
   "outputs": [
    {
     "data": {
      "text/plain": [
       "'Lets go!The dating world is not a fun world...its a pressure world, its a world of tension, its a world of pain...and you know, if a woman comes over to my house, I gotta get that bathroom ready, cause she needs things.\\nWell, Bill, the boss thinks youre the man for the position, why dont you strip down and meet some of the people youll be workin with?Wouldnt it be great if you could ask a woman what shes thinking?What a world that would be, if you just could ask a woman what shes thinkin.You know, instead, Im like a detective.\\nYoure engaged.Yeah, yeah, hes a great guy...Yeah.Youd really like him, you know, I cant wait to get on that boat.Me too!I swear, I have absolutely no idea what women are thinking.\\nYes, we met.Hi, happy birthday.Thanks, ah, everybody, this is Elaine and Jerry.HiI didnt bring anything.Uh, I put you two right here.Oh, Okay  Im sorry, I didnt know what to bring, nobody told me.How big a tip do you think itd take to get him to stop?Im in for five...Ill supply the hat.'"
      ]
     },
     "execution_count": 64,
     "metadata": {},
     "output_type": "execute_result"
    }
   ],
   "source": [
    "summary"
   ]
  },
  {
   "cell_type": "code",
   "execution_count": 65,
   "metadata": {},
   "outputs": [],
   "source": [
    "def vectorize_episode(episode_dict, model='distilbert-base-nli-mean-tokens', ratio=.01):\n",
    "    reduced_episode_vectors = {}\n",
    "    model = SentenceTransformer(model)\n",
    "    for episode, dialogue in ed.items():\n",
    "        summary = summarize(ed[episode], ratio=ratio)\n",
    "        vector = model.encode(summary).reshape(1,-1)\n",
    "        reduced_episode_vectors[episode] = vector\n",
    "    return reduced_episode_vectors"
   ]
  },
  {
   "cell_type": "code",
   "execution_count": 66,
   "metadata": {},
   "outputs": [],
   "source": [
    "vector_dict = vectorize_episode(ed)"
   ]
  },
  {
   "cell_type": "code",
   "execution_count": 67,
   "metadata": {},
   "outputs": [],
   "source": [
    "with open('distilbert_episode_vectors.pkl', 'wb') as f:\n",
    "    pickle.dump(vector_dict, f)"
   ]
  },
  {
   "cell_type": "code",
   "execution_count": 68,
   "metadata": {},
   "outputs": [],
   "source": [
    "def get_similarities(dialogue, model ='distilbert-base-nli-mean-tokens'):\n",
    "    similarity_list = []\n",
    "    model = SentenceTransformer(model)\n",
    "    dialogue_vector = model.encode(dialogue).reshape(1,-1)\n",
    "    for episode, vector in vector_dict.items():\n",
    "        similarity_list.append((episode, cosine_similarity(dialogue_vector, vector)[0][0]))\n",
    "    similarity_list.sort(key=lambda x: x[1], reverse=True)\n",
    "    return similarity_list\n",
    "        "
   ]
  },
  {
   "cell_type": "code",
   "execution_count": 69,
   "metadata": {},
   "outputs": [],
   "source": [
    "dialogue = 'Hi everyone. I really like soup. Soup is my favorite thing. Soup nazi episode is great. Can you get some squash soup?'"
   ]
  },
  {
   "cell_type": "code",
   "execution_count": 70,
   "metadata": {},
   "outputs": [],
   "source": [
    "sims = get_similarities(dialogue)"
   ]
  },
  {
   "cell_type": "code",
   "execution_count": 72,
   "metadata": {},
   "outputs": [
    {
     "data": {
      "text/plain": [
       "[('S07E06', 0.75969416),\n",
       " ('S05E12', 0.6890562),\n",
       " ('S03E03', 0.68105066),\n",
       " ('S09E07', 0.6789067),\n",
       " ('S06E06', 0.6448965)]"
      ]
     },
     "execution_count": 72,
     "metadata": {},
     "output_type": "execute_result"
    }
   ],
   "source": [
    "sims[:5]"
   ]
  },
  {
   "cell_type": "code",
   "execution_count": 56,
   "metadata": {},
   "outputs": [
    {
     "data": {
      "text/plain": [
       "\"Jerry?Do I know you?So, essentially, you chose soup over a woman?It was a bisque.Yeah.\\nYou made the right decision.See, the way I figure it, it's much easier to patch things up with Sheila than with the Soup Nazi.Hey.Yeah.Hey.Yeah.Oh, thanks.There he is.Elaine, I'm really sorry about the armoire.Yeah.\""
      ]
     },
     "execution_count": 56,
     "metadata": {},
     "output_type": "execute_result"
    }
   ],
   "source": [
    "summarize(episode_dialogues['S07E06'], ratio=.01)"
   ]
  },
  {
   "cell_type": "code",
   "execution_count": null,
   "metadata": {},
   "outputs": [],
   "source": []
  }
 ],
 "metadata": {
  "kernelspec": {
   "display_name": "Python 3",
   "language": "python",
   "name": "python3"
  },
  "language_info": {
   "codemirror_mode": {
    "name": "ipython",
    "version": 3
   },
   "file_extension": ".py",
   "mimetype": "text/x-python",
   "name": "python",
   "nbconvert_exporter": "python",
   "pygments_lexer": "ipython3",
   "version": "3.7.7"
  }
 },
 "nbformat": 4,
 "nbformat_minor": 4
}
