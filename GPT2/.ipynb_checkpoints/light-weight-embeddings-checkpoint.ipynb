{
 "cells": [
  {
   "cell_type": "code",
   "execution_count": 3,
   "metadata": {},
   "outputs": [
    {
     "data": {
      "application/javascript": [
       "document.title = 'Github'\n"
      ],
      "text/plain": [
       "<IPython.core.display.Javascript object>"
      ]
     },
     "metadata": {},
     "output_type": "display_data"
    }
   ],
   "source": [
    "%%javascript\n",
    "document.title = 'Github'"
   ]
  },
  {
   "cell_type": "code",
   "execution_count": 11,
   "metadata": {},
   "outputs": [
    {
     "name": "stdout",
     "output_type": "stream",
     "text": [
      "Processing /Users/alexander.fioto/Library/Caches/pip/wheels/b0/57/6e/72164eb7d28256df352bcce26174d9133d191c232006fb13d2/sentence_transformers-0.3.9-py3-none-any.whl\n",
      "Requirement already satisfied: torch>=1.6.0 in /Users/alexander.fioto/opt/anaconda3/lib/python3.7/site-packages (from sentence_transformers) (1.6.0)\n",
      "Requirement already satisfied: nltk in /Users/alexander.fioto/opt/anaconda3/lib/python3.7/site-packages (from sentence_transformers) (3.2.5)\n",
      "Requirement already satisfied: transformers<3.6.0,>=3.1.0 in /Users/alexander.fioto/opt/anaconda3/lib/python3.7/site-packages (from sentence_transformers) (3.5.1)\n",
      "Requirement already satisfied: tqdm in /Users/alexander.fioto/opt/anaconda3/lib/python3.7/site-packages (from sentence_transformers) (4.50.2)\n",
      "Requirement already satisfied: numpy in /Users/alexander.fioto/opt/anaconda3/lib/python3.7/site-packages (from sentence_transformers) (1.19.2)\n",
      "Requirement already satisfied: scikit-learn in /Users/alexander.fioto/opt/anaconda3/lib/python3.7/site-packages (from sentence_transformers) (0.23.2)\n",
      "Requirement already satisfied: scipy in /Users/alexander.fioto/opt/anaconda3/lib/python3.7/site-packages (from sentence_transformers) (1.5.2)\n",
      "Requirement already satisfied: future in /Users/alexander.fioto/opt/anaconda3/lib/python3.7/site-packages (from torch>=1.6.0->sentence_transformers) (0.18.2)\n",
      "Requirement already satisfied: six in /Users/alexander.fioto/opt/anaconda3/lib/python3.7/site-packages (from nltk->sentence_transformers) (1.15.0)\n",
      "Requirement already satisfied: tokenizers==0.9.3 in /Users/alexander.fioto/opt/anaconda3/lib/python3.7/site-packages (from transformers<3.6.0,>=3.1.0->sentence_transformers) (0.9.3)\n",
      "Requirement already satisfied: sacremoses in /Users/alexander.fioto/opt/anaconda3/lib/python3.7/site-packages (from transformers<3.6.0,>=3.1.0->sentence_transformers) (0.0.43)\n",
      "Requirement already satisfied: protobuf in /Users/alexander.fioto/opt/anaconda3/lib/python3.7/site-packages (from transformers<3.6.0,>=3.1.0->sentence_transformers) (3.13.0)\n",
      "Requirement already satisfied: packaging in /Users/alexander.fioto/opt/anaconda3/lib/python3.7/site-packages (from transformers<3.6.0,>=3.1.0->sentence_transformers) (20.4)\n",
      "Requirement already satisfied: regex!=2019.12.17 in /Users/alexander.fioto/opt/anaconda3/lib/python3.7/site-packages (from transformers<3.6.0,>=3.1.0->sentence_transformers) (2020.7.14)\n",
      "Requirement already satisfied: filelock in /Users/alexander.fioto/opt/anaconda3/lib/python3.7/site-packages (from transformers<3.6.0,>=3.1.0->sentence_transformers) (3.0.12)\n",
      "Requirement already satisfied: requests in /Users/alexander.fioto/opt/anaconda3/lib/python3.7/site-packages (from transformers<3.6.0,>=3.1.0->sentence_transformers) (2.24.0)\n",
      "Requirement already satisfied: sentencepiece==0.1.91 in /Users/alexander.fioto/opt/anaconda3/lib/python3.7/site-packages (from transformers<3.6.0,>=3.1.0->sentence_transformers) (0.1.91)\n",
      "Requirement already satisfied: joblib>=0.11 in /Users/alexander.fioto/opt/anaconda3/lib/python3.7/site-packages (from scikit-learn->sentence_transformers) (0.17.0)\n",
      "Requirement already satisfied: threadpoolctl>=2.0.0 in /Users/alexander.fioto/opt/anaconda3/lib/python3.7/site-packages (from scikit-learn->sentence_transformers) (2.1.0)\n",
      "Requirement already satisfied: click in /Users/alexander.fioto/opt/anaconda3/lib/python3.7/site-packages (from sacremoses->transformers<3.6.0,>=3.1.0->sentence_transformers) (7.1.2)\n",
      "Requirement already satisfied: setuptools in /Users/alexander.fioto/opt/anaconda3/lib/python3.7/site-packages (from protobuf->transformers<3.6.0,>=3.1.0->sentence_transformers) (50.3.0.post20201006)\n",
      "Requirement already satisfied: pyparsing>=2.0.2 in /Users/alexander.fioto/opt/anaconda3/lib/python3.7/site-packages (from packaging->transformers<3.6.0,>=3.1.0->sentence_transformers) (2.4.7)\n",
      "Requirement already satisfied: idna<3,>=2.5 in /Users/alexander.fioto/opt/anaconda3/lib/python3.7/site-packages (from requests->transformers<3.6.0,>=3.1.0->sentence_transformers) (2.10)\n",
      "Requirement already satisfied: chardet<4,>=3.0.2 in /Users/alexander.fioto/opt/anaconda3/lib/python3.7/site-packages (from requests->transformers<3.6.0,>=3.1.0->sentence_transformers) (3.0.4)\n",
      "Requirement already satisfied: certifi>=2017.4.17 in /Users/alexander.fioto/opt/anaconda3/lib/python3.7/site-packages (from requests->transformers<3.6.0,>=3.1.0->sentence_transformers) (2020.11.8)\n",
      "Requirement already satisfied: urllib3!=1.25.0,!=1.25.1,<1.26,>=1.21.1 in /Users/alexander.fioto/opt/anaconda3/lib/python3.7/site-packages (from requests->transformers<3.6.0,>=3.1.0->sentence_transformers) (1.24.3)\n",
      "Installing collected packages: sentence-transformers\n",
      "Successfully installed sentence-transformers-0.3.9\n"
     ]
    }
   ],
   "source": [
    "!pip install sentence_transformers"
   ]
  },
  {
   "cell_type": "code",
   "execution_count": 12,
   "metadata": {},
   "outputs": [],
   "source": [
    "# Remember to Activate Virtual Environment. \n",
    "\n",
    "# !conda activate topic-model-env\n",
    "\n",
    "import pickle\n",
    "from gensim.summarization import summarize\n",
    "\n",
    "#from bert_embedding import BertEmbedding\n",
    "\n",
    "from sentence_transformers import SentenceTransformer\n",
    "from sklearn.metrics.pairwise import cosine_similarity\n"
   ]
  },
  {
   "cell_type": "code",
   "execution_count": 13,
   "metadata": {},
   "outputs": [],
   "source": [
    "with open('episode_dialogues.pkl', 'rb') as f:\n",
    "    ed = pickle.load(f)"
   ]
  },
  {
   "cell_type": "code",
   "execution_count": 14,
   "metadata": {},
   "outputs": [],
   "source": [
    "samp = ed['S01E01']"
   ]
  },
  {
   "cell_type": "code",
   "execution_count": 15,
   "metadata": {},
   "outputs": [],
   "source": [
    "summary = summarize(samp, ratio = .01)"
   ]
  },
  {
   "cell_type": "code",
   "execution_count": 16,
   "metadata": {},
   "outputs": [
    {
     "data": {
      "text/plain": [
       "'Lets go!The dating world is not a fun world...its a pressure world, its a world of tension, its a world of pain...and you know, if a woman comes over to my house, I gotta get that bathroom ready, cause she needs things.\\nWell, Bill, the boss thinks youre the man for the position, why dont you strip down and meet some of the people youll be workin with?Wouldnt it be great if you could ask a woman what shes thinking?What a world that would be, if you just could ask a woman what shes thinkin.You know, instead, Im like a detective.\\nYoure engaged.Yeah, yeah, hes a great guy...Yeah.Youd really like him, you know, I cant wait to get on that boat.Me too!I swear, I have absolutely no idea what women are thinking.\\nYes, we met.Hi, happy birthday.Thanks, ah, everybody, this is Elaine and Jerry.HiI didnt bring anything.Uh, I put you two right here.Oh, Okay  Im sorry, I didnt know what to bring, nobody told me.How big a tip do you think itd take to get him to stop?Im in for five...Ill supply the hat.'"
      ]
     },
     "execution_count": 16,
     "metadata": {},
     "output_type": "execute_result"
    }
   ],
   "source": [
    "summary"
   ]
  },
  {
   "cell_type": "code",
   "execution_count": 17,
   "metadata": {},
   "outputs": [],
   "source": [
    "model = SentenceTransformer('distilbert-base-nli-mean-tokens')"
   ]
  },
  {
   "cell_type": "code",
   "execution_count": 18,
   "metadata": {},
   "outputs": [],
   "source": [
    "test1 = 'I love to go on dates. I am just looking for a woman. Dating is really tough though!'\n",
    "test2 = 'I like cheese burgers. I am so hungry. I also like thanksgiving.'"
   ]
  },
  {
   "cell_type": "code",
   "execution_count": 19,
   "metadata": {},
   "outputs": [],
   "source": [
    "sentence_embeddings_complete = model.encode(samp)\n",
    "sentence_embeddings_summary = model.encode(summary)\n",
    "test_embeddings = model.encode([test1, test2])"
   ]
  },
  {
   "cell_type": "code",
   "execution_count": 24,
   "metadata": {},
   "outputs": [
    {
     "ename": "NameError",
     "evalue": "name 'sentence_embeddings' is not defined",
     "output_type": "error",
     "traceback": [
      "\u001b[0;31m---------------------------------------------------------------------------\u001b[0m",
      "\u001b[0;31mNameError\u001b[0m                                 Traceback (most recent call last)",
      "\u001b[0;32m<ipython-input-24-86735c6e9a4b>\u001b[0m in \u001b[0;36m<module>\u001b[0;34m\u001b[0m\n\u001b[0;32m----> 1\u001b[0;31m \u001b[0msentence_embeddings\u001b[0m\u001b[0;34m.\u001b[0m\u001b[0mreshape\u001b[0m\u001b[0;34m(\u001b[0m\u001b[0;36m1\u001b[0m\u001b[0;34m,\u001b[0m \u001b[0;34m-\u001b[0m\u001b[0;36m1\u001b[0m\u001b[0;34m)\u001b[0m\u001b[0;34m.\u001b[0m\u001b[0mshape\u001b[0m\u001b[0;34m\u001b[0m\u001b[0;34m\u001b[0m\u001b[0m\n\u001b[0m",
      "\u001b[0;31mNameError\u001b[0m: name 'sentence_embeddings' is not defined"
     ]
    }
   ],
   "source": [
    "sentence_embeddings.reshape(1, -1).shape"
   ]
  },
  {
   "cell_type": "code",
   "execution_count": 31,
   "metadata": {},
   "outputs": [
    {
     "data": {
      "text/plain": [
       "(1, 768)"
      ]
     },
     "execution_count": 31,
     "metadata": {},
     "output_type": "execute_result"
    }
   ],
   "source": [
    "sentence_embeddings_summary.reshape(1, -1).shape"
   ]
  },
  {
   "cell_type": "code",
   "execution_count": 26,
   "metadata": {},
   "outputs": [
    {
     "data": {
      "text/plain": [
       "0.70540047"
      ]
     },
     "execution_count": 26,
     "metadata": {},
     "output_type": "execute_result"
    }
   ],
   "source": [
    "cosine_similarity(sentence_embeddings_summary.reshape(1,-1), test_embeddings[0].reshape(1,-1))[0][0]"
   ]
  },
  {
   "cell_type": "code",
   "execution_count": 32,
   "metadata": {},
   "outputs": [],
   "source": [
    "def vectorize_episode(episode_dict, model='distilbert-base-nli-mean-tokens', ratio=.01):\n",
    "    reduced_episode_vectors = {}\n",
    "    model = SentenceTransformer(model)\n",
    "    for episode, dialogue in ed.items():\n",
    "        summary = summarize(ed[episode], ratio=ratio)\n",
    "        vector = model.encode(summary).reshape(1,-1)\n",
    "        reduced_episode_vectors[episode] = vector\n",
    "    return reduced_episode_vectors"
   ]
  },
  {
   "cell_type": "code",
   "execution_count": null,
   "metadata": {},
   "outputs": [],
   "source": [
    "vector_dict = vectorize_episode(ed)"
   ]
  },
  {
   "cell_type": "code",
   "execution_count": 43,
   "metadata": {},
   "outputs": [],
   "source": [
    "with open('episode_vectors.pkl', 'wb') as f:\n",
    "    pickle.dump(vector_dict, f)"
   ]
  },
  {
   "cell_type": "code",
   "execution_count": 75,
   "metadata": {},
   "outputs": [],
   "source": [
    "def get_similarities(dialogue, model ='distilbert-base-nli-mean-tokens'):\n",
    "    similarity_list = []\n",
    "    model = SentenceTransformer(model)\n",
    "    dialogue_vector = model.encode(dialogue).reshape(1,-1)\n",
    "    for episode, vector in vector_dict.items():\n",
    "        similarity_list.append((episode, cosine_similarity(dialogue_vector, vector)[0][0]))\n",
    "    similarity_list.sort(key=lambda x: x[1], reverse=True)\n",
    "    return similarity_list\n",
    "        "
   ]
  },
  {
   "cell_type": "code",
   "execution_count": 76,
   "metadata": {},
   "outputs": [],
   "source": [
    "dialogue = 'Hi everyone. I really like soup. Soup is my favorite thing. Soup nazi episode is great. Can you get some squash soup?'"
   ]
  },
  {
   "cell_type": "code",
   "execution_count": 77,
   "metadata": {},
   "outputs": [],
   "source": [
    "sims = get_similarities(dialogue)"
   ]
  },
  {
   "cell_type": "code",
   "execution_count": 78,
   "metadata": {},
   "outputs": [
    {
     "data": {
      "text/plain": [
       "[('S07E06', 0.75969416),\n",
       " ('S05E12', 0.6890563),\n",
       " ('S03E03', 0.68105054),\n",
       " ('S09E07', 0.6789067),\n",
       " ('S06E06', 0.6448965),\n",
       " ('S03E10', 0.64289135),\n",
       " ('S09E18', 0.63001895),\n",
       " ('S08E02', 0.62622374),\n",
       " ('S09E13', 0.6195679),\n",
       " ('S06E11', 0.6166011),\n",
       " ('S09E14', 0.6123314),\n",
       " ('S06E17', 0.61184216),\n",
       " ('S07E20', 0.6019762),\n",
       " ('S05E07', 0.60152495),\n",
       " ('S08E14', 0.6007004),\n",
       " ('S05E01', 0.59994847),\n",
       " ('S04E03', 0.58990765),\n",
       " ('S06E02', 0.5891769),\n",
       " ('S09E01', 0.5802494),\n",
       " ('S05E20', 0.57765186),\n",
       " ('S04E06', 0.5766907),\n",
       " ('S09E12', 0.5760075),\n",
       " ('S07E01', 0.57183295),\n",
       " ('S02E04', 0.5710002),\n",
       " ('S05E13', 0.5674333),\n",
       " ('S03E06', 0.56324446),\n",
       " ('S04E13', 0.56217384),\n",
       " ('S09E10', 0.5614623),\n",
       " ('S01E03', 0.56118214),\n",
       " ('S07E08', 0.559798),\n",
       " ('S08E08', 0.55219084),\n",
       " ('S07E11', 0.55004776),\n",
       " ('S04E16', 0.54477537),\n",
       " ('S07E19', 0.5406048),\n",
       " ('S05E21', 0.5388686),\n",
       " ('S09E23', 0.53875923),\n",
       " ('S06E07', 0.5366942),\n",
       " ('S06E09', 0.5335466),\n",
       " ('S04E08', 0.5329879),\n",
       " ('S03E14', 0.5286144),\n",
       " ('S06E10', 0.52816457),\n",
       " ('S02E06', 0.5267902),\n",
       " ('S05E09', 0.52455527),\n",
       " ('S06E03', 0.52289826),\n",
       " ('S05E04', 0.52286816),\n",
       " ('S04E24', 0.5224174),\n",
       " ('S06E23', 0.5215133),\n",
       " ('S02E08', 0.52150464),\n",
       " ('S09E03', 0.518943),\n",
       " ('S03E05', 0.51839554),\n",
       " ('S03E11', 0.51798344),\n",
       " ('S09E06', 0.5169627),\n",
       " ('S05E18', 0.5155421),\n",
       " ('S09E19', 0.515329),\n",
       " ('S07E17', 0.513818),\n",
       " ('S04E10', 0.51343805),\n",
       " ('S03E21', 0.5125991),\n",
       " ('S09E16', 0.5125674),\n",
       " ('S04E09', 0.5111257),\n",
       " ('S07E04', 0.51079905),\n",
       " ('S07E12', 0.5089878),\n",
       " ('S07E09', 0.50850415),\n",
       " ('S09E20', 0.50305873),\n",
       " ('S06E05', 0.5013265),\n",
       " ('S02E11', 0.49553454),\n",
       " ('S05E02', 0.49515545),\n",
       " ('S02E10', 0.49390006),\n",
       " ('S03E20', 0.49355385),\n",
       " ('S06E08', 0.49287286),\n",
       " ('S04E20', 0.49217117),\n",
       " ('S04E17', 0.4911728),\n",
       " ('S06E16', 0.485032),\n",
       " ('S08E16', 0.48457074),\n",
       " ('S04E22', 0.4822438),\n",
       " ('S07E03', 0.47759932),\n",
       " ('S08E13', 0.47578633),\n",
       " ('S01E01', 0.475605),\n",
       " ('S06E13', 0.47421938),\n",
       " ('S06E12', 0.4719454),\n",
       " ('S05E05', 0.47180426),\n",
       " ('S06E24', 0.4694013),\n",
       " ('S08E06', 0.46900713),\n",
       " ('S05E06', 0.46828914),\n",
       " ('S08E07', 0.46787882),\n",
       " ('S05E03', 0.46742022),\n",
       " ('S06E22', 0.4658356),\n",
       " ('S09E02', 0.46452364),\n",
       " ('S06E20', 0.46442068),\n",
       " ('S08E17', 0.46173465),\n",
       " ('S08E04', 0.45833007),\n",
       " ('S09E15', 0.4574711),\n",
       " ('S02E12', 0.4537629),\n",
       " ('S08E20', 0.45361975),\n",
       " ('S07E24', 0.4532866),\n",
       " ('S06E21', 0.4522419),\n",
       " ('S04E12', 0.4510477),\n",
       " ('S06E19', 0.44947577),\n",
       " ('S03E13', 0.44895217),\n",
       " ('S06E18', 0.44869953),\n",
       " ('S04E18', 0.44762433),\n",
       " ('S04E07', 0.44250888),\n",
       " ('S09E04', 0.43955183),\n",
       " ('S04E19', 0.43867552),\n",
       " ('S06E01', 0.43861562),\n",
       " ('S04E15', 0.4373442),\n",
       " ('S03E12', 0.43441767),\n",
       " ('S05E17', 0.43216345),\n",
       " ('S04E23', 0.43183136),\n",
       " ('S01E04', 0.4311439),\n",
       " ('S03E17', 0.4300428),\n",
       " ('S07E10', 0.4276172),\n",
       " ('S03E04', 0.42015254),\n",
       " ('S03E16', 0.4169376),\n",
       " ('S07E07', 0.41608977),\n",
       " ('S08E15', 0.4154168),\n",
       " ('S04E05', 0.41213995),\n",
       " ('S04E01', 0.41028193),\n",
       " ('S04E14', 0.40937063),\n",
       " ('S03E09', 0.40872204),\n",
       " ('S08E11', 0.4081285),\n",
       " ('S02E05', 0.40702605),\n",
       " ('S08E12', 0.40617365),\n",
       " ('S03E23', 0.40591532),\n",
       " ('S07E16', 0.40459913),\n",
       " ('S07E13', 0.4021101),\n",
       " ('S05E14', 0.40136528),\n",
       " ('S05E10', 0.40128526),\n",
       " ('S01E02', 0.39898738),\n",
       " ('S08E21', 0.3957464),\n",
       " ('S08E22', 0.39347693),\n",
       " ('S02E03', 0.39030492),\n",
       " ('S07E22', 0.38434172),\n",
       " ('S07E05', 0.38284206),\n",
       " ('S08E05', 0.38090736),\n",
       " ('S07E02', 0.378644),\n",
       " ('S09E08', 0.37828654),\n",
       " ('S03E15', 0.3750897),\n",
       " ('S02E07', 0.37485236),\n",
       " ('S05E16', 0.3719465),\n",
       " ('S08E10', 0.3698119),\n",
       " ('S07E14', 0.36879605),\n",
       " ('S07E21', 0.36578497),\n",
       " ('S07E18', 0.36557364),\n",
       " ('S03E01', 0.36311856),\n",
       " ('S03E08', 0.3628003),\n",
       " ('S04E04', 0.36213654),\n",
       " ('S05E08', 0.3617025),\n",
       " ('S05E11', 0.35817116),\n",
       " ('S09E05', 0.35650283),\n",
       " ('S04E11', 0.3531885),\n",
       " ('S06E04', 0.34730256),\n",
       " ('S08E09', 0.34269857),\n",
       " ('S09E17', 0.34189087),\n",
       " ('S08E01', 0.33934593),\n",
       " ('S03E18', 0.33735228),\n",
       " ('S05E15', 0.33456606),\n",
       " ('S09E11', 0.33303222),\n",
       " ('S02E01', 0.32828012),\n",
       " ('S04E21', 0.3238045),\n",
       " ('S03E07', 0.3234014),\n",
       " ('S03E02', 0.31531042),\n",
       " ('S09E09', 0.3123657),\n",
       " ('S07E23', 0.29997241),\n",
       " ('S05E22', 0.29812783),\n",
       " ('S08E19', 0.29387194),\n",
       " ('S03E19', 0.283972),\n",
       " ('S07E15', 0.2695673),\n",
       " ('S03E22', 0.26256707),\n",
       " ('S08E18', 0.26059014),\n",
       " ('S08E03', 0.2566775),\n",
       " ('S04E02', 0.23946011),\n",
       " ('S02E02', 0.1980204),\n",
       " ('S02E09', 0.08534427)]"
      ]
     },
     "execution_count": 78,
     "metadata": {},
     "output_type": "execute_result"
    }
   ],
   "source": [
    "sims"
   ]
  },
  {
   "cell_type": "code",
   "execution_count": 53,
   "metadata": {},
   "outputs": [
    {
     "data": {
      "text/plain": [
       "[('S02E09', array([[0.08534427]], dtype=float32)),\n",
       " ('S02E02', array([[0.1980204]], dtype=float32)),\n",
       " ('S04E02', array([[0.23946011]], dtype=float32)),\n",
       " ('S08E03', array([[0.2566775]], dtype=float32)),\n",
       " ('S08E18', array([[0.26059014]], dtype=float32)),\n",
       " ('S03E22', array([[0.26256707]], dtype=float32)),\n",
       " ('S07E15', array([[0.2695673]], dtype=float32)),\n",
       " ('S03E19', array([[0.283972]], dtype=float32)),\n",
       " ('S08E19', array([[0.29387194]], dtype=float32)),\n",
       " ('S05E22', array([[0.29812783]], dtype=float32)),\n",
       " ('S07E23', array([[0.29997241]], dtype=float32)),\n",
       " ('S09E09', array([[0.3123657]], dtype=float32)),\n",
       " ('S03E02', array([[0.31531042]], dtype=float32)),\n",
       " ('S03E07', array([[0.3234014]], dtype=float32)),\n",
       " ('S04E21', array([[0.3238045]], dtype=float32)),\n",
       " ('S02E01', array([[0.32828012]], dtype=float32)),\n",
       " ('S09E11', array([[0.33303222]], dtype=float32)),\n",
       " ('S05E15', array([[0.33456606]], dtype=float32)),\n",
       " ('S03E18', array([[0.33735228]], dtype=float32)),\n",
       " ('S08E01', array([[0.33934593]], dtype=float32)),\n",
       " ('S09E17', array([[0.34189087]], dtype=float32)),\n",
       " ('S08E09', array([[0.34269857]], dtype=float32)),\n",
       " ('S06E04', array([[0.34730256]], dtype=float32)),\n",
       " ('S04E11', array([[0.3531885]], dtype=float32)),\n",
       " ('S09E05', array([[0.35650283]], dtype=float32)),\n",
       " ('S05E11', array([[0.35817116]], dtype=float32)),\n",
       " ('S05E08', array([[0.3617025]], dtype=float32)),\n",
       " ('S04E04', array([[0.36213654]], dtype=float32)),\n",
       " ('S03E08', array([[0.3628003]], dtype=float32)),\n",
       " ('S03E01', array([[0.36311856]], dtype=float32)),\n",
       " ('S07E18', array([[0.36557364]], dtype=float32)),\n",
       " ('S07E21', array([[0.36578497]], dtype=float32)),\n",
       " ('S07E14', array([[0.36879605]], dtype=float32)),\n",
       " ('S08E10', array([[0.3698119]], dtype=float32)),\n",
       " ('S05E16', array([[0.3719465]], dtype=float32)),\n",
       " ('S02E07', array([[0.37485236]], dtype=float32)),\n",
       " ('S03E15', array([[0.3750897]], dtype=float32)),\n",
       " ('S09E08', array([[0.37828654]], dtype=float32)),\n",
       " ('S07E02', array([[0.378644]], dtype=float32)),\n",
       " ('S08E05', array([[0.38090736]], dtype=float32)),\n",
       " ('S07E05', array([[0.38284206]], dtype=float32)),\n",
       " ('S07E22', array([[0.38434172]], dtype=float32)),\n",
       " ('S02E03', array([[0.39030492]], dtype=float32)),\n",
       " ('S08E22', array([[0.39347693]], dtype=float32)),\n",
       " ('S08E21', array([[0.3957464]], dtype=float32)),\n",
       " ('S01E02', array([[0.39898738]], dtype=float32)),\n",
       " ('S05E10', array([[0.40128526]], dtype=float32)),\n",
       " ('S05E14', array([[0.40136528]], dtype=float32)),\n",
       " ('S07E13', array([[0.4021101]], dtype=float32)),\n",
       " ('S07E16', array([[0.40459913]], dtype=float32)),\n",
       " ('S03E23', array([[0.40591532]], dtype=float32)),\n",
       " ('S08E12', array([[0.40617365]], dtype=float32)),\n",
       " ('S02E05', array([[0.40702605]], dtype=float32)),\n",
       " ('S08E11', array([[0.4081285]], dtype=float32)),\n",
       " ('S03E09', array([[0.40872204]], dtype=float32)),\n",
       " ('S04E14', array([[0.40937063]], dtype=float32)),\n",
       " ('S04E01', array([[0.41028193]], dtype=float32)),\n",
       " ('S04E05', array([[0.41213995]], dtype=float32)),\n",
       " ('S08E15', array([[0.4154168]], dtype=float32)),\n",
       " ('S07E07', array([[0.41608977]], dtype=float32)),\n",
       " ('S03E16', array([[0.4169376]], dtype=float32)),\n",
       " ('S03E04', array([[0.42015254]], dtype=float32)),\n",
       " ('S07E10', array([[0.4276172]], dtype=float32)),\n",
       " ('S03E17', array([[0.4300428]], dtype=float32)),\n",
       " ('S01E04', array([[0.4311439]], dtype=float32)),\n",
       " ('S04E23', array([[0.43183136]], dtype=float32)),\n",
       " ('S05E17', array([[0.43216345]], dtype=float32)),\n",
       " ('S03E12', array([[0.43441767]], dtype=float32)),\n",
       " ('S04E15', array([[0.4373442]], dtype=float32)),\n",
       " ('S06E01', array([[0.43861562]], dtype=float32)),\n",
       " ('S04E19', array([[0.43867552]], dtype=float32)),\n",
       " ('S09E04', array([[0.43955183]], dtype=float32)),\n",
       " ('S04E07', array([[0.44250888]], dtype=float32)),\n",
       " ('S04E18', array([[0.44762433]], dtype=float32)),\n",
       " ('S06E18', array([[0.44869953]], dtype=float32)),\n",
       " ('S03E13', array([[0.44895217]], dtype=float32)),\n",
       " ('S06E19', array([[0.44947577]], dtype=float32)),\n",
       " ('S04E12', array([[0.4510477]], dtype=float32)),\n",
       " ('S06E21', array([[0.4522419]], dtype=float32)),\n",
       " ('S07E24', array([[0.4532866]], dtype=float32)),\n",
       " ('S08E20', array([[0.45361975]], dtype=float32)),\n",
       " ('S02E12', array([[0.4537629]], dtype=float32)),\n",
       " ('S09E15', array([[0.4574711]], dtype=float32)),\n",
       " ('S08E04', array([[0.45833007]], dtype=float32)),\n",
       " ('S08E17', array([[0.46173465]], dtype=float32)),\n",
       " ('S06E20', array([[0.46442068]], dtype=float32)),\n",
       " ('S09E02', array([[0.46452364]], dtype=float32)),\n",
       " ('S06E22', array([[0.4658356]], dtype=float32)),\n",
       " ('S05E03', array([[0.46742022]], dtype=float32)),\n",
       " ('S08E07', array([[0.46787882]], dtype=float32)),\n",
       " ('S05E06', array([[0.46828914]], dtype=float32)),\n",
       " ('S08E06', array([[0.46900713]], dtype=float32)),\n",
       " ('S06E24', array([[0.4694013]], dtype=float32)),\n",
       " ('S05E05', array([[0.47180426]], dtype=float32)),\n",
       " ('S06E12', array([[0.4719454]], dtype=float32)),\n",
       " ('S06E13', array([[0.47421938]], dtype=float32)),\n",
       " ('S01E01', array([[0.475605]], dtype=float32)),\n",
       " ('S08E13', array([[0.47578633]], dtype=float32)),\n",
       " ('S07E03', array([[0.47759932]], dtype=float32)),\n",
       " ('S04E22', array([[0.4822438]], dtype=float32)),\n",
       " ('S08E16', array([[0.48457074]], dtype=float32)),\n",
       " ('S06E16', array([[0.485032]], dtype=float32)),\n",
       " ('S04E17', array([[0.4911728]], dtype=float32)),\n",
       " ('S04E20', array([[0.49217117]], dtype=float32)),\n",
       " ('S06E08', array([[0.49287286]], dtype=float32)),\n",
       " ('S03E20', array([[0.49355385]], dtype=float32)),\n",
       " ('S02E10', array([[0.49390006]], dtype=float32)),\n",
       " ('S05E02', array([[0.49515545]], dtype=float32)),\n",
       " ('S02E11', array([[0.49553454]], dtype=float32)),\n",
       " ('S06E05', array([[0.5013265]], dtype=float32)),\n",
       " ('S09E20', array([[0.50305873]], dtype=float32)),\n",
       " ('S07E09', array([[0.50850415]], dtype=float32)),\n",
       " ('S07E12', array([[0.5089878]], dtype=float32)),\n",
       " ('S07E04', array([[0.51079905]], dtype=float32)),\n",
       " ('S04E09', array([[0.5111257]], dtype=float32)),\n",
       " ('S09E16', array([[0.5125674]], dtype=float32)),\n",
       " ('S03E21', array([[0.5125991]], dtype=float32)),\n",
       " ('S04E10', array([[0.51343805]], dtype=float32)),\n",
       " ('S07E17', array([[0.513818]], dtype=float32)),\n",
       " ('S09E19', array([[0.515329]], dtype=float32)),\n",
       " ('S05E18', array([[0.5155421]], dtype=float32)),\n",
       " ('S09E06', array([[0.5169627]], dtype=float32)),\n",
       " ('S03E11', array([[0.51798344]], dtype=float32)),\n",
       " ('S03E05', array([[0.51839554]], dtype=float32)),\n",
       " ('S09E03', array([[0.518943]], dtype=float32)),\n",
       " ('S02E08', array([[0.52150464]], dtype=float32)),\n",
       " ('S06E23', array([[0.5215133]], dtype=float32)),\n",
       " ('S04E24', array([[0.5224174]], dtype=float32)),\n",
       " ('S05E04', array([[0.52286816]], dtype=float32)),\n",
       " ('S06E03', array([[0.52289826]], dtype=float32)),\n",
       " ('S05E09', array([[0.52455527]], dtype=float32)),\n",
       " ('S02E06', array([[0.5267902]], dtype=float32)),\n",
       " ('S06E10', array([[0.52816457]], dtype=float32)),\n",
       " ('S03E14', array([[0.5286144]], dtype=float32)),\n",
       " ('S04E08', array([[0.5329879]], dtype=float32)),\n",
       " ('S06E09', array([[0.5335466]], dtype=float32)),\n",
       " ('S06E07', array([[0.5366942]], dtype=float32)),\n",
       " ('S09E23', array([[0.53875923]], dtype=float32)),\n",
       " ('S05E21', array([[0.5388686]], dtype=float32)),\n",
       " ('S07E19', array([[0.5406048]], dtype=float32)),\n",
       " ('S04E16', array([[0.54477537]], dtype=float32)),\n",
       " ('S07E11', array([[0.55004776]], dtype=float32)),\n",
       " ('S08E08', array([[0.55219084]], dtype=float32)),\n",
       " ('S07E08', array([[0.559798]], dtype=float32)),\n",
       " ('S01E03', array([[0.56118214]], dtype=float32)),\n",
       " ('S09E10', array([[0.5614623]], dtype=float32)),\n",
       " ('S04E13', array([[0.56217384]], dtype=float32)),\n",
       " ('S03E06', array([[0.56324446]], dtype=float32)),\n",
       " ('S05E13', array([[0.5674333]], dtype=float32)),\n",
       " ('S02E04', array([[0.5710002]], dtype=float32)),\n",
       " ('S07E01', array([[0.57183295]], dtype=float32)),\n",
       " ('S09E12', array([[0.5760075]], dtype=float32)),\n",
       " ('S04E06', array([[0.5766907]], dtype=float32)),\n",
       " ('S05E20', array([[0.57765186]], dtype=float32)),\n",
       " ('S09E01', array([[0.5802494]], dtype=float32)),\n",
       " ('S06E02', array([[0.5891769]], dtype=float32)),\n",
       " ('S04E03', array([[0.58990765]], dtype=float32)),\n",
       " ('S05E01', array([[0.59994847]], dtype=float32)),\n",
       " ('S08E14', array([[0.6007004]], dtype=float32)),\n",
       " ('S05E07', array([[0.60152495]], dtype=float32)),\n",
       " ('S07E20', array([[0.6019762]], dtype=float32)),\n",
       " ('S06E17', array([[0.61184216]], dtype=float32)),\n",
       " ('S09E14', array([[0.6123314]], dtype=float32)),\n",
       " ('S06E11', array([[0.6166011]], dtype=float32)),\n",
       " ('S09E13', array([[0.6195679]], dtype=float32)),\n",
       " ('S08E02', array([[0.62622374]], dtype=float32)),\n",
       " ('S09E18', array([[0.63001895]], dtype=float32)),\n",
       " ('S03E10', array([[0.64289135]], dtype=float32)),\n",
       " ('S06E06', array([[0.6448965]], dtype=float32)),\n",
       " ('S09E07', array([[0.6789067]], dtype=float32)),\n",
       " ('S03E03', array([[0.68105054]], dtype=float32)),\n",
       " ('S05E12', array([[0.6890563]], dtype=float32)),\n",
       " ('S07E06', array([[0.75969416]], dtype=float32))]"
      ]
     },
     "execution_count": 53,
     "metadata": {},
     "output_type": "execute_result"
    }
   ],
   "source": [
    "so"
   ]
  },
  {
   "cell_type": "code",
   "execution_count": 56,
   "metadata": {},
   "outputs": [
    {
     "data": {
      "text/plain": [
       "\"Jerry?Do I know you?So, essentially, you chose soup over a woman?It was a bisque.Yeah.\\nYou made the right decision.See, the way I figure it, it's much easier to patch things up with Sheila than with the Soup Nazi.Hey.Yeah.Hey.Yeah.Oh, thanks.There he is.Elaine, I'm really sorry about the armoire.Yeah.\""
      ]
     },
     "execution_count": 56,
     "metadata": {},
     "output_type": "execute_result"
    }
   ],
   "source": [
    "summarize(ed['S07E06'], ratio=.01)"
   ]
  },
  {
   "cell_type": "code",
   "execution_count": null,
   "metadata": {},
   "outputs": [],
   "source": []
  }
 ],
 "metadata": {
  "kernelspec": {
   "display_name": "Python 3",
   "language": "python",
   "name": "python3"
  },
  "language_info": {
   "codemirror_mode": {
    "name": "ipython",
    "version": 3
   },
   "file_extension": ".py",
   "mimetype": "text/x-python",
   "name": "python",
   "nbconvert_exporter": "python",
   "pygments_lexer": "ipython3",
   "version": "3.7.7"
  }
 },
 "nbformat": 4,
 "nbformat_minor": 4
}
