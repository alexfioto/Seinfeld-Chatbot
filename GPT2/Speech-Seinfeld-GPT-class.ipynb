{
 "cells": [
  {
   "cell_type": "markdown",
   "metadata": {},
   "source": [
    "# GTP2 Generated Seinfeld ChatBot with Recommender System and Character Prediction"
   ]
  },
  {
   "cell_type": "code",
   "execution_count": 9,
   "metadata": {},
   "outputs": [],
   "source": [
    "from aitextgen.TokenDataset import TokenDataset\n",
    "from aitextgen.tokenizers import train_tokenizer\n",
    "from aitextgen.utils import GPT2ConfigCPU\n",
    "from aitextgen import aitextgen\n",
    "\n",
    "import speech_recognition as sr\n",
    "\n",
    "import pickle\n",
    "import spacy\n",
    "import pandas as pd\n",
    "import imdb\n",
    "\n",
    "import warnings"
   ]
  },
  {
   "cell_type": "code",
   "execution_count": 2,
   "metadata": {},
   "outputs": [
    {
     "data": {
      "text/plain": [
       "'/Users/alexander.fioto/github/Seinfeld-Chatbot/GTP2'"
      ]
     },
     "execution_count": 2,
     "metadata": {},
     "output_type": "execute_result"
    }
   ],
   "source": [
    "pwd"
   ]
  },
  {
   "cell_type": "code",
   "execution_count": 3,
   "metadata": {},
   "outputs": [],
   "source": [
    "warnings.simplefilter(action='ignore')"
   ]
  },
  {
   "cell_type": "code",
   "execution_count": null,
   "metadata": {},
   "outputs": [],
   "source": []
  },
  {
   "cell_type": "code",
   "execution_count": 4,
   "metadata": {},
   "outputs": [],
   "source": [
    "# Loading dictionary with all of the episode names and dialogues\n",
    "with open('../data/episode_dialogues.pkl', 'rb') as f:\n",
    "    episode_dialogues = pickle.load(f)"
   ]
  },
  {
   "cell_type": "code",
   "execution_count": 5,
   "metadata": {},
   "outputs": [],
   "source": [
    "# Loading BERT embeddings for Seinfeld Epiosdes\n",
    "with open('/Users/alexander.fioto/Models/seinfeld_bert_spacy.pkl', 'rb') as f:\n",
    "    seinfeld_vectors = pickle.load(f)"
   ]
  },
  {
   "cell_type": "code",
   "execution_count": 6,
   "metadata": {},
   "outputs": [],
   "source": [
    "# Opening SVC Model\n",
    "with open('../data/svc_classification_model.pkl', 'rb') as f:\n",
    "    svc_model = pickle.load(f)"
   ]
  },
  {
   "cell_type": "code",
   "execution_count": null,
   "metadata": {},
   "outputs": [],
   "source": []
  },
  {
   "cell_type": "code",
   "execution_count": 36,
   "metadata": {},
   "outputs": [],
   "source": [
    "# This code tests the aitextgen model.\n",
    "\n",
    "# fp = '/Users/alexander.fioto/Models/Labeled-Seinfeld-Model/' \n",
    "\n",
    "# ai = aitextgen(model= fp + \"pytorch_model.bin\",\n",
    "#                config = fp + 'config.json', \n",
    "#                vocab_file=fp + 'aitextgen-vocab.json',\n",
    "#                merges_file=fp + 'aitextgen-merges.txt')\n",
    "\n",
    "# text = ai.generate(prompt='ALEX: Tell me about yourself',\n",
    "#             temperature = .7,\n",
    "#             return_as_list = True)"
   ]
  },
  {
   "cell_type": "code",
   "execution_count": null,
   "metadata": {},
   "outputs": [],
   "source": []
  },
  {
   "cell_type": "code",
   "execution_count": 10,
   "metadata": {},
   "outputs": [],
   "source": [
    "class SeinfeldChatbot():\n",
    "    def __init__(self, name='Buddy', transformer='en_trf_bertbaseuncased_lg', fp='/Users/alexander.fioto/Models/Larger-Seinfeld-Model/', temperature = .4):\n",
    "        self.user_name_title = 'USER: '\n",
    "        self.chat_dialogue = ''\n",
    "        self.chat_dialogue_complete = ''\n",
    "        self.name = name\n",
    "        self.fp = fp\n",
    "        self.greeted = False\n",
    "        self.similarity_scores = None\n",
    "        self.temperature = temperature\n",
    "        self.exit_commands = ['bye', 'exit', 'i have to go', 'later', 'gtg', 'stop', 'end', 'done']\n",
    "        self.positive_responses = ['yes', 'yep', 'sure', 'definitely', 'y']\n",
    "        self.negative_responses = ['no', 'no thanks', 'nope', 'nah', 'n']\n",
    "        self.punctuation = ['.', '!', '?']\n",
    "        self.model = aitextgen(model= fp + \"pytorch_model.bin\",\n",
    "                               config = fp + 'config.json', \n",
    "                               vocab_file=fp + 'aitextgen-vocab.json',\n",
    "                               merges_file=fp + 'aitextgen-merges.txt')\n",
    "        self.transformer = transformer\n",
    "        self.recommender_initialized = False\n",
    "        print(\"Model Loaded!\")\n",
    "        \n",
    "        \n",
    "    def change_temp(self, temp):\n",
    "        if temp < 0 or temp > 1:\n",
    "            raise ValueError('Value must be greater than 0 and less than or equal to 1')\n",
    "        else:\n",
    "            self.temperature = temp\n",
    "        \n",
    "        \n",
    "    def greet(self):\n",
    "        res = input(\"Welcome to the SeinfeldChatbot! Do you want to chat?\")\n",
    "        if res.lower() not in self.negative_responses:\n",
    "            res = input(\"GEORGE: Can I get your name, pal?\")\n",
    "            if res in self.negative_responses:\n",
    "                print('GEORGE: Fine. Stay anonymous. See if I care.')\n",
    "            else:\n",
    "                self.name = res\n",
    "                self.user_name_title = self.name.upper() + ': '\n",
    "            self.greeted = True\n",
    "            self.chat()\n",
    "        else:\n",
    "            print('JERRY: OK. Fine. Leave. GO!')\n",
    "    \n",
    "    \n",
    "    def generate_response(self, text_input):\n",
    "        if text_input[-1] not in self.punctuation:\n",
    "            text_input += '.'\n",
    "        self.chat_dialogue += ' ' + text_input\n",
    "        text = self.model.generate(prompt = f'{self.user_name_title}' + text_input,\n",
    "                                            temperature = .4,\n",
    "                                            return_as_list = True)\n",
    "        self.split_text_ = text[0].split('\\n\\n')\n",
    "        self.split_text_.pop()\n",
    "        final_text = ''.join(self.split_text_[:3])\n",
    "        self.chat_dialogue_complete += final_text + '\\n'\n",
    "        print(final_text)\n",
    "                \n",
    "        \n",
    "    \n",
    "    def chat(self):\n",
    "        if self.greeted == True:\n",
    "            print(f'JERRY: What do you want, {self.name}?')\n",
    "            chat = True\n",
    "            while chat:\n",
    "                r = sr.Recognizer()\n",
    "                with sr.Microphone() as source:\n",
    "                    print(\"Say something!\")\n",
    "                    audio = r.listen(source)\n",
    "                text_input = r.recognize_google(audio)\n",
    "                if text_input in self.exit_commands:\n",
    "                    chat = False\n",
    "                    print('KRAMER: Who turns down a junior mint?')\n",
    "                    print('Thanks for chatting!')\n",
    "                elif 'recommend' in text_input:\n",
    "                    res = input(\"JERRY: Did you want an episode recommendation? It might take a minute.\")\n",
    "                    if res.lower() in self.positive_responses:\n",
    "                        if self.recommender_initialized:\n",
    "                            self.episode_recommendation()\n",
    "                        else:\n",
    "                            self.initialize_recommender()\n",
    "                    else:\n",
    "                        print('JERRY: Oh. Well what you said wasn\\'t clear.')\n",
    "                        #self.generate_response(text_input)\n",
    "                \n",
    "                elif 'sound like' in text_input.lower():\n",
    "                        self.predict_character()\n",
    "\n",
    "                else:\n",
    "                    self.generate_response(text_input)\n",
    "        else:\n",
    "            self.greet()\n",
    "\n",
    "    \n",
    "    \n",
    "    #### Episode Recommender #### \n",
    "    def initialize_recommender(self):\n",
    "        '''\n",
    "        This method initializes the recommender engine. You may use other pretrained transformers such as\n",
    "        en_trf_bertbaseuncased_lg. If you use BERT, you will see more accurate results but it will take longer\n",
    "        to load!\n",
    "        '''\n",
    "        if not self.recommender_initialized:\n",
    "            self.nlp_ = spacy.load(self.transformer)\n",
    "            self.recommender_initialized = True\n",
    "            df = pd.read_csv('../data/clean_scripts.csv', index_col=0)\n",
    "            self.episodes_ = df['SEID'].unique()\n",
    "\n",
    "            ia = imdb.IMDb()\n",
    "            self.series_ = ia.get_movie('0098904')\n",
    "            ia.update(self.series_, 'episodes')\n",
    "            sorted(self.series_['episodes'].keys())\n",
    "            print('Recommender Initialized!')\n",
    "            self.update_similarities()\n",
    "            self.episode_recommendation()\n",
    "        else:\n",
    "            print(\"The recommender is already initialized.\")\n",
    "        \n",
    "        \n",
    "\n",
    "    def update_similarities(self):\n",
    "        if not self.recommender_initialized:\n",
    "            res = input('You need to initialize the recommender system. Would you like to initialize?')\n",
    "            if res.lower() in self.positive_responses:\n",
    "                self.initialize_recommender()\n",
    "            else:\n",
    "                print('OK. Hope you come back later!')\n",
    "        \n",
    "        else:\n",
    "\n",
    "            if self.chat_dialogue:\n",
    "                similarity_scores = []\n",
    "                for episode in self.episodes_:\n",
    "                    doc1 = self.nlp_(self.chat_dialogue)\n",
    "                    doc2 = seinfeld_vectors[episode]\n",
    "                    similarity_scores.append((episode, doc1.similarity(doc2)))\n",
    "                similarity_scores.sort(key=lambda x: x[1], reverse = True)\n",
    "                self.similarity_scores = similarity_scores\n",
    "                self.scores_list_ = []\n",
    "                for i in range(len(self.similarity_scores)):\n",
    "                    self.scores_list_.append([int(self.similarity_scores[i][0][1:3]), int(self.similarity_scores[i][0][-2:])])\n",
    "                print('JERRY: Thanks for you patience. That took way too long.')\n",
    "            else:\n",
    "                print('KRAMER: It looks like you haven\\'t chatted yet. Please chat for a while and come back!')\n",
    "    \n",
    "    def episode_recommendation(self):\n",
    "        \n",
    "        \n",
    "        if not self.recommender_initialized:\n",
    "            res = input('JERRY: You need to initialize the recommender. Want to do it?')\n",
    "            if res.lower() in self.positive_responses:\n",
    "                self.initialize_recommender()\n",
    "            else:\n",
    "                print('JERRY: OK.')\n",
    "        \n",
    "        \n",
    "        elif not self.similarity_scores:\n",
    "            res = input('ELAINE: You need to get similarity scores first. Want to do grab them?')\n",
    "            if res.lower() in self.positive_responses:\n",
    "                self.update_similarities()\n",
    "            else:\n",
    "                print('GEORGE: Fine. Have it that way.')\n",
    "    \n",
    "            \n",
    "        else:\n",
    "            \n",
    "            for i in range(len(self.scores_list_)):\n",
    "                episode = self.series_['episodes'][self.scores_list_[i][0]][self.scores_list_[i][1]]\n",
    "                title = episode['title']\n",
    "                plot = episode['plot']\n",
    "                res = input(f'JERRY: Based on your chat dialogue, I would recommend you check out Seinfeld Season {self.scores_list_[i][0]}, episode {self.scores_list_[i][1]}, \"{title}\". Do you want to know the plot?')\n",
    "                if res.lower() in self.positive_responses:\n",
    "                    print(plot)\n",
    "                res = input('Do you want a link to the show?')\n",
    "                if res.lower() in self.positive_responses:\n",
    "                    print(f'https://www.youtube.com/results?search_query=seinfeld+season+{self.scores_list_[i][0]}+episode+{self.scores_list_[i][1]}')\n",
    "                res = input('JERRY: Do you want another recommendation?')\n",
    "                if res == 'no':\n",
    "                    print('JERRY: OK.')\n",
    "                    break\n",
    "\n",
    "            \n",
    "    ##### Character Predictor#####\n",
    "    \n",
    "    def predict_character(self, text=None):\n",
    "        if text:\n",
    "            prediction = svc_model.predict([text])\n",
    "        else:\n",
    "            prediction = svc_model.predict([self.chat_dialogue])\n",
    "            \n",
    "        if prediction == 0:\n",
    "            print('You sound like Jerry!')\n",
    "        elif prediction == 1:\n",
    "            print('You sound like George!')\n",
    "        elif prediction == 1:\n",
    "            print('You sound like Kramer!')\n",
    "        else:\n",
    "            print('You sound like Elaine!')\n",
    "   \n",
    "        \n",
    "        "
   ]
  },
  {
   "cell_type": "code",
   "execution_count": 13,
   "metadata": {},
   "outputs": [
    {
     "name": "stdout",
     "output_type": "stream",
     "text": [
      "Model Loaded!\n"
     ]
    },
    {
     "name": "stdin",
     "output_type": "stream",
     "text": [
      "Welcome to the SeinfeldChatbot! Do you want to chat? Ye\n",
      "GEORGE: Can I get your name, pal? Alex\n"
     ]
    },
    {
     "name": "stdout",
     "output_type": "stream",
     "text": [
      "JERRY: What do you want, Alex?\n",
      "Say something!\n"
     ]
    },
    {
     "name": "stderr",
     "output_type": "stream",
     "text": [
      "Setting `pad_token_id` to 0 (first `eos_token_id`) to generate sequence\n"
     ]
    },
    {
     "name": "stdout",
     "output_type": "stream",
     "text": [
      "ALEX: maybe the dingo ate your baby! Hello.\n",
      "KRAMER: Hey.\n",
      "JERRY: Hey.\n",
      "Say something!\n"
     ]
    },
    {
     "name": "stderr",
     "output_type": "stream",
     "text": [
      "Setting `pad_token_id` to 0 (first `eos_token_id`) to generate sequence\n"
     ]
    },
    {
     "name": "stdout",
     "output_type": "stream",
     "text": [
      "ALEX: what is Kramer doing today.\n",
      "KRAMER: Well, I don't know... buddies.\n",
      "ELAINE: I *puff* of water. I'll just browse around on my own.\n",
      "Say something!\n"
     ]
    },
    {
     "name": "stderr",
     "output_type": "stream",
     "text": [
      "Setting `pad_token_id` to 0 (first `eos_token_id`) to generate sequence\n"
     ]
    },
    {
     "name": "stdout",
     "output_type": "stream",
     "text": [
      "ALEX: can we get some coffee?.\n",
      "GEORGE:  That's right.\n",
      "KRAMER:  That's my coat.\n",
      "Say something!\n"
     ]
    },
    {
     "ename": "KeyboardInterrupt",
     "evalue": "",
     "output_type": "error",
     "traceback": [
      "\u001b[0;31m---------------------------------------------------------------------------\u001b[0m",
      "\u001b[0;31mKeyboardInterrupt\u001b[0m                         Traceback (most recent call last)",
      "\u001b[0;32m<ipython-input-13-80de521d36c9>\u001b[0m in \u001b[0;36m<module>\u001b[0;34m\u001b[0m\n\u001b[1;32m      1\u001b[0m \u001b[0mbot\u001b[0m \u001b[0;34m=\u001b[0m \u001b[0mSeinfeldChatbot\u001b[0m\u001b[0;34m(\u001b[0m\u001b[0;34m)\u001b[0m\u001b[0;34m\u001b[0m\u001b[0;34m\u001b[0m\u001b[0m\n\u001b[0;32m----> 2\u001b[0;31m \u001b[0mbot\u001b[0m\u001b[0;34m.\u001b[0m\u001b[0mchat\u001b[0m\u001b[0;34m(\u001b[0m\u001b[0;34m)\u001b[0m\u001b[0;34m\u001b[0m\u001b[0;34m\u001b[0m\u001b[0m\n\u001b[0m",
      "\u001b[0;32m<ipython-input-10-6e7547193a5a>\u001b[0m in \u001b[0;36mchat\u001b[0;34m(self)\u001b[0m\n\u001b[1;32m     90\u001b[0m                     \u001b[0mself\u001b[0m\u001b[0;34m.\u001b[0m\u001b[0mgenerate_response\u001b[0m\u001b[0;34m(\u001b[0m\u001b[0mtext_input\u001b[0m\u001b[0;34m)\u001b[0m\u001b[0;34m\u001b[0m\u001b[0;34m\u001b[0m\u001b[0m\n\u001b[1;32m     91\u001b[0m         \u001b[0;32melse\u001b[0m\u001b[0;34m:\u001b[0m\u001b[0;34m\u001b[0m\u001b[0;34m\u001b[0m\u001b[0m\n\u001b[0;32m---> 92\u001b[0;31m             \u001b[0mself\u001b[0m\u001b[0;34m.\u001b[0m\u001b[0mgreet\u001b[0m\u001b[0;34m(\u001b[0m\u001b[0;34m)\u001b[0m\u001b[0;34m\u001b[0m\u001b[0;34m\u001b[0m\u001b[0m\n\u001b[0m\u001b[1;32m     93\u001b[0m \u001b[0;34m\u001b[0m\u001b[0m\n\u001b[1;32m     94\u001b[0m \u001b[0;34m\u001b[0m\u001b[0m\n",
      "\u001b[0;32m<ipython-input-10-6e7547193a5a>\u001b[0m in \u001b[0;36mgreet\u001b[0;34m(self)\u001b[0m\n\u001b[1;32m     39\u001b[0m                 \u001b[0mself\u001b[0m\u001b[0;34m.\u001b[0m\u001b[0muser_name_title\u001b[0m \u001b[0;34m=\u001b[0m \u001b[0mself\u001b[0m\u001b[0;34m.\u001b[0m\u001b[0mname\u001b[0m\u001b[0;34m.\u001b[0m\u001b[0mupper\u001b[0m\u001b[0;34m(\u001b[0m\u001b[0;34m)\u001b[0m \u001b[0;34m+\u001b[0m \u001b[0;34m': '\u001b[0m\u001b[0;34m\u001b[0m\u001b[0;34m\u001b[0m\u001b[0m\n\u001b[1;32m     40\u001b[0m             \u001b[0mself\u001b[0m\u001b[0;34m.\u001b[0m\u001b[0mgreeted\u001b[0m \u001b[0;34m=\u001b[0m \u001b[0;32mTrue\u001b[0m\u001b[0;34m\u001b[0m\u001b[0;34m\u001b[0m\u001b[0m\n\u001b[0;32m---> 41\u001b[0;31m             \u001b[0mself\u001b[0m\u001b[0;34m.\u001b[0m\u001b[0mchat\u001b[0m\u001b[0;34m(\u001b[0m\u001b[0;34m)\u001b[0m\u001b[0;34m\u001b[0m\u001b[0;34m\u001b[0m\u001b[0m\n\u001b[0m\u001b[1;32m     42\u001b[0m         \u001b[0;32melse\u001b[0m\u001b[0;34m:\u001b[0m\u001b[0;34m\u001b[0m\u001b[0;34m\u001b[0m\u001b[0m\n\u001b[1;32m     43\u001b[0m             \u001b[0mprint\u001b[0m\u001b[0;34m(\u001b[0m\u001b[0;34m'JERRY: OK. Fine. Leave. GO!'\u001b[0m\u001b[0;34m)\u001b[0m\u001b[0;34m\u001b[0m\u001b[0;34m\u001b[0m\u001b[0m\n",
      "\u001b[0;32m<ipython-input-10-6e7547193a5a>\u001b[0m in \u001b[0;36mchat\u001b[0;34m(self)\u001b[0m\n\u001b[1;32m     67\u001b[0m                 \u001b[0;32mwith\u001b[0m \u001b[0msr\u001b[0m\u001b[0;34m.\u001b[0m\u001b[0mMicrophone\u001b[0m\u001b[0;34m(\u001b[0m\u001b[0;34m)\u001b[0m \u001b[0;32mas\u001b[0m \u001b[0msource\u001b[0m\u001b[0;34m:\u001b[0m\u001b[0;34m\u001b[0m\u001b[0;34m\u001b[0m\u001b[0m\n\u001b[1;32m     68\u001b[0m                     \u001b[0mprint\u001b[0m\u001b[0;34m(\u001b[0m\u001b[0;34m\"Say something!\"\u001b[0m\u001b[0;34m)\u001b[0m\u001b[0;34m\u001b[0m\u001b[0;34m\u001b[0m\u001b[0m\n\u001b[0;32m---> 69\u001b[0;31m                     \u001b[0maudio\u001b[0m \u001b[0;34m=\u001b[0m \u001b[0mr\u001b[0m\u001b[0;34m.\u001b[0m\u001b[0mlisten\u001b[0m\u001b[0;34m(\u001b[0m\u001b[0msource\u001b[0m\u001b[0;34m)\u001b[0m\u001b[0;34m\u001b[0m\u001b[0;34m\u001b[0m\u001b[0m\n\u001b[0m\u001b[1;32m     70\u001b[0m                 \u001b[0mtext_input\u001b[0m \u001b[0;34m=\u001b[0m \u001b[0mr\u001b[0m\u001b[0;34m.\u001b[0m\u001b[0mrecognize_google\u001b[0m\u001b[0;34m(\u001b[0m\u001b[0maudio\u001b[0m\u001b[0;34m)\u001b[0m\u001b[0;34m\u001b[0m\u001b[0;34m\u001b[0m\u001b[0m\n\u001b[1;32m     71\u001b[0m                 \u001b[0;32mif\u001b[0m \u001b[0mtext_input\u001b[0m \u001b[0;32min\u001b[0m \u001b[0mself\u001b[0m\u001b[0;34m.\u001b[0m\u001b[0mexit_commands\u001b[0m\u001b[0;34m:\u001b[0m\u001b[0;34m\u001b[0m\u001b[0;34m\u001b[0m\u001b[0m\n",
      "\u001b[0;32m~/opt/anaconda3/lib/python3.7/site-packages/speech_recognition/__init__.py\u001b[0m in \u001b[0;36mlisten\u001b[0;34m(self, source, timeout, phrase_time_limit, snowboy_configuration)\u001b[0m\n\u001b[1;32m    650\u001b[0m                     \u001b[0;32mbreak\u001b[0m\u001b[0;34m\u001b[0m\u001b[0;34m\u001b[0m\u001b[0m\n\u001b[1;32m    651\u001b[0m \u001b[0;34m\u001b[0m\u001b[0m\n\u001b[0;32m--> 652\u001b[0;31m                 \u001b[0mbuffer\u001b[0m \u001b[0;34m=\u001b[0m \u001b[0msource\u001b[0m\u001b[0;34m.\u001b[0m\u001b[0mstream\u001b[0m\u001b[0;34m.\u001b[0m\u001b[0mread\u001b[0m\u001b[0;34m(\u001b[0m\u001b[0msource\u001b[0m\u001b[0;34m.\u001b[0m\u001b[0mCHUNK\u001b[0m\u001b[0;34m)\u001b[0m\u001b[0;34m\u001b[0m\u001b[0;34m\u001b[0m\u001b[0m\n\u001b[0m\u001b[1;32m    653\u001b[0m                 \u001b[0;32mif\u001b[0m \u001b[0mlen\u001b[0m\u001b[0;34m(\u001b[0m\u001b[0mbuffer\u001b[0m\u001b[0;34m)\u001b[0m \u001b[0;34m==\u001b[0m \u001b[0;36m0\u001b[0m\u001b[0;34m:\u001b[0m \u001b[0;32mbreak\u001b[0m  \u001b[0;31m# reached end of the stream\u001b[0m\u001b[0;34m\u001b[0m\u001b[0;34m\u001b[0m\u001b[0m\n\u001b[1;32m    654\u001b[0m                 \u001b[0mframes\u001b[0m\u001b[0;34m.\u001b[0m\u001b[0mappend\u001b[0m\u001b[0;34m(\u001b[0m\u001b[0mbuffer\u001b[0m\u001b[0;34m)\u001b[0m\u001b[0;34m\u001b[0m\u001b[0;34m\u001b[0m\u001b[0m\n",
      "\u001b[0;32m~/opt/anaconda3/lib/python3.7/site-packages/speech_recognition/__init__.py\u001b[0m in \u001b[0;36mread\u001b[0;34m(self, size)\u001b[0m\n\u001b[1;32m    159\u001b[0m \u001b[0;34m\u001b[0m\u001b[0m\n\u001b[1;32m    160\u001b[0m         \u001b[0;32mdef\u001b[0m \u001b[0mread\u001b[0m\u001b[0;34m(\u001b[0m\u001b[0mself\u001b[0m\u001b[0;34m,\u001b[0m \u001b[0msize\u001b[0m\u001b[0;34m)\u001b[0m\u001b[0;34m:\u001b[0m\u001b[0;34m\u001b[0m\u001b[0;34m\u001b[0m\u001b[0m\n\u001b[0;32m--> 161\u001b[0;31m             \u001b[0;32mreturn\u001b[0m \u001b[0mself\u001b[0m\u001b[0;34m.\u001b[0m\u001b[0mpyaudio_stream\u001b[0m\u001b[0;34m.\u001b[0m\u001b[0mread\u001b[0m\u001b[0;34m(\u001b[0m\u001b[0msize\u001b[0m\u001b[0;34m,\u001b[0m \u001b[0mexception_on_overflow\u001b[0m\u001b[0;34m=\u001b[0m\u001b[0;32mFalse\u001b[0m\u001b[0;34m)\u001b[0m\u001b[0;34m\u001b[0m\u001b[0;34m\u001b[0m\u001b[0m\n\u001b[0m\u001b[1;32m    162\u001b[0m \u001b[0;34m\u001b[0m\u001b[0m\n\u001b[1;32m    163\u001b[0m         \u001b[0;32mdef\u001b[0m \u001b[0mclose\u001b[0m\u001b[0;34m(\u001b[0m\u001b[0mself\u001b[0m\u001b[0;34m)\u001b[0m\u001b[0;34m:\u001b[0m\u001b[0;34m\u001b[0m\u001b[0;34m\u001b[0m\u001b[0m\n",
      "\u001b[0;32m~/opt/anaconda3/lib/python3.7/site-packages/pyaudio.py\u001b[0m in \u001b[0;36mread\u001b[0;34m(self, num_frames, exception_on_overflow)\u001b[0m\n\u001b[1;32m    606\u001b[0m                           paCanNotReadFromAnOutputOnlyStream)\n\u001b[1;32m    607\u001b[0m \u001b[0;34m\u001b[0m\u001b[0m\n\u001b[0;32m--> 608\u001b[0;31m         \u001b[0;32mreturn\u001b[0m \u001b[0mpa\u001b[0m\u001b[0;34m.\u001b[0m\u001b[0mread_stream\u001b[0m\u001b[0;34m(\u001b[0m\u001b[0mself\u001b[0m\u001b[0;34m.\u001b[0m\u001b[0m_stream\u001b[0m\u001b[0;34m,\u001b[0m \u001b[0mnum_frames\u001b[0m\u001b[0;34m,\u001b[0m \u001b[0mexception_on_overflow\u001b[0m\u001b[0;34m)\u001b[0m\u001b[0;34m\u001b[0m\u001b[0;34m\u001b[0m\u001b[0m\n\u001b[0m\u001b[1;32m    609\u001b[0m \u001b[0;34m\u001b[0m\u001b[0m\n\u001b[1;32m    610\u001b[0m     \u001b[0;32mdef\u001b[0m \u001b[0mget_read_available\u001b[0m\u001b[0;34m(\u001b[0m\u001b[0mself\u001b[0m\u001b[0;34m)\u001b[0m\u001b[0;34m:\u001b[0m\u001b[0;34m\u001b[0m\u001b[0;34m\u001b[0m\u001b[0m\n",
      "\u001b[0;31mKeyboardInterrupt\u001b[0m: "
     ]
    }
   ],
   "source": [
    "bot = SeinfeldChatbot()\n",
    "bot.chat()"
   ]
  },
  {
   "cell_type": "code",
   "execution_count": null,
   "metadata": {},
   "outputs": [],
   "source": []
  },
  {
   "cell_type": "code",
   "execution_count": 24,
   "metadata": {},
   "outputs": [
    {
     "name": "stdout",
     "output_type": "stream",
     "text": [
      "You sound like Elaine!\n"
     ]
    }
   ],
   "source": [
    "bot.predict_character(\"Maybe the dingo ate your baby!\")"
   ]
  },
  {
   "cell_type": "code",
   "execution_count": null,
   "metadata": {},
   "outputs": [],
   "source": []
  },
  {
   "cell_type": "code",
   "execution_count": null,
   "metadata": {},
   "outputs": [],
   "source": []
  },
  {
   "cell_type": "code",
   "execution_count": null,
   "metadata": {},
   "outputs": [],
   "source": []
  },
  {
   "cell_type": "markdown",
   "metadata": {},
   "source": [
    "# Scractch work for IMDb API"
   ]
  },
  {
   "cell_type": "code",
   "execution_count": 23,
   "metadata": {},
   "outputs": [],
   "source": [
    "# import imdb\n",
    "# ia = imdb.IMDb()\n",
    "\n",
    "# # Seinfeld is 0098904\n",
    "# series = ia.get_movie('0098904')\n",
    "\n",
    "\n",
    "# ia.update(series, 'episodes')\n",
    "# sorted(series['episodes'].keys())\n",
    "\n",
    "\n",
    "# episode = series['episodes'][7][5]\n",
    "\n",
    "# episode['title']\n",
    "\n"
   ]
  },
  {
   "cell_type": "code",
   "execution_count": null,
   "metadata": {},
   "outputs": [],
   "source": []
  }
 ],
 "metadata": {
  "kernelspec": {
   "display_name": "Python 3",
   "language": "python",
   "name": "python3"
  },
  "language_info": {
   "codemirror_mode": {
    "name": "ipython",
    "version": 3
   },
   "file_extension": ".py",
   "mimetype": "text/x-python",
   "name": "python",
   "nbconvert_exporter": "python",
   "pygments_lexer": "ipython3",
   "version": "3.7.7"
  }
 },
 "nbformat": 4,
 "nbformat_minor": 4
}
