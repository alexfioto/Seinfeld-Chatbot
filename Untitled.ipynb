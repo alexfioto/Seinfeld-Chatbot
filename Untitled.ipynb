{
 "cells": [
  {
   "cell_type": "code",
   "execution_count": 25,
   "metadata": {},
   "outputs": [],
   "source": [
    "import abc\n",
    "from collections.abc import Sequence\n",
    "from operator import itemgetter\n",
    "import re\n"
   ]
  },
  {
   "cell_type": "code",
   "execution_count": 14,
   "metadata": {},
   "outputs": [],
   "source": [
    "class Dialog(abc.ABC):\n",
    "    def listen(self, text, response=True, **kwargs):\n",
    "        sents = self.parse(text)\n",
    "        sents, confidence, kwargs = self.interpret(sents, **kwargs)\n",
    "        if response:\n",
    "            reply = self.respond(sents, confidence, **kwargs)\n",
    "        else:\n",
    "            reply = None\n",
    "        return reply, confidence\n",
    "    @abc.abstractmethod\n",
    "    \n",
    "    def parse(self, text):\n",
    "        return []\n",
    "    \n",
    "    @abc.abstractmethod\n",
    "    def interpret(self, sents, **kwargs):\n",
    "        return sents, 0.0, kwargs\n",
    "    \n",
    "    @abc.abstractmethod\n",
    "    def respond(self, sents, confidence, **kwargs):\n",
    "        return None\n",
    "    "
   ]
  },
  {
   "cell_type": "code",
   "execution_count": 22,
   "metadata": {},
   "outputs": [],
   "source": [
    "class SimpleConversation(Dialog, Sequence):\n",
    "    def __init__(self, dialogs):\n",
    "        self._dialogs = dialogs\n",
    "    \n",
    "    def __getitem__(self, idx):\n",
    "        return self._dialogs[idx]\n",
    "    \n",
    "    def __len__(self):\n",
    "        return len(self._dialogs)\n",
    "    \n",
    "    def listen(self, text, response=True, **kwargs):\n",
    "        responses = [dialog.listen(text, response, **kwargs) for dialog in self._diaglogs]\n",
    "        return max(responses, keys=itemgetter(1))\n",
    "    \n",
    "    def parse(self, text):\n",
    "        return [dialog.parse(text) for dialog in self._dialog]\n",
    "    \n",
    "    def interpret(self, sents, **kwargs):\n",
    "        return [dialog.interpret(sents, **kwargs) for dialog in self._dialogs]\n",
    "    \n",
    "    def respond(self, sents, confidence, **kwargs):\n",
    "        return [dialog.respond(sents, confidence, **kwargs) for dialog in self._dialog]\n",
    "    "
   ]
  },
  {
   "cell_type": "code",
   "execution_count": 28,
   "metadata": {},
   "outputs": [],
   "source": [
    "class Greeting(Dialog):\n",
    "    PATTERNS = {\n",
    "        'greeting': r'hello|hi|hey|good morning|good evening',\n",
    "        'introduction': r'my name is ([a-z\\-\\s]+)',\n",
    "        'goodbye': r'goodbye|bye\\ttyl',\n",
    "        'rollcall': r'roll call| who\\'s here?',\n",
    "    }\n",
    "    \n",
    "    def __init__(self, participants=None):\n",
    "        self.participants = {}\n",
    "        if participants is not None:\n",
    "            for participant in participants:\n",
    "                self.participants[participant] = None\n",
    "        self._patterns = {\n",
    "            key: re.compile(pattern, re.I)\n",
    "            for key, pattern in self.PATTERNS.items()\n",
    "        }\n",
    "    def parse(self, text):\n",
    "        matches = {}\n",
    "        for key, pattern in self._patterns.items():\n",
    "            match = pattern.match(text)\n",
    "            if match is not None:\n",
    "                matches[key] = match\n",
    "        return matches\n",
    "    \n",
    "    def interpret(self, sents, **kwargs):\n",
    "        if len(sents) == 0:\n",
    "            return sents, 0.0, kwargs\n",
    "        \n",
    "        user = kwargs.get('user', none)\n",
    "        \n",
    "        if introduction in sents:\n",
    "            name = sents['introduction'].groups()[0]\n",
    "        \n",
    "        "
   ]
  },
  {
   "cell_type": "code",
   "execution_count": null,
   "metadata": {},
   "outputs": [],
   "source": []
  },
  {
   "cell_type": "code",
   "execution_count": null,
   "metadata": {},
   "outputs": [],
   "source": []
  },
  {
   "cell_type": "code",
   "execution_count": null,
   "metadata": {},
   "outputs": [],
   "source": []
  },
  {
   "cell_type": "code",
   "execution_count": null,
   "metadata": {},
   "outputs": [],
   "source": []
  }
 ],
 "metadata": {
  "kernelspec": {
   "display_name": "Python 3",
   "language": "python",
   "name": "python3"
  },
  "language_info": {
   "codemirror_mode": {
    "name": "ipython",
    "version": 3
   },
   "file_extension": ".py",
   "mimetype": "text/x-python",
   "name": "python",
   "nbconvert_exporter": "python",
   "pygments_lexer": "ipython3",
   "version": "3.7.7"
  }
 },
 "nbformat": 4,
 "nbformat_minor": 4
}
