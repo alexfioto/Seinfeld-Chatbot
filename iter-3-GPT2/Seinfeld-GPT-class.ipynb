{
 "cells": [
  {
   "cell_type": "markdown",
   "metadata": {},
   "source": [
    "# GTP2 Generated Seinfeld ChatBot with Recommender System"
   ]
  },
  {
   "cell_type": "code",
   "execution_count": 405,
   "metadata": {},
   "outputs": [],
   "source": [
    "from aitextgen.TokenDataset import TokenDataset\n",
    "from aitextgen.tokenizers import train_tokenizer\n",
    "from aitextgen.utils import GPT2ConfigCPU\n",
    "from aitextgen import aitextgen\n",
    "\n",
    "import pickle\n",
    "import spacy\n",
    "import pandas as pd\n",
    "\n",
    "import warnings"
   ]
  },
  {
   "cell_type": "code",
   "execution_count": 408,
   "metadata": {},
   "outputs": [],
   "source": [
    "warnings.filterwarnings(action='ignore')"
   ]
  },
  {
   "cell_type": "code",
   "execution_count": 388,
   "metadata": {},
   "outputs": [],
   "source": [
    "# Loading a dictionary with all of the episode names and dialogues\n",
    "with open('../data/episode_dialogues.pkl', 'rb') as f:\n",
    "    episode_dialogues = pickle.load(f)"
   ]
  },
  {
   "cell_type": "code",
   "execution_count": null,
   "metadata": {},
   "outputs": [],
   "source": [
    "episode_dialogues"
   ]
  },
  {
   "cell_type": "code",
   "execution_count": 394,
   "metadata": {},
   "outputs": [],
   "source": [
    "with open('/Users/alexander.fioto/Models/seinfeld_bert_spacy.pkl', 'rb') as f:\n",
    "    seinfeld_vectors = pickle.load(f)"
   ]
  },
  {
   "cell_type": "code",
   "execution_count": null,
   "metadata": {},
   "outputs": [],
   "source": []
  },
  {
   "cell_type": "code",
   "execution_count": null,
   "metadata": {},
   "outputs": [],
   "source": []
  },
  {
   "cell_type": "code",
   "execution_count": 389,
   "metadata": {},
   "outputs": [],
   "source": [
    "fp = '/Users/alexander.fioto/Models/Labeled-Seinfeld-Model/' "
   ]
  },
  {
   "cell_type": "code",
   "execution_count": 4,
   "metadata": {},
   "outputs": [
    {
     "name": "stderr",
     "output_type": "stream",
     "text": [
      "INFO:aitextgen:Loading GPT-2 model from provided /Users/alexander.fioto/Models/Labeled-Seinfeld-Model/pytorch_model.bin.\n",
      "INFO:aitextgen:Using a custom tokenizer.\n"
     ]
    }
   ],
   "source": [
    "ai = aitextgen(model= fp + \"pytorch_model.bin\",\n",
    "               config = fp + 'config.json', \n",
    "               vocab_file=fp + 'aitextgen-vocab.json',\n",
    "               merges_file=fp + 'aitextgen-merges.txt')"
   ]
  },
  {
   "cell_type": "code",
   "execution_count": 293,
   "metadata": {},
   "outputs": [],
   "source": [
    "text = ai.generate(prompt='ALEX: Tell me about yourself',\n",
    "            temperature = .7,\n",
    "            return_as_list = True)"
   ]
  },
  {
   "cell_type": "code",
   "execution_count": 417,
   "metadata": {},
   "outputs": [
    {
     "ename": "NameError",
     "evalue": "name 'nlp' is not defined",
     "output_type": "error",
     "traceback": [
      "\u001b[0;31m---------------------------------------------------------------------------\u001b[0m",
      "\u001b[0;31mNameError\u001b[0m                                 Traceback (most recent call last)",
      "\u001b[0;32m<ipython-input-417-bfc35d54a10c>\u001b[0m in \u001b[0;36m<module>\u001b[0;34m\u001b[0m\n\u001b[0;32m----> 1\u001b[0;31m \u001b[0mdoc1\u001b[0m \u001b[0;34m=\u001b[0m \u001b[0mnlp\u001b[0m\u001b[0;34m(\u001b[0m\u001b[0;34m\"I am Claire. I live in CA. I like coffee.\"\u001b[0m\u001b[0;34m)\u001b[0m\u001b[0;34m\u001b[0m\u001b[0;34m\u001b[0m\u001b[0m\n\u001b[0m",
      "\u001b[0;31mNameError\u001b[0m: name 'nlp' is not defined"
     ]
    }
   ],
   "source": [
    "doc1 = nlp(\"I am Claire. I live in CA. I like coffee.\")\n",
    "\n",
    "\n",
    "doc1.similiarity(seinfeld_vectors['S01E01'])"
   ]
  },
  {
   "cell_type": "code",
   "execution_count": 416,
   "metadata": {},
   "outputs": [
    {
     "data": {
      "text/plain": [
       "array([ 1.51603357e+03,  3.43070740e+02,  1.68825073e+03, -2.19231815e+01,\n",
       "        1.07025867e+03, -1.57410168e+03,  1.35903467e+03,  5.98157715e+03,\n",
       "       -8.83068115e+02, -1.40300745e+03,  1.27864771e+03, -4.31408398e+03,\n",
       "       -1.54235010e+03,  3.46363257e+03, -2.00491675e+03,  3.48159326e+03,\n",
       "        4.41808044e+02, -3.87672333e+02, -1.14401489e+03,  3.20764160e+03,\n",
       "        1.43606104e+03, -4.24097961e+02, -8.67498657e+02,  2.56146191e+03,\n",
       "        2.77824536e+03,  2.65275726e+02, -2.31487335e+02, -1.36336328e+03,\n",
       "       -1.59615430e+03, -1.27596045e+03,  3.23551074e+03,  5.78327637e+02,\n",
       "       -3.86769141e+03, -1.00092969e+03,  1.90244247e+02, -8.30530579e+02,\n",
       "       -8.40637024e+02,  1.97481522e+02, -1.72511182e+03,  5.93700134e+02,\n",
       "       -5.66810254e+03, -3.24596411e+03, -1.37605627e+03,  8.46915222e+02,\n",
       "       -1.88973950e+03, -3.04571558e+03,  2.55196680e+03, -7.95362854e+02,\n",
       "       -3.32557964e+00, -2.10782690e+03, -2.38343799e+03,  1.49726355e+03,\n",
       "       -1.20749109e+03,  6.54588379e+02,  7.49934937e+02,  4.79729150e+03,\n",
       "       -7.47302856e+02, -4.93838379e+03, -2.72951782e+03,  2.30930176e+02,\n",
       "       -2.13673065e+02,  4.29257751e+02,  1.42606677e+03, -3.65802588e+03,\n",
       "        2.58169189e+03,  2.15013867e+03, -2.62800018e+02,  3.15892432e+03,\n",
       "       -5.27533789e+03, -9.45377502e+02, -3.86917627e+03, -2.42718970e+03,\n",
       "       -1.74086578e+02, -6.07879333e+02,  8.66851196e+02,  3.75642776e+01,\n",
       "       -8.30438904e+02,  1.90854358e+03, -1.25580969e+03,  8.84453308e+02,\n",
       "       -1.45831055e+03,  5.53663818e+03, -2.45548584e+02,  4.28216602e+03,\n",
       "        2.06100952e+03,  5.70612000e+02, -3.19646729e+03,  4.35542236e+02,\n",
       "       -2.33541211e+03,  3.06870117e+03,  1.28043243e+02, -1.44161938e+03,\n",
       "        1.01557849e+03,  1.19239795e+03,  1.91433191e+03, -1.23468823e+03,\n",
       "        2.55171338e+03,  1.16357948e+02, -4.14764954e+02,  2.82857520e+03,\n",
       "        1.79111658e+03, -5.93968213e+03,  1.13240503e+03, -1.11644116e+03,\n",
       "       -1.96371179e+03, -8.24386230e+02,  7.42901184e+02,  4.18397888e+02,\n",
       "        1.77537195e+03,  1.02507080e+03,  4.68377151e+01, -1.51444629e+03,\n",
       "        2.40460007e+02, -2.40083887e+03, -1.47464294e+03,  1.90106494e+03,\n",
       "        1.68211682e+03, -2.19181152e+03, -6.90860352e+02,  1.10391821e+03,\n",
       "       -4.84363159e+02, -2.83641650e+03,  1.94704651e+03,  5.38475488e+03,\n",
       "        1.15694653e+03,  8.41797852e+02, -5.76792908e+02,  1.18220654e+03,\n",
       "       -2.20419165e+03, -2.97274438e+03,  2.74250659e+03,  3.56334644e+03,\n",
       "        3.65889575e+03, -4.01080542e+03, -2.99652637e+03,  7.69792603e+02,\n",
       "        7.78866333e+02, -2.26235205e+03, -3.11521338e+03, -1.42934741e+03,\n",
       "        2.69016418e+02,  1.00706567e+03,  1.16526050e+03,  1.19788673e+02,\n",
       "        2.09448096e+03,  5.46666077e+02, -1.00827936e+03, -2.14478638e+03,\n",
       "        1.95358582e+03,  9.29553589e+02,  1.79966541e+03,  1.85113037e+02,\n",
       "        4.28622162e+02, -2.56104980e+03, -2.08070239e+03, -1.34312048e+03,\n",
       "       -3.93012451e+03,  2.41368359e+03,  1.53111340e+03,  2.39163770e+03,\n",
       "        3.24760327e+03, -2.12892944e+03, -1.03801111e+03,  5.09434521e+03,\n",
       "        9.56191040e+02,  8.11681152e+02, -8.61810730e+02,  3.54930103e+03,\n",
       "       -4.90138130e+01,  1.87425049e+03, -1.21722217e+03, -1.69219238e+03,\n",
       "        8.40165527e+03, -7.29037720e+02,  1.34879410e+02, -1.80371167e+03,\n",
       "        2.91771045e+03,  9.94099731e+02,  2.52442114e+03,  8.37760864e+02,\n",
       "       -1.23267295e+04,  2.83948755e+03,  1.56570764e+03,  3.17353882e+02,\n",
       "        1.34872266e+03, -1.01577283e+03,  2.47942285e+03, -3.54278882e+03,\n",
       "       -2.06930737e+03,  1.12172156e+03, -1.46953748e+03, -1.55361255e+03,\n",
       "       -2.36966040e+03, -1.75624023e+02,  2.92486914e+03, -4.62928564e+03,\n",
       "       -1.44297620e+03, -2.22208154e+03, -2.00107874e+03,  5.33053101e+02,\n",
       "        1.04936389e+03, -1.53205713e+03,  1.81079089e+03,  1.78909583e+03,\n",
       "       -1.46345227e+03,  2.13481641e+03,  1.85121680e+03, -1.28812732e+03,\n",
       "       -2.66604980e+02,  2.88574390e+03, -3.05091528e+03,  2.99426978e+03,\n",
       "        4.57903595e+02, -7.62654572e+01,  1.17397034e+03, -6.03312927e+02,\n",
       "        1.84493835e+03, -1.29510486e+03, -4.53653351e+02, -5.75423645e+02,\n",
       "        1.24203394e+03, -1.83900928e+03, -4.88034570e+03,  2.46139062e+03,\n",
       "       -9.26626038e+02,  4.40754004e+03,  2.50952686e+03, -5.88997009e+02,\n",
       "        9.68299805e+02,  6.68773804e+02, -5.77071228e+02, -1.39220459e+03,\n",
       "        3.65349609e+03,  1.43140173e+03, -1.04909509e+03,  2.23435974e+02,\n",
       "       -2.73359253e+03, -7.81005005e+02,  3.48562256e+02, -2.65179272e+03,\n",
       "       -2.30887573e+03,  3.64075073e+03,  2.72604468e+03,  1.31171423e+03,\n",
       "       -5.20835815e+02,  2.42301611e+03,  1.24326636e+03, -7.56293579e+02,\n",
       "        3.83324707e+02, -1.93409985e+03, -4.55016748e+03, -4.94311670e+03,\n",
       "        1.22960119e+01, -5.15831885e+03, -7.40497253e+02, -2.83022412e+03,\n",
       "       -2.60316992e+03, -2.59610481e+01, -9.15851688e+00,  8.99015274e+01,\n",
       "        2.79202124e+03,  1.62975024e+03,  3.06607861e+03,  1.62713892e+03,\n",
       "       -4.82218164e+03, -2.19803906e+03,  6.77098755e+02,  1.77148376e+03,\n",
       "        1.47168152e+02,  1.79547473e+03,  2.40126782e+03, -8.32464233e+02,\n",
       "        1.10014343e+03,  3.92269824e+03, -1.92872144e+03, -1.68758276e+03,\n",
       "        1.96682642e+03,  9.23433899e+02, -8.31361084e+02, -2.22985327e+03,\n",
       "        1.81911279e+03,  5.75370117e+03, -5.25263428e+03,  9.99015259e+02,\n",
       "       -1.21520215e+03, -1.45817041e+03, -4.99831085e+01,  9.41384583e+02,\n",
       "       -1.35283972e+03, -4.93401318e+03, -2.60108582e+02,  3.58161987e+02,\n",
       "       -1.30634180e+03, -9.90989502e+02,  3.20700806e+03, -1.94322827e+03,\n",
       "        2.34339136e+03,  2.06538574e+03,  3.15069641e+02, -4.65148163e+02,\n",
       "        5.54792725e+02, -1.56788989e+03,  1.77780542e+03,  2.32851245e+03,\n",
       "       -2.92386499e+03,  1.45214746e+03,  3.02737579e+02, -4.03724097e+03,\n",
       "       -2.90178184e+04, -9.68785583e+02,  1.35658936e+03, -2.75722607e+03,\n",
       "        2.22970386e+03,  7.55488739e+01,  5.16541748e+02, -2.08322119e+03,\n",
       "       -4.83508105e+03, -3.93608887e+02, -1.91494980e+02, -4.48532910e+03,\n",
       "        1.61979041e+03,  1.85038403e+03,  2.40843750e+03, -1.48247729e+03,\n",
       "        1.90758582e+03, -2.78151904e+03, -2.93945703e+03,  5.31643311e+03,\n",
       "       -1.69155408e+03, -1.46997876e+03,  7.86526672e+02, -1.51382629e+03,\n",
       "        5.89301758e+03,  5.97324219e+03, -9.72277588e+02, -7.98305847e+02,\n",
       "       -3.54669189e+03,  9.93179260e+02, -1.23648657e+03, -2.33359985e+03,\n",
       "        1.21280103e+03,  1.30620178e+03,  1.22277747e+03, -6.47046021e+02,\n",
       "        3.56047150e+02, -3.00654395e+03, -1.02067047e+03, -2.38652173e+03,\n",
       "       -8.52771301e+02, -3.36421680e+03,  2.55022369e+02, -2.19152490e+03,\n",
       "        5.85729150e+03, -1.89000928e+03, -1.22712830e+03, -2.97172485e+03,\n",
       "        3.15834686e+02,  1.98081384e+03,  1.09541638e+03, -7.15878601e+02,\n",
       "       -1.09384338e+03, -1.72130164e+03,  2.08380337e+01, -6.28410645e+02,\n",
       "        1.80483850e+03,  5.52651465e+03, -1.46947632e+03, -3.45062109e+03,\n",
       "        1.77379407e+03, -1.53129761e+03, -2.53449609e+03,  2.70395172e+02,\n",
       "        4.07247681e+02, -2.36889404e+03, -4.03667505e+03, -1.51322461e+03,\n",
       "        2.27720361e+03,  1.64650049e+03, -5.19069061e+01,  4.43338623e+02,\n",
       "       -3.51280713e+03, -8.39449902e+03, -1.26160474e+03,  3.26407745e+02,\n",
       "       -7.15779785e+02, -8.39553467e+02,  1.68594702e+03, -5.55620605e+02,\n",
       "       -2.34231763e+03, -2.93480640e+03, -1.17925000e+03, -4.47219879e+02,\n",
       "       -8.21088318e+02, -4.49804346e+03,  1.11580847e+03, -2.25352319e+03,\n",
       "       -1.83278320e+03, -4.21509180e+03,  2.86717090e+03,  2.37034668e+03,\n",
       "        1.68637939e+03,  3.26117163e+03,  2.05649414e+03, -1.94438705e+01,\n",
       "        3.48822388e+03, -1.50056384e+03,  2.53580078e+03, -1.55407861e+03,\n",
       "       -1.08810938e+03, -8.56626587e+02,  3.87356641e+03,  5.02770020e+02,\n",
       "        1.67776318e+03,  8.45296753e+02, -4.80816895e+03, -2.42162384e+02,\n",
       "       -6.80681824e+02,  9.01264587e+02,  7.68367004e+02, -6.02132324e+03,\n",
       "        3.63647534e+03, -1.33627930e+03, -1.39783948e+03, -3.11027417e+03,\n",
       "        3.41380493e+03,  5.59155273e+03, -7.83459412e+02,  1.09244092e+03,\n",
       "       -3.54547699e+02,  6.24715039e+03, -4.01249658e+03, -2.65410913e+03,\n",
       "       -4.29858008e+03, -1.03582016e+02, -1.13776746e+03, -9.37738770e+02,\n",
       "       -1.74989929e+03,  4.19296906e+02,  1.28258655e+03, -1.03536682e+03,\n",
       "       -2.28476782e+03,  8.29357605e+02,  1.86456750e+03,  1.36168811e+03,\n",
       "        4.30818573e+02, -3.31096118e+03,  5.64826965e+02,  2.38977856e+03,\n",
       "        1.99760962e+03,  2.38860449e+03, -2.00032385e+03, -7.35883789e+01,\n",
       "       -1.28072742e+03,  5.02410059e+03, -1.67106232e+02, -5.76900452e+02,\n",
       "       -9.44153870e+02,  3.63919092e+03, -2.87777954e+03, -3.71127490e+03,\n",
       "        1.72676559e+02, -3.19063428e+03,  1.34476099e+03, -8.06684017e+00,\n",
       "        3.54297778e+03, -2.01416150e+03, -4.15817230e+02, -5.42587158e+03,\n",
       "        3.61376190e+02,  7.54793457e+02,  1.82343567e+03,  3.61633057e+03,\n",
       "       -7.48803329e+01,  2.82748560e+03, -1.53124405e+02, -2.35169037e+02,\n",
       "       -2.76853345e+03,  1.10354590e+03, -1.32656738e+03, -6.61354752e+01,\n",
       "       -1.80626343e+02, -1.39536597e+03, -2.11206958e+03,  4.45475830e+03,\n",
       "       -6.30979370e+02, -3.28462585e+02, -1.53852734e+03,  4.02589691e+02,\n",
       "       -1.35478195e+02, -2.43905249e+03, -2.19864551e+03, -1.51058606e+03,\n",
       "        2.98149341e+03,  3.46240723e+02,  2.16003738e+02, -2.05278467e+03,\n",
       "        4.50907501e+02,  2.18562280e+03, -1.33882983e+03,  1.68153552e+03,\n",
       "       -2.92036377e+03, -1.65986548e+03, -4.63313330e+03, -2.75035474e+03,\n",
       "        3.40035840e+03, -4.56222949e+03,  6.00652039e+02,  3.08023315e+03,\n",
       "        3.45073706e+03,  1.35196118e+03, -1.51691284e+03,  2.04577124e+03,\n",
       "       -2.25124725e+02, -2.18233130e+03,  1.01112573e+03,  2.07186377e+03,\n",
       "       -9.68046509e+02,  1.97925391e+03, -1.39718689e+03, -2.02769678e+03,\n",
       "       -3.23724463e+03, -1.54689355e+03,  1.21058826e+03, -1.60470264e+03,\n",
       "        1.48556873e+03, -1.07141699e+03, -8.14157410e+02,  5.17312683e+02,\n",
       "       -4.33871631e+03, -1.48265234e+03, -1.36082715e+03,  3.61148621e+02,\n",
       "       -6.97985205e+03, -1.84937610e+03, -1.54624231e+03, -6.24451965e+02,\n",
       "       -3.15039185e+03, -1.70937073e+03,  3.21830261e+02, -4.52984375e+03,\n",
       "        2.61403168e+02,  9.56822937e+02,  6.38107300e+02,  1.96851831e+03,\n",
       "       -1.24809746e+02, -5.15336243e+02,  1.18276538e+03,  1.02764519e+02,\n",
       "       -7.42131958e+02, -9.98173523e+02, -9.23440186e+02, -2.77882617e+03,\n",
       "        1.93200671e+03,  1.26350659e+03,  5.76194763e+02,  3.88807739e+03,\n",
       "       -1.39638269e+03,  1.43489612e+03,  8.06507263e+02, -1.59097693e+03,\n",
       "       -2.56624829e+03, -2.38543628e+03,  8.81039246e+02, -3.27268018e+03,\n",
       "       -4.67132861e+03,  2.34243604e+03, -1.16097900e+03,  1.86458725e+02,\n",
       "       -1.93690759e+03, -4.10970917e+02,  7.70730835e+02,  6.62188354e+02,\n",
       "       -8.71878242e+00,  3.73162346e+01,  1.07014575e+03,  2.62407837e+03,\n",
       "        1.63809802e+03, -1.90162476e+03, -1.61877429e+03, -1.90835596e+03,\n",
       "        1.53697449e+03, -1.30944324e+03, -7.60017883e+02, -6.91855225e+02,\n",
       "       -1.57616296e+03, -6.29397266e+03,  1.30782080e+03, -3.94367871e+03,\n",
       "       -4.58399689e+02,  3.11304785e+03, -2.90555878e+02, -1.50716309e+03,\n",
       "        9.61950012e+02, -2.27139917e+03, -1.72273596e+03,  3.78310400e+03,\n",
       "       -2.76980176e+03,  1.19397827e+03,  1.11590857e+03,  3.38323364e+03,\n",
       "       -6.17535156e+02,  2.18616211e+03,  2.28463965e+03,  1.61753784e+03,\n",
       "        4.35214941e+03,  1.78910547e+03, -1.49732068e+03,  1.16147729e+03,\n",
       "       -9.77891418e+02,  7.26839111e+02,  2.27933545e+03,  2.10729712e+03,\n",
       "       -5.44644836e+02,  1.75742395e+03,  1.57153442e+03, -4.84285986e+03,\n",
       "        2.92688940e+03,  3.04093579e+03, -2.73602832e+03, -2.55388062e+03,\n",
       "        4.75137744e+03,  3.58578027e+03, -5.58653271e+03, -1.94943872e+03,\n",
       "        2.21260107e+03, -2.67192090e+03, -2.46793921e+03,  1.99374487e+03,\n",
       "        1.65187744e+03, -1.79839368e+03,  4.83412646e+03,  2.01864838e+02,\n",
       "        1.51960400e+03,  3.50393652e+03, -5.09154395e+03, -6.51430481e+02,\n",
       "        1.17098718e+03,  4.48144434e+03,  1.18282678e+03,  2.75065283e+03,\n",
       "       -3.93210400e+03,  4.57329346e+03, -1.85613867e+03, -2.88486621e+03,\n",
       "        1.29372705e+03,  3.42025146e+02,  2.12637134e+03, -3.32798462e+02,\n",
       "       -6.59947205e+02,  3.24170483e+03,  2.75679150e+03,  4.14206104e+03,\n",
       "        2.12916089e+03,  1.05500952e+03,  1.33517188e+03, -3.28020898e+03,\n",
       "        5.98973730e+03,  2.02385767e+03,  1.04755127e+03,  2.95869214e+03,\n",
       "       -9.08137085e+02, -9.36815247e+02,  1.22381799e+03,  1.98003271e+03,\n",
       "        1.66891772e+03,  1.88914966e+03, -1.58426404e+03,  2.76286646e+03,\n",
       "        9.06185059e+02, -6.10464706e+01,  2.40845728e+03, -3.41457031e+03,\n",
       "       -1.90877472e+02,  2.24373096e+03, -4.03362457e+02, -9.19832153e+02,\n",
       "       -1.69555090e+03,  1.14688037e+03,  8.76542419e+02,  2.39878760e+03,\n",
       "       -8.10815979e+02,  8.98229797e+02, -1.58457190e+03,  3.72412476e+03,\n",
       "        5.81565552e+02, -1.28140161e+03, -3.67716040e+03,  9.68361450e+02,\n",
       "        8.95109253e+02,  3.63260468e+02, -4.76602002e+03, -2.63942432e+03,\n",
       "        8.69412842e+02, -5.59056885e+03, -1.34958838e+03, -1.42145044e+03,\n",
       "        8.99536316e+02, -1.88961267e+03,  1.68931628e+03, -1.40936401e+03,\n",
       "        1.65010101e+02, -2.72319751e+03,  7.35070862e+02, -4.47027490e+03,\n",
       "        4.20757520e+03,  2.34272876e+03,  3.54457397e+03, -5.91531616e+02,\n",
       "        3.17075830e+03,  1.98654877e+02, -1.40899829e+03,  1.15905115e+03,\n",
       "       -1.43891309e+03,  1.51230652e+03,  4.55668213e+02,  2.62784351e+03,\n",
       "       -1.40054089e+03, -2.06589966e+03, -1.86171989e+01,  4.05554419e+03,\n",
       "       -7.72057178e+03,  1.64187195e+03, -1.21530920e+03,  3.69344421e+02,\n",
       "        2.56356750e+02, -5.62417786e+02, -3.16964673e+03,  2.98911011e+03,\n",
       "       -3.20273096e+03, -1.39291577e+03, -3.49344360e+02,  3.11190381e+03,\n",
       "       -1.52741467e+03,  1.28814172e+03,  2.99501562e+03,  4.14921631e+03,\n",
       "       -9.28250793e+02, -1.90920325e+03,  1.82973572e+02,  2.50000513e+03,\n",
       "        1.07926953e+03, -6.98298279e+02,  7.09175110e+01, -1.22586694e+03,\n",
       "       -1.80676245e+03,  1.34401886e+02, -2.66109790e+03, -4.03334082e+03,\n",
       "        4.29090332e+03,  1.52206726e+03, -1.61019775e+03, -1.11966663e+03,\n",
       "       -2.57129248e+03, -1.05186865e+03, -1.35174719e+03, -4.59515381e+03,\n",
       "       -9.51252365e+01, -3.21691724e+03, -1.21514626e+01, -2.43096924e+03,\n",
       "        6.30130615e+02, -3.91831128e+03, -1.74605017e+03, -9.28567017e+02,\n",
       "        2.94409809e+01, -1.34864966e+03,  1.83980859e+03,  9.10484192e+02],\n",
       "      dtype=float32)"
      ]
     },
     "execution_count": 416,
     "metadata": {},
     "output_type": "execute_result"
    }
   ],
   "source": [
    "seinfeld_vectors['S01E01']"
   ]
  },
  {
   "cell_type": "code",
   "execution_count": null,
   "metadata": {},
   "outputs": [],
   "source": []
  },
  {
   "cell_type": "code",
   "execution_count": null,
   "metadata": {},
   "outputs": [],
   "source": []
  },
  {
   "cell_type": "code",
   "execution_count": null,
   "metadata": {},
   "outputs": [],
   "source": []
  },
  {
   "cell_type": "code",
   "execution_count": null,
   "metadata": {},
   "outputs": [],
   "source": []
  },
  {
   "cell_type": "code",
   "execution_count": null,
   "metadata": {},
   "outputs": [],
   "source": []
  },
  {
   "cell_type": "code",
   "execution_count": null,
   "metadata": {},
   "outputs": [],
   "source": []
  },
  {
   "cell_type": "code",
   "execution_count": 420,
   "metadata": {},
   "outputs": [],
   "source": [
    "class SeinfeldChatbot():\n",
    "    def __init__(self, name='Buddy', fp='/Users/alexander.fioto/Models/Labeled-Seinfeld-Model/', temperature = .4):\n",
    "        self.user_name_title = 'USER: '\n",
    "        self.chat_dialogue = ''\n",
    "        self.chat_dialogue_complete = ''\n",
    "        self.name = name\n",
    "        self.fp = fp\n",
    "        self.greeted = False\n",
    "        self.similarity_scores = None\n",
    "        self.temperature = temperature\n",
    "        self.exit_commands = ['bye', 'exit', 'i have to go', 'later', 'gtg', 'stop', 'end', 'done']\n",
    "        self.positive_responses = ['yes', 'yep', 'sure', 'definitely', 'y']\n",
    "        self.negative_responses = ['no', 'no thanks', 'nope', 'nah', 'n']\n",
    "        self.punctuation = ['.', '!', '?']\n",
    "        self.model = aitextgen(model= fp + \"pytorch_model.bin\",\n",
    "                               config = fp + 'config.json', \n",
    "                               vocab_file=fp + 'aitextgen-vocab.json',\n",
    "                               merges_file=fp + 'aitextgen-merges.txt')\n",
    "        self.transformer = 'en_core_web_lg'\n",
    "        self.recommender_initialized = False\n",
    "        print(\"Model Loaded!\")\n",
    "        \n",
    "        \n",
    "    def change_temp(self, temp):\n",
    "        if temp < 0 or temp > 1:\n",
    "            raise ValueError('Value must be greater than 0 and less than or equal to 1')\n",
    "        else:\n",
    "            self.temperature = temp\n",
    "        \n",
    "        \n",
    "    def greet(self):\n",
    "        res = input(\"Welcome to the SeinfeldChatbot! Do you want to chat?\")\n",
    "        if res.lower() not in self.negative_responses:\n",
    "            res = input(\"GEORGE: Can I get your name, pal?\")\n",
    "            if res in self.negative_responses:\n",
    "                print('GEORGE: Fine. Stay anonymous. See if I care.')\n",
    "            else:\n",
    "                self.name = res\n",
    "                self.user_name_title = self.name.upper() + ': '\n",
    "            self.greeted = True\n",
    "            self.chat()\n",
    "        else:\n",
    "            print('JERRY: OK. Fine. Leave. GO!')\n",
    "    \n",
    "    def generate_response(self, text_input):\n",
    "        if text_input[-1] not in self.punctuation:\n",
    "            text_input += '.'\n",
    "        self.chat_dialogue += ' ' + text_input\n",
    "        text = self.model.generate(prompt = f'{self.user_name_title}' + text_input,\n",
    "                                            temperature = .4,\n",
    "                                            return_as_list = True)\n",
    "        self.split_text_ = text[0].split('\\n\\n')\n",
    "        if len(self.split_text_[-1]) < 16:\n",
    "            self.split_text_.pop()\n",
    "        final_text = ''.join(self.split_text_)\n",
    "        self.chat_dialogue_complete += final_text + '\\n'\n",
    "        print(final_text)\n",
    "        \n",
    "    \n",
    "    def chat(self):\n",
    "        if self.greeted == True:\n",
    "            print(f'JERRY: What do you want, {self.name}?')\n",
    "            chat = True\n",
    "            while chat:\n",
    "                text_input = input()\n",
    "                if text_input in self.exit_commands:\n",
    "                    chat = False\n",
    "                    print('KRAMER: Who turns down a junior mint?')\n",
    "                elif 'recommend' in text_input:\n",
    "                    res = input(\"JERRY: Did you want an episode recommendation? It might take a minute.\")\n",
    "                    if res.lower() in self.positive_responses:\n",
    "                        if self.recommender_initialized:\n",
    "                            self.episode_recommendation()\n",
    "                        else:\n",
    "                            self.initialize_recommender()\n",
    "                    else:\n",
    "                        print('JERRY: Oh. Well what you said wasn\\'t clear.')\n",
    "                        self.generate_response(text_input)\n",
    "                    \n",
    "\n",
    "                else:\n",
    "                    self.generate_response(text_input)\n",
    "        else:\n",
    "            self.greet()\n",
    "\n",
    "    \n",
    "    \n",
    "    #### Episode Recommender #### \n",
    "    def initialize_recommender(self, transformer='en_trf_bertbaseuncased_lg'):\n",
    "        '''\n",
    "        This method initializes the recommender engine. You may use other pretrained transformers such as\n",
    "        en_trf_bertbaseuncased_lg. If you use BERT, you will see more accurate results but it will take longer\n",
    "        to load!\n",
    "        '''\n",
    "        self.nlp_ = spacy.load(transformer)\n",
    "        self.recommender_initialized = True\n",
    "        df = pd.read_csv('../data/clean_scripts.csv', index_col=0)\n",
    "        self.episodes_ = df['SEID'].unique()\n",
    "        \n",
    "        ia = imdb.IMDb()\n",
    "        self.series_ = ia.get_movie('0098904')\n",
    "        ia.update(self.series_, 'episodes')\n",
    "        sorted(self.series_['episodes'].keys())\n",
    "        print('Recommender Initialized!')\n",
    "        self.update_similarities()\n",
    "        self.episode_recommendation()\n",
    "        \n",
    "        \n",
    "\n",
    "    def update_similarities(self):\n",
    "        if not self.recommender_initialized:\n",
    "            res = input('You need to initialize the recommender system. Would you like to initialize?')\n",
    "            if res.lower() in self.positive_responses:\n",
    "                self.initialize_recommender()\n",
    "            else:\n",
    "                print('OK. Hope you come back later!')\n",
    "        \n",
    "        else:\n",
    "\n",
    "            if self.chat_dialogue:\n",
    "                similarity_scores = []\n",
    "                for episode in self.episodes_:\n",
    "                    doc1 = self.nlp_(self.chat_dialogue)\n",
    "                    doc2 = seinfeld_vectors[episode]\n",
    "                    similarity_scores.append((episode, doc1.similarity(doc2)))\n",
    "                similarity_scores.sort(key=lambda x: x[1], reverse = True)\n",
    "                self.similarity_scores = similarity_scores\n",
    "                self.scores_list_ = []\n",
    "                for i in range(len(scores)):\n",
    "                    self.scores_list_.append([int(self.similarity_scores[i][0][1:3]), int(self.similarity_scores[i][0][-2:])])\n",
    "                print('JERRY: Thanks for you patience. That took way too long.')\n",
    "            else:\n",
    "                print('KRAMER: It looks like you haven\\'t chatted yet. Please chat for a while and come back!')\n",
    "    \n",
    "    def episode_recommendation(self):\n",
    "        if self.similarity_scores:\n",
    "            for i in range(len(self.scores_list_)):\n",
    "                try:\n",
    "                    episode = series['episodes'][self.scores_list_[i][0]][self.scores_list_[i][1]]\n",
    "                    title = episode['title']\n",
    "                    plot = episode['plot']\n",
    "                    res = input(f'JERRY: Based on your chat dialogue, I would recommend you check out Seinfeld Season {self.scores_list_[i][0]}, episode {self.scores_list_[i][1]}, \"{title}\". Do you want to know the plot?')\n",
    "                    if res in self.positive_responses:\n",
    "                        print(plot)\n",
    "                    res = input('Do you want a link to the show?')\n",
    "                    if res in self.positive_responses:\n",
    "                        print(f'https://www.youtube.com/results?search_query=seinfeld+season+{self.scores_list_[i][0]}+episode+{self.scores_list_[i][1]}')\n",
    "                    res = input('JERRY: Do you want another recommendation?')\n",
    "                    if res == 'no':\n",
    "                        print('JERRY: OK.')\n",
    "                        break\n",
    "                except:\n",
    "                    continue\n",
    "            \n",
    "        else:\n",
    "            res = input('ELAINE: You need to get similarity scores first. Want to do grab them?')\n",
    "            if res in self.positive_responses:\n",
    "                self.update_similarities()\n",
    "            else:\n",
    "                print('GEORGE: Fine. Have it that way.')\n",
    "\n",
    "        \n",
    "        \n",
    "        "
   ]
  },
  {
   "cell_type": "code",
   "execution_count": null,
   "metadata": {},
   "outputs": [],
   "source": []
  },
  {
   "cell_type": "code",
   "execution_count": null,
   "metadata": {},
   "outputs": [],
   "source": []
  },
  {
   "cell_type": "code",
   "execution_count": 421,
   "metadata": {},
   "outputs": [
    {
     "name": "stderr",
     "output_type": "stream",
     "text": [
      "INFO:aitextgen:Loading GPT-2 model from provided /Users/alexander.fioto/Models/Labeled-Seinfeld-Model/pytorch_model.bin.\n",
      "INFO:aitextgen:Using a custom tokenizer.\n"
     ]
    },
    {
     "name": "stdout",
     "output_type": "stream",
     "text": [
      "Model Loaded!\n"
     ]
    }
   ],
   "source": [
    "bot = SeinfeldChatbot()"
   ]
  },
  {
   "cell_type": "code",
   "execution_count": 422,
   "metadata": {},
   "outputs": [
    {
     "name": "stdin",
     "output_type": "stream",
     "text": [
      "Welcome to the SeinfeldChatbot! Do you want to chat? yes\n",
      "GEORGE: Can I get your name, pal? ad\n"
     ]
    },
    {
     "name": "stdout",
     "output_type": "stream",
     "text": [
      "JERRY: What do you want, ad?\n"
     ]
    },
    {
     "name": "stdin",
     "output_type": "stream",
     "text": [
      " asdf\n"
     ]
    },
    {
     "name": "stdout",
     "output_type": "stream",
     "text": [
      "AD: asdf.\n",
      "ELAINE:  Oh, that's me.\n",
      "JERRY: Alright, well...\n"
     ]
    },
    {
     "name": "stdin",
     "output_type": "stream",
     "text": [
      " ia\n"
     ]
    },
    {
     "name": "stdout",
     "output_type": "stream",
     "text": [
      "AD: ia.\n",
      "ELAINE:  Oh, look at that. I'm almost outta Klondike bars.\n"
     ]
    },
    {
     "name": "stdin",
     "output_type": "stream",
     "text": [
      " alks\n"
     ]
    },
    {
     "name": "stdout",
     "output_type": "stream",
     "text": [
      "AD: alks.\n",
      "ELAINE: Ah, Although if its one of the reason to stop and I isn't working. So I'm\n"
     ]
    },
    {
     "name": "stdin",
     "output_type": "stream",
     "text": [
      " recommend\n",
      "JERRY: Did you want an episode recommendation? It might take a minute. yes\n"
     ]
    },
    {
     "name": "stderr",
     "output_type": "stream",
     "text": [
      "2020-11-08 16:01:25,242 INFO [imdbpy.parser.http.piculet] /Users/alexander.fioto/opt/anaconda3/lib/python3.7/site-packages/imdb/parser/http/piculet.py:681: using lxml html builder\n",
      "INFO:imdbpy.parser.http.piculet:using lxml html builder\n",
      "2020-11-08 16:01:25,615 INFO [imdbpy.parser.http.piculet] /Users/alexander.fioto/opt/anaconda3/lib/python3.7/site-packages/imdb/parser/http/piculet.py:681: using lxml html builder\n",
      "INFO:imdbpy.parser.http.piculet:using lxml html builder\n",
      "2020-11-08 16:01:26,388 INFO [imdbpy.parser.http.piculet] /Users/alexander.fioto/opt/anaconda3/lib/python3.7/site-packages/imdb/parser/http/piculet.py:681: using lxml html builder\n",
      "INFO:imdbpy.parser.http.piculet:using lxml html builder\n",
      "2020-11-08 16:01:26,969 INFO [imdbpy.parser.http.piculet] /Users/alexander.fioto/opt/anaconda3/lib/python3.7/site-packages/imdb/parser/http/piculet.py:681: using lxml html builder\n",
      "INFO:imdbpy.parser.http.piculet:using lxml html builder\n",
      "2020-11-08 16:01:27,800 INFO [imdbpy.parser.http.piculet] /Users/alexander.fioto/opt/anaconda3/lib/python3.7/site-packages/imdb/parser/http/piculet.py:681: using lxml html builder\n",
      "INFO:imdbpy.parser.http.piculet:using lxml html builder\n",
      "2020-11-08 16:01:28,906 INFO [imdbpy.parser.http.piculet] /Users/alexander.fioto/opt/anaconda3/lib/python3.7/site-packages/imdb/parser/http/piculet.py:681: using lxml html builder\n",
      "INFO:imdbpy.parser.http.piculet:using lxml html builder\n",
      "2020-11-08 16:01:29,367 INFO [imdbpy.parser.http.piculet] /Users/alexander.fioto/opt/anaconda3/lib/python3.7/site-packages/imdb/parser/http/piculet.py:681: using lxml html builder\n",
      "INFO:imdbpy.parser.http.piculet:using lxml html builder\n",
      "2020-11-08 16:01:30,212 INFO [imdbpy.parser.http.piculet] /Users/alexander.fioto/opt/anaconda3/lib/python3.7/site-packages/imdb/parser/http/piculet.py:681: using lxml html builder\n",
      "INFO:imdbpy.parser.http.piculet:using lxml html builder\n",
      "2020-11-08 16:01:31,297 INFO [imdbpy.parser.http.piculet] /Users/alexander.fioto/opt/anaconda3/lib/python3.7/site-packages/imdb/parser/http/piculet.py:681: using lxml html builder\n",
      "INFO:imdbpy.parser.http.piculet:using lxml html builder\n",
      "2020-11-08 16:01:32,221 INFO [imdbpy.parser.http.piculet] /Users/alexander.fioto/opt/anaconda3/lib/python3.7/site-packages/imdb/parser/http/piculet.py:681: using lxml html builder\n",
      "INFO:imdbpy.parser.http.piculet:using lxml html builder\n",
      "2020-11-08 16:01:33,150 INFO [imdbpy.parser.http.piculet] /Users/alexander.fioto/opt/anaconda3/lib/python3.7/site-packages/imdb/parser/http/piculet.py:681: using lxml html builder\n",
      "INFO:imdbpy.parser.http.piculet:using lxml html builder\n",
      "2020-11-08 16:01:34,007 INFO [imdbpy.parser.http.piculet] /Users/alexander.fioto/opt/anaconda3/lib/python3.7/site-packages/imdb/parser/http/piculet.py:681: using lxml html builder\n",
      "INFO:imdbpy.parser.http.piculet:using lxml html builder\n"
     ]
    },
    {
     "name": "stdout",
     "output_type": "stream",
     "text": [
      "Recommender Initialized!\n",
      "JERRY: Thanks for you patience. That took way too long.\n"
     ]
    },
    {
     "name": "stdin",
     "output_type": "stream",
     "text": [
      "JERRY: Based on your chat dialogue, I would recommend you check out Seinfeld Season 5, episode 11, \"The Conversion\". Do you want to know the plot? yes\n"
     ]
    },
    {
     "name": "stdout",
     "output_type": "stream",
     "text": [
      "\n",
      "    George changes his religion to Latvian Orthodox to keep his girlfriend happy; Jerry becomes curious as to why his girlfriend needs fungus cream.    \n"
     ]
    },
    {
     "name": "stdin",
     "output_type": "stream",
     "text": [
      "Do you want a link to the show? yes\n"
     ]
    },
    {
     "name": "stdout",
     "output_type": "stream",
     "text": [
      "https://www.youtube.com/results?search_query=seinfeld+season+5+episode+11\n"
     ]
    },
    {
     "name": "stdin",
     "output_type": "stream",
     "text": [
      "JERRY: Do you want another recommendation? no\n"
     ]
    },
    {
     "name": "stdout",
     "output_type": "stream",
     "text": [
      "JERRY: OK.\n"
     ]
    },
    {
     "name": "stdin",
     "output_type": "stream",
     "text": [
      " stop\n"
     ]
    },
    {
     "name": "stdout",
     "output_type": "stream",
     "text": [
      "KRAMER: Who turns down a junior mint?\n"
     ]
    }
   ],
   "source": [
    "bot.chat()"
   ]
  },
  {
   "cell_type": "code",
   "execution_count": null,
   "metadata": {},
   "outputs": [],
   "source": []
  },
  {
   "cell_type": "code",
   "execution_count": null,
   "metadata": {},
   "outputs": [],
   "source": []
  },
  {
   "cell_type": "code",
   "execution_count": null,
   "metadata": {},
   "outputs": [],
   "source": []
  },
  {
   "cell_type": "code",
   "execution_count": null,
   "metadata": {},
   "outputs": [],
   "source": []
  },
  {
   "cell_type": "code",
   "execution_count": null,
   "metadata": {},
   "outputs": [],
   "source": []
  },
  {
   "cell_type": "code",
   "execution_count": null,
   "metadata": {},
   "outputs": [],
   "source": []
  },
  {
   "cell_type": "code",
   "execution_count": 198,
   "metadata": {},
   "outputs": [],
   "source": [
    "def episode_rec_chat(scores):\n",
    "    scores_list = []\n",
    "    for i in range(len(scores)):\n",
    "        scores_list.append([int(scores[i][0][1:3]), int(scores[i][0][-2:])])\n",
    "    for i in range(len(scores_list)):\n",
    "        episode = series['episodes'][scores_list[i][0]][scores_list[i][1]]\n",
    "        title = episode['title']\n",
    "        plot = episode['plot']\n",
    "        res = input(f'Based on your chat dialogue, I would recommend you check out Seinfeld Season {scores_list[0][0]}, episode {scores_list[0][1]}, \"{title}\". Do you want to know the plot?')\n",
    "        if res == 'yes':\n",
    "            print(plot)\n",
    "#         res = input('Do you want a link to the show?')\n",
    "#         if res == \n",
    "        res = input('Do you want another recommendation?')\n",
    "        if res == 'no':\n",
    "            print('OK. Thanks for chatting')\n",
    "            break\n",
    "    return scores_list\n"
   ]
  },
  {
   "cell_type": "code",
   "execution_count": 200,
   "metadata": {},
   "outputs": [
    {
     "name": "stdin",
     "output_type": "stream",
     "text": [
      "Based on your chat dialogue, I would recommend you check out Seinfeld Season 7, episode 1, \"The Engagement\". Do you want to know the plot? no\n",
      "Do you want another recommendation? yes\n",
      "Based on your chat dialogue, I would recommend you check out Seinfeld Season 7, episode 1, \"The Deal\". Do you want to know the plot? no\n",
      "Do you want another recommendation? ad\n",
      "Based on your chat dialogue, I would recommend you check out Seinfeld Season 7, episode 1, \"The Barber\". Do you want to know the plot? yes\n"
     ]
    },
    {
     "name": "stdout",
     "output_type": "stream",
     "text": [
      "\n",
      "    Jerry regrets giving his longtime barber the heave-ho after he gets a ridiculous-looking haircut. George gets a job interview but the boss leaves him with a very cryptic ending. Kramer begs Elaine to let him take part in her charity bachelor auction.    \n"
     ]
    },
    {
     "name": "stdin",
     "output_type": "stream",
     "text": [
      "Do you want another recommendation? no\n"
     ]
    }
   ],
   "source": [
    "scores_list = episode_rec_chat(scores)"
   ]
  },
  {
   "cell_type": "code",
   "execution_count": 190,
   "metadata": {},
   "outputs": [
    {
     "data": {
      "text/plain": [
       "'The Engagement'"
      ]
     },
     "execution_count": 190,
     "metadata": {},
     "output_type": "execute_result"
    }
   ],
   "source": [
    "series['episodes'][scores_list[0][0]][scores_list[0][1]]['title']"
   ]
  },
  {
   "cell_type": "code",
   "execution_count": 188,
   "metadata": {},
   "outputs": [
    {
     "data": {
      "text/plain": [
       "7"
      ]
     },
     "execution_count": 188,
     "metadata": {},
     "output_type": "execute_result"
    }
   ],
   "source": [
    "scores_list[0][0]"
   ]
  },
  {
   "cell_type": "code",
   "execution_count": null,
   "metadata": {},
   "outputs": [],
   "source": []
  },
  {
   "cell_type": "code",
   "execution_count": null,
   "metadata": {},
   "outputs": [],
   "source": []
  },
  {
   "cell_type": "code",
   "execution_count": null,
   "metadata": {},
   "outputs": [],
   "source": []
  },
  {
   "cell_type": "code",
   "execution_count": null,
   "metadata": {},
   "outputs": [],
   "source": []
  },
  {
   "cell_type": "code",
   "execution_count": null,
   "metadata": {},
   "outputs": [],
   "source": []
  },
  {
   "cell_type": "markdown",
   "metadata": {},
   "source": [
    "# Scractch work for IMDb API"
   ]
  },
  {
   "cell_type": "code",
   "execution_count": 111,
   "metadata": {},
   "outputs": [
    {
     "name": "stderr",
     "output_type": "stream",
     "text": [
      "2020-11-07 17:15:12,134 INFO [imdbpy.parser.http.piculet] /Users/alexander.fioto/opt/anaconda3/lib/python3.7/site-packages/imdb/parser/http/piculet.py:262: using lxml\n",
      "INFO:imdbpy.parser.http.piculet:using lxml\n"
     ]
    }
   ],
   "source": [
    "import imdb\n",
    "ia = imdb.IMDb()"
   ]
  },
  {
   "cell_type": "code",
   "execution_count": 114,
   "metadata": {},
   "outputs": [
    {
     "name": "stderr",
     "output_type": "stream",
     "text": [
      "2020-11-07 17:17:16,130 INFO [imdbpy.parser.http.piculet] /Users/alexander.fioto/opt/anaconda3/lib/python3.7/site-packages/imdb/parser/http/piculet.py:681: using lxml html builder\n",
      "INFO:imdbpy.parser.http.piculet:using lxml html builder\n",
      "2020-11-07 17:17:16,464 INFO [imdbpy.parser.http.piculet] /Users/alexander.fioto/opt/anaconda3/lib/python3.7/site-packages/imdb/parser/http/piculet.py:681: using lxml html builder\n",
      "INFO:imdbpy.parser.http.piculet:using lxml html builder\n"
     ]
    }
   ],
   "source": [
    "# Seinfeld is 0098904\n",
    "series = ia.get_movie('0098904')"
   ]
  },
  {
   "cell_type": "code",
   "execution_count": 120,
   "metadata": {
    "collapsed": true,
    "jupyter": {
     "outputs_hidden": true
    }
   },
   "outputs": [
    {
     "name": "stderr",
     "output_type": "stream",
     "text": [
      "2020-11-07 17:19:24,327 INFO [imdbpy.parser.http.piculet] /Users/alexander.fioto/opt/anaconda3/lib/python3.7/site-packages/imdb/parser/http/piculet.py:681: using lxml html builder\n",
      "INFO:imdbpy.parser.http.piculet:using lxml html builder\n",
      "2020-11-07 17:19:24,866 INFO [imdbpy.parser.http.piculet] /Users/alexander.fioto/opt/anaconda3/lib/python3.7/site-packages/imdb/parser/http/piculet.py:681: using lxml html builder\n",
      "INFO:imdbpy.parser.http.piculet:using lxml html builder\n",
      "2020-11-07 17:19:25,582 INFO [imdbpy.parser.http.piculet] /Users/alexander.fioto/opt/anaconda3/lib/python3.7/site-packages/imdb/parser/http/piculet.py:681: using lxml html builder\n",
      "INFO:imdbpy.parser.http.piculet:using lxml html builder\n",
      "2020-11-07 17:19:26,236 INFO [imdbpy.parser.http.piculet] /Users/alexander.fioto/opt/anaconda3/lib/python3.7/site-packages/imdb/parser/http/piculet.py:681: using lxml html builder\n",
      "INFO:imdbpy.parser.http.piculet:using lxml html builder\n",
      "2020-11-07 17:19:27,057 INFO [imdbpy.parser.http.piculet] /Users/alexander.fioto/opt/anaconda3/lib/python3.7/site-packages/imdb/parser/http/piculet.py:681: using lxml html builder\n",
      "INFO:imdbpy.parser.http.piculet:using lxml html builder\n",
      "2020-11-07 17:19:27,910 INFO [imdbpy.parser.http.piculet] /Users/alexander.fioto/opt/anaconda3/lib/python3.7/site-packages/imdb/parser/http/piculet.py:681: using lxml html builder\n",
      "INFO:imdbpy.parser.http.piculet:using lxml html builder\n",
      "2020-11-07 17:19:28,799 INFO [imdbpy.parser.http.piculet] /Users/alexander.fioto/opt/anaconda3/lib/python3.7/site-packages/imdb/parser/http/piculet.py:681: using lxml html builder\n",
      "INFO:imdbpy.parser.http.piculet:using lxml html builder\n",
      "2020-11-07 17:19:29,572 INFO [imdbpy.parser.http.piculet] /Users/alexander.fioto/opt/anaconda3/lib/python3.7/site-packages/imdb/parser/http/piculet.py:681: using lxml html builder\n",
      "INFO:imdbpy.parser.http.piculet:using lxml html builder\n",
      "2020-11-07 17:19:30,337 INFO [imdbpy.parser.http.piculet] /Users/alexander.fioto/opt/anaconda3/lib/python3.7/site-packages/imdb/parser/http/piculet.py:681: using lxml html builder\n",
      "INFO:imdbpy.parser.http.piculet:using lxml html builder\n",
      "2020-11-07 17:19:31,162 INFO [imdbpy.parser.http.piculet] /Users/alexander.fioto/opt/anaconda3/lib/python3.7/site-packages/imdb/parser/http/piculet.py:681: using lxml html builder\n",
      "INFO:imdbpy.parser.http.piculet:using lxml html builder\n"
     ]
    },
    {
     "data": {
      "text/plain": [
       "[1, 2, 3, 4, 5, 6, 7, 8, 9]"
      ]
     },
     "execution_count": 120,
     "metadata": {},
     "output_type": "execute_result"
    }
   ],
   "source": [
    "\n",
    "ia.update(series, 'episodes')\n",
    "sorted(series['episodes'].keys())\n"
   ]
  },
  {
   "cell_type": "code",
   "execution_count": 135,
   "metadata": {},
   "outputs": [],
   "source": [
    "episode = series['episodes'][7][5]"
   ]
  },
  {
   "cell_type": "code",
   "execution_count": 178,
   "metadata": {},
   "outputs": [
    {
     "data": {
      "text/plain": [
       "'The Hot Tub'"
      ]
     },
     "execution_count": 178,
     "metadata": {},
     "output_type": "execute_result"
    }
   ],
   "source": [
    "episode['title']"
   ]
  },
  {
   "cell_type": "code",
   "execution_count": 182,
   "metadata": {},
   "outputs": [
    {
     "data": {
      "text/plain": [
       "<Movie id:0098904[http] title:_\"Seinfeld\" (1989)_>"
      ]
     },
     "execution_count": 182,
     "metadata": {},
     "output_type": "execute_result"
    }
   ],
   "source": [
    "series[]"
   ]
  },
  {
   "cell_type": "code",
   "execution_count": null,
   "metadata": {},
   "outputs": [],
   "source": []
  }
 ],
 "metadata": {
  "kernelspec": {
   "display_name": "Python 3",
   "language": "python",
   "name": "python3"
  },
  "language_info": {
   "codemirror_mode": {
    "name": "ipython",
    "version": 3
   },
   "file_extension": ".py",
   "mimetype": "text/x-python",
   "name": "python",
   "nbconvert_exporter": "python",
   "pygments_lexer": "ipython3",
   "version": "3.7.7"
  }
 },
 "nbformat": 4,
 "nbformat_minor": 4
}
