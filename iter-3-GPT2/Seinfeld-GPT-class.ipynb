{
 "cells": [
  {
   "cell_type": "markdown",
   "metadata": {},
   "source": [
    "# GTP2 Generated Seinfeld ChatBot with Recommender System and Character Prediction"
   ]
  },
  {
   "cell_type": "code",
   "execution_count": 11,
   "metadata": {},
   "outputs": [],
   "source": [
    "from aitextgen.TokenDataset import TokenDataset\n",
    "from aitextgen.tokenizers import train_tokenizer\n",
    "from aitextgen.utils import GPT2ConfigCPU\n",
    "from aitextgen import aitextgen\n",
    "\n",
    "import pickle\n",
    "import spacy\n",
    "import pandas as pd\n",
    "import imdb\n",
    "\n",
    "\n",
    "import warnings"
   ]
  },
  {
   "cell_type": "code",
   "execution_count": 12,
   "metadata": {},
   "outputs": [
    {
     "data": {
      "text/plain": [
       "'/Users/alexander.fioto/personal_github/Seinfeld-Chatbot/iter-3-GPT2'"
      ]
     },
     "execution_count": 12,
     "metadata": {},
     "output_type": "execute_result"
    }
   ],
   "source": [
    "pwd"
   ]
  },
  {
   "cell_type": "code",
   "execution_count": 13,
   "metadata": {},
   "outputs": [],
   "source": [
    "warnings.filterwarnings(action='ignore')"
   ]
  },
  {
   "cell_type": "code",
   "execution_count": 14,
   "metadata": {},
   "outputs": [],
   "source": [
    "#nlp = spacy.load(\"en_trf_bertbaseuncased_lg\")"
   ]
  },
  {
   "cell_type": "code",
   "execution_count": null,
   "metadata": {},
   "outputs": [],
   "source": []
  },
  {
   "cell_type": "code",
   "execution_count": null,
   "metadata": {},
   "outputs": [],
   "source": []
  },
  {
   "cell_type": "code",
   "execution_count": 15,
   "metadata": {},
   "outputs": [],
   "source": [
    "# Loading dictionary with all of the episode names and dialogues\n",
    "with open('../data/episode_dialogues.pkl', 'rb') as f:\n",
    "    episode_dialogues = pickle.load(f)"
   ]
  },
  {
   "cell_type": "code",
   "execution_count": 16,
   "metadata": {},
   "outputs": [],
   "source": [
    "# Loading BERT embeddings for Seinfeld Epiosdes\n",
    "with open('/Users/alexander.fioto/Models/seinfeld_bert_spacy.pkl', 'rb') as f:\n",
    "    seinfeld_vectors = pickle.load(f)"
   ]
  },
  {
   "cell_type": "code",
   "execution_count": 17,
   "metadata": {},
   "outputs": [],
   "source": [
    "# Opening SVC Model\n",
    "with open('../data/svc_classification_model.pkl', 'rb') as f:\n",
    "    svc_model = pickle.load(f)"
   ]
  },
  {
   "cell_type": "code",
   "execution_count": null,
   "metadata": {},
   "outputs": [],
   "source": []
  },
  {
   "cell_type": "code",
   "execution_count": 36,
   "metadata": {},
   "outputs": [],
   "source": [
    "# This code tests the aitextgen model.\n",
    "\n",
    "# fp = '/Users/alexander.fioto/Models/Labeled-Seinfeld-Model/' \n",
    "\n",
    "# ai = aitextgen(model= fp + \"pytorch_model.bin\",\n",
    "#                config = fp + 'config.json', \n",
    "#                vocab_file=fp + 'aitextgen-vocab.json',\n",
    "#                merges_file=fp + 'aitextgen-merges.txt')\n",
    "\n",
    "# text = ai.generate(prompt='ALEX: Tell me about yourself',\n",
    "#             temperature = .7,\n",
    "#             return_as_list = True)"
   ]
  },
  {
   "cell_type": "code",
   "execution_count": null,
   "metadata": {},
   "outputs": [],
   "source": []
  },
  {
   "cell_type": "code",
   "execution_count": 38,
   "metadata": {},
   "outputs": [],
   "source": [
    "class SeinfeldChatbot():\n",
    "    def __init__(self, name='Buddy', transformer='en_trf_bertbaseuncased_lg', fp='/Users/alexander.fioto/Models/Labeled-Seinfeld-Model/', temperature = .4):\n",
    "        self.user_name_title = 'USER: '\n",
    "        self.chat_dialogue = ''\n",
    "        self.chat_dialogue_complete = ''\n",
    "        self.name = name\n",
    "        self.fp = fp\n",
    "        self.greeted = False\n",
    "        self.similarity_scores = None\n",
    "        self.temperature = temperature\n",
    "        self.exit_commands = ['bye', 'exit', 'i have to go', 'later', 'gtg', 'stop', 'end', 'done']\n",
    "        self.positive_responses = ['yes', 'yep', 'sure', 'definitely', 'y']\n",
    "        self.negative_responses = ['no', 'no thanks', 'nope', 'nah', 'n']\n",
    "        self.punctuation = ['.', '!', '?']\n",
    "        self.model = aitextgen(model= fp + \"pytorch_model.bin\",\n",
    "                               config = fp + 'config.json', \n",
    "                               vocab_file=fp + 'aitextgen-vocab.json',\n",
    "                               merges_file=fp + 'aitextgen-merges.txt')\n",
    "        self.transformer = transformer\n",
    "        self.recommender_initialized = False\n",
    "        print(\"Model Loaded!\")\n",
    "        \n",
    "        \n",
    "    def change_temp(self, temp):\n",
    "        if temp < 0 or temp > 1:\n",
    "            raise ValueError('Value must be greater than 0 and less than or equal to 1')\n",
    "        else:\n",
    "            self.temperature = temp\n",
    "        \n",
    "        \n",
    "    def greet(self):\n",
    "        res = input(\"Welcome to the SeinfeldChatbot! Do you want to chat?\")\n",
    "        if res.lower() not in self.negative_responses:\n",
    "            res = input(\"GEORGE: Can I get your name, pal?\")\n",
    "            if res in self.negative_responses:\n",
    "                print('GEORGE: Fine. Stay anonymous. See if I care.')\n",
    "            else:\n",
    "                self.name = res\n",
    "                self.user_name_title = self.name.upper() + ': '\n",
    "            self.greeted = True\n",
    "            self.chat()\n",
    "        else:\n",
    "            print('JERRY: OK. Fine. Leave. GO!')\n",
    "    \n",
    "    def generate_response(self, text_input):\n",
    "        if text_input[-1] not in self.punctuation:\n",
    "            text_input += '.'\n",
    "        self.chat_dialogue += ' ' + text_input\n",
    "        text = self.model.generate(prompt = f'{self.user_name_title}' + text_input,\n",
    "                                            temperature = .4,\n",
    "                                            return_as_list = True)\n",
    "        self.split_text_ = text[0].split('\\n\\n')\n",
    "        if len(self.split_text_[-1]) < 16:\n",
    "            self.split_text_.pop()\n",
    "        final_text = ''.join(self.split_text_)\n",
    "        self.chat_dialogue_complete += final_text + '\\n'\n",
    "        print(final_text)\n",
    "        \n",
    "    \n",
    "    def chat(self):\n",
    "        if self.greeted == True:\n",
    "            print(f'JERRY: What do you want, {self.name}?')\n",
    "            chat = True\n",
    "            while chat:\n",
    "                text_input = input()\n",
    "                if text_input in self.exit_commands:\n",
    "                    chat = False\n",
    "                    print('KRAMER: Who turns down a junior mint?')\n",
    "                    print('Thanks for chatting!')\n",
    "                elif 'recommend' in text_input:\n",
    "                    res = input(\"JERRY: Did you want an episode recommendation? It might take a minute.\")\n",
    "                    if res.lower() in self.positive_responses:\n",
    "                        if self.recommender_initialized:\n",
    "                            self.episode_recommendation()\n",
    "                        else:\n",
    "                            self.initialize_recommender()\n",
    "                    else:\n",
    "                        print('JERRY: Oh. Well what you said wasn\\'t clear.')\n",
    "                        #self.generate_response(text_input)\n",
    "                \n",
    "                elif 'sound like' in text_input.lower():\n",
    "                        self.predict_character()\n",
    "\n",
    "                else:\n",
    "                    self.generate_response(text_input)\n",
    "        else:\n",
    "            self.greet()\n",
    "\n",
    "    \n",
    "    \n",
    "    #### Episode Recommender #### \n",
    "    def initialize_recommender(self):\n",
    "        '''\n",
    "        This method initializes the recommender engine. You may use other pretrained transformers such as\n",
    "        en_trf_bertbaseuncased_lg. If you use BERT, you will see more accurate results but it will take longer\n",
    "        to load!\n",
    "        '''\n",
    "        if not self.recommender_initialized:\n",
    "            self.nlp_ = spacy.load(self.transformer)\n",
    "            self.recommender_initialized = True\n",
    "            df = pd.read_csv('../data/clean_scripts.csv', index_col=0)\n",
    "            self.episodes_ = df['SEID'].unique()\n",
    "\n",
    "            ia = imdb.IMDb()\n",
    "            self.series_ = ia.get_movie('0098904')\n",
    "            ia.update(self.series_, 'episodes')\n",
    "            sorted(self.series_['episodes'].keys())\n",
    "            print('Recommender Initialized!')\n",
    "            self.update_similarities()\n",
    "            self.episode_recommendation()\n",
    "        else:\n",
    "            print(\"The recommender is already initialized.\")\n",
    "        \n",
    "        \n",
    "\n",
    "    def update_similarities(self):\n",
    "        if not self.recommender_initialized:\n",
    "            res = input('You need to initialize the recommender system. Would you like to initialize?')\n",
    "            if res.lower() in self.positive_responses:\n",
    "                self.initialize_recommender()\n",
    "            else:\n",
    "                print('OK. Hope you come back later!')\n",
    "        \n",
    "        else:\n",
    "\n",
    "            if self.chat_dialogue:\n",
    "                similarity_scores = []\n",
    "                for episode in self.episodes_:\n",
    "                    doc1 = self.nlp_(self.chat_dialogue)\n",
    "                    doc2 = seinfeld_vectors[episode]\n",
    "                    similarity_scores.append((episode, doc1.similarity(doc2)))\n",
    "                similarity_scores.sort(key=lambda x: x[1], reverse = True)\n",
    "                self.similarity_scores = similarity_scores\n",
    "                self.scores_list_ = []\n",
    "                for i in range(len(self.similarity_scores)):\n",
    "                    self.scores_list_.append([int(self.similarity_scores[i][0][1:3]), int(self.similarity_scores[i][0][-2:])])\n",
    "                print('JERRY: Thanks for you patience. That took way too long.')\n",
    "            else:\n",
    "                print('KRAMER: It looks like you haven\\'t chatted yet. Please chat for a while and come back!')\n",
    "    \n",
    "    def episode_recommendation(self):\n",
    "        \n",
    "        \n",
    "        if not self.recommender_initialized:\n",
    "            res = input('JERRY: You need to initialize the recommender. Want to do it?')\n",
    "            if res.lower() in self.positive_responses:\n",
    "                self.initialize_recommender()\n",
    "            else:\n",
    "                print('JERRY: OK.')\n",
    "        \n",
    "        \n",
    "        elif not self.similarity_scores:\n",
    "            res = input('ELAINE: You need to get similarity scores first. Want to do grab them?')\n",
    "            if res.lower() in self.positive_responses:\n",
    "                self.update_similarities()\n",
    "            else:\n",
    "                print('GEORGE: Fine. Have it that way.')\n",
    "    \n",
    "            \n",
    "        else:\n",
    "            \n",
    "            for i in range(len(self.scores_list_)):\n",
    "                episode = self.series_['episodes'][self.scores_list_[i][0]][self.scores_list_[i][1]]\n",
    "                title = episode['title']\n",
    "                plot = episode['plot']\n",
    "                res = input(f'JERRY: Based on your chat dialogue, I would recommend you check out Seinfeld Season {self.scores_list_[i][0]}, episode {self.scores_list_[i][1]}, \"{title}\". Do you want to know the plot?')\n",
    "                if res.lower() in self.positive_responses:\n",
    "                    print(plot)\n",
    "                res = input('Do you want a link to the show?')\n",
    "                if res.lower() in self.positive_responses:\n",
    "                    print(f'https://www.youtube.com/results?search_query=seinfeld+season+{self.scores_list_[i][0]}+episode+{self.scores_list_[i][1]}')\n",
    "                res = input('JERRY: Do you want another recommendation?')\n",
    "                if res == 'no':\n",
    "                    print('JERRY: OK.')\n",
    "                    break\n",
    "\n",
    "            \n",
    "    ##### Character Predictor#####\n",
    "    \n",
    "    def predict_character(self, text=None):\n",
    "        if text:\n",
    "            prediction = svc_model.predict([text])\n",
    "        else:\n",
    "            prediction = svc_model.predict([self.chat_dialogue])\n",
    "            \n",
    "        if prediction == 0:\n",
    "            print('You sound like Jerry!')\n",
    "        elif prediction == 1:\n",
    "            print('You sound like George!')\n",
    "        elif prediction == 1:\n",
    "            print('You sound like Kramer!')\n",
    "        else:\n",
    "            print('You sound like Elaine!')\n",
    "   \n",
    "        \n",
    "        "
   ]
  },
  {
   "cell_type": "code",
   "execution_count": 39,
   "metadata": {},
   "outputs": [
    {
     "name": "stderr",
     "output_type": "stream",
     "text": [
      "INFO:aitextgen:Loading GPT-2 model from provided /Users/alexander.fioto/Models/Labeled-Seinfeld-Model/pytorch_model.bin.\n",
      "INFO:aitextgen:Using a custom tokenizer.\n"
     ]
    },
    {
     "name": "stdout",
     "output_type": "stream",
     "text": [
      "Model Loaded!\n"
     ]
    }
   ],
   "source": [
    "bot = SeinfeldChatbot()"
   ]
  },
  {
   "cell_type": "code",
   "execution_count": 40,
   "metadata": {},
   "outputs": [
    {
     "ename": "KeyboardInterrupt",
     "evalue": "Interrupted by user",
     "output_type": "error",
     "traceback": [
      "\u001b[0;31m---------------------------------------------------------------------------\u001b[0m",
      "\u001b[0;31mKeyboardInterrupt\u001b[0m                         Traceback (most recent call last)",
      "\u001b[0;32m<ipython-input-40-7f0d78ef5d91>\u001b[0m in \u001b[0;36m<module>\u001b[0;34m\u001b[0m\n\u001b[0;32m----> 1\u001b[0;31m \u001b[0mbot\u001b[0m\u001b[0;34m.\u001b[0m\u001b[0mchat\u001b[0m\u001b[0;34m(\u001b[0m\u001b[0;34m)\u001b[0m\u001b[0;34m\u001b[0m\u001b[0;34m\u001b[0m\u001b[0m\n\u001b[0m",
      "\u001b[0;32m<ipython-input-38-50761b598e9f>\u001b[0m in \u001b[0;36mchat\u001b[0;34m(self)\u001b[0m\n\u001b[1;32m     85\u001b[0m                     \u001b[0mself\u001b[0m\u001b[0;34m.\u001b[0m\u001b[0mgenerate_response\u001b[0m\u001b[0;34m(\u001b[0m\u001b[0mtext_input\u001b[0m\u001b[0;34m)\u001b[0m\u001b[0;34m\u001b[0m\u001b[0;34m\u001b[0m\u001b[0m\n\u001b[1;32m     86\u001b[0m         \u001b[0;32melse\u001b[0m\u001b[0;34m:\u001b[0m\u001b[0;34m\u001b[0m\u001b[0;34m\u001b[0m\u001b[0m\n\u001b[0;32m---> 87\u001b[0;31m             \u001b[0mself\u001b[0m\u001b[0;34m.\u001b[0m\u001b[0mgreet\u001b[0m\u001b[0;34m(\u001b[0m\u001b[0;34m)\u001b[0m\u001b[0;34m\u001b[0m\u001b[0;34m\u001b[0m\u001b[0m\n\u001b[0m\u001b[1;32m     88\u001b[0m \u001b[0;34m\u001b[0m\u001b[0m\n\u001b[1;32m     89\u001b[0m \u001b[0;34m\u001b[0m\u001b[0m\n",
      "\u001b[0;32m<ipython-input-38-50761b598e9f>\u001b[0m in \u001b[0;36mgreet\u001b[0;34m(self)\u001b[0m\n\u001b[1;32m     30\u001b[0m \u001b[0;34m\u001b[0m\u001b[0m\n\u001b[1;32m     31\u001b[0m     \u001b[0;32mdef\u001b[0m \u001b[0mgreet\u001b[0m\u001b[0;34m(\u001b[0m\u001b[0mself\u001b[0m\u001b[0;34m)\u001b[0m\u001b[0;34m:\u001b[0m\u001b[0;34m\u001b[0m\u001b[0;34m\u001b[0m\u001b[0m\n\u001b[0;32m---> 32\u001b[0;31m         \u001b[0mres\u001b[0m \u001b[0;34m=\u001b[0m \u001b[0minput\u001b[0m\u001b[0;34m(\u001b[0m\u001b[0;34m\"Welcome to the SeinfeldChatbot! Do you want to chat?\"\u001b[0m\u001b[0;34m)\u001b[0m\u001b[0;34m\u001b[0m\u001b[0;34m\u001b[0m\u001b[0m\n\u001b[0m\u001b[1;32m     33\u001b[0m         \u001b[0;32mif\u001b[0m \u001b[0mres\u001b[0m\u001b[0;34m.\u001b[0m\u001b[0mlower\u001b[0m\u001b[0;34m(\u001b[0m\u001b[0;34m)\u001b[0m \u001b[0;32mnot\u001b[0m \u001b[0;32min\u001b[0m \u001b[0mself\u001b[0m\u001b[0;34m.\u001b[0m\u001b[0mnegative_responses\u001b[0m\u001b[0;34m:\u001b[0m\u001b[0;34m\u001b[0m\u001b[0;34m\u001b[0m\u001b[0m\n\u001b[1;32m     34\u001b[0m             \u001b[0mres\u001b[0m \u001b[0;34m=\u001b[0m \u001b[0minput\u001b[0m\u001b[0;34m(\u001b[0m\u001b[0;34m\"GEORGE: Can I get your name, pal?\"\u001b[0m\u001b[0;34m)\u001b[0m\u001b[0;34m\u001b[0m\u001b[0;34m\u001b[0m\u001b[0m\n",
      "\u001b[0;32m~/opt/anaconda3/lib/python3.7/site-packages/ipykernel/kernelbase.py\u001b[0m in \u001b[0;36mraw_input\u001b[0;34m(self, prompt)\u001b[0m\n\u001b[1;32m    861\u001b[0m             \u001b[0mself\u001b[0m\u001b[0;34m.\u001b[0m\u001b[0m_parent_ident\u001b[0m\u001b[0;34m,\u001b[0m\u001b[0;34m\u001b[0m\u001b[0;34m\u001b[0m\u001b[0m\n\u001b[1;32m    862\u001b[0m             \u001b[0mself\u001b[0m\u001b[0;34m.\u001b[0m\u001b[0m_parent_header\u001b[0m\u001b[0;34m,\u001b[0m\u001b[0;34m\u001b[0m\u001b[0;34m\u001b[0m\u001b[0m\n\u001b[0;32m--> 863\u001b[0;31m             \u001b[0mpassword\u001b[0m\u001b[0;34m=\u001b[0m\u001b[0;32mFalse\u001b[0m\u001b[0;34m,\u001b[0m\u001b[0;34m\u001b[0m\u001b[0;34m\u001b[0m\u001b[0m\n\u001b[0m\u001b[1;32m    864\u001b[0m         )\n\u001b[1;32m    865\u001b[0m \u001b[0;34m\u001b[0m\u001b[0m\n",
      "\u001b[0;32m~/opt/anaconda3/lib/python3.7/site-packages/ipykernel/kernelbase.py\u001b[0m in \u001b[0;36m_input_request\u001b[0;34m(self, prompt, ident, parent, password)\u001b[0m\n\u001b[1;32m    902\u001b[0m             \u001b[0;32mexcept\u001b[0m \u001b[0mKeyboardInterrupt\u001b[0m\u001b[0;34m:\u001b[0m\u001b[0;34m\u001b[0m\u001b[0;34m\u001b[0m\u001b[0m\n\u001b[1;32m    903\u001b[0m                 \u001b[0;31m# re-raise KeyboardInterrupt, to truncate traceback\u001b[0m\u001b[0;34m\u001b[0m\u001b[0;34m\u001b[0m\u001b[0;34m\u001b[0m\u001b[0m\n\u001b[0;32m--> 904\u001b[0;31m                 \u001b[0;32mraise\u001b[0m \u001b[0mKeyboardInterrupt\u001b[0m\u001b[0;34m(\u001b[0m\u001b[0;34m\"Interrupted by user\"\u001b[0m\u001b[0;34m)\u001b[0m \u001b[0;32mfrom\u001b[0m \u001b[0;32mNone\u001b[0m\u001b[0;34m\u001b[0m\u001b[0;34m\u001b[0m\u001b[0m\n\u001b[0m\u001b[1;32m    905\u001b[0m             \u001b[0;32mexcept\u001b[0m \u001b[0mException\u001b[0m \u001b[0;32mas\u001b[0m \u001b[0me\u001b[0m\u001b[0;34m:\u001b[0m\u001b[0;34m\u001b[0m\u001b[0;34m\u001b[0m\u001b[0m\n\u001b[1;32m    906\u001b[0m                 \u001b[0mself\u001b[0m\u001b[0;34m.\u001b[0m\u001b[0mlog\u001b[0m\u001b[0;34m.\u001b[0m\u001b[0mwarning\u001b[0m\u001b[0;34m(\u001b[0m\u001b[0;34m\"Invalid Message:\"\u001b[0m\u001b[0;34m,\u001b[0m \u001b[0mexc_info\u001b[0m\u001b[0;34m=\u001b[0m\u001b[0;32mTrue\u001b[0m\u001b[0;34m)\u001b[0m\u001b[0;34m\u001b[0m\u001b[0;34m\u001b[0m\u001b[0m\n",
      "\u001b[0;31mKeyboardInterrupt\u001b[0m: Interrupted by user"
     ]
    }
   ],
   "source": [
    "bot.chat()"
   ]
  },
  {
   "cell_type": "code",
   "execution_count": null,
   "metadata": {},
   "outputs": [],
   "source": []
  },
  {
   "cell_type": "code",
   "execution_count": null,
   "metadata": {},
   "outputs": [],
   "source": []
  },
  {
   "cell_type": "code",
   "execution_count": null,
   "metadata": {},
   "outputs": [],
   "source": []
  },
  {
   "cell_type": "code",
   "execution_count": null,
   "metadata": {},
   "outputs": [],
   "source": []
  },
  {
   "cell_type": "code",
   "execution_count": null,
   "metadata": {},
   "outputs": [],
   "source": []
  },
  {
   "cell_type": "code",
   "execution_count": 24,
   "metadata": {},
   "outputs": [
    {
     "name": "stdout",
     "output_type": "stream",
     "text": [
      "You sound like Elaine!\n"
     ]
    }
   ],
   "source": [
    "bot.predict_character(\"Maybe the dingo ate your baby!\")"
   ]
  },
  {
   "cell_type": "code",
   "execution_count": null,
   "metadata": {},
   "outputs": [],
   "source": []
  },
  {
   "cell_type": "code",
   "execution_count": null,
   "metadata": {},
   "outputs": [],
   "source": []
  },
  {
   "cell_type": "code",
   "execution_count": null,
   "metadata": {},
   "outputs": [],
   "source": []
  },
  {
   "cell_type": "code",
   "execution_count": null,
   "metadata": {},
   "outputs": [],
   "source": []
  },
  {
   "cell_type": "code",
   "execution_count": null,
   "metadata": {},
   "outputs": [],
   "source": []
  },
  {
   "cell_type": "code",
   "execution_count": 198,
   "metadata": {},
   "outputs": [],
   "source": []
  },
  {
   "cell_type": "code",
   "execution_count": null,
   "metadata": {},
   "outputs": [],
   "source": []
  },
  {
   "cell_type": "code",
   "execution_count": null,
   "metadata": {},
   "outputs": [],
   "source": []
  },
  {
   "cell_type": "code",
   "execution_count": null,
   "metadata": {},
   "outputs": [],
   "source": []
  },
  {
   "cell_type": "code",
   "execution_count": null,
   "metadata": {},
   "outputs": [],
   "source": []
  },
  {
   "cell_type": "markdown",
   "metadata": {},
   "source": [
    "# Scractch work for IMDb API"
   ]
  },
  {
   "cell_type": "code",
   "execution_count": 23,
   "metadata": {},
   "outputs": [],
   "source": [
    "# import imdb\n",
    "# ia = imdb.IMDb()\n",
    "\n",
    "# # Seinfeld is 0098904\n",
    "# series = ia.get_movie('0098904')\n",
    "\n",
    "\n",
    "# ia.update(series, 'episodes')\n",
    "# sorted(series['episodes'].keys())\n",
    "\n",
    "\n",
    "# episode = series['episodes'][7][5]\n",
    "\n",
    "# episode['title']\n",
    "\n"
   ]
  },
  {
   "cell_type": "code",
   "execution_count": null,
   "metadata": {},
   "outputs": [],
   "source": []
  }
 ],
 "metadata": {
  "kernelspec": {
   "display_name": "Python 3",
   "language": "python",
   "name": "python3"
  },
  "language_info": {
   "codemirror_mode": {
    "name": "ipython",
    "version": 3
   },
   "file_extension": ".py",
   "mimetype": "text/x-python",
   "name": "python",
   "nbconvert_exporter": "python",
   "pygments_lexer": "ipython3",
   "version": "3.7.7"
  }
 },
 "nbformat": 4,
 "nbformat_minor": 4
}
