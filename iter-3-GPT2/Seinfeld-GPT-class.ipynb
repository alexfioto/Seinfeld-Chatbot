{
 "cells": [
  {
   "cell_type": "markdown",
   "metadata": {},
   "source": [
    "# GTP2 Generated Seinfeld ChatBot with Recommender System"
   ]
  },
  {
   "cell_type": "code",
   "execution_count": 387,
   "metadata": {},
   "outputs": [],
   "source": [
    "from aitextgen.TokenDataset import TokenDataset\n",
    "from aitextgen.tokenizers import train_tokenizer\n",
    "from aitextgen.utils import GPT2ConfigCPU\n",
    "from aitextgen import aitextgen\n",
    "\n",
    "import pickle\n",
    "import spacy\n",
    "import pandas as pd"
   ]
  },
  {
   "cell_type": "code",
   "execution_count": 388,
   "metadata": {},
   "outputs": [],
   "source": [
    "# Loading a dictionary with all of the episode names and dialogues\n",
    "with open('../data/episode_dialogues.pkl', 'rb') as f:\n",
    "    episode_dialogues = pickle.load(f)"
   ]
  },
  {
   "cell_type": "code",
   "execution_count": null,
   "metadata": {},
   "outputs": [],
   "source": [
    "episode_dialogues"
   ]
  },
  {
   "cell_type": "code",
   "execution_count": 389,
   "metadata": {},
   "outputs": [],
   "source": [
    "fp = '/Users/alexander.fioto/Models/Labeled-Seinfeld-Model/' "
   ]
  },
  {
   "cell_type": "code",
   "execution_count": 4,
   "metadata": {},
   "outputs": [
    {
     "name": "stderr",
     "output_type": "stream",
     "text": [
      "INFO:aitextgen:Loading GPT-2 model from provided /Users/alexander.fioto/Models/Labeled-Seinfeld-Model/pytorch_model.bin.\n",
      "INFO:aitextgen:Using a custom tokenizer.\n"
     ]
    }
   ],
   "source": [
    "ai = aitextgen(model= fp + \"pytorch_model.bin\",\n",
    "               config = fp + 'config.json', \n",
    "               vocab_file=fp + 'aitextgen-vocab.json',\n",
    "               merges_file=fp + 'aitextgen-merges.txt')"
   ]
  },
  {
   "cell_type": "code",
   "execution_count": 293,
   "metadata": {},
   "outputs": [],
   "source": [
    "text = ai.generate(prompt='ALEX: Tell me about yourself',\n",
    "            temperature = .7,\n",
    "            return_as_list = True)"
   ]
  },
  {
   "cell_type": "code",
   "execution_count": 294,
   "metadata": {},
   "outputs": [],
   "source": [
    "punctuation = ['.', '!', '?']\n"
   ]
  },
  {
   "cell_type": "code",
   "execution_count": 295,
   "metadata": {},
   "outputs": [],
   "source": [
    "\n",
    "text = text[0].split('\\n\\n\\n')"
   ]
  },
  {
   "cell_type": "code",
   "execution_count": 298,
   "metadata": {},
   "outputs": [
    {
     "data": {
      "text/plain": [
       "'e'"
      ]
     },
     "execution_count": 298,
     "metadata": {},
     "output_type": "execute_result"
    }
   ],
   "source": [
    "text[-1][-1]"
   ]
  },
  {
   "cell_type": "code",
   "execution_count": 303,
   "metadata": {},
   "outputs": [
    {
     "data": {
      "text/plain": [
       "['ALEX: Tell me about yourself.',\n",
       " 'JERRY: What?',\n",
       " 'GEORGE: Nothing. ',\n",
       " 'JERRY: I thought you said people.']"
      ]
     },
     "execution_count": 303,
     "metadata": {},
     "output_type": "execute_result"
    }
   ],
   "source": [
    "text"
   ]
  },
  {
   "cell_type": "code",
   "execution_count": 302,
   "metadata": {},
   "outputs": [],
   "source": [
    "if text[-1][-1] not in punctuation:\n",
    "    text[-1] += '.'"
   ]
  },
  {
   "cell_type": "code",
   "execution_count": 304,
   "metadata": {},
   "outputs": [
    {
     "name": "stdout",
     "output_type": "stream",
     "text": [
      "ALEX: Tell me about yourself.\n",
      "JERRY: What?\n",
      "GEORGE: Nothing. \n",
      "JERRY: I thought you said people.\n"
     ]
    }
   ],
   "source": [
    "print('\\n'.join(text))"
   ]
  },
  {
   "cell_type": "code",
   "execution_count": null,
   "metadata": {},
   "outputs": [],
   "source": []
  },
  {
   "cell_type": "code",
   "execution_count": null,
   "metadata": {},
   "outputs": [],
   "source": []
  },
  {
   "cell_type": "code",
   "execution_count": null,
   "metadata": {},
   "outputs": [],
   "source": []
  },
  {
   "cell_type": "code",
   "execution_count": null,
   "metadata": {},
   "outputs": [],
   "source": []
  },
  {
   "cell_type": "code",
   "execution_count": null,
   "metadata": {},
   "outputs": [],
   "source": []
  },
  {
   "cell_type": "code",
   "execution_count": null,
   "metadata": {},
   "outputs": [],
   "source": []
  },
  {
   "cell_type": "code",
   "execution_count": null,
   "metadata": {},
   "outputs": [],
   "source": []
  },
  {
   "cell_type": "code",
   "execution_count": 390,
   "metadata": {},
   "outputs": [],
   "source": [
    "class SeinfeldChatbot():\n",
    "    def __init__(self, name='Buddy', fp='/Users/alexander.fioto/Models/Labeled-Seinfeld-Model/', temperature = .4):\n",
    "        self.user_name_title = 'USER: '\n",
    "        self.chat_dialogue = ''\n",
    "        self.chat_dialogue_complete = ''\n",
    "        self.name = name\n",
    "        self.fp = fp\n",
    "        self.greeted = False\n",
    "        self.similarity_scores = None\n",
    "        self.temperature = temperature\n",
    "        self.exit_commands = ['bye', 'exit', 'i have to go', 'later', 'gtg', 'stop', 'end', 'done']\n",
    "        self.positive_responses = ['yes', 'yep', 'sure', 'definitely', 'y']\n",
    "        self.negative_responses = ['no', 'no thanks', 'nope', 'nah', 'n']\n",
    "        self.punctuation = ['.', '!', '?']\n",
    "        self.model = aitextgen(model= fp + \"pytorch_model.bin\",\n",
    "                               config = fp + 'config.json', \n",
    "                               vocab_file=fp + 'aitextgen-vocab.json',\n",
    "                               merges_file=fp + 'aitextgen-merges.txt')\n",
    "        self.transformer = 'en_core_web_lg'\n",
    "        self.recommender_initialized = False\n",
    "        print(\"Model Loaded!\")\n",
    "        \n",
    "        \n",
    "    def change_temp(self, temp):\n",
    "        if temp < 0 or temp > 1:\n",
    "            raise ValueError('Value must be greater than 0 and less than or equal to 1')\n",
    "        else:\n",
    "            self.temperature = temp\n",
    "        \n",
    "        \n",
    "    def greet(self):\n",
    "        res = input(\"Welcome to the SeinfeldChatbot! Do you want to chat?\")\n",
    "        if res.lower() not in self.negative_responses:\n",
    "            res = input(\"GEORGE: Can I get your name, pal?\")\n",
    "            if res in self.negative_responses:\n",
    "                print('GEORGE: Fine. Stay anonymous. See if I care.')\n",
    "            else:\n",
    "                self.name = res\n",
    "                self.user_name_title = self.name.upper() + ': '\n",
    "            self.greeted = True\n",
    "            self.chat()\n",
    "        else:\n",
    "            print('JERRY: OK. Fine. Leave. GO!')\n",
    "    \n",
    "    def generate_response(self, text_input):\n",
    "        if text_input[-1] not in self.punctuation:\n",
    "            text_input += '.'\n",
    "        self.chat_dialogue += ' ' + text_input\n",
    "        text = self.model.generate(prompt = f'{self.user_name_title}' + text_input,\n",
    "                                            temperature = .4,\n",
    "                                            return_as_list = True)\n",
    "        self.split_text_ = text[0].split('\\n\\n')\n",
    "        if len(self.split_text_[-1]) < 16:\n",
    "            self.split_text_.pop()\n",
    "        final_text = ''.join(self.split_text_)\n",
    "        self.chat_dialogue_complete += final_text + '\\n'\n",
    "        print(final_text)\n",
    "        \n",
    "    \n",
    "    def chat(self):\n",
    "        if self.greeted == True:\n",
    "            print(f'JERRY: What do you want, {self.name}?')\n",
    "            chat = True\n",
    "            while chat:\n",
    "                text_input = input()\n",
    "                if text_input in self.exit_commands:\n",
    "                    chat = False\n",
    "                    print('KRAMER: Who turns down a junior mint?')\n",
    "                elif 'recommend' in text_input:\n",
    "                    res = input(\"JERRY: Did you want an episode recommendation? It might take a minute.\")\n",
    "                    if res.lower() in self.positive_responses:\n",
    "                        if self.recommender_initialized:\n",
    "                            self.episode_recommendation()\n",
    "                        else:\n",
    "                            self.initialize_recommender()\n",
    "                    else:\n",
    "                        print('JERRY: Oh. Well what you said wasn\\'t clear.')\n",
    "                        self.generate_response(text_input)\n",
    "                    \n",
    "\n",
    "                else:\n",
    "                    self.generate_response(text_input)\n",
    "        else:\n",
    "            self.greet()\n",
    "\n",
    "    \n",
    "    \n",
    "    #### Episode Recommender #### \n",
    "    def initialize_recommender(self, transformer='en_core_web_lg'):\n",
    "        '''\n",
    "        This method initializes the recommender engine. You may use other pretrained transformers such as\n",
    "        en_trf_bertbaseuncased_lg. If you use BERT, you will see more accurate results but it will take longer\n",
    "        to load!\n",
    "        '''\n",
    "        self.nlp_ = spacy.load(transformer)\n",
    "        self.recommender_initialized = True\n",
    "        df = pd.read_csv('../data/clean_scripts.csv', index_col=0)\n",
    "        self.episodes_ = df['SEID'].unique()\n",
    "        \n",
    "        ia = imdb.IMDb()\n",
    "        self.series_ = ia.get_movie('0098904')\n",
    "        ia.update(self.series_, 'episodes')\n",
    "        sorted(self.series_['episodes'].keys())\n",
    "        print('Recommender Initialized!')\n",
    "        self.update_similarities()\n",
    "        self.episode_recommendation()\n",
    "        \n",
    "        \n",
    "\n",
    "    def update_similarities(self):\n",
    "        if not self.recommender_initialized:\n",
    "            res = input('You need to initialize the recommender system. Would you like to initialize?')\n",
    "            if res.lower() in self.positive_responses:\n",
    "                self.initialize_recommender()\n",
    "            else:\n",
    "                print('OK. Hope you come back later!')\n",
    "        \n",
    "        else:\n",
    "\n",
    "            if self.chat_dialogue:\n",
    "                print('''This part might take a minute...\n",
    "\n",
    "JERRY: You know the message you're sending out to the world with these sweatpants? You're telling the world, 'I give up. I can't compete in normal society. I'm miserable, so I might as well be comfortable.'\n",
    "                        ''')\n",
    "                similarity_scores = []\n",
    "                for episode in self.episodes_:\n",
    "                    doc1 = self.nlp_(self.chat_dialogue)\n",
    "                    doc2 = self.nlp_(episode_dialogues[episode])\n",
    "                    similarity_scores.append((episode, doc1.similarity(doc2)))\n",
    "                similarity_scores.sort(key=lambda x: x[1], reverse = True)\n",
    "                self.similarity_scores = similarity_scores\n",
    "                self.scores_list_ = []\n",
    "                for i in range(len(scores)):\n",
    "                    self.scores_list_.append([int(self.similarity_scores[i][0][1:3]), int(self.similarity_scores[i][0][-2:])])\n",
    "                print('JERRY: Thanks for you patience. That took way too long.')\n",
    "            else:\n",
    "                print('KRAMER: It looks like you haven\\'t chatted yet. Please chat for a while and come back!')\n",
    "    \n",
    "    def episode_recommendation(self):\n",
    "        if self.similarity_scores:\n",
    "            for i in range(len(self.scores_list_)):\n",
    "                try:\n",
    "                    episode = series['episodes'][self.scores_list_[i][0]][self.scores_list_[i][1]]\n",
    "                    title = episode['title']\n",
    "                    plot = episode['plot']\n",
    "                    res = input(f'JERRY: Based on your chat dialogue, I would recommend you check out Seinfeld Season {self.scores_list_[i][0]}, episode {self.scores_list_[i][1]}, \"{title}\". Do you want to know the plot?')\n",
    "                    if res in self.positive_responses:\n",
    "                        print(plot)\n",
    "            #         res = input('Do you want a link to the show?')\n",
    "            #         if res == \n",
    "                    res = input('JERRY: Do you want another recommendation?')\n",
    "                    if res == 'no':\n",
    "                        print('JERRY: OK.')\n",
    "                        break\n",
    "                except:\n",
    "                    continue\n",
    "            \n",
    "        else:\n",
    "            res = input('ELAINE: You need to get similarity scores first. Want to do grab them?')\n",
    "            if res in self.positive_responses:\n",
    "                self.update_similarities()\n",
    "            else:\n",
    "                print('GEORGE: Fine. Have it that way.')\n",
    "\n",
    "        \n",
    "        \n",
    "        "
   ]
  },
  {
   "cell_type": "code",
   "execution_count": null,
   "metadata": {},
   "outputs": [],
   "source": []
  },
  {
   "cell_type": "code",
   "execution_count": null,
   "metadata": {},
   "outputs": [],
   "source": []
  },
  {
   "cell_type": "code",
   "execution_count": 391,
   "metadata": {},
   "outputs": [
    {
     "name": "stderr",
     "output_type": "stream",
     "text": [
      "INFO:aitextgen:Loading GPT-2 model from provided /Users/alexander.fioto/Models/Labeled-Seinfeld-Model/pytorch_model.bin.\n",
      "INFO:aitextgen:Using a custom tokenizer.\n"
     ]
    },
    {
     "name": "stdout",
     "output_type": "stream",
     "text": [
      "Model Loaded!\n"
     ]
    }
   ],
   "source": [
    "bot = SeinfeldChatbot()"
   ]
  },
  {
   "cell_type": "code",
   "execution_count": 392,
   "metadata": {},
   "outputs": [
    {
     "name": "stdin",
     "output_type": "stream",
     "text": [
      "Welcome to the SeinfeldChatbot! Do you want to chat? Yes\n",
      "GEORGE: Can I get your name, pal? Dan\n"
     ]
    },
    {
     "name": "stdout",
     "output_type": "stream",
     "text": [
      "JERRY: What do you want, Dan?\n"
     ]
    },
    {
     "name": "stdin",
     "output_type": "stream",
     "text": [
      " I like coffee.\n"
     ]
    },
    {
     "name": "stdout",
     "output_type": "stream",
     "text": [
      "DAN: I like coffee.\n",
      "GEORGE: I didn't do anything.\n",
      "JERRY: Oh, you didn't tell him?\n"
     ]
    },
    {
     "name": "stdin",
     "output_type": "stream",
     "text": [
      " I want to hear about George and the Yankees.\n"
     ]
    },
    {
     "name": "stdout",
     "output_type": "stream",
     "text": [
      "DAN: I want to hear about George and the Yankees. I'd like to ask you a question. Why, why did you tell my friend Jerry what I\n"
     ]
    },
    {
     "name": "stdin",
     "output_type": "stream",
     "text": [
      " Ladjfa;l\n"
     ]
    },
    {
     "name": "stdout",
     "output_type": "stream",
     "text": [
      "DAN: Ladjfa;l.\n",
      "GEORGE: See, that's no good. See, you don't know how to act.\n",
      "\n"
     ]
    },
    {
     "name": "stdin",
     "output_type": "stream",
     "text": [
      " recommend\n",
      "JERRY: Did you want an episode recommendation? It might take a minute. yes\n"
     ]
    },
    {
     "name": "stderr",
     "output_type": "stream",
     "text": [
      "2020-11-08 10:09:40,108 INFO [imdbpy.parser.http.piculet] /Users/alexander.fioto/opt/anaconda3/lib/python3.7/site-packages/imdb/parser/http/piculet.py:681: using lxml html builder\n",
      "INFO:imdbpy.parser.http.piculet:using lxml html builder\n",
      "2020-11-08 10:09:40,421 INFO [imdbpy.parser.http.piculet] /Users/alexander.fioto/opt/anaconda3/lib/python3.7/site-packages/imdb/parser/http/piculet.py:681: using lxml html builder\n",
      "INFO:imdbpy.parser.http.piculet:using lxml html builder\n",
      "2020-11-08 10:09:41,344 INFO [imdbpy.parser.http.piculet] /Users/alexander.fioto/opt/anaconda3/lib/python3.7/site-packages/imdb/parser/http/piculet.py:681: using lxml html builder\n",
      "INFO:imdbpy.parser.http.piculet:using lxml html builder\n",
      "2020-11-08 10:09:41,798 INFO [imdbpy.parser.http.piculet] /Users/alexander.fioto/opt/anaconda3/lib/python3.7/site-packages/imdb/parser/http/piculet.py:681: using lxml html builder\n",
      "INFO:imdbpy.parser.http.piculet:using lxml html builder\n",
      "2020-11-08 10:09:42,268 INFO [imdbpy.parser.http.piculet] /Users/alexander.fioto/opt/anaconda3/lib/python3.7/site-packages/imdb/parser/http/piculet.py:681: using lxml html builder\n",
      "INFO:imdbpy.parser.http.piculet:using lxml html builder\n",
      "2020-11-08 10:09:42,596 INFO [imdbpy.parser.http.piculet] /Users/alexander.fioto/opt/anaconda3/lib/python3.7/site-packages/imdb/parser/http/piculet.py:681: using lxml html builder\n",
      "INFO:imdbpy.parser.http.piculet:using lxml html builder\n",
      "2020-11-08 10:09:43,308 INFO [imdbpy.parser.http.piculet] /Users/alexander.fioto/opt/anaconda3/lib/python3.7/site-packages/imdb/parser/http/piculet.py:681: using lxml html builder\n",
      "INFO:imdbpy.parser.http.piculet:using lxml html builder\n",
      "2020-11-08 10:09:44,100 INFO [imdbpy.parser.http.piculet] /Users/alexander.fioto/opt/anaconda3/lib/python3.7/site-packages/imdb/parser/http/piculet.py:681: using lxml html builder\n",
      "INFO:imdbpy.parser.http.piculet:using lxml html builder\n",
      "2020-11-08 10:09:44,934 INFO [imdbpy.parser.http.piculet] /Users/alexander.fioto/opt/anaconda3/lib/python3.7/site-packages/imdb/parser/http/piculet.py:681: using lxml html builder\n",
      "INFO:imdbpy.parser.http.piculet:using lxml html builder\n",
      "2020-11-08 10:09:45,816 INFO [imdbpy.parser.http.piculet] /Users/alexander.fioto/opt/anaconda3/lib/python3.7/site-packages/imdb/parser/http/piculet.py:681: using lxml html builder\n",
      "INFO:imdbpy.parser.http.piculet:using lxml html builder\n",
      "2020-11-08 10:09:46,504 INFO [imdbpy.parser.http.piculet] /Users/alexander.fioto/opt/anaconda3/lib/python3.7/site-packages/imdb/parser/http/piculet.py:681: using lxml html builder\n",
      "INFO:imdbpy.parser.http.piculet:using lxml html builder\n",
      "2020-11-08 10:09:47,196 INFO [imdbpy.parser.http.piculet] /Users/alexander.fioto/opt/anaconda3/lib/python3.7/site-packages/imdb/parser/http/piculet.py:681: using lxml html builder\n",
      "INFO:imdbpy.parser.http.piculet:using lxml html builder\n"
     ]
    },
    {
     "name": "stdout",
     "output_type": "stream",
     "text": [
      "Recommender Initialized!\n",
      "This part might take a minute...\n",
      "\n",
      "JERRY: You know the message you're sending out to the world with these sweatpants? You're telling the world, 'I give up. I can't compete in normal society. I'm miserable, so I might as well be comfortable.'\n",
      "                        \n",
      "JERRY: Thanks for you patience. That took way too long.\n"
     ]
    },
    {
     "name": "stdin",
     "output_type": "stream",
     "text": [
      "JERRY: Based on your chat dialogue, I would recommend you check out Seinfeld Season 5, episode 11, \"The Conversion\". Do you want to know the plot? yes\n"
     ]
    },
    {
     "name": "stdout",
     "output_type": "stream",
     "text": [
      "\n",
      "    George changes his religion to Latvian Orthodox to keep his girlfriend happy; Jerry becomes curious as to why his girlfriend needs fungus cream.    \n"
     ]
    },
    {
     "name": "stdin",
     "output_type": "stream",
     "text": [
      "JERRY: Do you want another recommendation? yes\n",
      "JERRY: Based on your chat dialogue, I would recommend you check out Seinfeld Season 8, episode 17, \"The English Patient\". Do you want to know the plot? yes\n"
     ]
    },
    {
     "name": "stdout",
     "output_type": "stream",
     "text": [
      "\n",
      "    Elaine is dragged to see the movie \"The English Patient (1996) \" on multiple occasions, even though she absolutely hates the film.    \n"
     ]
    },
    {
     "name": "stdin",
     "output_type": "stream",
     "text": [
      "JERRY: Do you want another recommendation? no\n"
     ]
    },
    {
     "name": "stdout",
     "output_type": "stream",
     "text": [
      "JERRY: OK.\n"
     ]
    },
    {
     "name": "stdin",
     "output_type": "stream",
     "text": [
      " stop\n"
     ]
    },
    {
     "name": "stdout",
     "output_type": "stream",
     "text": [
      "KRAMER: Who turns down a junior mint?\n"
     ]
    }
   ],
   "source": [
    "bot.chat()"
   ]
  },
  {
   "cell_type": "code",
   "execution_count": 376,
   "metadata": {},
   "outputs": [
    {
     "name": "stdout",
     "output_type": "stream",
     "text": [
      "JERRY: What do you want, Nan?\n"
     ]
    },
    {
     "name": "stdin",
     "output_type": "stream",
     "text": [
      " I want to see you.\n"
     ]
    },
    {
     "name": "stdout",
     "output_type": "stream",
     "text": [
      "NAN: I want to see you.\n",
      "ELAINE: So what are you doing now, Georgie?\n",
      "GEORGE: I'm uh... writing\n"
     ]
    },
    {
     "name": "stdin",
     "output_type": "stream",
     "text": [
      " Why are you writing?\n"
     ]
    },
    {
     "name": "stdout",
     "output_type": "stream",
     "text": [
      "NAN: Why are you writing?\n",
      "ELAINE: I'm afraid it's your urine, Elaine. You tested positive for opium\n"
     ]
    },
    {
     "name": "stdin",
     "output_type": "stream",
     "text": [
      " Opium? I love opium.\n"
     ]
    },
    {
     "name": "stdout",
     "output_type": "stream",
     "text": [
      "NAN: Opium? I love opium. Let me take another one, please? I'll call the doctor right now, I'll take a\n"
     ]
    },
    {
     "name": "stdin",
     "output_type": "stream",
     "text": [
      " This is goofy.\n"
     ]
    },
    {
     "name": "stdout",
     "output_type": "stream",
     "text": [
      "NAN: This is goofy.\n",
      "JERRY: Oh? What? You're crazy.\n",
      "LEO: I'll tell you how crazy\n"
     ]
    },
    {
     "name": "stdin",
     "output_type": "stream",
     "text": [
      " recommend\n",
      "JERRY: Did you want an episode recommendation? It might take a minute. yes\n",
      "JERRY: Based on your chat dialogue, I would recommend you check out Seinfeld Season 7, episode 19, \"The Calzone\". Do you want to know the plot? no\n",
      "JERRY: Do you want another recommendation? no\n"
     ]
    },
    {
     "name": "stdout",
     "output_type": "stream",
     "text": [
      "JERRY: OK.\n"
     ]
    },
    {
     "name": "stdin",
     "output_type": "stream",
     "text": [
      " stop\n"
     ]
    },
    {
     "name": "stdout",
     "output_type": "stream",
     "text": [
      "KRAMER: Who turns down a junior mint?\n"
     ]
    }
   ],
   "source": [
    "bot.chat()"
   ]
  },
  {
   "cell_type": "code",
   "execution_count": null,
   "metadata": {},
   "outputs": [],
   "source": []
  },
  {
   "cell_type": "code",
   "execution_count": null,
   "metadata": {},
   "outputs": [],
   "source": []
  },
  {
   "cell_type": "code",
   "execution_count": null,
   "metadata": {},
   "outputs": [],
   "source": []
  },
  {
   "cell_type": "code",
   "execution_count": null,
   "metadata": {},
   "outputs": [],
   "source": []
  },
  {
   "cell_type": "code",
   "execution_count": null,
   "metadata": {},
   "outputs": [],
   "source": []
  },
  {
   "cell_type": "code",
   "execution_count": 198,
   "metadata": {},
   "outputs": [],
   "source": [
    "def episode_rec_chat(scores):\n",
    "    scores_list = []\n",
    "    for i in range(len(scores)):\n",
    "        scores_list.append([int(scores[i][0][1:3]), int(scores[i][0][-2:])])\n",
    "    for i in range(len(scores_list)):\n",
    "        episode = series['episodes'][scores_list[i][0]][scores_list[i][1]]\n",
    "        title = episode['title']\n",
    "        plot = episode['plot']\n",
    "        res = input(f'Based on your chat dialogue, I would recommend you check out Seinfeld Season {scores_list[0][0]}, episode {scores_list[0][1]}, \"{title}\". Do you want to know the plot?')\n",
    "        if res == 'yes':\n",
    "            print(plot)\n",
    "#         res = input('Do you want a link to the show?')\n",
    "#         if res == \n",
    "        res = input('Do you want another recommendation?')\n",
    "        if res == 'no':\n",
    "            print('OK. Thanks for chatting')\n",
    "            break\n",
    "    return scores_list\n"
   ]
  },
  {
   "cell_type": "code",
   "execution_count": 200,
   "metadata": {},
   "outputs": [
    {
     "name": "stdin",
     "output_type": "stream",
     "text": [
      "Based on your chat dialogue, I would recommend you check out Seinfeld Season 7, episode 1, \"The Engagement\". Do you want to know the plot? no\n",
      "Do you want another recommendation? yes\n",
      "Based on your chat dialogue, I would recommend you check out Seinfeld Season 7, episode 1, \"The Deal\". Do you want to know the plot? no\n",
      "Do you want another recommendation? ad\n",
      "Based on your chat dialogue, I would recommend you check out Seinfeld Season 7, episode 1, \"The Barber\". Do you want to know the plot? yes\n"
     ]
    },
    {
     "name": "stdout",
     "output_type": "stream",
     "text": [
      "\n",
      "    Jerry regrets giving his longtime barber the heave-ho after he gets a ridiculous-looking haircut. George gets a job interview but the boss leaves him with a very cryptic ending. Kramer begs Elaine to let him take part in her charity bachelor auction.    \n"
     ]
    },
    {
     "name": "stdin",
     "output_type": "stream",
     "text": [
      "Do you want another recommendation? no\n"
     ]
    }
   ],
   "source": [
    "scores_list = episode_rec_chat(scores)"
   ]
  },
  {
   "cell_type": "code",
   "execution_count": 190,
   "metadata": {},
   "outputs": [
    {
     "data": {
      "text/plain": [
       "'The Engagement'"
      ]
     },
     "execution_count": 190,
     "metadata": {},
     "output_type": "execute_result"
    }
   ],
   "source": [
    "series['episodes'][scores_list[0][0]][scores_list[0][1]]['title']"
   ]
  },
  {
   "cell_type": "code",
   "execution_count": 188,
   "metadata": {},
   "outputs": [
    {
     "data": {
      "text/plain": [
       "7"
      ]
     },
     "execution_count": 188,
     "metadata": {},
     "output_type": "execute_result"
    }
   ],
   "source": [
    "scores_list[0][0]"
   ]
  },
  {
   "cell_type": "code",
   "execution_count": null,
   "metadata": {},
   "outputs": [],
   "source": []
  },
  {
   "cell_type": "code",
   "execution_count": null,
   "metadata": {},
   "outputs": [],
   "source": []
  },
  {
   "cell_type": "code",
   "execution_count": null,
   "metadata": {},
   "outputs": [],
   "source": []
  },
  {
   "cell_type": "code",
   "execution_count": null,
   "metadata": {},
   "outputs": [],
   "source": []
  },
  {
   "cell_type": "code",
   "execution_count": null,
   "metadata": {},
   "outputs": [],
   "source": []
  },
  {
   "cell_type": "markdown",
   "metadata": {},
   "source": [
    "# Scractch work for IMDb API"
   ]
  },
  {
   "cell_type": "code",
   "execution_count": 111,
   "metadata": {},
   "outputs": [
    {
     "name": "stderr",
     "output_type": "stream",
     "text": [
      "2020-11-07 17:15:12,134 INFO [imdbpy.parser.http.piculet] /Users/alexander.fioto/opt/anaconda3/lib/python3.7/site-packages/imdb/parser/http/piculet.py:262: using lxml\n",
      "INFO:imdbpy.parser.http.piculet:using lxml\n"
     ]
    }
   ],
   "source": [
    "import imdb\n",
    "ia = imdb.IMDb()"
   ]
  },
  {
   "cell_type": "code",
   "execution_count": 114,
   "metadata": {},
   "outputs": [
    {
     "name": "stderr",
     "output_type": "stream",
     "text": [
      "2020-11-07 17:17:16,130 INFO [imdbpy.parser.http.piculet] /Users/alexander.fioto/opt/anaconda3/lib/python3.7/site-packages/imdb/parser/http/piculet.py:681: using lxml html builder\n",
      "INFO:imdbpy.parser.http.piculet:using lxml html builder\n",
      "2020-11-07 17:17:16,464 INFO [imdbpy.parser.http.piculet] /Users/alexander.fioto/opt/anaconda3/lib/python3.7/site-packages/imdb/parser/http/piculet.py:681: using lxml html builder\n",
      "INFO:imdbpy.parser.http.piculet:using lxml html builder\n"
     ]
    }
   ],
   "source": [
    "# Seinfeld is 0098904\n",
    "series = ia.get_movie('0098904')"
   ]
  },
  {
   "cell_type": "code",
   "execution_count": 120,
   "metadata": {
    "collapsed": true,
    "jupyter": {
     "outputs_hidden": true
    }
   },
   "outputs": [
    {
     "name": "stderr",
     "output_type": "stream",
     "text": [
      "2020-11-07 17:19:24,327 INFO [imdbpy.parser.http.piculet] /Users/alexander.fioto/opt/anaconda3/lib/python3.7/site-packages/imdb/parser/http/piculet.py:681: using lxml html builder\n",
      "INFO:imdbpy.parser.http.piculet:using lxml html builder\n",
      "2020-11-07 17:19:24,866 INFO [imdbpy.parser.http.piculet] /Users/alexander.fioto/opt/anaconda3/lib/python3.7/site-packages/imdb/parser/http/piculet.py:681: using lxml html builder\n",
      "INFO:imdbpy.parser.http.piculet:using lxml html builder\n",
      "2020-11-07 17:19:25,582 INFO [imdbpy.parser.http.piculet] /Users/alexander.fioto/opt/anaconda3/lib/python3.7/site-packages/imdb/parser/http/piculet.py:681: using lxml html builder\n",
      "INFO:imdbpy.parser.http.piculet:using lxml html builder\n",
      "2020-11-07 17:19:26,236 INFO [imdbpy.parser.http.piculet] /Users/alexander.fioto/opt/anaconda3/lib/python3.7/site-packages/imdb/parser/http/piculet.py:681: using lxml html builder\n",
      "INFO:imdbpy.parser.http.piculet:using lxml html builder\n",
      "2020-11-07 17:19:27,057 INFO [imdbpy.parser.http.piculet] /Users/alexander.fioto/opt/anaconda3/lib/python3.7/site-packages/imdb/parser/http/piculet.py:681: using lxml html builder\n",
      "INFO:imdbpy.parser.http.piculet:using lxml html builder\n",
      "2020-11-07 17:19:27,910 INFO [imdbpy.parser.http.piculet] /Users/alexander.fioto/opt/anaconda3/lib/python3.7/site-packages/imdb/parser/http/piculet.py:681: using lxml html builder\n",
      "INFO:imdbpy.parser.http.piculet:using lxml html builder\n",
      "2020-11-07 17:19:28,799 INFO [imdbpy.parser.http.piculet] /Users/alexander.fioto/opt/anaconda3/lib/python3.7/site-packages/imdb/parser/http/piculet.py:681: using lxml html builder\n",
      "INFO:imdbpy.parser.http.piculet:using lxml html builder\n",
      "2020-11-07 17:19:29,572 INFO [imdbpy.parser.http.piculet] /Users/alexander.fioto/opt/anaconda3/lib/python3.7/site-packages/imdb/parser/http/piculet.py:681: using lxml html builder\n",
      "INFO:imdbpy.parser.http.piculet:using lxml html builder\n",
      "2020-11-07 17:19:30,337 INFO [imdbpy.parser.http.piculet] /Users/alexander.fioto/opt/anaconda3/lib/python3.7/site-packages/imdb/parser/http/piculet.py:681: using lxml html builder\n",
      "INFO:imdbpy.parser.http.piculet:using lxml html builder\n",
      "2020-11-07 17:19:31,162 INFO [imdbpy.parser.http.piculet] /Users/alexander.fioto/opt/anaconda3/lib/python3.7/site-packages/imdb/parser/http/piculet.py:681: using lxml html builder\n",
      "INFO:imdbpy.parser.http.piculet:using lxml html builder\n"
     ]
    },
    {
     "data": {
      "text/plain": [
       "[1, 2, 3, 4, 5, 6, 7, 8, 9]"
      ]
     },
     "execution_count": 120,
     "metadata": {},
     "output_type": "execute_result"
    }
   ],
   "source": [
    "\n",
    "ia.update(series, 'episodes')\n",
    "sorted(series['episodes'].keys())\n"
   ]
  },
  {
   "cell_type": "code",
   "execution_count": 135,
   "metadata": {},
   "outputs": [],
   "source": [
    "episode = series['episodes'][7][5]"
   ]
  },
  {
   "cell_type": "code",
   "execution_count": 178,
   "metadata": {},
   "outputs": [
    {
     "data": {
      "text/plain": [
       "'The Hot Tub'"
      ]
     },
     "execution_count": 178,
     "metadata": {},
     "output_type": "execute_result"
    }
   ],
   "source": [
    "episode['title']"
   ]
  },
  {
   "cell_type": "code",
   "execution_count": 182,
   "metadata": {},
   "outputs": [
    {
     "data": {
      "text/plain": [
       "<Movie id:0098904[http] title:_\"Seinfeld\" (1989)_>"
      ]
     },
     "execution_count": 182,
     "metadata": {},
     "output_type": "execute_result"
    }
   ],
   "source": [
    "series[]"
   ]
  },
  {
   "cell_type": "code",
   "execution_count": null,
   "metadata": {},
   "outputs": [],
   "source": []
  }
 ],
 "metadata": {
  "kernelspec": {
   "display_name": "Python 3",
   "language": "python",
   "name": "python3"
  },
  "language_info": {
   "codemirror_mode": {
    "name": "ipython",
    "version": 3
   },
   "file_extension": ".py",
   "mimetype": "text/x-python",
   "name": "python",
   "nbconvert_exporter": "python",
   "pygments_lexer": "ipython3",
   "version": "3.7.7"
  }
 },
 "nbformat": 4,
 "nbformat_minor": 4
}
