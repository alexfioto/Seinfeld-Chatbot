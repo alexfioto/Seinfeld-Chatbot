{
 "cells": [
  {
   "cell_type": "code",
   "execution_count": 1,
   "metadata": {},
   "outputs": [],
   "source": [
    "from aitextgen.TokenDataset import TokenDataset\n",
    "from aitextgen.tokenizers import train_tokenizer\n",
    "from aitextgen.utils import GPT2ConfigCPU\n",
    "from aitextgen import aitextgen\n",
    "\n",
    "import pickle\n",
    "import spacy\n",
    "import pandas as pd"
   ]
  },
  {
   "cell_type": "code",
   "execution_count": 62,
   "metadata": {},
   "outputs": [],
   "source": [
    "# Loading a dictionary with all of the episode names and dialogues\n",
    "with open('../data/episode_dialogues.pkl', 'rb') as f:\n",
    "    episode_dialogues = pickle.load(f)"
   ]
  },
  {
   "cell_type": "code",
   "execution_count": null,
   "metadata": {},
   "outputs": [],
   "source": []
  },
  {
   "cell_type": "code",
   "execution_count": 3,
   "metadata": {},
   "outputs": [],
   "source": [
    "fp = '/Users/alexander.fioto/Models/Labeled-Seinfeld-Model/' "
   ]
  },
  {
   "cell_type": "code",
   "execution_count": 4,
   "metadata": {},
   "outputs": [
    {
     "name": "stderr",
     "output_type": "stream",
     "text": [
      "INFO:aitextgen:Loading GPT-2 model from provided /Users/alexander.fioto/Models/Labeled-Seinfeld-Model/pytorch_model.bin.\n",
      "INFO:aitextgen:Using a custom tokenizer.\n"
     ]
    }
   ],
   "source": [
    "ai = aitextgen(model= fp + \"pytorch_model.bin\",\n",
    "               config = fp + 'config.json', \n",
    "               vocab_file=fp + 'aitextgen-vocab.json',\n",
    "               merges_file=fp + 'aitextgen-merges.txt')"
   ]
  },
  {
   "cell_type": "code",
   "execution_count": 268,
   "metadata": {},
   "outputs": [
    {
     "name": "stdout",
     "output_type": "stream",
     "text": [
      "\u001b[1mALEX: tell me about yourself\u001b[0m.\n",
      "\n",
      "\n",
      "JERRY: What?\n",
      "\n",
      "\n",
      "GEORGE: You're going to get me a sample of Jerry\n"
     ]
    }
   ],
   "source": [
    "ai.generate(prompt='ALEX: tell me about yourself',\n",
    "            temperature = .01)"
   ]
  },
  {
   "cell_type": "code",
   "execution_count": 260,
   "metadata": {},
   "outputs": [],
   "source": [
    "class SeinfeldChatbot():\n",
    "    def __init__(self, name='Buddy', fp='/Users/alexander.fioto/Models/Labeled-Seinfeld-Model/', temperature = .4):\n",
    "        self.user_name_title = 'USER: '\n",
    "        self.chat_dialogue = ''\n",
    "        self.name = name\n",
    "        self.fp = fp\n",
    "        self.greeted = False\n",
    "        self.similarity_scores = None\n",
    "        self.temperature = temperature\n",
    "        self.exit_commands = ['bye', 'exit', 'i have to go', 'later', 'gtg', 'stop', 'end', 'done']\n",
    "        self.positive_responses = ['yes', 'yep', 'sure', 'definitely', 'y']\n",
    "        self.negative_responses = ['no', 'no thanks', 'nope', 'nah', 'n']\n",
    "        self.punctuation = ['.', '!', '?']\n",
    "        self.model = aitextgen(model= fp + \"pytorch_model.bin\",\n",
    "                               config = fp + 'config.json', \n",
    "                               vocab_file=fp + 'aitextgen-vocab.json',\n",
    "                               merges_file=fp + 'aitextgen-merges.txt')\n",
    "        self.recommender_initialized = False\n",
    "        print(\"Model Loaded!\")\n",
    "        \n",
    "        \n",
    "    def change_temp(self, temp):\n",
    "        if temp < 0 or temp > 1:\n",
    "            raise ValueError('Value must be greater than 0 and less than or equal to 1')\n",
    "        else:\n",
    "            self.temperature = temp\n",
    "        \n",
    "        \n",
    "    def greet(self):\n",
    "        res = input(\"Welcome to the SeinfeldChatbot! Do you want to chat?\")\n",
    "        if res.lower() not in self.negative_responses:\n",
    "            res = input(\"GEORGE: Can I get your name, pal?\")\n",
    "            if res in self.negative_responses:\n",
    "                print('GEORGE: Fine. Stay anonymous. See if I care.')\n",
    "            else:\n",
    "                self.name = res\n",
    "                self.user_name_title = self.name.upper() + ': '\n",
    "            self.greeted = True\n",
    "            self.chat()\n",
    "        else:\n",
    "            print('JERRY: OK. Fine. Leave. See if I care!')\n",
    "    \n",
    "    def generate_response(self, text_input):\n",
    "        if text_input[-1] not in self.punctuation:\n",
    "            text_input += '.'\n",
    "        self.chat_dialogue += ' ' + text_input\n",
    "        self.model.generate(prompt = f'{self.user_name_title}' + text_input,\n",
    "                                        temperature = .4)\n",
    "    \n",
    "    def chat(self):\n",
    "        if self.greeted == True:\n",
    "            print(f'JERRY: What do you want, {self.name}?')\n",
    "            chat = True\n",
    "            while chat:\n",
    "                text_input = input()\n",
    "                if text_input in self.exit_commands:\n",
    "                    chat = False\n",
    "                    print('KRAMER: Who turns down a junior mint?')\n",
    "\n",
    "                else:\n",
    "                    self.generate_response(text_input)\n",
    "        else:\n",
    "            self.greet()\n",
    "\n",
    "    \n",
    "    \n",
    "    #### Episode Recommender #### \n",
    "    def initialize_recommender(self, model = 'en_core_web_lg'):\n",
    "        '''\n",
    "        This method initializes the recommender engine. You may use other pretrained transformers such as\n",
    "        en_trf_bertbaseuncased_lg. If you use BERT, you will see more accurate results but it will take longer\n",
    "        to load!\n",
    "        '''\n",
    "        self.nlp_ = spacy.load(model)\n",
    "        self.recommender_initialized = True\n",
    "        df = pd.read_csv('../data/clean_scripts.csv', index_col=0)\n",
    "        self.episodes_ = df['SEID'].unique()\n",
    "        \n",
    "        ia = imdb.IMDb()\n",
    "        self.series_ = ia.get_movie('0098904')\n",
    "        ia.update(self.series_, 'episodes')\n",
    "        sorted(self.series_['episodes'].keys())\n",
    "        print('Recommender Initialized!')\n",
    "        \n",
    "        \n",
    "\n",
    "    def get_similarities(self):\n",
    "        if not self.recommender_initialized:\n",
    "            res = input('You need to initialize the recommender system. Would you like to initialize?')\n",
    "            if res.lower() in self.positive_responses:\n",
    "                self.initialize_recommender()\n",
    "            else:\n",
    "                print('OK. Hope you come back later!')\n",
    "        \n",
    "        else:\n",
    "\n",
    "            if self.chat_dialogue:\n",
    "                print('''This might take a minute...\n",
    "\n",
    "JERRY: You know the message you're sending out to the world with these sweatpants? You're telling the world, 'I give up. I can't compete in normal society. I'm miserable, so I might as well be comfortable.'\n",
    "                        ''')\n",
    "                similarity_scores = []\n",
    "                for episode in self.episodes_:\n",
    "                    doc1 = self.nlp_(self.chat_dialogue)\n",
    "                    doc2 = self.nlp_(episode_dialogues[episode])\n",
    "                    similarity_scores.append((episode, doc1.similarity(doc2)))\n",
    "                similarity_scores.sort(key=lambda x: x[1], reverse = True)\n",
    "                self.similarity_scores = similarity_scores\n",
    "                self.scores_list_ = []\n",
    "                for i in range(len(scores)):\n",
    "                    self.scores_list_.append([int(self.similarity_scores[i][0][1:3]), int(self.similarity_scores[i][0][-2:])])\n",
    "                print('JERRY: Thanks for you patience. That took way too long.')\n",
    "            else:\n",
    "                print('KRAMER: It looks like you haven\\'t chatted yet. Please chat for a while and come back!')\n",
    "    \n",
    "    def episode_recommendation(self):\n",
    "        if self.similarity_scores:\n",
    "            for i in range(len(self.scores_list_)):\n",
    "                episode = series['episodes'][scores_list[i][0]][scores_list[i][1]]\n",
    "                title = episode['title']\n",
    "                plot = episode['plot']\n",
    "                res = input(f'JERRY: Based on your chat dialogue, I would recommend you check out Seinfeld Season {scores_list[0][0]}, episode {scores_list[0][1]}, \"{title}\". Do you want to know the plot?')\n",
    "                if res in self.positive_responses:\n",
    "                    print(plot)\n",
    "        #         res = input('Do you want a link to the show?')\n",
    "        #         if res == \n",
    "                res = input('JERRY: Do you want another recommendation?')\n",
    "                if res == 'no':\n",
    "                    print('JERRY: See ya.')\n",
    "                    break\n",
    "            \n",
    "        else:\n",
    "            res = input('ELAINE: You need to get similarity scores first. Want to do grab them?')\n",
    "            if res in self.positive_responses:\n",
    "                self.get_similarities()\n",
    "            else:\n",
    "                print('GEORGE: Fine. Have it that way.')\n",
    "\n",
    "        \n",
    "        \n",
    "        "
   ]
  },
  {
   "cell_type": "code",
   "execution_count": 261,
   "metadata": {},
   "outputs": [
    {
     "name": "stderr",
     "output_type": "stream",
     "text": [
      "INFO:aitextgen:Loading GPT-2 model from provided /Users/alexander.fioto/Models/Labeled-Seinfeld-Model/pytorch_model.bin.\n",
      "INFO:aitextgen:Using a custom tokenizer.\n"
     ]
    },
    {
     "name": "stdout",
     "output_type": "stream",
     "text": [
      "Model Loaded!\n"
     ]
    }
   ],
   "source": [
    "bot = SeinfeldChatbot()"
   ]
  },
  {
   "cell_type": "code",
   "execution_count": 262,
   "metadata": {},
   "outputs": [
    {
     "name": "stdin",
     "output_type": "stream",
     "text": [
      "Welcome to the SeinfeldChatbot! Do you want to chat? Yes\n",
      "GEORGE: Can I get your name, pal? Alex\n"
     ]
    },
    {
     "name": "stdout",
     "output_type": "stream",
     "text": [
      "JERRY: What do you want, Alex?\n"
     ]
    },
    {
     "name": "stdin",
     "output_type": "stream",
     "text": [
      " I want to see George.\n"
     ]
    },
    {
     "name": "stdout",
     "output_type": "stream",
     "text": [
      "\u001b[1mALEX: I want to see George.\u001b[0m\n",
      "\n",
      "\n",
      "JERRY: Well, just tell Kramer to tell her.\n",
      "\n",
      "\n",
      "KRAMER: No. That's\n"
     ]
    },
    {
     "name": "stdin",
     "output_type": "stream",
     "text": [
      " Let's see Kramer dance.\n"
     ]
    },
    {
     "name": "stdout",
     "output_type": "stream",
     "text": [
      "\u001b[1mALEX: Let's see Kramer dance.\u001b[0m\n",
      "\n",
      "\n",
      "KRAMER: No, no, no. It's not a new number. It's--it's\n"
     ]
    },
    {
     "name": "stdin",
     "output_type": "stream",
     "text": [
      " You guys....\n"
     ]
    },
    {
     "name": "stdout",
     "output_type": "stream",
     "text": [
      "\u001b[1mALEX: You guys....\u001b[0m\n",
      "\n",
      "\n",
      "JERRY: Oh, you're crazy.\n",
      "\n",
      "\n",
      "GEORGE: Well, I guess that's too cold for you\n"
     ]
    },
    {
     "name": "stdin",
     "output_type": "stream",
     "text": [
      " It is too cold for me!\n"
     ]
    },
    {
     "name": "stdout",
     "output_type": "stream",
     "text": [
      "\u001b[1mALEX: It is too cold for me!\u001b[0m\n",
      "\n",
      "\n",
      "JERRY: You reaced me to herself a other day.\n",
      "\n",
      "\n",
      "GEORGE: \n"
     ]
    },
    {
     "name": "stdin",
     "output_type": "stream",
     "text": [
      " stop\n"
     ]
    },
    {
     "name": "stdout",
     "output_type": "stream",
     "text": [
      "KRAMER: Who turns down a junior mint?\n"
     ]
    }
   ],
   "source": [
    "bot.chat()"
   ]
  },
  {
   "cell_type": "code",
   "execution_count": 266,
   "metadata": {},
   "outputs": [
    {
     "name": "stdin",
     "output_type": "stream",
     "text": [
      "ELAINE: You need to get similarity scores first. Want to do grab them? sure\n"
     ]
    },
    {
     "name": "stdout",
     "output_type": "stream",
     "text": [
      "This might take a minute...\n",
      "\n",
      "JERRY: You know the message you're sending out to the world with these sweatpants? You're telling the world, 'I give up. I can't compete in normal society. I'm miserable, so I might as well be comfortable.'\n",
      "                        \n",
      "JERRY: Thanks for you patience. That took way too long.\n"
     ]
    }
   ],
   "source": [
    "bot.episode_recommendation()"
   ]
  },
  {
   "cell_type": "code",
   "execution_count": 267,
   "metadata": {},
   "outputs": [
    {
     "name": "stdin",
     "output_type": "stream",
     "text": [
      "JERRY: Based on your chat dialogue, I would recommend you check out Seinfeld Season 7, episode 1, \"The Engagement\". Do you want to know the plot? yes\n"
     ]
    },
    {
     "name": "stdout",
     "output_type": "stream",
     "text": [
      "\n",
      "    While sitting in the coffee shop, Jerry and George resolve to grow up and take life more seriously. Jerry decides to call the woman he recently broke up with - because she shushed him. For his part, George has been thinking a lot about his former girlfriend Susan. After imagining the ideal life they could have together, he goes to her apartment and proposes. She accepts and George almost immediately begins to have second thoughts, especially after Jerry breaks up with his girlfriend a second time. Elaine meanwhile is having trouble with a neighbor's barking dog and ...    \n"
     ]
    },
    {
     "name": "stdin",
     "output_type": "stream",
     "text": [
      "JERRY: Do you want another recommendation? no\n"
     ]
    },
    {
     "name": "stdout",
     "output_type": "stream",
     "text": [
      "JERRY: See ya.\n"
     ]
    }
   ],
   "source": [
    "bot.episode_recommendation()"
   ]
  },
  {
   "cell_type": "code",
   "execution_count": 213,
   "metadata": {},
   "outputs": [
    {
     "name": "stdout",
     "output_type": "stream",
     "text": [
      "This might take a minute...\n",
      "\n",
      "JERRY: You know the message you're sending out to the world with these sweatpants? You're telling the world, 'I give up. I can't compete in normal society. I'm miserable, so I might as well be comfortable.'\n",
      "                        \n",
      "Thanks for you patience. That took way too long.\n"
     ]
    }
   ],
   "source": [
    "bot.get_similarities()"
   ]
  },
  {
   "cell_type": "code",
   "execution_count": 214,
   "metadata": {
    "collapsed": true,
    "jupyter": {
     "outputs_hidden": true
    }
   },
   "outputs": [
    {
     "name": "stdin",
     "output_type": "stream",
     "text": [
      "Based on your chat dialogue, I would recommend you check out Seinfeld Season 1, episode 3, \"The Robbery\". Do you want to know the plot? yes\n"
     ]
    },
    {
     "name": "stdout",
     "output_type": "stream",
     "text": [
      "\n",
      "    After Jerry's apartment is robbed, Jerry starts to look for other apartments. But Jerry and George both want the same apartment, and Elaine wants the apartment of whoever loses out.    \n"
     ]
    },
    {
     "name": "stdin",
     "output_type": "stream",
     "text": [
      "Do you want another recommendation? no\n"
     ]
    },
    {
     "name": "stdout",
     "output_type": "stream",
     "text": [
      "OK. Thanks for chatting\n"
     ]
    },
    {
     "data": {
      "text/plain": [
       "[[1, 3],\n",
       " [4, 24],\n",
       " [2, 7],\n",
       " [5, 6],\n",
       " [8, 21],\n",
       " [7, 19],\n",
       " [6, 11],\n",
       " [5, 13],\n",
       " [5, 18],\n",
       " [2, 9],\n",
       " [7, 1],\n",
       " [7, 24],\n",
       " [1, 4],\n",
       " [5, 1],\n",
       " [3, 6],\n",
       " [6, 9],\n",
       " [7, 9],\n",
       " [7, 20],\n",
       " [4, 5],\n",
       " [3, 3],\n",
       " [7, 16],\n",
       " [3, 12],\n",
       " [7, 6],\n",
       " [7, 11],\n",
       " [5, 15],\n",
       " [8, 5],\n",
       " [4, 3],\n",
       " [3, 7],\n",
       " [5, 11],\n",
       " [2, 1],\n",
       " [4, 23],\n",
       " [3, 18],\n",
       " [6, 1],\n",
       " [7, 3],\n",
       " [5, 8],\n",
       " [3, 4],\n",
       " [2, 11],\n",
       " [3, 15],\n",
       " [3, 2],\n",
       " [4, 4],\n",
       " [2, 10],\n",
       " [9, 2],\n",
       " [4, 10],\n",
       " [6, 20],\n",
       " [9, 3],\n",
       " [4, 2],\n",
       " [5, 2],\n",
       " [8, 17],\n",
       " [3, 17],\n",
       " [7, 2],\n",
       " [7, 23],\n",
       " [2, 4],\n",
       " [8, 22],\n",
       " [5, 9],\n",
       " [3, 10],\n",
       " [6, 21],\n",
       " [8, 18],\n",
       " [2, 2],\n",
       " [5, 16],\n",
       " [3, 22],\n",
       " [8, 20],\n",
       " [6, 19],\n",
       " [5, 10],\n",
       " [6, 13],\n",
       " [2, 3],\n",
       " [6, 16],\n",
       " [9, 15],\n",
       " [9, 18],\n",
       " [7, 8],\n",
       " [4, 17],\n",
       " [6, 24],\n",
       " [3, 23],\n",
       " [2, 5],\n",
       " [9, 11],\n",
       " [5, 21],\n",
       " [9, 8],\n",
       " [6, 10],\n",
       " [9, 13],\n",
       " [1, 1],\n",
       " [6, 18],\n",
       " [2, 6],\n",
       " [9, 20],\n",
       " [6, 22],\n",
       " [8, 3],\n",
       " [7, 21],\n",
       " [4, 12],\n",
       " [8, 6],\n",
       " [1, 2],\n",
       " [9, 23],\n",
       " [3, 14],\n",
       " [5, 3],\n",
       " [3, 13],\n",
       " [9, 5],\n",
       " [5, 4],\n",
       " [4, 13],\n",
       " [6, 7],\n",
       " [7, 15],\n",
       " [8, 7],\n",
       " [8, 9],\n",
       " [6, 12],\n",
       " [3, 19],\n",
       " [9, 14],\n",
       " [5, 17],\n",
       " [4, 18],\n",
       " [8, 16],\n",
       " [8, 8],\n",
       " [6, 8],\n",
       " [2, 12],\n",
       " [9, 4],\n",
       " [4, 7],\n",
       " [7, 13],\n",
       " [5, 22],\n",
       " [3, 8],\n",
       " [6, 5],\n",
       " [9, 17],\n",
       " [6, 6],\n",
       " [8, 14],\n",
       " [4, 20],\n",
       " [4, 16],\n",
       " [8, 13],\n",
       " [4, 19],\n",
       " [3, 9],\n",
       " [7, 22],\n",
       " [9, 10],\n",
       " [3, 21],\n",
       " [9, 1],\n",
       " [4, 9],\n",
       " [2, 8],\n",
       " [3, 16],\n",
       " [8, 2],\n",
       " [6, 4],\n",
       " [9, 19],\n",
       " [5, 14],\n",
       " [7, 4],\n",
       " [4, 22],\n",
       " [7, 7],\n",
       " [9, 9],\n",
       " [8, 12],\n",
       " [9, 16],\n",
       " [6, 3],\n",
       " [4, 11],\n",
       " [7, 14],\n",
       " [9, 7],\n",
       " [8, 19],\n",
       " [7, 5],\n",
       " [5, 7],\n",
       " [6, 23],\n",
       " [8, 4],\n",
       " [4, 8],\n",
       " [7, 17],\n",
       " [6, 17],\n",
       " [7, 18],\n",
       " [3, 1],\n",
       " [9, 6],\n",
       " [4, 15],\n",
       " [4, 6],\n",
       " [3, 11],\n",
       " [6, 2],\n",
       " [8, 10],\n",
       " [8, 11],\n",
       " [4, 14],\n",
       " [9, 12],\n",
       " [4, 1],\n",
       " [5, 20],\n",
       " [3, 5],\n",
       " [3, 20],\n",
       " [4, 21],\n",
       " [5, 12],\n",
       " [8, 1],\n",
       " [7, 10],\n",
       " [5, 5],\n",
       " [8, 15],\n",
       " [7, 12]]"
      ]
     },
     "execution_count": 214,
     "metadata": {},
     "output_type": "execute_result"
    }
   ],
   "source": [
    "bot.episode_recommendation()"
   ]
  },
  {
   "cell_type": "code",
   "execution_count": null,
   "metadata": {},
   "outputs": [],
   "source": []
  },
  {
   "cell_type": "code",
   "execution_count": null,
   "metadata": {},
   "outputs": [],
   "source": []
  },
  {
   "cell_type": "code",
   "execution_count": 110,
   "metadata": {},
   "outputs": [
    {
     "name": "stdout",
     "output_type": "stream",
     "text": [
      "This might take a minute...\n",
      "\n",
      "JERRY: You know the message you're sending out to the world with these sweatpants? You're telling the world, 'I give up. I can't compete in normal society. I'm miserable, so I might as well be comfortable.'\n",
      "                        \n",
      "[('S07E01', 0.9232348912109218), ('S02E09', 0.9226422593990806), ('S05E08', 0.9218102442975412)]\n"
     ]
    }
   ],
   "source": [
    "bot.recommend_episode()"
   ]
  },
  {
   "cell_type": "code",
   "execution_count": 140,
   "metadata": {},
   "outputs": [],
   "source": [
    "scores = bot.similarity_scores_"
   ]
  },
  {
   "cell_type": "code",
   "execution_count": 145,
   "metadata": {},
   "outputs": [
    {
     "name": "stdin",
     "output_type": "stream",
     "text": [
      "How many episodes do you want me to recommend? 3\n"
     ]
    },
    {
     "name": "stdout",
     "output_type": "stream",
     "text": [
      "S07E01\n",
      "S02E09\n",
      "S05E08\n"
     ]
    }
   ],
   "source": [
    "episode_rec_chat(scores)"
   ]
  },
  {
   "cell_type": "code",
   "execution_count": 198,
   "metadata": {},
   "outputs": [],
   "source": [
    "def episode_rec_chat(scores):\n",
    "    scores_list = []\n",
    "    for i in range(len(scores)):\n",
    "        scores_list.append([int(scores[i][0][1:3]), int(scores[i][0][-2:])])\n",
    "    for i in range(len(scores_list)):\n",
    "        episode = series['episodes'][scores_list[i][0]][scores_list[i][1]]\n",
    "        title = episode['title']\n",
    "        plot = episode['plot']\n",
    "        res = input(f'Based on your chat dialogue, I would recommend you check out Seinfeld Season {scores_list[0][0]}, episode {scores_list[0][1]}, \"{title}\". Do you want to know the plot?')\n",
    "        if res == 'yes':\n",
    "            print(plot)\n",
    "#         res = input('Do you want a link to the show?')\n",
    "#         if res == \n",
    "        res = input('Do you want another recommendation?')\n",
    "        if res == 'no':\n",
    "            print('OK. Thanks for chatting')\n",
    "            break\n",
    "    return scores_list\n"
   ]
  },
  {
   "cell_type": "code",
   "execution_count": 200,
   "metadata": {},
   "outputs": [
    {
     "name": "stdin",
     "output_type": "stream",
     "text": [
      "Based on your chat dialogue, I would recommend you check out Seinfeld Season 7, episode 1, \"The Engagement\". Do you want to know the plot? no\n",
      "Do you want another recommendation? yes\n",
      "Based on your chat dialogue, I would recommend you check out Seinfeld Season 7, episode 1, \"The Deal\". Do you want to know the plot? no\n",
      "Do you want another recommendation? ad\n",
      "Based on your chat dialogue, I would recommend you check out Seinfeld Season 7, episode 1, \"The Barber\". Do you want to know the plot? yes\n"
     ]
    },
    {
     "name": "stdout",
     "output_type": "stream",
     "text": [
      "\n",
      "    Jerry regrets giving his longtime barber the heave-ho after he gets a ridiculous-looking haircut. George gets a job interview but the boss leaves him with a very cryptic ending. Kramer begs Elaine to let him take part in her charity bachelor auction.    \n"
     ]
    },
    {
     "name": "stdin",
     "output_type": "stream",
     "text": [
      "Do you want another recommendation? no\n"
     ]
    }
   ],
   "source": [
    "scores_list = episode_rec_chat(scores)"
   ]
  },
  {
   "cell_type": "code",
   "execution_count": 190,
   "metadata": {},
   "outputs": [
    {
     "data": {
      "text/plain": [
       "'The Engagement'"
      ]
     },
     "execution_count": 190,
     "metadata": {},
     "output_type": "execute_result"
    }
   ],
   "source": [
    "series['episodes'][scores_list[0][0]][scores_list[0][1]]['title']"
   ]
  },
  {
   "cell_type": "code",
   "execution_count": 188,
   "metadata": {},
   "outputs": [
    {
     "data": {
      "text/plain": [
       "7"
      ]
     },
     "execution_count": 188,
     "metadata": {},
     "output_type": "execute_result"
    }
   ],
   "source": [
    "scores_list[0][0]"
   ]
  },
  {
   "cell_type": "code",
   "execution_count": null,
   "metadata": {},
   "outputs": [],
   "source": []
  },
  {
   "cell_type": "code",
   "execution_count": null,
   "metadata": {},
   "outputs": [],
   "source": []
  },
  {
   "cell_type": "code",
   "execution_count": null,
   "metadata": {},
   "outputs": [],
   "source": []
  },
  {
   "cell_type": "code",
   "execution_count": null,
   "metadata": {},
   "outputs": [],
   "source": []
  },
  {
   "cell_type": "code",
   "execution_count": null,
   "metadata": {},
   "outputs": [],
   "source": []
  },
  {
   "cell_type": "code",
   "execution_count": null,
   "metadata": {},
   "outputs": [],
   "source": []
  },
  {
   "cell_type": "code",
   "execution_count": 111,
   "metadata": {},
   "outputs": [
    {
     "name": "stderr",
     "output_type": "stream",
     "text": [
      "2020-11-07 17:15:12,134 INFO [imdbpy.parser.http.piculet] /Users/alexander.fioto/opt/anaconda3/lib/python3.7/site-packages/imdb/parser/http/piculet.py:262: using lxml\n",
      "INFO:imdbpy.parser.http.piculet:using lxml\n"
     ]
    }
   ],
   "source": [
    "import imdb\n",
    "ia = imdb.IMDb()"
   ]
  },
  {
   "cell_type": "code",
   "execution_count": 114,
   "metadata": {},
   "outputs": [
    {
     "name": "stderr",
     "output_type": "stream",
     "text": [
      "2020-11-07 17:17:16,130 INFO [imdbpy.parser.http.piculet] /Users/alexander.fioto/opt/anaconda3/lib/python3.7/site-packages/imdb/parser/http/piculet.py:681: using lxml html builder\n",
      "INFO:imdbpy.parser.http.piculet:using lxml html builder\n",
      "2020-11-07 17:17:16,464 INFO [imdbpy.parser.http.piculet] /Users/alexander.fioto/opt/anaconda3/lib/python3.7/site-packages/imdb/parser/http/piculet.py:681: using lxml html builder\n",
      "INFO:imdbpy.parser.http.piculet:using lxml html builder\n"
     ]
    }
   ],
   "source": [
    "series = ia.get_movie('0098904')"
   ]
  },
  {
   "cell_type": "code",
   "execution_count": 120,
   "metadata": {
    "collapsed": true,
    "jupyter": {
     "outputs_hidden": true
    }
   },
   "outputs": [
    {
     "name": "stderr",
     "output_type": "stream",
     "text": [
      "2020-11-07 17:19:24,327 INFO [imdbpy.parser.http.piculet] /Users/alexander.fioto/opt/anaconda3/lib/python3.7/site-packages/imdb/parser/http/piculet.py:681: using lxml html builder\n",
      "INFO:imdbpy.parser.http.piculet:using lxml html builder\n",
      "2020-11-07 17:19:24,866 INFO [imdbpy.parser.http.piculet] /Users/alexander.fioto/opt/anaconda3/lib/python3.7/site-packages/imdb/parser/http/piculet.py:681: using lxml html builder\n",
      "INFO:imdbpy.parser.http.piculet:using lxml html builder\n",
      "2020-11-07 17:19:25,582 INFO [imdbpy.parser.http.piculet] /Users/alexander.fioto/opt/anaconda3/lib/python3.7/site-packages/imdb/parser/http/piculet.py:681: using lxml html builder\n",
      "INFO:imdbpy.parser.http.piculet:using lxml html builder\n",
      "2020-11-07 17:19:26,236 INFO [imdbpy.parser.http.piculet] /Users/alexander.fioto/opt/anaconda3/lib/python3.7/site-packages/imdb/parser/http/piculet.py:681: using lxml html builder\n",
      "INFO:imdbpy.parser.http.piculet:using lxml html builder\n",
      "2020-11-07 17:19:27,057 INFO [imdbpy.parser.http.piculet] /Users/alexander.fioto/opt/anaconda3/lib/python3.7/site-packages/imdb/parser/http/piculet.py:681: using lxml html builder\n",
      "INFO:imdbpy.parser.http.piculet:using lxml html builder\n",
      "2020-11-07 17:19:27,910 INFO [imdbpy.parser.http.piculet] /Users/alexander.fioto/opt/anaconda3/lib/python3.7/site-packages/imdb/parser/http/piculet.py:681: using lxml html builder\n",
      "INFO:imdbpy.parser.http.piculet:using lxml html builder\n",
      "2020-11-07 17:19:28,799 INFO [imdbpy.parser.http.piculet] /Users/alexander.fioto/opt/anaconda3/lib/python3.7/site-packages/imdb/parser/http/piculet.py:681: using lxml html builder\n",
      "INFO:imdbpy.parser.http.piculet:using lxml html builder\n",
      "2020-11-07 17:19:29,572 INFO [imdbpy.parser.http.piculet] /Users/alexander.fioto/opt/anaconda3/lib/python3.7/site-packages/imdb/parser/http/piculet.py:681: using lxml html builder\n",
      "INFO:imdbpy.parser.http.piculet:using lxml html builder\n",
      "2020-11-07 17:19:30,337 INFO [imdbpy.parser.http.piculet] /Users/alexander.fioto/opt/anaconda3/lib/python3.7/site-packages/imdb/parser/http/piculet.py:681: using lxml html builder\n",
      "INFO:imdbpy.parser.http.piculet:using lxml html builder\n",
      "2020-11-07 17:19:31,162 INFO [imdbpy.parser.http.piculet] /Users/alexander.fioto/opt/anaconda3/lib/python3.7/site-packages/imdb/parser/http/piculet.py:681: using lxml html builder\n",
      "INFO:imdbpy.parser.http.piculet:using lxml html builder\n"
     ]
    },
    {
     "data": {
      "text/plain": [
       "[1, 2, 3, 4, 5, 6, 7, 8, 9]"
      ]
     },
     "execution_count": 120,
     "metadata": {},
     "output_type": "execute_result"
    }
   ],
   "source": [
    "ia.update(series, 'episodes')\n",
    "sorted(series['episodes'].keys())\n"
   ]
  },
  {
   "cell_type": "code",
   "execution_count": 135,
   "metadata": {},
   "outputs": [],
   "source": [
    "episode = series['episodes'][7][5]"
   ]
  },
  {
   "cell_type": "code",
   "execution_count": 178,
   "metadata": {},
   "outputs": [
    {
     "data": {
      "text/plain": [
       "'The Hot Tub'"
      ]
     },
     "execution_count": 178,
     "metadata": {},
     "output_type": "execute_result"
    }
   ],
   "source": [
    "episode['title']"
   ]
  },
  {
   "cell_type": "code",
   "execution_count": 182,
   "metadata": {},
   "outputs": [
    {
     "data": {
      "text/plain": [
       "<Movie id:0098904[http] title:_\"Seinfeld\" (1989)_>"
      ]
     },
     "execution_count": 182,
     "metadata": {},
     "output_type": "execute_result"
    }
   ],
   "source": [
    "series[]"
   ]
  },
  {
   "cell_type": "code",
   "execution_count": null,
   "metadata": {},
   "outputs": [],
   "source": []
  }
 ],
 "metadata": {
  "kernelspec": {
   "display_name": "Python 3",
   "language": "python",
   "name": "python3"
  },
  "language_info": {
   "codemirror_mode": {
    "name": "ipython",
    "version": 3
   },
   "file_extension": ".py",
   "mimetype": "text/x-python",
   "name": "python",
   "nbconvert_exporter": "python",
   "pygments_lexer": "ipython3",
   "version": "3.7.7"
  }
 },
 "nbformat": 4,
 "nbformat_minor": 4
}
