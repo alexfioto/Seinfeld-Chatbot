{
 "cells": [
  {
   "cell_type": "markdown",
   "metadata": {},
   "source": [
    "# Topic Modeling"
   ]
  },
  {
   "cell_type": "code",
   "execution_count": 65,
   "metadata": {},
   "outputs": [],
   "source": [
    "from sklearn.base import BaseEstimator, TransformerMixin\n",
    "\n",
    "from sklearn.decomposition import LatentDirichletAllocation\n",
    "from sklearn.decomposition import TruncatedSVD, NMF\n",
    "\n",
    "from sklearn.pipeline import make_pipeline\n",
    "\n",
    "from sklearn.feature_extraction.text import CountVectorizer, TfidfVectorizer\n",
    "\n",
    "import pickle"
   ]
  },
  {
   "cell_type": "code",
   "execution_count": null,
   "metadata": {},
   "outputs": [],
   "source": []
  },
  {
   "cell_type": "code",
   "execution_count": null,
   "metadata": {},
   "outputs": [],
   "source": []
  },
  {
   "cell_type": "code",
   "execution_count": null,
   "metadata": {},
   "outputs": [],
   "source": []
  },
  {
   "cell_type": "code",
   "execution_count": 66,
   "metadata": {},
   "outputs": [],
   "source": [
    "class SKTopics(BaseEstimator, TransformerMixin):\n",
    "    def __init__(self, estimator = 'LDA', n_topics=20):\n",
    "        self.n_topics = n_topics\n",
    "        if estimator == 'LSA':\n",
    "            self.estimator = TruncatedSVD(n_components=self.n_topics)\n",
    "        elif estimator == 'NMF':\n",
    "            self.estimator = NMF(n_components=self.n_topics)\n",
    "        else:\n",
    "            self.estimator = LatentDirichletAllocation(n_components=self.n_topics)\n",
    "        self.model = make_pipeline(CountVectorizer(stop_words='english', max_features=200), \n",
    "                                   LatentDirichletAllocation(n_components=self.n_topics))\n",
    "    \n",
    "    def fit_transform(self, documents):\n",
    "        self.model.fit_transform(documents)\n",
    "        return self.model\n",
    "    \n",
    "    def get_topics(self, n = 25):\n",
    "        vectorizer = self.model.named_steps['countvectorizer']\n",
    "        model = self.model.steps[-1][1]\n",
    "        names = vectorizer.get_feature_names()\n",
    "        topics = dict()\n",
    "        for idx, topic in enumerate(model.components_):\n",
    "            features = topic.argsort()[:-(n-1): -1]\n",
    "            tokens = [names[i] for i in features]\n",
    "            topics[idx] = tokens\n",
    "        return topics"
   ]
  },
  {
   "cell_type": "code",
   "execution_count": 67,
   "metadata": {},
   "outputs": [
    {
     "data": {
      "text/plain": [
       "'/Users/alexander.fioto/personal_github/Seinfeld-Chatbot/iter-3-GPT2'"
      ]
     },
     "execution_count": 67,
     "metadata": {},
     "output_type": "execute_result"
    }
   ],
   "source": [
    "pwd"
   ]
  },
  {
   "cell_type": "code",
   "execution_count": 68,
   "metadata": {},
   "outputs": [],
   "source": [
    "with open('../data/episode_dialogues.pkl', 'rb') as f:\n",
    "    episode_dialogues = pickle.load(f)"
   ]
  },
  {
   "cell_type": "code",
   "execution_count": 69,
   "metadata": {},
   "outputs": [],
   "source": [
    "dialogue_list = [values for key, values in episode_dialogues.items()]\n",
    "X = dialogue_list"
   ]
  },
  {
   "cell_type": "code",
   "execution_count": null,
   "metadata": {},
   "outputs": [],
   "source": []
  },
  {
   "cell_type": "code",
   "execution_count": 74,
   "metadata": {},
   "outputs": [],
   "source": [
    "sk = SKTopics(estimator = 'LDA', n_topics=20)"
   ]
  },
  {
   "cell_type": "code",
   "execution_count": 75,
   "metadata": {},
   "outputs": [
    {
     "data": {
      "text/plain": [
       "Pipeline(steps=[('countvectorizer',\n",
       "                 CountVectorizer(max_features=200, stop_words='english')),\n",
       "                ('latentdirichletallocation',\n",
       "                 LatentDirichletAllocation(n_components=20))])"
      ]
     },
     "execution_count": 75,
     "metadata": {},
     "output_type": "execute_result"
    }
   ],
   "source": [
    "sk.fit_transform(X_summarized)"
   ]
  },
  {
   "cell_type": "code",
   "execution_count": 76,
   "metadata": {},
   "outputs": [
    {
     "data": {
      "text/plain": [
       "{0: ['yeah', 'll', 'like', 'mad', 'bucks', 'just', 'tell', 'oh'],\n",
       " 1: ['know', 'hey', 'yeah', 'oh', 'don', 'right', 'like', 'jerry'],\n",
       " 2: ['know', 'dont', 'youre', 'im', 'yeah', 'great', 'world', 'guy'],\n",
       " 3: ['don', 'yeah', 'jerry', 'know', 'tell', 'guy', 'come', 'george'],\n",
       " 4: ['ha', 'right', 'job', 'big', 'course', 'yeah', 'got', 'maybe'],\n",
       " 5: ['don', 'hey', 'just', 'got', 'guy', 'know', 'yeah', 'want'],\n",
       " 6: ['yeah', 'just', 'know', 'uh', 'gonna', 'hey', 'jerry', 'big'],\n",
       " 7: ['just', 'think', 'good', 'know', 'right', 'uh', 'mean', 'dead'],\n",
       " 8: ['like', 'want', 'know', 'mean', 'thank', 'peterman', 'did', 've'],\n",
       " 9: ['oh', 'yeah', 'right', 'hey', 'jerry', 'like', 'hello', 'apartment'],\n",
       " 10: ['know', 'got', 'yeah', 'don', 'oh', 'really', 'tomorrow', 'george'],\n",
       " 11: ['like', 'yeah', 'hear', 'wait', 'come', 'little', 'hey', 'hes'],\n",
       " 12: ['don', 'll', 'think', 'grace', 'hey', 'know', 'just', 'yeah'],\n",
       " 13: ['got', 'right', 'know', 'baby', 'yeah', 'oh', 'uh', 'huh'],\n",
       " 14: ['yeah', 'oh', 'know', 'like', 'gonna', 'come', 'didn', 'right'],\n",
       " 15: ['yeah', 'know', 'elaine', 'hey', 'got', 'hi', 'ah', 'going'],\n",
       " 16: ['yeah', 'know', 'like', 'gotta', 'don', 'time', 'hey', 'george'],\n",
       " 17: ['know', 'susan', 'oh', 'yes', 'george', 'today', 'yeah', 'coming'],\n",
       " 18: ['hey', 'jerry', 'george', 'like', 'know', 'right', 'come', 'kramer'],\n",
       " 19: ['people', 'know', 'just', 'yeah', 'gonna', 'jerry', 'george', 'oh']}"
      ]
     },
     "execution_count": 76,
     "metadata": {},
     "output_type": "execute_result"
    }
   ],
   "source": [
    "sk.get_topics(n=10)"
   ]
  },
  {
   "cell_type": "code",
   "execution_count": 21,
   "metadata": {},
   "outputs": [],
   "source": [
    "from gensim.summarization import summarize, keywords, mz_keywords"
   ]
  },
  {
   "cell_type": "code",
   "execution_count": 32,
   "metadata": {},
   "outputs": [],
   "source": [
    "sample = X[0]"
   ]
  },
  {
   "cell_type": "code",
   "execution_count": 38,
   "metadata": {},
   "outputs": [],
   "source": [
    "example_summary = summarize(sample, ratio=.05)"
   ]
  },
  {
   "cell_type": "code",
   "execution_count": 81,
   "metadata": {},
   "outputs": [],
   "source": [
    "X_summarized = [summarize(x, ratio=.05) for x in X]"
   ]
  },
  {
   "cell_type": "code",
   "execution_count": 82,
   "metadata": {},
   "outputs": [
    {
     "data": {
      "text/plain": [
       "'No one has any interest in seeing you on caffeine.How come youre not doin the second show tomorrow?Well, theres this uh, woman might be comin in.Wait a second, wait a second, what coming in, what woman is coming in?I told you about Laura, the girl I met in Michigan?No, you didnt!I thought I told you about it, yes, she teaches political science?\\nYou wanna know why she called you?Yes!Youre a back-up, youre a second-line, a just-in-case, a B-plan, a contingency!Oh, I get it, this is about the button.Claire, Claire, youre a woman, right?What gave it away, George?Uhm...Id like to ask you...ask you to analyze a hypothetical phone call, you know, from a female point of view.\\nNow, a woman calls me, all right?Uh huh.She says she has to come to New York on business...Oh you are beautiful!...and, and maybe shell see me when she gets there, does this woman intend to spend time with me?Id have to say, uuhh, no.NO.)To be polite.To be polite.\\nI feel so cramped...And you didnt even hear how she sounded.What?!Laura.I cant believe-  WE ALREADY DISCUSSED THIS!Yeah, but how could you be so sure?Cause its signals, Jerry, its signals!\\nIf you know what happened in the Met game, dont say anything, I taped it, hello.\\nAre you done with this?No.When youre done, let me know.Yeah, yeah...you can have it tomorrow.I thought I wasnt allowed to be in here this weekend.No, its okay now, that, that girl is not comin.\\nLets go!The dating world is not a fun world...its a pressure world, its a world of tension, its a world of pain...and you know, if a woman comes over to my house, I gotta get that bathroom ready, cause she needs things.\\nI dont know what to do with them, I took them out, I put them on my kitchen floor like little tumbleweeds.\\nWell, Bill, the boss thinks youre the man for the position, why dont you strip down and meet some of the people youll be workin with?Wouldnt it be great if you could ask a woman what shes thinking?What a world that would be, if you just could ask a woman what shes thinkin.You know, instead, Im like a detective.\\nI gotta pick up clues, the whole thing is a murder investigation.Listen, listen, dont get worked up, cause youre gonna know the whole story the minute she steps off the plane.Really?\\nOh, do you mind if I turn this down?Uh, no, yeah, go right ahead.Uh, Jerry, uh, I was wandering, would it be possible  and if its not, fine  for me to stay here tomorrow night too?Uh, yeah, yeah, sure, why dont you stay?\\nYoure engaged.Yeah, yeah, hes a great guy...Yeah.Youd really like him, you know, I cant wait to get on that boat.Me too!I swear, I have absolutely no idea what women are thinking.\\nI think to a man, a cheque is like a note from your mother that says, I dont have any money, but if youll contact these people, Im sure theyll stick up for me...\\nDo I know her?Yeah, you met her when we were going out.Oh yeah, right...You have no idea who Im talking about, do you?\\nYes, we met.Hi, happy birthday.Thanks, ah, everybody, this is Elaine and Jerry.HiI didnt bring anything.Uh, I put you two right here.Oh, Okay  Im sorry, I didnt know what to bring, nobody told me.How big a tip do you think itd take to get him to stop?Im in for five...Ill supply the hat.\\nWhat I do is, I go out with the girls, I talk with them- dont do anything, and go right home.\\nHow many people work at these big law offices?Depends on the firm.Yeah, but if you called up and described someone, do you think they would know who it was?Whats the matter?\\nSo whore you looking for, Sophia Loren?Thats got nothin to do with it.How about Loni Anderson?Where do you get Loni Anderson?Why, whats wrong with Loni Anderson?I like Elaine more than Loni Anderson.What are you two talking about?\\nElaine ever call you back?No, I guess shes still mad.I dont understand, you never talk to her about other women?Never.\\nElaine Benes.Um, do you want to do this now, or do you want to wait until we get in the car?Oh no, lets do it now.All right, the whole elevator business, let me just explain-Okay.Jerry, were you goin with us?No, Im gonna take my car.Thats why I brought the wagon.\\nI would like to meet him.Hmmm, I dont think so.Well, what does he do?'"
      ]
     },
     "execution_count": 82,
     "metadata": {},
     "output_type": "execute_result"
    }
   ],
   "source": [
    "X_summarized[0]"
   ]
  },
  {
   "cell_type": "code",
   "execution_count": 79,
   "metadata": {},
   "outputs": [
    {
     "name": "stdout",
     "output_type": "stream",
     "text": [
      "thinking\n",
      "think\n",
      "yeah\n",
      "thinks youre\n",
      "world\n",
      "didnt\n",
      "birthday\n",
      "ready\n"
     ]
    }
   ],
   "source": [
    "print(keywords(X_summarized[0], ratio=.2))"
   ]
  },
  {
   "cell_type": "code",
   "execution_count": 56,
   "metadata": {},
   "outputs": [
    {
     "data": {
      "text/plain": [
       "str"
      ]
     },
     "execution_count": 56,
     "metadata": {},
     "output_type": "execute_result"
    }
   ],
   "source": [
    "example_summary = example_summary.replace('\\n', ' ')\n",
    "type(sample)"
   ]
  },
  {
   "cell_type": "code",
   "execution_count": 61,
   "metadata": {},
   "outputs": [
    {
     "data": {
      "text/plain": [
       "[]"
      ]
     },
     "execution_count": 61,
     "metadata": {},
     "output_type": "execute_result"
    }
   ],
   "source": [
    "mz_keywords(, scores=True,weighted=False, threshold=1.0)"
   ]
  },
  {
   "cell_type": "code",
   "execution_count": 36,
   "metadata": {},
   "outputs": [
    {
     "name": "stdout",
     "output_type": "stream",
     "text": [
      "No one has any interest in seeing you on caffeine.How come youre not doin the second show tomorrow?Well, theres this uh, woman might be comin in.Wait a second, wait a second, what coming in, what woman is coming in?I told you about Laura, the girl I met in Michigan?No, you didnt!I thought I told you about it, yes, she teaches political science?\n",
      "You wanna know why she called you?Yes!Youre a back-up, youre a second-line, a just-in-case, a B-plan, a contingency!Oh, I get it, this is about the button.Claire, Claire, youre a woman, right?What gave it away, George?Uhm...Id like to ask you...ask you to analyze a hypothetical phone call, you know, from a female point of view.\n",
      "Now, a woman calls me, all right?Uh huh.She says she has to come to New York on business...Oh you are beautiful!...and, and maybe shell see me when she gets there, does this woman intend to spend time with me?Id have to say, uuhh, no.NO.)To be polite.To be polite.\n",
      "I feel so cramped...And you didnt even hear how she sounded.What?!Laura.I cant believe-  WE ALREADY DISCUSSED THIS!Yeah, but how could you be so sure?Cause its signals, Jerry, its signals!\n",
      "If you know what happened in the Met game, dont say anything, I taped it, hello.\n",
      "Are you done with this?No.When youre done, let me know.Yeah, yeah...you can have it tomorrow.I thought I wasnt allowed to be in here this weekend.No, its okay now, that, that girl is not comin.\n",
      "Lets go!The dating world is not a fun world...its a pressure world, its a world of tension, its a world of pain...and you know, if a woman comes over to my house, I gotta get that bathroom ready, cause she needs things.\n",
      "I dont know what to do with them, I took them out, I put them on my kitchen floor like little tumbleweeds.\n",
      "Well, Bill, the boss thinks youre the man for the position, why dont you strip down and meet some of the people youll be workin with?Wouldnt it be great if you could ask a woman what shes thinking?What a world that would be, if you just could ask a woman what shes thinkin.You know, instead, Im like a detective.\n",
      "I gotta pick up clues, the whole thing is a murder investigation.Listen, listen, dont get worked up, cause youre gonna know the whole story the minute she steps off the plane.Really?\n",
      "Oh, do you mind if I turn this down?Uh, no, yeah, go right ahead.Uh, Jerry, uh, I was wandering, would it be possible  and if its not, fine  for me to stay here tomorrow night too?Uh, yeah, yeah, sure, why dont you stay?\n",
      "Youre engaged.Yeah, yeah, hes a great guy...Yeah.Youd really like him, you know, I cant wait to get on that boat.Me too!I swear, I have absolutely no idea what women are thinking.\n",
      "I think to a man, a cheque is like a note from your mother that says, I dont have any money, but if youll contact these people, Im sure theyll stick up for me...\n",
      "Do I know her?Yeah, you met her when we were going out.Oh yeah, right...You have no idea who Im talking about, do you?\n",
      "Yes, we met.Hi, happy birthday.Thanks, ah, everybody, this is Elaine and Jerry.HiI didnt bring anything.Uh, I put you two right here.Oh, Okay  Im sorry, I didnt know what to bring, nobody told me.How big a tip do you think itd take to get him to stop?Im in for five...Ill supply the hat.\n",
      "What I do is, I go out with the girls, I talk with them- dont do anything, and go right home.\n",
      "How many people work at these big law offices?Depends on the firm.Yeah, but if you called up and described someone, do you think they would know who it was?Whats the matter?\n",
      "So whore you looking for, Sophia Loren?Thats got nothin to do with it.How about Loni Anderson?Where do you get Loni Anderson?Why, whats wrong with Loni Anderson?I like Elaine more than Loni Anderson.What are you two talking about?\n",
      "Elaine ever call you back?No, I guess shes still mad.I dont understand, you never talk to her about other women?Never.\n",
      "Elaine Benes.Um, do you want to do this now, or do you want to wait until we get in the car?Oh no, lets do it now.All right, the whole elevator business, let me just explain-Okay.Jerry, were you goin with us?No, Im gonna take my car.Thats why I brought the wagon.\n",
      "I would like to meet him.Hmmm, I dont think so.Well, what does he do?\n"
     ]
    }
   ],
   "source": [
    "print(summarize(sample, ratio=.05))"
   ]
  },
  {
   "cell_type": "code",
   "execution_count": null,
   "metadata": {},
   "outputs": [],
   "source": []
  }
 ],
 "metadata": {
  "kernelspec": {
   "display_name": "Python 3",
   "language": "python",
   "name": "python3"
  },
  "language_info": {
   "codemirror_mode": {
    "name": "ipython",
    "version": 3
   },
   "file_extension": ".py",
   "mimetype": "text/x-python",
   "name": "python",
   "nbconvert_exporter": "python",
   "pygments_lexer": "ipython3",
   "version": "3.7.7"
  }
 },
 "nbformat": 4,
 "nbformat_minor": 4
}
