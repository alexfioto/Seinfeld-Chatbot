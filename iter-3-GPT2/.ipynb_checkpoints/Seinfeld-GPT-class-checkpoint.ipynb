{
 "cells": [
  {
   "cell_type": "code",
   "execution_count": 1,
   "metadata": {},
   "outputs": [],
   "source": [
    "from aitextgen.TokenDataset import TokenDataset\n",
    "from aitextgen.tokenizers import train_tokenizer\n",
    "from aitextgen.utils import GPT2ConfigCPU\n",
    "from aitextgen import aitextgen"
   ]
  },
  {
   "cell_type": "code",
   "execution_count": 44,
   "metadata": {},
   "outputs": [],
   "source": [
    "fp = '/Users/alexander.fioto/Models/Labeled-Seinfeld-Model/' "
   ]
  },
  {
   "cell_type": "code",
   "execution_count": 48,
   "metadata": {},
   "outputs": [
    {
     "name": "stderr",
     "output_type": "stream",
     "text": [
      "INFO:aitextgen:Loading GPT-2 model from provided /Users/alexander.fioto/Models/Labeled-Seinfeld-Model/pytorch_model.bin.\n",
      "INFO:aitextgen:Using a custom tokenizer.\n"
     ]
    }
   ],
   "source": [
    "ai = aitextgen(model= fp + \"pytorch_model.bin\",\n",
    "               config = fp + 'config.json', \n",
    "               vocab_file=fp + 'aitextgen-vocab.json',\n",
    "               merges_file=fp + 'aitextgen-merges.txt')"
   ]
  },
  {
   "cell_type": "code",
   "execution_count": 108,
   "metadata": {},
   "outputs": [
    {
     "name": "stdout",
     "output_type": "stream",
     "text": [
      "\u001b[1mALEX: tell me about yourself\u001b[0m.\n",
      "\n",
      "\n",
      "JERRY: What?\n",
      "\n",
      "\n",
      "GEORGE: You're going to get me a sample of Jerry\n"
     ]
    }
   ],
   "source": [
    "ai.generate(prompt='ALEX: tell me about yourself',\n",
    "            temperature = .01)"
   ]
  },
  {
   "cell_type": "code",
   "execution_count": 181,
   "metadata": {},
   "outputs": [],
   "source": [
    "class SeinfeldChatbot():\n",
    "    def __init__(self, name=None, fp='/Users/alexander.fioto/Models/Labeled-Seinfeld-Model/', temperature = .4):\n",
    "        self.user_name_title = name\n",
    "        self.total_input_text = []\n",
    "        self.name = name\n",
    "        self.fp = fp\n",
    "        self.temperature = temperature\n",
    "        self.exit_commands = ['bye', 'exit', 'i have to go', 'later', 'gtg', 'stop', 'end']\n",
    "        self.punctuation = ['.', '!', '?']\n",
    "        self.model = aitextgen(model= fp + \"pytorch_model.bin\",\n",
    "                               config = fp + 'config.json', \n",
    "                               vocab_file=fp + 'aitextgen-vocab.json',\n",
    "                               merges_file=fp + 'aitextgen-merges.txt')\n",
    "        print(\"Model Loaded!\")\n",
    "        \n",
    "    \n",
    "    def change_temp(self, temp):\n",
    "        if temp < 0 or temp > 1:\n",
    "            raise ValueError('Value must be greater than 0 and less than or equal to 1')\n",
    "        else:\n",
    "            self.temperature = temp\n",
    "        \n",
    "        \n",
    "    def get_name(self):\n",
    "        self.name = input(\"GEORGE: What\\'s your name, pal?\")\n",
    "        self.user_name_title = self.name.upper() + ': '\n",
    "    \n",
    "    def chat(self):\n",
    "        if not self.name:\n",
    "            self.get_name()\n",
    "            print(f'JERRY: What do you want, {self.name}?')\n",
    "            chat = True\n",
    "            while chat:\n",
    "                text_input = input()\n",
    "                if text_input in self.exit_commands:\n",
    "                    chat = False\n",
    "                    print('KRAMER: Who turns down a junior mint?')\n",
    "\n",
    "                else:\n",
    "                    self.total_input_text.append(text_input)\n",
    "                    if text_input[-1] not in self.punctuation:\n",
    "                        text_input += '.'\n",
    "                    self.model.generate(prompt = f'{self.user_name_title}' + text_input,\n",
    "                                        temperature = .4)\n",
    "\n",
    "        else:\n",
    "            print(f'JERRY: Oh, I see you\\'re back again, {self.name}. To what do we owe the pleasure?')\n",
    "            chat = True\n",
    "            while chat:\n",
    "                text_input = input()\n",
    "                if text_input in self.exit_commands:\n",
    "                    chat = False\n",
    "                    print('KRAMER: Who turns down a junior mint?')\n",
    "\n",
    "                else:\n",
    "                    self.total_input_text.append(text_input)\n",
    "                    if text_input[-1] not in self.punctuation:\n",
    "                        text_input += '.'\n",
    "                    self.model.generate(prompt = f'{self.user_name_title}' + text_input,\n",
    "                                        temperature = .4)\n",
    "    def episode_recommender(self):\n",
    "        return self.total_input_text\n",
    "\n",
    "        \n",
    "        \n",
    "        "
   ]
  },
  {
   "cell_type": "code",
   "execution_count": 182,
   "metadata": {},
   "outputs": [
    {
     "name": "stderr",
     "output_type": "stream",
     "text": [
      "INFO:aitextgen:Loading GPT-2 model from provided /Users/alexander.fioto/Models/Labeled-Seinfeld-Model/pytorch_model.bin.\n",
      "INFO:aitextgen:Using a custom tokenizer.\n"
     ]
    },
    {
     "name": "stdout",
     "output_type": "stream",
     "text": [
      "Model Loaded!\n"
     ]
    }
   ],
   "source": [
    "bot = SeinfeldChatbot()"
   ]
  },
  {
   "cell_type": "code",
   "execution_count": null,
   "metadata": {},
   "outputs": [],
   "source": []
  }
 ],
 "metadata": {
  "kernelspec": {
   "display_name": "Python 3",
   "language": "python",
   "name": "python3"
  },
  "language_info": {
   "codemirror_mode": {
    "name": "ipython",
    "version": 3
   },
   "file_extension": ".py",
   "mimetype": "text/x-python",
   "name": "python",
   "nbconvert_exporter": "python",
   "pygments_lexer": "ipython3",
   "version": "3.7.7"
  }
 },
 "nbformat": 4,
 "nbformat_minor": 4
}
