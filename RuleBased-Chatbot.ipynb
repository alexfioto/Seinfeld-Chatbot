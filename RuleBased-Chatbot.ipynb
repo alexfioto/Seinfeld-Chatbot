{
 "cells": [
  {
   "cell_type": "code",
   "execution_count": 29,
   "metadata": {},
   "outputs": [],
   "source": [
    "import abc\n",
    "from collections.abc import Sequence\n",
    "from operator import itemgetter\n",
    "import re\n"
   ]
  },
  {
   "cell_type": "code",
   "execution_count": 30,
   "metadata": {},
   "outputs": [],
   "source": [
    "class Dialog(abc.ABC):\n",
    "    def listen(self, text, response=True, **kwargs):\n",
    "        sents = self.parse(text)\n",
    "        sents, confidence, kwargs = self.interpret(sents, **kwargs)\n",
    "        if response:\n",
    "            reply = self.respond(sents, confidence, **kwargs)\n",
    "        else:\n",
    "            reply = None\n",
    "        return reply, confidence\n",
    "    @abc.abstractmethod\n",
    "    \n",
    "    def parse(self, text):\n",
    "        return []\n",
    "    \n",
    "    @abc.abstractmethod\n",
    "    def interpret(self, sents, **kwargs):\n",
    "        return sents, 0.0, kwargs\n",
    "    \n",
    "    @abc.abstractmethod\n",
    "    def respond(self, sents, confidence, **kwargs):\n",
    "        return None\n",
    "    "
   ]
  },
  {
   "cell_type": "code",
   "execution_count": 31,
   "metadata": {},
   "outputs": [],
   "source": [
    "class SimpleConversation(Dialog, Sequence):\n",
    "    def __init__(self, dialogs):\n",
    "        self._dialogs = dialogs\n",
    "    \n",
    "    def __getitem__(self, idx):\n",
    "        return self._dialogs[idx]\n",
    "    \n",
    "    def __len__(self):\n",
    "        return len(self._dialogs)\n",
    "    \n",
    "    def listen(self, text, response=True, **kwargs):\n",
    "        responses = [dialog.listen(text, response, **kwargs) for dialog in self._diaglogs]\n",
    "        return max(responses, keys=itemgetter(1))\n",
    "    \n",
    "    def parse(self, text):\n",
    "        return [dialog.parse(text) for dialog in self._dialog]\n",
    "    \n",
    "    def interpret(self, sents, **kwargs):\n",
    "        return [dialog.interpret(sents, **kwargs) for dialog in self._dialogs]\n",
    "    \n",
    "    def respond(self, sents, confidence, **kwargs):\n",
    "        return [dialog.respond(sents, confidence, **kwargs) for dialog in self._dialog]\n",
    "    "
   ]
  },
  {
   "cell_type": "code",
   "execution_count": 36,
   "metadata": {},
   "outputs": [],
   "source": [
    "class Greeting(Dialog):\n",
    "    PATTERNS = {\n",
    "        'greeting': r'hello|hi|hey|good morning|good evening',\n",
    "        'introduction': r'my name is ([a-z\\-\\s]+)',\n",
    "        'goodbye': r'goodbye|bye\\ttyl',\n",
    "        'rollcall': r'roll call| who\\'s here?',\n",
    "    }\n",
    "    \n",
    "    def __init__(self, participants=None):\n",
    "        self.participants = {}\n",
    "        if participants is not None:\n",
    "            for participant in participants:\n",
    "                self.participants[participant] = None\n",
    "        self._patterns = {\n",
    "            key: re.compile(pattern, re.I)\n",
    "            for key, pattern in self.PATTERNS.items()\n",
    "        }\n",
    "    def parse(self, text):\n",
    "        matches = {}\n",
    "        for key, pattern in self._patterns.items():\n",
    "            match = pattern.match(text)\n",
    "            if match is not None:\n",
    "                matches[key] = match\n",
    "        return matches\n",
    "    \n",
    "    def interpret(self, sents, **kwargs):\n",
    "        if len(sents) == 0:\n",
    "            return sents, 0.0, kwargs\n",
    "        \n",
    "        user = kwargs.get('user', None)\n",
    "        \n",
    "        if 'introduction' in sents:\n",
    "            name = sents['introduction'].groups()[0]\n",
    "            user = user or name.lower()\n",
    "            if user not in self.participants or self.participants[user] != name:\n",
    "                kwargs['name_changed'] = True\n",
    "            self.participants[user] = name\n",
    "            kwargs['user'] = user\n",
    "        \n",
    "        if 'greeting' in sents:\n",
    "            if not self.participants.get(user, None):\n",
    "                kwargs['request_introduction'] = True\n",
    "        \n",
    "        if 'goodbye' in sents and user is not None:\n",
    "            self.participants.pop(user)\n",
    "            kwargs.pop('user', None)\n",
    "        \n",
    "        return sents, 1.0, kwargs\n",
    "    \n",
    "    def respond(self, sents, confidence, **kwargs):\n",
    "        if confidence == 0:\n",
    "            return None\n",
    "        \n",
    "        name = self.participants.get(kwargs.get('user', None), None)\n",
    "        name_changed = kwargs.get('name_changed', False)\n",
    "        request_introduction = kwargs.get('request_introduction', False)\n",
    "        \n",
    "        if 'greeting' in sents or 'introduction' in sents:\n",
    "            if request_introduction:\n",
    "                return 'Hello, what is your name?'\n",
    "            else:\n",
    "                return f'Hello, {name}!'\n",
    "        if 'goodbye' in sents:\n",
    "            return 'Talk to you later!'\n",
    "        if 'rollcall' in sents:\n",
    "            people = list(self.participants.values())\n",
    "            \n",
    "            if len(people) > 1:\n",
    "                roster = ', '.join(people[:-1])\n",
    "                roster += f' and {people[-1]}'\n",
    "                return 'Currently in the conversation are ' + roster\n",
    "            elif len(people) == 1:\n",
    "                return f\"It's just you and me right now, {name}\"\n",
    "            else:\n",
    "                return 'So lonely in here by myself...wait who is that?'\n",
    "        raise Exception(\n",
    "                'expected response to be returned, but could not find rule'\n",
    "        )\n",
    "        \n",
    "        \n",
    "        "
   ]
  },
  {
   "cell_type": "code",
   "execution_count": 37,
   "metadata": {},
   "outputs": [],
   "source": [
    "dialog = Greeting()"
   ]
  },
  {
   "cell_type": "code",
   "execution_count": 38,
   "metadata": {},
   "outputs": [
    {
     "data": {
      "text/plain": [
       "'Hello, what is your name?'"
      ]
     },
     "execution_count": 38,
     "metadata": {},
     "output_type": "execute_result"
    }
   ],
   "source": [
    "dialog.listen('Hello!', user='Alex')[0]"
   ]
  },
  {
   "cell_type": "code",
   "execution_count": 39,
   "metadata": {},
   "outputs": [
    {
     "data": {
      "text/plain": [
       "'Hello, Alex!'"
      ]
     },
     "execution_count": 39,
     "metadata": {},
     "output_type": "execute_result"
    }
   ],
   "source": [
    "dialog.listen('My name is Alex.', user='Alex')[0]"
   ]
  },
  {
   "cell_type": "code",
   "execution_count": 40,
   "metadata": {},
   "outputs": [
    {
     "data": {
      "text/plain": [
       "\"It's just you and me right now, Alex\""
      ]
     },
     "execution_count": 40,
     "metadata": {},
     "output_type": "execute_result"
    }
   ],
   "source": [
    "dialog.listen('Roll Call!', user='Alex')[0]"
   ]
  },
  {
   "cell_type": "code",
   "execution_count": 41,
   "metadata": {},
   "outputs": [
    {
     "data": {
      "text/plain": [
       "('Hello, what is your name?', 1.0)"
      ]
     },
     "execution_count": 41,
     "metadata": {},
     "output_type": "execute_result"
    }
   ],
   "source": [
    "dialog.listen('Hi!', user='Boone')"
   ]
  },
  {
   "cell_type": "code",
   "execution_count": 42,
   "metadata": {},
   "outputs": [
    {
     "data": {
      "text/plain": [
       "'Hello, Boone!'"
      ]
     },
     "execution_count": 42,
     "metadata": {},
     "output_type": "execute_result"
    }
   ],
   "source": [
    "dialog.listen('My name is Boone')[0]"
   ]
  },
  {
   "cell_type": "code",
   "execution_count": 43,
   "metadata": {},
   "outputs": [
    {
     "data": {
      "text/plain": [
       "('Currently in the conversation are Alex and Boone', 1.0)"
      ]
     },
     "execution_count": 43,
     "metadata": {},
     "output_type": "execute_result"
    }
   ],
   "source": [
    "dialog.listen('Roll Call')"
   ]
  },
  {
   "cell_type": "code",
   "execution_count": 44,
   "metadata": {},
   "outputs": [],
   "source": [
    "import pytest"
   ]
  },
  {
   "cell_type": "code",
   "execution_count": 45,
   "metadata": {},
   "outputs": [],
   "source": [
    "class TestBaseClasses(object):\n",
    "    \n",
    "    @pytest.mark.parametrize('text', [\n",
    "        'Gobbledeguk', 'Gibberish', 'Wingdings'\n",
    "    ])\n",
    "    \n",
    "    def test_dialog_abc(self, text):\n",
    "        class SampleDialog(Dialog):\n",
    "            def parse(self, text):\n",
    "                return []\n",
    "            def interpret(self, sents):\n",
    "                return sents, 0.0, {}\n",
    "            def respond(self, sents, confidence):\n",
    "                return None\n",
    "        sample = SampleDialog()\n",
    "        reply, confidence = sample.listen(text)\n",
    "        assert confidence == 0\n",
    "        assert reply in None"
   ]
  },
  {
   "cell_type": "code",
   "execution_count": null,
   "metadata": {},
   "outputs": [],
   "source": []
  },
  {
   "cell_type": "code",
   "execution_count": 46,
   "metadata": {},
   "outputs": [],
   "source": [
    "import spacy\n",
    "from spacy import displacy"
   ]
  },
  {
   "cell_type": "code",
   "execution_count": 47,
   "metadata": {},
   "outputs": [],
   "source": [
    "nlp = spacy.load('en')"
   ]
  },
  {
   "cell_type": "code",
   "execution_count": 52,
   "metadata": {},
   "outputs": [],
   "source": [
    "def plot_displacy_tree(sent):\n",
    "    doc = nlp(sent)\n",
    "    displacy.render(doc, style='dep')"
   ]
  },
  {
   "cell_type": "code",
   "execution_count": 54,
   "metadata": {},
   "outputs": [
    {
     "data": {
      "text/html": [
       "<span class=\"tex2jax_ignore\"><svg xmlns=\"http://www.w3.org/2000/svg\" xmlns:xlink=\"http://www.w3.org/1999/xlink\" xml:lang=\"en\" id=\"3ed2d3623ed44e598762bf4384c4e408-0\" class=\"displacy\" width=\"925\" height=\"312.0\" direction=\"ltr\" style=\"max-width: none; height: 312.0px; color: #000000; background: #ffffff; font-family: Arial; direction: ltr\">\n",
       "<text class=\"displacy-token\" fill=\"currentColor\" text-anchor=\"middle\" y=\"222.0\">\n",
       "    <tspan class=\"displacy-word\" fill=\"currentColor\" x=\"50\">I</tspan>\n",
       "    <tspan class=\"displacy-tag\" dy=\"2em\" fill=\"currentColor\" x=\"50\">PRON</tspan>\n",
       "</text>\n",
       "\n",
       "<text class=\"displacy-token\" fill=\"currentColor\" text-anchor=\"middle\" y=\"222.0\">\n",
       "    <tspan class=\"displacy-word\" fill=\"currentColor\" x=\"225\">like</tspan>\n",
       "    <tspan class=\"displacy-tag\" dy=\"2em\" fill=\"currentColor\" x=\"225\">VERB</tspan>\n",
       "</text>\n",
       "\n",
       "<text class=\"displacy-token\" fill=\"currentColor\" text-anchor=\"middle\" y=\"222.0\">\n",
       "    <tspan class=\"displacy-word\" fill=\"currentColor\" x=\"400\">to</tspan>\n",
       "    <tspan class=\"displacy-tag\" dy=\"2em\" fill=\"currentColor\" x=\"400\">PART</tspan>\n",
       "</text>\n",
       "\n",
       "<text class=\"displacy-token\" fill=\"currentColor\" text-anchor=\"middle\" y=\"222.0\">\n",
       "    <tspan class=\"displacy-word\" fill=\"currentColor\" x=\"575\">eat</tspan>\n",
       "    <tspan class=\"displacy-tag\" dy=\"2em\" fill=\"currentColor\" x=\"575\">VERB</tspan>\n",
       "</text>\n",
       "\n",
       "<text class=\"displacy-token\" fill=\"currentColor\" text-anchor=\"middle\" y=\"222.0\">\n",
       "    <tspan class=\"displacy-word\" fill=\"currentColor\" x=\"750\">hamburgers</tspan>\n",
       "    <tspan class=\"displacy-tag\" dy=\"2em\" fill=\"currentColor\" x=\"750\">NOUN</tspan>\n",
       "</text>\n",
       "\n",
       "<g class=\"displacy-arrow\">\n",
       "    <path class=\"displacy-arc\" id=\"arrow-3ed2d3623ed44e598762bf4384c4e408-0-0\" stroke-width=\"2px\" d=\"M70,177.0 C70,89.5 220.0,89.5 220.0,177.0\" fill=\"none\" stroke=\"currentColor\"/>\n",
       "    <text dy=\"1.25em\" style=\"font-size: 0.8em; letter-spacing: 1px\">\n",
       "        <textPath xlink:href=\"#arrow-3ed2d3623ed44e598762bf4384c4e408-0-0\" class=\"displacy-label\" startOffset=\"50%\" side=\"left\" fill=\"currentColor\" text-anchor=\"middle\">nsubj</textPath>\n",
       "    </text>\n",
       "    <path class=\"displacy-arrowhead\" d=\"M70,179.0 L62,167.0 78,167.0\" fill=\"currentColor\"/>\n",
       "</g>\n",
       "\n",
       "<g class=\"displacy-arrow\">\n",
       "    <path class=\"displacy-arc\" id=\"arrow-3ed2d3623ed44e598762bf4384c4e408-0-1\" stroke-width=\"2px\" d=\"M420,177.0 C420,89.5 570.0,89.5 570.0,177.0\" fill=\"none\" stroke=\"currentColor\"/>\n",
       "    <text dy=\"1.25em\" style=\"font-size: 0.8em; letter-spacing: 1px\">\n",
       "        <textPath xlink:href=\"#arrow-3ed2d3623ed44e598762bf4384c4e408-0-1\" class=\"displacy-label\" startOffset=\"50%\" side=\"left\" fill=\"currentColor\" text-anchor=\"middle\">aux</textPath>\n",
       "    </text>\n",
       "    <path class=\"displacy-arrowhead\" d=\"M420,179.0 L412,167.0 428,167.0\" fill=\"currentColor\"/>\n",
       "</g>\n",
       "\n",
       "<g class=\"displacy-arrow\">\n",
       "    <path class=\"displacy-arc\" id=\"arrow-3ed2d3623ed44e598762bf4384c4e408-0-2\" stroke-width=\"2px\" d=\"M245,177.0 C245,2.0 575.0,2.0 575.0,177.0\" fill=\"none\" stroke=\"currentColor\"/>\n",
       "    <text dy=\"1.25em\" style=\"font-size: 0.8em; letter-spacing: 1px\">\n",
       "        <textPath xlink:href=\"#arrow-3ed2d3623ed44e598762bf4384c4e408-0-2\" class=\"displacy-label\" startOffset=\"50%\" side=\"left\" fill=\"currentColor\" text-anchor=\"middle\">xcomp</textPath>\n",
       "    </text>\n",
       "    <path class=\"displacy-arrowhead\" d=\"M575.0,179.0 L583.0,167.0 567.0,167.0\" fill=\"currentColor\"/>\n",
       "</g>\n",
       "\n",
       "<g class=\"displacy-arrow\">\n",
       "    <path class=\"displacy-arc\" id=\"arrow-3ed2d3623ed44e598762bf4384c4e408-0-3\" stroke-width=\"2px\" d=\"M595,177.0 C595,89.5 745.0,89.5 745.0,177.0\" fill=\"none\" stroke=\"currentColor\"/>\n",
       "    <text dy=\"1.25em\" style=\"font-size: 0.8em; letter-spacing: 1px\">\n",
       "        <textPath xlink:href=\"#arrow-3ed2d3623ed44e598762bf4384c4e408-0-3\" class=\"displacy-label\" startOffset=\"50%\" side=\"left\" fill=\"currentColor\" text-anchor=\"middle\">dobj</textPath>\n",
       "    </text>\n",
       "    <path class=\"displacy-arrowhead\" d=\"M745.0,179.0 L753.0,167.0 737.0,167.0\" fill=\"currentColor\"/>\n",
       "</g>\n",
       "</svg></span>"
      ],
      "text/plain": [
       "<IPython.core.display.HTML object>"
      ]
     },
     "metadata": {},
     "output_type": "display_data"
    }
   ],
   "source": [
    "plot_displacy_tree('I like to eat hamburgers')"
   ]
  },
  {
   "cell_type": "code",
   "execution_count": null,
   "metadata": {},
   "outputs": [],
   "source": []
  }
 ],
 "metadata": {
  "kernelspec": {
   "display_name": "Python 3",
   "language": "python",
   "name": "python3"
  },
  "language_info": {
   "codemirror_mode": {
    "name": "ipython",
    "version": 3
   },
   "file_extension": ".py",
   "mimetype": "text/x-python",
   "name": "python",
   "nbconvert_exporter": "python",
   "pygments_lexer": "ipython3",
   "version": "3.7.7"
  }
 },
 "nbformat": 4,
 "nbformat_minor": 4
}
